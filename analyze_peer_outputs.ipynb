{
 "cells": [
  {
   "cell_type": "code",
   "execution_count": null,
   "metadata": {
    "vscode": {
     "languageId": "r"
    }
   },
   "outputs": [],
   "source": [
    "#load peer covars\n",
    "covars <- read.table(\n",
    "  \"param15.covars_out.txt\",\n",
    "  sep = \"\\t\",\n",
    "  header = TRUE,\n",
    "  stringsAsFactors = FALSE\n",
    ")\n",
    "\n",
    "head(covars)"
   ]
  },
  {
   "cell_type": "code",
   "execution_count": null,
   "metadata": {
    "vscode": {
     "languageId": "r"
    }
   },
   "outputs": [],
   "source": [
    "sample_names = colnames(covars[-1])\n",
    "metadata <- data.frame(samples = sample_names)\n",
    "metadata$groups <- sapply(strsplit(sample_names, \"_\"), function(x) paste(x[2], x[3], sep = \"_\"))\n",
    "metadata$type <- sapply(strsplit(sample_names, \"_\"), function(x) paste(x[5],  sep = \"_\"))\n",
    "\n",
    "head(metadata)"
   ]
  },
  {
   "cell_type": "code",
   "execution_count": null,
   "metadata": {
    "vscode": {
     "languageId": "r"
    }
   },
   "outputs": [],
   "source": [
    "row.names(covars) <- covars$id\n",
    "covars_matrix <- data.matrix(covars[-1])\n",
    "head(covars_matrix)"
   ]
  },
  {
   "cell_type": "code",
   "execution_count": null,
   "metadata": {
    "vscode": {
     "languageId": "r"
    }
   },
   "outputs": [],
   "source": [
    "colnames_matrix <- colnames(covars_matrix)\n",
    "\n",
    "# find indices for each group within MOUSE and HUMAN samples\n",
    "wt_mouse_cols <- grep(\"WT.*MOUSE\", colnames_matrix)\n",
    "het_mouse_cols <- grep(\"Het.*MOUSE\", colnames_matrix)\n",
    "homo_mouse_cols <- grep(\"Homo.*MOUSE\", colnames_matrix)\n",
    "\n",
    "wt_human_cols <- grep(\"WT.*HUMAN\", colnames_matrix)\n",
    "het_human_cols <- grep(\"Het.*HUMAN\", colnames_matrix)\n",
    "homo_human_cols <- grep(\"Homo.*HUMAN\", colnames_matrix)\n",
    "\n",
    "# calculate mean expression for each group\n",
    "wt_mouse_mean <- rowMeans(covars_matrix[, wt_mouse_cols])\n",
    "het_mouse_mean <- rowMeans(covars_matrix[, het_mouse_cols])\n",
    "homo_mouse_mean <- rowMeans(covars_matrix[, homo_mouse_cols])\n",
    "\n",
    "wt_human_mean <- rowMeans(covars_matrix[, wt_human_cols])\n",
    "het_human_mean <- rowMeans(covars_matrix[, het_human_cols])\n",
    "homo_human_mean <- rowMeans(covars_matrix[, homo_human_cols])\n",
    "\n",
    "# Create a new dataframe with the means for both species\n",
    "'mean_expression <- data.frame(\n",
    "  LRP1_WT_MOUSE = wt_mouse_mean,\n",
    "  LRP1_Homo_MOUSE = homo_mouse_mean,\n",
    "  LRP1_Het_MOUSE = het_mouse_mean,\n",
    "  LRP1_WT_HUMAN = wt_human_mean,\n",
    "  LRP1_Homo_HUMAN = homo_human_mean,\n",
    "  LRP1_Het_HUMAN = het_human_mean\n",
    ")'\n",
    "\n",
    "mean_expression <- data.frame(\n",
    "  NRXN1_WT_MOUSE = wt_mouse_mean,\n",
    "  NRXN1_Homo_MOUSE = homo_mouse_mean,\n",
    "  NRXN1_Het_MOUSE = het_mouse_mean,\n",
    "  NRXN1_WT_HUMAN = wt_human_mean,\n",
    "  NRXN1_Homo_HUMAN = homo_human_mean,\n",
    "  NRXN1_Het_HUMAN = het_human_mean\n",
    ")\n",
    "\n",
    "matrix <- data.matrix(mean_expression)\n",
    "head(matrix)"
   ]
  },
  {
   "cell_type": "code",
   "execution_count": null,
   "metadata": {
    "vscode": {
     "languageId": "r"
    }
   },
   "outputs": [],
   "source": [
    "#sample_values <- c(\"LRP1_WT_MOUSE\", \"LRP1_Het_MOUSE\", \"LRP1_Homo_MOUSE\", \n",
    "#                  \"LRP1_WT_HUMAN\", \"LRP1_Het_HUMAN\", \"LRP1_Homo_HUMAN\")\n",
    "\n",
    "sample_values <- c(\"NRXN1_WT_MOUSE\", \"NRXN1_Het_MOUSE\", \"NRXN1_Homo_MOUSE\", \n",
    "                   \"NRXN1_WT_HUMAN\", \"NRXN1_Het_HUMAN\", \"NRXN1_Homo_HUMAN\")\n",
    "\n",
    "group_values <- ifelse(grepl(\"LRP1\", sample_values), \"LRP1\", \"NRXN1\")\n",
    "species_values <- ifelse(grepl(\"MOUSE\", sample_values), \"ASTRO\", \"NEURON\")\n",
    "\n",
    "# metadata \n",
    "genotype_values <- ifelse(grepl(\"WT\", sample_values), \"WT\", \n",
    "                   ifelse(grepl(\"Het\", sample_values), \"Het\", \n",
    "                   ifelse(grepl(\"Homo\", sample_values), \"Homo\", \"Unknown\")))\n",
    "\n",
    "metadata_df <- data.frame(Sample = sample_values, Group = group_values, Genotype = genotype_values, Species = species_values)\n",
    "print(metadata_df)"
   ]
  },
  {
   "cell_type": "code",
   "execution_count": null,
   "metadata": {
    "vscode": {
     "languageId": "r"
    }
   },
   "outputs": [],
   "source": [
    "group_colors <- rainbow(length(unique(metadata_df$Genotype)))\n",
    "\n",
    "custom_colors <- c(\"WT\" = \"#4B0082\",   # Dark Purple (Indigo)\n",
    "                   \"Het\" = \"#800080\",  # Purple\n",
    "                   \"Homo\" = \"#D8BFD8\") # Light Purple (Thistle)\n",
    "\n",
    "color_mapping <- setNames(custom_colors, names(custom_colors))\n",
    "col_side_colors <- color_mapping[metadata_df$Genotype]\n",
    "ordered_matrix <- matrix[, sample_values]\n",
    "ordered_matrix"
   ]
  },
  {
   "cell_type": "code",
   "execution_count": null,
   "metadata": {
    "vscode": {
     "languageId": "r"
    }
   },
   "outputs": [],
   "source": [
    "#plot average heatmap per genotype for mouse and human samples\n",
    "library('gplots')\n",
    "heatmap.2(ordered_matrix,\n",
    "        ColSideColors=col_side_colors, \n",
    "        trace='none',\n",
    "        margins=c(15, 10),\n",
    "        Rowv=FALSE,        \n",
    "        Colv=FALSE,\n",
    "        dendrogram='none')"
   ]
  },
  {
   "cell_type": "code",
   "execution_count": null,
   "metadata": {
    "vscode": {
     "languageId": "r"
    }
   },
   "outputs": [],
   "source": [
    "#prepare for individual donor heatmap\n",
    "\n",
    "exp_matrix <- covars[-1]\n",
    "base_names <- gsub(\"_[a-zA-Z]+_(HUMAN|MOUSE)$\", \"_\\\\1\", colnames(exp_matrix))\n",
    "unique_names <- unique(base_names)\n",
    "\n",
    "#average replicates\n",
    "collapsed_matrix <- sapply(unique_names, function(name) {\n",
    "  cols_to_avg <- which(base_names == name)\n",
    "  rowMeans(exp_matrix[, cols_to_avg, drop = FALSE])\n",
    "})\n",
    "\n",
    "collapsed_matrix <- as.data.frame(collapsed_matrix)\n",
    "colnames(collapsed_matrix) <- unique_names\n",
    "collapsed_matrix"
   ]
  },
  {
   "cell_type": "code",
   "execution_count": null,
   "metadata": {
    "vscode": {
     "languageId": "r"
    }
   },
   "outputs": [],
   "source": [
    "col_order <- colnames(collapsed_matrix)\n",
    "\n",
    "# extract genotype and species from column names\n",
    "genotype <- ifelse(grepl(\"WT\", col_order), \"WT\",\n",
    "                   ifelse(grepl(\"Het\", col_order), \"Het\", \"Homo\"))\n",
    "\n",
    "species <- ifelse(grepl(\"MOUSE\", col_order), \"MOUSE\", \"HUMAN\")\n",
    "ordering_key <- paste(genotype, species, sep = \"_\")\n",
    "\n",
    "desired_order <- c(\"WT_MOUSE\", \"Het_MOUSE\", \"Homo_MOUSE\",\n",
    "                   \"WT_HUMAN\", \"Het_HUMAN\", \"Homo_HUMAN\")\n",
    "\n",
    "ordering_factor <- factor(ordering_key, levels = desired_order)\n",
    "\n",
    "collapsed_matrix_ordered <- collapsed_matrix[, order(ordering_factor)]\n",
    "\n",
    "collapsed_matrix_ordered <- as.matrix(collapsed_matrix_ordered)\n",
    "\n",
    "collapsed_matrix_ordered"
   ]
  },
  {
   "cell_type": "code",
   "execution_count": null,
   "metadata": {
    "vscode": {
     "languageId": "r"
    }
   },
   "outputs": [],
   "source": [
    "sample_names <- colnames(collapsed_matrix_ordered)\n",
    "\n",
    "# Use regex to extract donor, gene, genotype, species\n",
    "metadata_new <- data.frame(\n",
    "  Sample = sample_names,\n",
    "  Donor = sub(\"^([^_]+)_.*\", \"\\\\1\", sample_names),  \n",
    "  Gene = sub(\"^([^_]+)_([^_]+)_.*\", \"\\\\2\", sample_names),\n",
    "  Genotype = sub(\".*_([^_]+)_(HUMAN|MOUSE)$\", \"\\\\1\", sample_names),\n",
    "  Species = sub(\".*_(HUMAN|MOUSE)$\", \"\\\\1\", sample_names),\n",
    "  stringsAsFactors = FALSE\n",
    ")\n",
    "\n",
    "head(metadata_new)"
   ]
  },
  {
   "cell_type": "code",
   "execution_count": 13,
   "metadata": {
    "vscode": {
     "languageId": "r"
    }
   },
   "outputs": [],
   "source": [
    "custom_colors <- c(\"WT\"   = \"#4B0082\",   # Indigo\n",
    "                   \"Het\"  = \"#800080\",   # Purple\n",
    "                   \"Homo\" = \"#D8BFD8\")   # Thistle\n",
    "\n",
    "\n",
    "sample_names <- metadata_new$Sample\n",
    "genotypes <- metadata_new$Genotype[match(sample_names, metadata_new$Sample)]\n",
    "col_side_colors <- custom_colors[genotypes]"
   ]
  },
  {
   "cell_type": "code",
   "execution_count": null,
   "metadata": {
    "vscode": {
     "languageId": "r"
    }
   },
   "outputs": [],
   "source": [
    "#plot peer results per donor and cell type\n",
    "heatmap.2(collapsed_matrix_ordered,\n",
    "        ColSideColors=col_side_colors, \n",
    "        trace='none',\n",
    "        margins = c(12, 15),\n",
    "        Rowv=FALSE,        # Disable row clustering\n",
    "        Colv=FALSE,\n",
    "        dendrogram='none')"
   ]
  },
  {
   "cell_type": "markdown",
   "metadata": {},
   "source": [
    "### Significance testing"
   ]
  },
  {
   "cell_type": "code",
   "execution_count": null,
   "metadata": {
    "vscode": {
     "languageId": "r"
    }
   },
   "outputs": [],
   "source": [
    "library(dplyr)\n",
    "library(tidyr)\n",
    "covars <- covars[, metadata$samples]\n",
    "\n",
    "covars_long <- covars %>%\n",
    "  as.data.frame() %>%\n",
    "  tibble::rownames_to_column(\"PEER\") %>%\n",
    "  pivot_longer(cols = -PEER, names_to = \"Sample\", values_to = \"Value\")\n",
    "\n",
    "# Merge with metadata to include group information\n",
    "covars_long <- covars_long %>%\n",
    "  left_join(metadata, by = c(\"Sample\" = \"samples\"))"
   ]
  },
  {
   "cell_type": "code",
   "execution_count": null,
   "metadata": {
    "vscode": {
     "languageId": "r"
    }
   },
   "outputs": [],
   "source": [
    "library(ggbeeswarm)\n",
    "library(ggsignif)\n",
    "\n",
    "plots_list <- list()\n",
    "\n",
    "custom_colors <- c(\"WT\" = \"#4B0082\",   \n",
    "                   \"Het\" = \"#800080\",\n",
    "                   \"Homo\" = \"#D8BFD8\") \n",
    "\n",
    "\n",
    "comparisons_list <- list(\n",
    "  #c(\"LRP1_Het\", \"LRP1_WT\"),\n",
    "  #c(\"LRP1_Het\", \"LRP1_Homo\"),\n",
    "  #c(\"LRP1_WT\", \"LRP1_Homo\")\n",
    "  c(\"Het\", \"Homo\"),\n",
    "  c(\"Het\", \"WT\"),\n",
    "  c(\"Homo\", \"WT\")\n",
    ")\n",
    "# Loop through each PEER factor\n",
    "for (peer_factor in unique(covars_long$PEER)) {\n",
    "  \n",
    "  # Loop through each cell type\n",
    "  for (species_type in unique(covars_long$type)) {\n",
    "    \n",
    "    current_data <- filter(covars_long, PEER == peer_factor, type == species_type)\n",
    "    \n",
    "    if (nrow(current_data) == 0) next  \n",
    "\n",
    "    # group order: WT -> Het -> Homo\n",
    "    current_data$genotype <- sub(\".*_\", \"\", current_data$groups)\n",
    "    current_data$genotype <- factor(current_data$genotype, levels = c(\"WT\", \"Het\", \"Homo\"))\n",
    "\n",
    "\n",
    "    # beeswarm plot for each peer factor and cell type\n",
    "    p <- ggplot(current_data, aes(x = genotype, y = Value, color = genotype)) +\n",
    "  geom_beeswarm(size = 1.5) +\n",
    "  theme(axis.text.x = element_text(angle = 90, hjust = 1, vjust = 0.5)) +\n",
    "  labs(\n",
    "    x = \"Group\",\n",
    "    y = \"PEER Factor Value\",\n",
    "    title = paste(peer_factor, \"-\", species_type)\n",
    "  ) +\n",
    "  scale_color_manual(values = custom_colors) +\n",
    "  geom_signif(\n",
    "    comparisons = comparisons_list,\n",
    "    map_signif_level = TRUE,\n",
    "    y_position = c(1, 1.2, 1.4)\n",
    "  )\n",
    "\n",
    "    \n",
    "    plots_list[[paste(peer_factor, species_type, sep = \"_\")]] <- p\n",
    "  }\n",
    "}\n",
    "\n",
    "\n",
    "for (plot in plots_list) {\n",
    "  print(plot)\n",
    "}"
   ]
  },
  {
   "cell_type": "markdown",
   "metadata": {},
   "source": [
    "## Prep GSEA input file ##"
   ]
  },
  {
   "cell_type": "code",
   "execution_count": null,
   "metadata": {
    "vscode": {
     "languageId": "r"
    }
   },
   "outputs": [],
   "source": [
    "library(readr)\n",
    "weights <- read.table(\"param15.weights_out.txt\", sep = \"\\t\")\n",
    "colnames(weights) <- weights[1, ]\n",
    "weights <- weights[-1, ]\n",
    "counts <- read.table(\"counts_matrix.txt\", sep = \"\\t\")\n",
    "colnames(counts) <- counts[1, ]\n",
    "counts <- counts [-1, ]\n",
    "#rownames(weights) <- counts[, 1]\n",
    "#weights[1] <- counts[1]\n",
    "weights$GENE = counts[, 1]\n",
    "weights <- weights[c(\"GENE\", setdiff(names(weights), \"GENE\"))]\n",
    "#rownames(weights)\n",
    "weights"
   ]
  },
  {
   "cell_type": "markdown",
   "metadata": {},
   "source": [
    "## GSEA results analysis"
   ]
  },
  {
   "cell_type": "code",
   "execution_count": 26,
   "metadata": {
    "vscode": {
     "languageId": "r"
    }
   },
   "outputs": [],
   "source": [
    "library(dplyr)\n",
    "library(gplots)\n",
    "library(viridis)\n",
    "\n",
    "\n",
    "peer_gsea_genes <- read.table(\"PEER_8_output.txt\", header = TRUE)\n",
    "peer_gsea_genes <- peer_gsea_genes[peer_gsea_genes$padj < 0.05, ]\n",
    "\n",
    "PEER <- \"PEER_8\"\n",
    "\n",
    "# read once outside the loop\n",
    "merged_df <- read.table(\"merged_counts_and_res.csv\", sep = ',', header = TRUE)\n",
    "merged_df$gene <- toupper(merged_df$gene) #(mouse data)\n",
    "rownames(merged_df) <- merged_df$gene\n",
    "merged_df <- merged_df[-1] \n",
    "\n",
    "merged_df_filtered_all <- merged_df[, -c(1:6)]  \n",
    "\n",
    "# iterate over all pathways\n",
    "for (i in seq_len(nrow(peer_gsea_genes))) {\n",
    "\n",
    "  gene_string <- peer_gsea_genes$leadingEdge[i]\n",
    "  title <- peer_gsea_genes$pathway[i]\n",
    "  safe_title <- gsub(\"[^A-Za-z0-9_]\", \"_\", title)\n",
    "  gene_vector <- trimws(unlist(strsplit(gene_string, split = \",\")))\n",
    "\n",
    "  merged_df_filtered <- merged_df[rownames(merged_df) %in% gene_vector, ]\n",
    "  merged_df_filtered <- merged_df_filtered[, -c(1:6)]\n",
    "\n",
    "  #### 1. Combined genotype version ####\n",
    "\n",
    "  # Group by genotype\n",
    "  wt_cols <- grep(\"WT\", colnames(merged_df_filtered))\n",
    "  het_cols <- grep(\"Het\", colnames(merged_df_filtered))\n",
    "  homo_cols <- grep(\"Homo\", colnames(merged_df_filtered))\n",
    "\n",
    "  wt_mean <- rowMeans(merged_df_filtered[, wt_cols])\n",
    "  het_mean <- rowMeans(merged_df_filtered[, het_cols])\n",
    "  homo_mean <- rowMeans(merged_df_filtered[, homo_cols])\n",
    "\n",
    "  #mean_expression <- data.frame(LRP1_WT = wt_mean, LRP1_Het = het_mean, LRP1_Homo = homo_mean)\n",
    "\n",
    "  matrix <- data.matrix(mean_expression)\n",
    "  matrix_z_1 <- t(scale(t(matrix)))\n",
    "\n",
    "\n",
    "  col_side_colors_merged <- c(\"#4B0082\", \"#800080\", \"#D8BFD8\")  \n",
    "\n",
    "  heatmap_file_1 <- paste0(\"/PEER/\",PEER,\"/\", PEER, \"_\", safe_title, \"_genes_heatmap.png\")\n",
    "  csv_file_1 <- sub(\".png$\", \".csv\", heatmap_file_1)\n",
    "  dir.create(dirname(heatmap_file_1), recursive = TRUE, showWarnings = FALSE)\n",
    "\n",
    "  write.table(\n",
    "    cbind(Gene = rownames(matrix), as.data.frame(matrix)),\n",
    "    file = csv_file_1,\n",
    "    sep = \",\",\n",
    "    row.names = FALSE,\n",
    "    col.names = TRUE,\n",
    "    quote = FALSE\n",
    "  )\n",
    "  png(heatmap_file_1, width = 1200, height = 1200, res = 150)\n",
    "  heatmap.2(matrix_z_1,\n",
    "            ColSideColors = col_side_colors_merged,\n",
    "            trace = 'none',\n",
    "            margins = c(15, 15),\n",
    "            Rowv = TRUE,\n",
    "            Colv = FALSE,\n",
    "            dendrogram = 'none',\n",
    "            main = title,\n",
    "            col = viridis(100))\n",
    "  dev.off()\n",
    "\n",
    "  #### 2. Individual donor version ####\n",
    "\n",
    "  base_names <- sub(\"_[a-z]$\", \"\", colnames(merged_df_filtered))\n",
    "  collapsed_matrix <- sapply(unique(base_names), function(name) {\n",
    "    rowMeans(merged_df_filtered[, base_names == name, drop = FALSE])\n",
    "  })\n",
    "\n",
    "  colnames(collapsed_matrix) <- unique(base_names)\n",
    "  collapsed_matrix <- as.matrix(collapsed_matrix)\n",
    "\n",
    "  # Extract metadata\n",
    "  metadata_new <- data.frame(\n",
    "    Sample = colnames(collapsed_matrix),\n",
    "    Donor = sub(\"^(ML[0-9.]+)_.*\", \"\\\\1\", colnames(collapsed_matrix)),\n",
    "    Gene = sub(\"^ML[0-9.]+_([^_]+)_.*\", \"\\\\1\", colnames(collapsed_matrix)),\n",
    "    Genotype = sub(\".*_(WT|Het|Homo)$\", \"\\\\1\", colnames(collapsed_matrix)),\n",
    "    stringsAsFactors = FALSE\n",
    "  )\n",
    "\n",
    "  metadata_new$Genotype <- factor(metadata_new$Genotype, levels = c(\"WT\", \"Het\", \"Homo\"))\n",
    "  metadata_ordered <- metadata_new[order(metadata_new$Genotype, metadata_new$Donor), ]\n",
    "\n",
    "# Reorder columns in the matrix to match metadata\n",
    "collapsed_matrix_ordered <- collapsed_matrix[, metadata_ordered$Sample]\n",
    "\n",
    "# Color by Genotype\n",
    "col_side_colors <- c(\"WT\" = \"#4B0082\", \"Het\" = \"#800080\", \"Homo\" = \"#D8BFD8\")[metadata_ordered$Genotype]\n",
    "\n",
    "# Z-score transform by row\n",
    "matrix_z_2 <- t(scale(t(collapsed_matrix_ordered)))\n",
    "\n",
    "  heatmap_file_2 <- paste0(\"/PEER/\",PEER,\"/\", PEER, \"_\", safe_title, \"_individual_donors_genes_heatmap.png\")\n",
    "  csv_file_2 <- sub(\".png$\", \".csv\", heatmap_file_2)\n",
    "  #dir.create(dirname(heatmap_file_2), recursive = TRUE, showWarnings = FALSE)\n",
    "\n",
    "  write.table(\n",
    "    cbind(Gene = rownames(collapsed_matrix_ordered), as.data.frame(collapsed_matrix_ordered)),\n",
    "    file = csv_file_2,\n",
    "    sep = \",\",\n",
    "    row.names = FALSE,\n",
    "    col.names = TRUE,\n",
    "    quote = FALSE\n",
    "  )\n",
    "  png(heatmap_file_2, width = 1200, height = 1200, res = 150)\n",
    "  heatmap.2(matrix_z_2,\n",
    "            ColSideColors = col_side_colors,\n",
    "            trace = 'none',\n",
    "            margins = c(15, 15),\n",
    "            Rowv = TRUE,\n",
    "            Colv = FALSE,\n",
    "            dendrogram = 'none',\n",
    "            main = title,\n",
    "            col = viridis(100))\n",
    "  dev.off()\n",
    "}"
   ]
  },
  {
   "cell_type": "markdown",
   "metadata": {},
   "source": [
    "### GSEA Analysis Normalized by WT"
   ]
  },
  {
   "cell_type": "code",
   "execution_count": 40,
   "metadata": {
    "vscode": {
     "languageId": "r"
    }
   },
   "outputs": [],
   "source": [
    "library(dplyr)\n",
    "library(gplots)\n",
    "library(viridis)\n",
    "\n",
    "peer_gsea_genes <- read.table(\"PEER_2_output.txt\", header = TRUE)\n",
    "\n",
    "peer_gsea_genes <- peer_gsea_genes[peer_gsea_genes$padj < 0.05, ]\n",
    "\n",
    "PEER <- \"PEER_2\"\n",
    "\n",
    "merged_df <- read.table(\"merged_counts_and_res.csv\", sep = ',', header = TRUE)\n",
    "merged_df$gene <- toupper(merged_df$gene) #(mouse data)\n",
    "rownames(merged_df) <- merged_df$gene\n",
    "merged_df <- merged_df[-1]  \n",
    "\n",
    "merged_df_filtered_all <- merged_df[, -c(1:6)]  \n",
    "\n",
    "# Iterate over all pathways\n",
    "for (i in seq_len(nrow(peer_gsea_genes))) {\n",
    "\n",
    "  gene_string <- peer_gsea_genes$leadingEdge[i]\n",
    "  title <- peer_gsea_genes$pathway[i]\n",
    "  safe_title <- gsub(\"[^A-Za-z0-9_]\", \"_\", title)\n",
    "\n",
    "  gene_vector <- trimws(unlist(strsplit(gene_string, split = \",\")))\n",
    "\n",
    "  merged_df_filtered <- merged_df[rownames(merged_df) %in% gene_vector, ]\n",
    "  merged_df_filtered <- merged_df_filtered[, -c(1:6)]\n",
    "\n",
    "  #### 1. Combined genotype version ####\n",
    "\n",
    "# group by genotype\n",
    "wt_cols <- grep(\"WT\", colnames(merged_df_filtered))\n",
    "het_cols <- grep(\"Het\", colnames(merged_df_filtered))\n",
    "homo_cols <- grep(\"Homo\", colnames(merged_df_filtered))\n",
    "\n",
    "wt_mean <- rowMeans(merged_df_filtered[, wt_cols])\n",
    "het_mean <- rowMeans(merged_df_filtered[, het_cols])\n",
    "homo_mean <- rowMeans(merged_df_filtered[, homo_cols])\n",
    "\n",
    "norm_het <- het_mean - wt_mean\n",
    "norm_homo <- homo_mean - wt_mean\n",
    "\n",
    "#  new matrix with normalized values\n",
    "mean_expression <- data.frame(NRXN1_WT = wt_mean, NRXN1_Het = norm_het, NRXN1_Homo = norm_homo)\n",
    "\n",
    "matrix <- data.matrix(mean_expression)\n",
    "matrix_z_1 <- t(scale(t(matrix)))\n",
    "\n",
    "col_side_colors_merged <- c(\"#4B0082\", \"#800080\", \"#D8BFD8\")  \n",
    "\n",
    "heatmap_file_1 <- paste0(\"/PEER/\",PEER,\"_WT/\", PEER, \"_\", safe_title, \"_genes_heatmap.png\")\n",
    "csv_file_1 <- sub(\".png$\", \".csv\", heatmap_file_1)\n",
    "\n",
    "if (!dir.exists(output_dir)) {\n",
    "  dir.create(output_dir, recursive = TRUE)\n",
    "}\n",
    "\n",
    "write.table(\n",
    "  cbind(Gene = rownames(matrix), as.data.frame(matrix)),\n",
    "  file = csv_file_1,\n",
    "  sep = \",\",\n",
    "  row.names = FALSE,\n",
    "  col.names = TRUE,\n",
    "  quote = FALSE\n",
    ")\n",
    "\n",
    "png(heatmap_file_1, width = 1200, height = 1200, res = 150)\n",
    "heatmap.2(matrix_z_1,\n",
    "          ColSideColors = col_side_colors_merged,\n",
    "          trace = 'none',\n",
    "          margins = c(15, 15),\n",
    "          Rowv = TRUE,\n",
    "          Colv = FALSE,\n",
    "          dendrogram = 'none',\n",
    "          main = title,\n",
    "          col = viridis(100))\n",
    "dev.off()\n",
    "  #### 2. Individual donor version ####\n",
    "\n",
    "  base_names <- sub(\"_[a-z]$\", \"\", colnames(merged_df_filtered))\n",
    "\n",
    "donors <- unique(sub(\"^((ML|CW)[0-9.]+)_.*\", \"\\\\1\", colnames(merged_df_filtered)))\n",
    "genes <- rownames(merged_df_filtered)\n",
    "normalized_matrix <- matrix(NA, nrow = length(genes), ncol = 0)\n",
    "colnames_list <- c()\n",
    "\n",
    "for (donor in donors) {\n",
    "  donor_cols <- grep(paste0(\"^\", donor), colnames(merged_df_filtered), value = TRUE)\n",
    "  donor_data <- merged_df_filtered[, donor_cols, drop = FALSE]\n",
    "\n",
    "  wt <- rowMeans(donor_data[, grep(\"WT\", colnames(donor_data)), drop = FALSE])\n",
    "  het <- rowMeans(donor_data[, grep(\"Het\", colnames(donor_data)), drop = FALSE])\n",
    "  homo <- rowMeans(donor_data[, grep(\"Homo\", colnames(donor_data)), drop = FALSE])\n",
    "\n",
    "  # normalize by WT: subtract WT from each\n",
    "  norm_wt <- rep(0, length(wt))  \n",
    "  norm_het <- het - wt\n",
    "  norm_homo <- homo - wt\n",
    "\n",
    "  normalized_matrix <- cbind(normalized_matrix, norm_wt, norm_het, norm_homo)\n",
    "  colnames_list <- c(colnames_list,\n",
    "                     paste0(donor, \"_WT\"),\n",
    "                     paste0(donor, \"_Het\"),\n",
    "                     paste0(donor, \"_Homo\"))\n",
    "}\n",
    "\n",
    "rownames(normalized_matrix) <- genes\n",
    "colnames(normalized_matrix) <- colnames_list\n",
    "\n",
    "  metadata_new <- data.frame(\n",
    "    Sample = colnames(normalized_matrix),\n",
    "    Donor = sub(\"^(ML[0-9.]+)_.*\", \"\\\\1\", colnames(normalized_matrix)),\n",
    "    Gene = sub(\"^ML[0-9.]+_([^_]+)_.*\", \"\\\\1\", colnames(normalized_matrix)),\n",
    "    Genotype = sub(\".*_(WT|Het|Homo)$\", \"\\\\1\", colnames(normalized_matrix)),\n",
    "    stringsAsFactors = FALSE\n",
    "  )\n",
    "\n",
    "  metadata_new$Genotype <- factor(metadata_new$Genotype, levels = c(\"WT\", \"Het\", \"Homo\"))\n",
    "\n",
    "  valid_cols <- colSums(is.na(normalized_matrix)) < nrow(normalized_matrix)\n",
    "\n",
    "  metadata_filtered <- metadata_new[metadata_new$Sample %in% names(valid_cols[valid_cols]), ]\n",
    "  metadata_ordered <- metadata_filtered %>%\n",
    "  mutate(Genotype = factor(Genotype, levels = c(\"WT\", \"Het\", \"Homo\"))) %>%\n",
    "  arrange(Genotype, Donor)\n",
    "\n",
    "collapsed_matrix_ordered <- normalized_matrix[, metadata_ordered$Sample, drop = FALSE]\n",
    "  col_side_colors <- c(\"WT\" = \"#4B0082\", \"Het\" = \"#800080\", \"Homo\" = \"#D8BFD8\")[metadata_ordered$Genotype]\n",
    "  matrix_z_2 <- t(scale(t(collapsed_matrix_ordered)))\n",
    "\n",
    "  heatmap_file_2 <- paste0(\"/PEER/\",PEER,\"_WT/\", PEER, \"_\", safe_title, \"_individual_donors_genes_heatmap.png\")\n",
    "  csv_file_2 <- sub(\".png$\", \".csv\", heatmap_file_2)\n",
    "\n",
    "  write.table(\n",
    "    cbind(Gene = rownames(collapsed_matrix_ordered), as.data.frame(collapsed_matrix_ordered)),\n",
    "    file = csv_file_2,\n",
    "    sep = \",\",\n",
    "    row.names = FALSE,\n",
    "    col.names = TRUE,\n",
    "    quote = FALSE\n",
    "  )\n",
    "  png(heatmap_file_2, width = 1200, height = 1200, res = 150)\n",
    "  heatmap.2(matrix_z_2,\n",
    "            ColSideColors = col_side_colors,\n",
    "            trace = 'none',\n",
    "            margins = c(15, 15),\n",
    "            Rowv = TRUE,\n",
    "            Colv = FALSE,\n",
    "            dendrogram = 'none',\n",
    "            main = title,\n",
    "            col = viridis(100))\n",
    "  dev.off()\n",
    "}"
   ]
  }
 ],
 "metadata": {
  "kernelspec": {
   "display_name": "R",
   "language": "R",
   "name": "ir"
  },
  "language_info": {
   "codemirror_mode": "r",
   "file_extension": ".r",
   "mimetype": "text/x-r-source",
   "name": "R",
   "pygments_lexer": "r",
   "version": "4.3.1"
  }
 },
 "nbformat": 4,
 "nbformat_minor": 2
}
