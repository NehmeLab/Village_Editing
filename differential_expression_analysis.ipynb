{
 "cells": [
  {
   "cell_type": "markdown",
   "metadata": {},
   "source": [
    "## Load libraries"
   ]
  },
  {
   "cell_type": "code",
   "execution_count": null,
   "metadata": {
    "vscode": {
     "languageId": "r"
    }
   },
   "outputs": [],
   "source": [
    "library(limma)\n",
    "library(statmod)\n",
    "library(ggplot2)\n",
    "library(dplyr)\n",
    "library(tidyverse)\n",
    "library(edgeR)\n",
    "library(data.table)\n",
    "library(readr)\n",
    "library(tibble)\n",
    "library(reshape2)\n",
    "library(pheatmap)\n",
    "library(yaml)\n",
    "library(stringr)\n",
    "library(ggh4x)\n",
    "library(matrixStats)\n",
    "library(RColorBrewer)\n",
    "library(DESeq2)"
   ]
  },
  {
   "cell_type": "markdown",
   "metadata": {
    "vscode": {
     "languageId": "r"
    }
   },
   "source": [
    "## Load data"
   ]
  },
  {
   "cell_type": "code",
   "execution_count": 2,
   "metadata": {
    "vscode": {
     "languageId": "r"
    }
   },
   "outputs": [
    {
     "data": {
      "text/html": [
       "<table class=\"dataframe\">\n",
       "<caption>A data.frame: 6 x 119</caption>\n",
       "<thead>\n",
       "\t<tr><th></th><th scope=col>CW20012_NRXN1_Het_a</th><th scope=col>CW50037_NRXN1_Homo_b</th><th scope=col>CW50037_NRXN1_Homo_c</th><th scope=col>CW50037_NRXN1_Homo_d</th><th scope=col>CW20012_NRXN1_Het_b</th><th scope=col>CW20012_NRXN1_Het_c</th><th scope=col>CW20012_NRXN1_Het_d</th><th scope=col>ML898-4425_NRXN1_Homo_a</th><th scope=col>ML898-4425_NRXN1_Homo_b</th><th scope=col>ML898-4425_NRXN1_Homo_c</th><th scope=col>...</th><th scope=col>ML909-6344_NRXN1_WT_d</th><th scope=col>ML911-9779_NRXN1_Homo_a</th><th scope=col>ML911-9779_NRXN1_Homo_b</th><th scope=col>ML911-9779_NRXN1_Homo_c</th><th scope=col>ML911-9779_NRXN1_Homo_d</th><th scope=col>CW20103_NRXN1_Homo_a</th><th scope=col>CW20012_NRXN1_Homo_a</th><th scope=col>CW20012_NRXN1_Homo_b</th><th scope=col>CW20012_NRXN1_Homo_c</th><th scope=col>CW20012_NRXN1_Homo_d</th></tr>\n",
       "\t<tr><th></th><th scope=col>&lt;dbl&gt;</th><th scope=col>&lt;dbl&gt;</th><th scope=col>&lt;dbl&gt;</th><th scope=col>&lt;dbl&gt;</th><th scope=col>&lt;dbl&gt;</th><th scope=col>&lt;dbl&gt;</th><th scope=col>&lt;dbl&gt;</th><th scope=col>&lt;dbl&gt;</th><th scope=col>&lt;dbl&gt;</th><th scope=col>&lt;dbl&gt;</th><th scope=col>...</th><th scope=col>&lt;dbl&gt;</th><th scope=col>&lt;dbl&gt;</th><th scope=col>&lt;dbl&gt;</th><th scope=col>&lt;dbl&gt;</th><th scope=col>&lt;dbl&gt;</th><th scope=col>&lt;dbl&gt;</th><th scope=col>&lt;dbl&gt;</th><th scope=col>&lt;dbl&gt;</th><th scope=col>&lt;dbl&gt;</th><th scope=col>&lt;dbl&gt;</th></tr>\n",
       "</thead>\n",
       "<tbody>\n",
       "\t<tr><th scope=row>5_8S_rRNA</th><td>  NA</td><td> NA</td><td> NA</td><td> NA</td><td>  NA</td><td>  NA</td><td>  NA</td><td> NA</td><td>NA</td><td> NA</td><td>...</td><td>NA</td><td>NA</td><td> NA</td><td>NA</td><td> NA</td><td> NA</td><td>   0</td><td>   1</td><td>   0</td><td>   0</td></tr>\n",
       "\t<tr><th scope=row>7SK</th><td>   0</td><td>  0</td><td>  0</td><td>  0</td><td>   0</td><td>   0</td><td>   0</td><td>  0</td><td> 0</td><td>  0</td><td>...</td><td> 0</td><td> 0</td><td>  0</td><td> 0</td><td>  0</td><td>  0</td><td>   0</td><td>   0</td><td>   0</td><td>   0</td></tr>\n",
       "\t<tr><th scope=row>A1BG</th><td>  86</td><td> 14</td><td> 22</td><td> 13</td><td>  38</td><td>  26</td><td>  28</td><td> 25</td><td> 4</td><td> 33</td><td>...</td><td> 1</td><td>11</td><td>  9</td><td> 0</td><td> 14</td><td> 13</td><td>  34</td><td>  19</td><td>  28</td><td>  26</td></tr>\n",
       "\t<tr><th scope=row>A1BG-AS1</th><td>  69</td><td> 21</td><td> 12</td><td> 13</td><td>  10</td><td>  12</td><td>   7</td><td>  8</td><td> 2</td><td>  4</td><td>...</td><td> 1</td><td> 2</td><td>  1</td><td> 3</td><td>  7</td><td>  1</td><td>  18</td><td>  10</td><td>  24</td><td>  24</td></tr>\n",
       "\t<tr><th scope=row>A1CF</th><td>   4</td><td>  1</td><td>  1</td><td>  2</td><td>   1</td><td>   0</td><td>   0</td><td>  0</td><td> 1</td><td>  0</td><td>...</td><td> 1</td><td> 1</td><td>  1</td><td> 0</td><td>  0</td><td>  0</td><td>   0</td><td>   0</td><td>   4</td><td>   0</td></tr>\n",
       "\t<tr><th scope=row>A2M</th><td>2602</td><td>507</td><td>345</td><td>300</td><td>1417</td><td>1547</td><td>1415</td><td>498</td><td> 1</td><td>278</td><td>...</td><td>25</td><td>94</td><td>282</td><td>84</td><td>676</td><td>276</td><td>1913</td><td>1350</td><td>1420</td><td>2105</td></tr>\n",
       "</tbody>\n",
       "</table>\n"
      ],
      "text/latex": [
       "A data.frame: 6 x 119\n",
       "\\begin{tabular}{r|lllllllllllllllllllll}\n",
       "  & CW20012\\_NRXN1\\_Het\\_a & CW50037\\_NRXN1\\_Homo\\_b & CW50037\\_NRXN1\\_Homo\\_c & CW50037\\_NRXN1\\_Homo\\_d & CW20012\\_NRXN1\\_Het\\_b & CW20012\\_NRXN1\\_Het\\_c & CW20012\\_NRXN1\\_Het\\_d & ML898-4425\\_NRXN1\\_Homo\\_a & ML898-4425\\_NRXN1\\_Homo\\_b & ML898-4425\\_NRXN1\\_Homo\\_c & ... & ML909-6344\\_NRXN1\\_WT\\_d & ML911-9779\\_NRXN1\\_Homo\\_a & ML911-9779\\_NRXN1\\_Homo\\_b & ML911-9779\\_NRXN1\\_Homo\\_c & ML911-9779\\_NRXN1\\_Homo\\_d & CW20103\\_NRXN1\\_Homo\\_a & CW20012\\_NRXN1\\_Homo\\_a & CW20012\\_NRXN1\\_Homo\\_b & CW20012\\_NRXN1\\_Homo\\_c & CW20012\\_NRXN1\\_Homo\\_d\\\\\n",
       "  & <dbl> & <dbl> & <dbl> & <dbl> & <dbl> & <dbl> & <dbl> & <dbl> & <dbl> & <dbl> & ... & <dbl> & <dbl> & <dbl> & <dbl> & <dbl> & <dbl> & <dbl> & <dbl> & <dbl> & <dbl>\\\\\n",
       "\\hline\n",
       "\t5\\_8S\\_rRNA &   NA &  NA &  NA &  NA &   NA &   NA &   NA &  NA & NA &  NA & ... & NA & NA &  NA & NA &  NA &  NA &    0 &    1 &    0 &    0\\\\\n",
       "\t7SK &    0 &   0 &   0 &   0 &    0 &    0 &    0 &   0 &  0 &   0 & ... &  0 &  0 &   0 &  0 &   0 &   0 &    0 &    0 &    0 &    0\\\\\n",
       "\tA1BG &   86 &  14 &  22 &  13 &   38 &   26 &   28 &  25 &  4 &  33 & ... &  1 & 11 &   9 &  0 &  14 &  13 &   34 &   19 &   28 &   26\\\\\n",
       "\tA1BG-AS1 &   69 &  21 &  12 &  13 &   10 &   12 &    7 &   8 &  2 &   4 & ... &  1 &  2 &   1 &  3 &   7 &   1 &   18 &   10 &   24 &   24\\\\\n",
       "\tA1CF &    4 &   1 &   1 &   2 &    1 &    0 &    0 &   0 &  1 &   0 & ... &  1 &  1 &   1 &  0 &   0 &   0 &    0 &    0 &    4 &    0\\\\\n",
       "\tA2M & 2602 & 507 & 345 & 300 & 1417 & 1547 & 1415 & 498 &  1 & 278 & ... & 25 & 94 & 282 & 84 & 676 & 276 & 1913 & 1350 & 1420 & 2105\\\\\n",
       "\\end{tabular}\n"
      ],
      "text/markdown": [
       "\n",
       "A data.frame: 6 x 119\n",
       "\n",
       "| <!--/--> | CW20012_NRXN1_Het_a &lt;dbl&gt; | CW50037_NRXN1_Homo_b &lt;dbl&gt; | CW50037_NRXN1_Homo_c &lt;dbl&gt; | CW50037_NRXN1_Homo_d &lt;dbl&gt; | CW20012_NRXN1_Het_b &lt;dbl&gt; | CW20012_NRXN1_Het_c &lt;dbl&gt; | CW20012_NRXN1_Het_d &lt;dbl&gt; | ML898-4425_NRXN1_Homo_a &lt;dbl&gt; | ML898-4425_NRXN1_Homo_b &lt;dbl&gt; | ML898-4425_NRXN1_Homo_c &lt;dbl&gt; | ... ... | ML909-6344_NRXN1_WT_d &lt;dbl&gt; | ML911-9779_NRXN1_Homo_a &lt;dbl&gt; | ML911-9779_NRXN1_Homo_b &lt;dbl&gt; | ML911-9779_NRXN1_Homo_c &lt;dbl&gt; | ML911-9779_NRXN1_Homo_d &lt;dbl&gt; | CW20103_NRXN1_Homo_a &lt;dbl&gt; | CW20012_NRXN1_Homo_a &lt;dbl&gt; | CW20012_NRXN1_Homo_b &lt;dbl&gt; | CW20012_NRXN1_Homo_c &lt;dbl&gt; | CW20012_NRXN1_Homo_d &lt;dbl&gt; |\n",
       "|---|---|---|---|---|---|---|---|---|---|---|---|---|---|---|---|---|---|---|---|---|---|\n",
       "| 5_8S_rRNA |   NA |  NA |  NA |  NA |   NA |   NA |   NA |  NA | NA |  NA | ... | NA | NA |  NA | NA |  NA |  NA |    0 |    1 |    0 |    0 |\n",
       "| 7SK |    0 |   0 |   0 |   0 |    0 |    0 |    0 |   0 |  0 |   0 | ... |  0 |  0 |   0 |  0 |   0 |   0 |    0 |    0 |    0 |    0 |\n",
       "| A1BG |   86 |  14 |  22 |  13 |   38 |   26 |   28 |  25 |  4 |  33 | ... |  1 | 11 |   9 |  0 |  14 |  13 |   34 |   19 |   28 |   26 |\n",
       "| A1BG-AS1 |   69 |  21 |  12 |  13 |   10 |   12 |    7 |   8 |  2 |   4 | ... |  1 |  2 |   1 |  3 |   7 |   1 |   18 |   10 |   24 |   24 |\n",
       "| A1CF |    4 |   1 |   1 |   2 |    1 |    0 |    0 |   0 |  1 |   0 | ... |  1 |  1 |   1 |  0 |   0 |   0 |    0 |    0 |    4 |    0 |\n",
       "| A2M | 2602 | 507 | 345 | 300 | 1417 | 1547 | 1415 | 498 |  1 | 278 | ... | 25 | 94 | 282 | 84 | 676 | 276 | 1913 | 1350 | 1420 | 2105 |\n",
       "\n"
      ],
      "text/plain": [
       "          CW20012_NRXN1_Het_a CW50037_NRXN1_Homo_b CW50037_NRXN1_Homo_c\n",
       "5_8S_rRNA   NA                 NA                   NA                 \n",
       "7SK          0                  0                    0                 \n",
       "A1BG        86                 14                   22                 \n",
       "A1BG-AS1    69                 21                   12                 \n",
       "A1CF         4                  1                    1                 \n",
       "A2M       2602                507                  345                 \n",
       "          CW50037_NRXN1_Homo_d CW20012_NRXN1_Het_b CW20012_NRXN1_Het_c\n",
       "5_8S_rRNA  NA                    NA                  NA               \n",
       "7SK         0                     0                   0               \n",
       "A1BG       13                    38                  26               \n",
       "A1BG-AS1   13                    10                  12               \n",
       "A1CF        2                     1                   0               \n",
       "A2M       300                  1417                1547               \n",
       "          CW20012_NRXN1_Het_d ML898-4425_NRXN1_Homo_a ML898-4425_NRXN1_Homo_b\n",
       "5_8S_rRNA   NA                 NA                     NA                     \n",
       "7SK          0                  0                      0                     \n",
       "A1BG        28                 25                      4                     \n",
       "A1BG-AS1     7                  8                      2                     \n",
       "A1CF         0                  0                      1                     \n",
       "A2M       1415                498                      1                     \n",
       "          ML898-4425_NRXN1_Homo_c ... ML909-6344_NRXN1_WT_d\n",
       "5_8S_rRNA  NA                     ... NA                   \n",
       "7SK         0                     ...  0                   \n",
       "A1BG       33                     ...  1                   \n",
       "A1BG-AS1    4                     ...  1                   \n",
       "A1CF        0                     ...  1                   \n",
       "A2M       278                     ... 25                   \n",
       "          ML911-9779_NRXN1_Homo_a ML911-9779_NRXN1_Homo_b\n",
       "5_8S_rRNA NA                       NA                    \n",
       "7SK        0                        0                    \n",
       "A1BG      11                        9                    \n",
       "A1BG-AS1   2                        1                    \n",
       "A1CF       1                        1                    \n",
       "A2M       94                      282                    \n",
       "          ML911-9779_NRXN1_Homo_c ML911-9779_NRXN1_Homo_d CW20103_NRXN1_Homo_a\n",
       "5_8S_rRNA NA                       NA                      NA                 \n",
       "7SK        0                        0                       0                 \n",
       "A1BG       0                       14                      13                 \n",
       "A1BG-AS1   3                        7                       1                 \n",
       "A1CF       0                        0                       0                 \n",
       "A2M       84                      676                     276                 \n",
       "          CW20012_NRXN1_Homo_a CW20012_NRXN1_Homo_b CW20012_NRXN1_Homo_c\n",
       "5_8S_rRNA    0                    1                    0                \n",
       "7SK          0                    0                    0                \n",
       "A1BG        34                   19                   28                \n",
       "A1BG-AS1    18                   10                   24                \n",
       "A1CF         0                    0                    4                \n",
       "A2M       1913                 1350                 1420                \n",
       "          CW20012_NRXN1_Homo_d\n",
       "5_8S_rRNA    0                \n",
       "7SK          0                \n",
       "A1BG        26                \n",
       "A1BG-AS1    24                \n",
       "A1CF         0                \n",
       "A2M       2105                "
      ]
     },
     "metadata": {},
     "output_type": "display_data"
    }
   ],
   "source": [
    "counts <- read.table(\"/path_to_counts_matrix.txt\", sep = '\\t', header = TRUE)\n",
    "rownames(counts) <- counts$GENE\n",
    "counts <- counts[-1]\n",
    "colnames(counts) <- gsub(\"\\\\.\", \"-\", colnames(counts))\n",
    "head(counts)"
   ]
  },
  {
   "cell_type": "code",
   "execution_count": 3,
   "metadata": {
    "vscode": {
     "languageId": "r"
    }
   },
   "outputs": [
    {
     "data": {
      "text/html": [
       "<style>\n",
       ".list-inline {list-style: none; margin:0; padding: 0}\n",
       ".list-inline>li {display: inline-block}\n",
       ".list-inline>li:not(:last-child)::after {content: \"\\00b7\"; padding: 0 .5ex}\n",
       "</style>\n",
       "<ol class=list-inline><li>37201</li><li>119</li></ol>\n"
      ],
      "text/latex": [
       "\\begin{enumerate*}\n",
       "\\item 37201\n",
       "\\item 119\n",
       "\\end{enumerate*}\n"
      ],
      "text/markdown": [
       "1. 37201\n",
       "2. 119\n",
       "\n",
       "\n"
      ],
      "text/plain": [
       "[1] 37201   119"
      ]
     },
     "metadata": {},
     "output_type": "display_data"
    }
   ],
   "source": [
    "#Remove relevant X and Y-linked genes\n",
    "sex_genes <- c(\"DBY\", \"SMCY\", \"UTY\", \"RPS4Y\", \"USP9Y\", \"XIST\")\n",
    "counts<- counts[!rownames(counts) %in% sex_genes, ]\n",
    "dim(counts)"
   ]
  },
  {
   "cell_type": "code",
   "execution_count": 5,
   "metadata": {
    "vscode": {
     "languageId": "r"
    }
   },
   "outputs": [],
   "source": [
    "counts[is.na(counts)] <- 0"
   ]
  },
  {
   "cell_type": "code",
   "execution_count": 6,
   "metadata": {
    "vscode": {
     "languageId": "r"
    }
   },
   "outputs": [
    {
     "data": {
      "text/html": [
       "<table class=\"dataframe\">\n",
       "<caption>A data.frame: 12 x 5</caption>\n",
       "<thead>\n",
       "\t<tr><th scope=col>sample</th><th scope=col>gene</th><th scope=col>donor</th><th scope=col>genotype</th><th scope=col>target_gt</th></tr>\n",
       "\t<tr><th scope=col>&lt;chr&gt;</th><th scope=col>&lt;chr&gt;</th><th scope=col>&lt;chr&gt;</th><th scope=col>&lt;chr&gt;</th><th scope=col>&lt;chr&gt;</th></tr>\n",
       "</thead>\n",
       "<tbody>\n",
       "\t<tr><td>ML907-2836_NRXN1_Homo_a</td><td>NRXN1</td><td>ML907-2836</td><td>HOMO</td><td>NRXN1_HOMO</td></tr>\n",
       "\t<tr><td>ML907-2836_NRXN1_Homo_b</td><td>NRXN1</td><td>ML907-2836</td><td>HOMO</td><td>NRXN1_HOMO</td></tr>\n",
       "\t<tr><td>ML907-2836_NRXN1_Homo_c</td><td>NRXN1</td><td>ML907-2836</td><td>HOMO</td><td>NRXN1_HOMO</td></tr>\n",
       "\t<tr><td>ML907-2836_NRXN1_Homo_d</td><td>NRXN1</td><td>ML907-2836</td><td>HOMO</td><td>NRXN1_HOMO</td></tr>\n",
       "\t<tr><td>ML907-2836_NRXN1_Het_a </td><td>NRXN1</td><td>ML907-2836</td><td>HET </td><td>NRXN1_HET </td></tr>\n",
       "\t<tr><td>ML907-2836_NRXN1_Het_b </td><td>NRXN1</td><td>ML907-2836</td><td>HET </td><td>NRXN1_HET </td></tr>\n",
       "\t<tr><td>ML907-2836_NRXN1_Het_c </td><td>NRXN1</td><td>ML907-2836</td><td>HET </td><td>NRXN1_HET </td></tr>\n",
       "\t<tr><td>ML907-2836_NRXN1_Het_d </td><td>NRXN1</td><td>ML907-2836</td><td>HET </td><td>NRXN1_HET </td></tr>\n",
       "\t<tr><td>ML907-2836_NRXN1_WT_a  </td><td>NRXN1</td><td>ML907-2836</td><td>WT  </td><td>NRXN1_WT  </td></tr>\n",
       "\t<tr><td>ML907-2836_NRXN1_WT_b  </td><td>NRXN1</td><td>ML907-2836</td><td>WT  </td><td>NRXN1_WT  </td></tr>\n",
       "\t<tr><td>ML907-2836_NRXN1_WT_c  </td><td>NRXN1</td><td>ML907-2836</td><td>WT  </td><td>NRXN1_WT  </td></tr>\n",
       "\t<tr><td>ML907-2836_NRXN1_WT_d  </td><td>NRXN1</td><td>ML907-2836</td><td>WT  </td><td>NRXN1_WT  </td></tr>\n",
       "</tbody>\n",
       "</table>\n"
      ],
      "text/latex": [
       "A data.frame: 12 x 5\n",
       "\\begin{tabular}{lllll}\n",
       " sample & gene & donor & genotype & target\\_gt\\\\\n",
       " <chr> & <chr> & <chr> & <chr> & <chr>\\\\\n",
       "\\hline\n",
       "\t ML907-2836\\_NRXN1\\_Homo\\_a & NRXN1 & ML907-2836 & HOMO & NRXN1\\_HOMO\\\\\n",
       "\t ML907-2836\\_NRXN1\\_Homo\\_b & NRXN1 & ML907-2836 & HOMO & NRXN1\\_HOMO\\\\\n",
       "\t ML907-2836\\_NRXN1\\_Homo\\_c & NRXN1 & ML907-2836 & HOMO & NRXN1\\_HOMO\\\\\n",
       "\t ML907-2836\\_NRXN1\\_Homo\\_d & NRXN1 & ML907-2836 & HOMO & NRXN1\\_HOMO\\\\\n",
       "\t ML907-2836\\_NRXN1\\_Het\\_a  & NRXN1 & ML907-2836 & HET  & NRXN1\\_HET \\\\\n",
       "\t ML907-2836\\_NRXN1\\_Het\\_b  & NRXN1 & ML907-2836 & HET  & NRXN1\\_HET \\\\\n",
       "\t ML907-2836\\_NRXN1\\_Het\\_c  & NRXN1 & ML907-2836 & HET  & NRXN1\\_HET \\\\\n",
       "\t ML907-2836\\_NRXN1\\_Het\\_d  & NRXN1 & ML907-2836 & HET  & NRXN1\\_HET \\\\\n",
       "\t ML907-2836\\_NRXN1\\_WT\\_a   & NRXN1 & ML907-2836 & WT   & NRXN1\\_WT  \\\\\n",
       "\t ML907-2836\\_NRXN1\\_WT\\_b   & NRXN1 & ML907-2836 & WT   & NRXN1\\_WT  \\\\\n",
       "\t ML907-2836\\_NRXN1\\_WT\\_c   & NRXN1 & ML907-2836 & WT   & NRXN1\\_WT  \\\\\n",
       "\t ML907-2836\\_NRXN1\\_WT\\_d   & NRXN1 & ML907-2836 & WT   & NRXN1\\_WT  \\\\\n",
       "\\end{tabular}\n"
      ],
      "text/markdown": [
       "\n",
       "A data.frame: 12 x 5\n",
       "\n",
       "| sample &lt;chr&gt; | gene &lt;chr&gt; | donor &lt;chr&gt; | genotype &lt;chr&gt; | target_gt &lt;chr&gt; |\n",
       "|---|---|---|---|---|\n",
       "| ML907-2836_NRXN1_Homo_a | NRXN1 | ML907-2836 | HOMO | NRXN1_HOMO |\n",
       "| ML907-2836_NRXN1_Homo_b | NRXN1 | ML907-2836 | HOMO | NRXN1_HOMO |\n",
       "| ML907-2836_NRXN1_Homo_c | NRXN1 | ML907-2836 | HOMO | NRXN1_HOMO |\n",
       "| ML907-2836_NRXN1_Homo_d | NRXN1 | ML907-2836 | HOMO | NRXN1_HOMO |\n",
       "| ML907-2836_NRXN1_Het_a  | NRXN1 | ML907-2836 | HET  | NRXN1_HET  |\n",
       "| ML907-2836_NRXN1_Het_b  | NRXN1 | ML907-2836 | HET  | NRXN1_HET  |\n",
       "| ML907-2836_NRXN1_Het_c  | NRXN1 | ML907-2836 | HET  | NRXN1_HET  |\n",
       "| ML907-2836_NRXN1_Het_d  | NRXN1 | ML907-2836 | HET  | NRXN1_HET  |\n",
       "| ML907-2836_NRXN1_WT_a   | NRXN1 | ML907-2836 | WT   | NRXN1_WT   |\n",
       "| ML907-2836_NRXN1_WT_b   | NRXN1 | ML907-2836 | WT   | NRXN1_WT   |\n",
       "| ML907-2836_NRXN1_WT_c   | NRXN1 | ML907-2836 | WT   | NRXN1_WT   |\n",
       "| ML907-2836_NRXN1_WT_d   | NRXN1 | ML907-2836 | WT   | NRXN1_WT   |\n",
       "\n"
      ],
      "text/plain": [
       "   sample                  gene  donor      genotype target_gt \n",
       "1  ML907-2836_NRXN1_Homo_a NRXN1 ML907-2836 HOMO     NRXN1_HOMO\n",
       "2  ML907-2836_NRXN1_Homo_b NRXN1 ML907-2836 HOMO     NRXN1_HOMO\n",
       "3  ML907-2836_NRXN1_Homo_c NRXN1 ML907-2836 HOMO     NRXN1_HOMO\n",
       "4  ML907-2836_NRXN1_Homo_d NRXN1 ML907-2836 HOMO     NRXN1_HOMO\n",
       "5  ML907-2836_NRXN1_Het_a  NRXN1 ML907-2836 HET      NRXN1_HET \n",
       "6  ML907-2836_NRXN1_Het_b  NRXN1 ML907-2836 HET      NRXN1_HET \n",
       "7  ML907-2836_NRXN1_Het_c  NRXN1 ML907-2836 HET      NRXN1_HET \n",
       "8  ML907-2836_NRXN1_Het_d  NRXN1 ML907-2836 HET      NRXN1_HET \n",
       "9  ML907-2836_NRXN1_WT_a   NRXN1 ML907-2836 WT       NRXN1_WT  \n",
       "10 ML907-2836_NRXN1_WT_b   NRXN1 ML907-2836 WT       NRXN1_WT  \n",
       "11 ML907-2836_NRXN1_WT_c   NRXN1 ML907-2836 WT       NRXN1_WT  \n",
       "12 ML907-2836_NRXN1_WT_d   NRXN1 ML907-2836 WT       NRXN1_WT  "
      ]
     },
     "metadata": {},
     "output_type": "display_data"
    }
   ],
   "source": [
    "#Make metadata table\n",
    "\n",
    "metadata <- data.frame(sample=colnames(counts)) \n",
    "metadata$gene <- str_to_upper(str_split_fixed(colnames(counts),\"_\",n=4)[,2])\n",
    "metadata$donor <- str_to_upper(str_split_fixed(colnames(counts),\"_\",n=4)[,1])\n",
    "metadata$genotype <- str_to_upper(str_split_fixed(colnames(counts),\"_\",n=4)[,3])\n",
    "metadata$target_gt <- paste0(metadata$gene,\"_\",metadata$genotype)\n",
    "head(metadata)"
   ]
  },
  {
   "cell_type": "code",
   "execution_count": 7,
   "metadata": {
    "vscode": {
     "languageId": "r"
    }
   },
   "outputs": [
    {
     "data": {
      "text/html": [
       "<table class=\"dataframe\">\n",
       "<caption>A data.frame: 12 x 7</caption>\n",
       "<thead>\n",
       "\t<tr><th scope=col>sample</th><th scope=col>gene</th><th scope=col>donor</th><th scope=col>genotype</th><th scope=col>target_gt</th><th scope=col>PRS</th><th scope=col>sex</th></tr>\n",
       "\t<tr><th scope=col>&lt;chr&gt;</th><th scope=col>&lt;chr&gt;</th><th scope=col>&lt;chr&gt;</th><th scope=col>&lt;chr&gt;</th><th scope=col>&lt;chr&gt;</th><th scope=col>&lt;chr&gt;</th><th scope=col>&lt;chr&gt;</th></tr>\n",
       "</thead>\n",
       "<tbody>\n",
       "\t<tr><td>ML907-2836_NRXN1_Homo_a</td><td>NRXN1</td><td>ML907-2836</td><td>HOMO</td><td>NRXN1_HOMO</td><td>NEUTRAL</td><td>Female</td></tr>\n",
       "\t<tr><td>ML907-2836_NRXN1_Homo_b</td><td>NRXN1</td><td>ML907-2836</td><td>HOMO</td><td>NRXN1_HOMO</td><td>NEUTRAL</td><td>Female</td></tr>\n",
       "\t<tr><td>ML907-2836_NRXN1_Homo_c</td><td>NRXN1</td><td>ML907-2836</td><td>HOMO</td><td>NRXN1_HOMO</td><td>NEUTRAL</td><td>Female</td></tr>\n",
       "\t<tr><td>ML907-2836_NRXN1_Homo_d</td><td>NRXN1</td><td>ML907-2836</td><td>HOMO</td><td>NRXN1_HOMO</td><td>NEUTRAL</td><td>Female</td></tr>\n",
       "\t<tr><td>ML907-2836_NRXN1_Het_a </td><td>NRXN1</td><td>ML907-2836</td><td>HET </td><td>NRXN1_HET </td><td>NEUTRAL</td><td>Female</td></tr>\n",
       "\t<tr><td>ML907-2836_NRXN1_Het_b </td><td>NRXN1</td><td>ML907-2836</td><td>HET </td><td>NRXN1_HET </td><td>NEUTRAL</td><td>Female</td></tr>\n",
       "\t<tr><td>ML907-2836_NRXN1_Het_c </td><td>NRXN1</td><td>ML907-2836</td><td>HET </td><td>NRXN1_HET </td><td>NEUTRAL</td><td>Female</td></tr>\n",
       "\t<tr><td>ML907-2836_NRXN1_Het_d </td><td>NRXN1</td><td>ML907-2836</td><td>HET </td><td>NRXN1_HET </td><td>NEUTRAL</td><td>Female</td></tr>\n",
       "\t<tr><td>ML907-2836_NRXN1_WT_a  </td><td>NRXN1</td><td>ML907-2836</td><td>WT  </td><td>NRXN1_WT  </td><td>NEUTRAL</td><td>Female</td></tr>\n",
       "\t<tr><td>ML907-2836_NRXN1_WT_b  </td><td>NRXN1</td><td>ML907-2836</td><td>WT  </td><td>NRXN1_WT  </td><td>NEUTRAL</td><td>Female</td></tr>\n",
       "\t<tr><td>ML907-2836_NRXN1_WT_c  </td><td>NRXN1</td><td>ML907-2836</td><td>WT  </td><td>NRXN1_WT  </td><td>NEUTRAL</td><td>Female</td></tr>\n",
       "\t<tr><td>ML907-2836_NRXN1_WT_d  </td><td>NRXN1</td><td>ML907-2836</td><td>WT  </td><td>NRXN1_WT  </td><td>NEUTRAL</td><td>Female</td></tr>\n",
       "</tbody>\n",
       "</table>\n"
      ],
      "text/latex": [
       "A data.frame: 12 x 7\n",
       "\\begin{tabular}{lllllll}\n",
       " sample & gene & donor & genotype & target\\_gt & PRS & sex\\\\\n",
       " <chr> & <chr> & <chr> & <chr> & <chr> & <chr> & <chr>\\\\\n",
       "\\hline\n",
       "\t ML907-2836\\_NRXN1\\_Homo\\_a & NRXN1 & ML907-2836 & HOMO & NRXN1\\_HOMO & NEUTRAL & Female\\\\\n",
       "\t ML907-2836\\_NRXN1\\_Homo\\_b & NRXN1 & ML907-2836 & HOMO & NRXN1\\_HOMO & NEUTRAL & Female\\\\\n",
       "\t ML907-2836\\_NRXN1\\_Homo\\_c & NRXN1 & ML907-2836 & HOMO & NRXN1\\_HOMO & NEUTRAL & Female\\\\\n",
       "\t ML907-2836\\_NRXN1\\_Homo\\_d & NRXN1 & ML907-2836 & HOMO & NRXN1\\_HOMO & NEUTRAL & Female\\\\\n",
       "\t ML907-2836\\_NRXN1\\_Het\\_a  & NRXN1 & ML907-2836 & HET  & NRXN1\\_HET  & NEUTRAL & Female\\\\\n",
       "\t ML907-2836\\_NRXN1\\_Het\\_b  & NRXN1 & ML907-2836 & HET  & NRXN1\\_HET  & NEUTRAL & Female\\\\\n",
       "\t ML907-2836\\_NRXN1\\_Het\\_c  & NRXN1 & ML907-2836 & HET  & NRXN1\\_HET  & NEUTRAL & Female\\\\\n",
       "\t ML907-2836\\_NRXN1\\_Het\\_d  & NRXN1 & ML907-2836 & HET  & NRXN1\\_HET  & NEUTRAL & Female\\\\\n",
       "\t ML907-2836\\_NRXN1\\_WT\\_a   & NRXN1 & ML907-2836 & WT   & NRXN1\\_WT   & NEUTRAL & Female\\\\\n",
       "\t ML907-2836\\_NRXN1\\_WT\\_b   & NRXN1 & ML907-2836 & WT   & NRXN1\\_WT   & NEUTRAL & Female\\\\\n",
       "\t ML907-2836\\_NRXN1\\_WT\\_c   & NRXN1 & ML907-2836 & WT   & NRXN1\\_WT   & NEUTRAL & Female\\\\\n",
       "\t ML907-2836\\_NRXN1\\_WT\\_d   & NRXN1 & ML907-2836 & WT   & NRXN1\\_WT   & NEUTRAL & Female\\\\\n",
       "\\end{tabular}\n"
      ],
      "text/markdown": [
       "\n",
       "A data.frame: 12 x 7\n",
       "\n",
       "| sample &lt;chr&gt; | gene &lt;chr&gt; | donor &lt;chr&gt; | genotype &lt;chr&gt; | target_gt &lt;chr&gt; | PRS &lt;chr&gt; | sex &lt;chr&gt; |\n",
       "|---|---|---|---|---|---|---|\n",
       "| ML907-2836_NRXN1_Homo_a | NRXN1 | ML907-2836 | HOMO | NRXN1_HOMO | NEUTRAL | Female |\n",
       "| ML907-2836_NRXN1_Homo_b | NRXN1 | ML907-2836 | HOMO | NRXN1_HOMO | NEUTRAL | Female |\n",
       "| ML907-2836_NRXN1_Homo_c | NRXN1 | ML907-2836 | HOMO | NRXN1_HOMO | NEUTRAL | Female |\n",
       "| ML907-2836_NRXN1_Homo_d | NRXN1 | ML907-2836 | HOMO | NRXN1_HOMO | NEUTRAL | Female |\n",
       "| ML907-2836_NRXN1_Het_a  | NRXN1 | ML907-2836 | HET  | NRXN1_HET  | NEUTRAL | Female |\n",
       "| ML907-2836_NRXN1_Het_b  | NRXN1 | ML907-2836 | HET  | NRXN1_HET  | NEUTRAL | Female |\n",
       "| ML907-2836_NRXN1_Het_c  | NRXN1 | ML907-2836 | HET  | NRXN1_HET  | NEUTRAL | Female |\n",
       "| ML907-2836_NRXN1_Het_d  | NRXN1 | ML907-2836 | HET  | NRXN1_HET  | NEUTRAL | Female |\n",
       "| ML907-2836_NRXN1_WT_a   | NRXN1 | ML907-2836 | WT   | NRXN1_WT   | NEUTRAL | Female |\n",
       "| ML907-2836_NRXN1_WT_b   | NRXN1 | ML907-2836 | WT   | NRXN1_WT   | NEUTRAL | Female |\n",
       "| ML907-2836_NRXN1_WT_c   | NRXN1 | ML907-2836 | WT   | NRXN1_WT   | NEUTRAL | Female |\n",
       "| ML907-2836_NRXN1_WT_d   | NRXN1 | ML907-2836 | WT   | NRXN1_WT   | NEUTRAL | Female |\n",
       "\n"
      ],
      "text/plain": [
       "   sample                  gene  donor      genotype target_gt  PRS     sex   \n",
       "1  ML907-2836_NRXN1_Homo_a NRXN1 ML907-2836 HOMO     NRXN1_HOMO NEUTRAL Female\n",
       "2  ML907-2836_NRXN1_Homo_b NRXN1 ML907-2836 HOMO     NRXN1_HOMO NEUTRAL Female\n",
       "3  ML907-2836_NRXN1_Homo_c NRXN1 ML907-2836 HOMO     NRXN1_HOMO NEUTRAL Female\n",
       "4  ML907-2836_NRXN1_Homo_d NRXN1 ML907-2836 HOMO     NRXN1_HOMO NEUTRAL Female\n",
       "5  ML907-2836_NRXN1_Het_a  NRXN1 ML907-2836 HET      NRXN1_HET  NEUTRAL Female\n",
       "6  ML907-2836_NRXN1_Het_b  NRXN1 ML907-2836 HET      NRXN1_HET  NEUTRAL Female\n",
       "7  ML907-2836_NRXN1_Het_c  NRXN1 ML907-2836 HET      NRXN1_HET  NEUTRAL Female\n",
       "8  ML907-2836_NRXN1_Het_d  NRXN1 ML907-2836 HET      NRXN1_HET  NEUTRAL Female\n",
       "9  ML907-2836_NRXN1_WT_a   NRXN1 ML907-2836 WT       NRXN1_WT   NEUTRAL Female\n",
       "10 ML907-2836_NRXN1_WT_b   NRXN1 ML907-2836 WT       NRXN1_WT   NEUTRAL Female\n",
       "11 ML907-2836_NRXN1_WT_c   NRXN1 ML907-2836 WT       NRXN1_WT   NEUTRAL Female\n",
       "12 ML907-2836_NRXN1_WT_d   NRXN1 ML907-2836 WT       NRXN1_WT   NEUTRAL Female"
      ]
     },
     "metadata": {},
     "output_type": "display_data"
    }
   ],
   "source": [
    "raw_metadata <- read.table(\"/path_to_metadata.tsv\",sep=\"\\t\",header=T)\n",
    "metadata$PRS <- raw_metadata[match(metadata$donor,raw_metadata$Donor),\"PRS\"]\n",
    "metadata$sex <- raw_metadata[match(metadata$donor,raw_metadata$Donor),\"Sex\"]\n",
    "rownames(metadata) <- NULL\n",
    "head(metadata)"
   ]
  },
  {
   "cell_type": "code",
   "execution_count": 8,
   "metadata": {
    "vscode": {
     "languageId": "r"
    }
   },
   "outputs": [],
   "source": [
    "names(counts) <- sub(\"\\\\-\",\"\",names(counts))\n",
    "metadata$donor <- sub(\"\\\\-\",\"\",metadata$donor)\n",
    "metadata$sample <- sub(\"\\\\-\",\"\",metadata$sample)\n",
    "metadata[is.na(metadata$PRS),\"PRS\"] <- \"NEUTRAL\"\n",
    "head(metadata)"
   ]
  },
  {
   "cell_type": "code",
   "execution_count": null,
   "metadata": {
    "vscode": {
     "languageId": "r"
    }
   },
   "outputs": [],
   "source": [
    "#Plot library size\n",
    "\n",
    "get_library_size <- function(count_data) {\n",
    "  df <- as.data.frame(count_data)\n",
    "  \n",
    "  long_df <- df %>% \n",
    "    pivot_longer(cols = everything(), names_to = \"sample\", values_to = \"reads\")\n",
    "  \n",
    "  #Remove replicate indicators\n",
    "  long_df$sample <- gsub(\"_a|_b|_c|_d|_e|_f$\", \"\", long_df$sample)\n",
    "  \n",
    "  #Aggregate by new sample names\n",
    "  aggregated_df <- long_df %>% \n",
    "    group_by(sample) %>%\n",
    "    summarise(total_reads = sum(reads, na.rm = TRUE))\n",
    "\n",
    "  aggregated_df$donor <- sub(\"_.*\", \"\", aggregated_df$sample)\n",
    "  aggregated_df$genotype <- sub(\".*_\", \"\", aggregated_df$sample)\n",
    "\n",
    "\n",
    "  \n",
    "  return(aggregated_df)\n",
    "}\n",
    "\n",
    "#Library size bar graph\n",
    "\n",
    "lib_size_bar <- function(library_data) {\n",
    "  #Extract donor and genotype from sample name\n",
    "  if (!\"donor\" %in% names(library_data)) {\n",
    "    library_data$donor <- sub(\"_.*\", \"\", library_data$sample)\n",
    "    library_data$genotype <- sub(\".*_(.*)$\", \"\\\\1\", library_data$sample)\n",
    "  }\n",
    "\n",
    "  library_data$donor_genotype <- with(library_data, paste(donor, genotype, sep = \"_\"))\n",
    "\n",
    "  #Custom order for genotypes\n",
    "  genotype_order <- c(\"WT\", \"Het\", \"Homo\")\n",
    "  \n",
    "  #Sorting index based on the donor and then the custom genotype order\n",
    "  library_data <- library_data %>%\n",
    "    mutate(\n",
    "      donor_genotype = factor(donor_genotype, levels = unique(donor_genotype[order(donor, match(genotype, genotype_order))]))\n",
    "    )\n",
    "\n",
    "  #Plot\n",
    "  lib_size <- ggplot(library_data, aes(x = donor_genotype, y = total_reads, fill = donor)) +\n",
    "    geom_bar(stat = \"identity\") +\n",
    "    labs(title = \"Library Size per Sample\", x = \"Sample\", y = \"Counts\") +\n",
    "    scale_fill_brewer(palette = \"Set3\", name = \"Donor\") +\n",
    "    scale_x_discrete(labels = function(x) stringr::str_wrap(x, width = 10)) +\n",
    "    theme(axis.text.x = element_text(angle = 90, vjust = 0.5, size = 8))\n",
    "\n",
    "  return(lib_size)\n",
    "}\n",
    "\n",
    "library_data <- get_library_size(counts)\n",
    "lib_bar <- lib_size_bar(library_data)\n",
    "lib_bar"
   ]
  },
  {
   "cell_type": "markdown",
   "metadata": {},
   "source": [
    "# Run differential expression"
   ]
  },
  {
   "cell_type": "code",
   "execution_count": 12,
   "metadata": {
    "vscode": {
     "languageId": "r"
    }
   },
   "outputs": [],
   "source": [
    "make_donor_contrasts <- function(design,dge) {\n",
    "\n",
    "    #get one contrast\n",
    "    getOneContrast <- function(idx, dge, samples) {\n",
    "        d <- dge$samples[idx,]$donor\n",
    "        controls <- samples[grep(paste0(d,\"NRXN1_WT\"), samples)] #use NRXN1_WT as control\n",
    "        treats <- dge$samples[idx,]$group\n",
    "        if (length(treats)>0 & length(controls)>0 & (!treats %like% \"NRXN1_WT\")) {\n",
    "            comparison <- paste(treats,controls,sep=\" - \")\n",
    "            names(comparison) <- treats\n",
    "            return (comparison)\n",
    "        } else {\n",
    "            print(\"No valid case/control group -- skipping contrast\")\n",
    "            return(NULL)\n",
    "        }\n",
    "    }\n",
    "    samples <- colnames(design)\n",
    "    r=c()\n",
    "    for (i in seq_len(dim(dge$samples)[1])) {\n",
    "        r <- c(r,getOneContrast(i,dge,samples))\n",
    "    }\n",
    "    r = as.list(r)\n",
    "    r=c(r,list(levels=design))\n",
    "    r=r[!duplicated(r)]\n",
    "    contr.matrix=do.call(makeContrasts,r)\n",
    "    return (contr.matrix)\n",
    "}\n",
    "\n",
    "run_DGEA <- function(counts, metadata) { \n",
    "    # initialize DGE object + metadata\n",
    "    print(\"Initializing DGE object...\")\n",
    "    dge <- DGEList(counts=counts) #create DGEList object\n",
    "    dge$samples$target_gt <- factor(metadata$target_gt[match(rownames(dge$samples),metadata$sample)],levels=c(\"PARENTAL_WT\",\"NRXN1_WT\",\"NRXN1_HET\",\"NRXN1_HOMO\",\"LRP1_WT\",\"NRXN1_HET\",\"NRXN1_HOMO\"))\n",
    "    dge$samples$PRS <- factor(metadata$PRS[match(rownames(dge$samples),metadata$sample)],levels=c(\"NONE\",\"LOW\",\"NEUTRAL\",\"HIGH\"))\n",
    "    \n",
    "    dge$samples$group <- paste0(dge$samples$donor,\".\",dge$samples$target_gt)\n",
    "\n",
    "    dge <- dge[,! dge$samples$target_gt %like% \"NRXN11\"]\n",
    "    \n",
    "    print(\"Filtering DGE...\")\n",
    "    # filter + normalize DGE\n",
    "    keep.exprs <- filterByExpr(dge, group=dge$samples$group)\n",
    "    dge <- dge[keep.exprs,, keep.lib.sizes=FALSE]\n",
    "\n",
    "    # filter out samples with shit library sizes\n",
    "    dge <- dge[,dge$samples$lib.size>100000]\n",
    "    # keep <- rowSums(cpm(dge)>=50)>=4\n",
    "    # print(paste0(\"Keeping \",sum(keep),\" genes...\"))\n",
    "    # dge <- filterDGE(dge,keep)\n",
    "    ID <- rownames(dge)\n",
    "    dge$genes <- as.data.frame(ID)\n",
    "    metadata <- subset(metadata, sample %in% rownames(dge$samples))\n",
    "\n",
    "    #check ratio of largest to smallest library size\n",
    "    #this helps us determine whether to use limma-trend or voom\n",
    "    print(max(colSums(dge$counts))/min(colSums(dge$counts))) #if >>3, use voom. otherwise, use limma-trend\n",
    "\n",
    "    print(\"Normalizing DGE...\")\n",
    "    dge <- calcNormFactors(dge) #calculate normalization factors; used for voom transform later\n",
    "\n",
    "    print(\"Initializing design and contrast matrices...\")\n",
    "    # initialize design matrix for differential expression\n",
    "    #design <- model.matrix(~ 0 + target_gt + sex, data=dge$samples)\n",
    "    design <- model.matrix(~ 0 + target_gt, data=dge$samples)\n",
    "\n",
    "    design <- design[, colSums(design != 0) > 0]\n",
    "    colnames(design) <- sub(\"target_gt\",\"\",colnames(design))\n",
    "    colnames(design) <- sub(\"PRS\",\"\",colnames(design))\n",
    "    colnames(design) <- sub(\"donor\",\"\",colnames(design))\n",
    "    colnames(design) <- sub(\"group\",\"\",colnames(design))\n",
    "    colnames(design) <- sub(\"sex\",\"\",colnames(design))\n",
    "    colnames(design) <- sub(\"\\\\s\",\"\",colnames(design))\n",
    "    colnames(design) <- sub(\":\",\".\",colnames(design))\n",
    "\n",
    "    #select contrast\n",
    "    contr.matrix=makeContrasts(\n",
    "                        #NRXN1.HOMO=NRXN1_HOMO-NRXN1_WT,\n",
    "                        #NRXN1.HET=NRXN1_HET-NRXN1_WT,\n",
    "                        #NRXN1_HOMO-NRXN1_HET,\n",
    "                        #NRXN1.WT=NRXN1_WT-PARENTAL_WT,\n",
    "                        #HIGH_LOW = HIGH - LOW,\n",
    "                        #HIGH_NEU = HIGH - NEUTRAL,\n",
    "                        #NEU_LOW = NEUTRAL - LOW,\n",
    "                        NRXN1.HOMO=LRP1_HOMO-LRP1_WT,\n",
    "                        LRP1.HET=LRP1_HET-LRP1_WT,\n",
    "                        LRP1_HOMO-LRP1_HET,\n",
    "                        #LRP1.WT=LRP1_WT-PARENTAL_WT,\n",
    "                        levels=colnames(design))\n",
    "\n",
    "\n",
    "    print(\"Performing differential expression fit with voom...\")\n",
    "    # perform differential expression fit\n",
    "    v <- voom(dge,design,plot=T)\n",
    "    colnames(v$genes) <- \"ID\"\n",
    "\n",
    "\n",
    "    fit <- lmFit(v,design)\n",
    "    fit <- contrasts.fit(fit,contr.matrix)\n",
    "    fit <- eBayes(fit) \n",
    "    plotSA(fit) \n",
    "\n",
    "    return(fit)\n",
    "    print(\"Done!\")\n",
    "}"
   ]
  },
  {
   "cell_type": "code",
   "execution_count": 13,
   "metadata": {
    "vscode": {
     "languageId": "r"
    }
   },
   "outputs": [],
   "source": [
    "metadata$target_gt <- factor(metadata$target_gt, levels = c(\"NRXN1_WT\", \"NRXN1_HET\", \"NRXN1_HOMO\"))\n",
    "metadata$sex <- factor(metadata$sex, levels = c(\"Male\", \"Female\"))\n",
    "metadata$PRS <- factor(metadata$PRS, levels = c(\"LOW\", \"NEUTRAL\", \"HIGH\"))\n"
   ]
  },
  {
   "cell_type": "code",
   "execution_count": null,
   "metadata": {
    "vscode": {
     "languageId": "r"
    }
   },
   "outputs": [],
   "source": [
    "fit <- run_DGEA(counts,metadata)"
   ]
  },
  {
   "cell_type": "code",
   "execution_count": null,
   "metadata": {
    "vscode": {
     "languageId": "r"
    }
   },
   "outputs": [],
   "source": [
    "#dds <- DESeqDataSetFromMatrix(countData = counts, colData = metadata, design = ~ 0 + target_gt + sex)\n",
    "dds <- DESeqDataSetFromMatrix(countData = counts, colData = metadata, design = ~ 0 + target_gt)\n",
    "\n",
    "vsd <- vst(dds, blind=FALSE)\n",
    "pcaData <- plotPCA(vsd, intgroup = c(\"target_gt\"), returnData = TRUE) \n",
    "percentVar <- round(100 * attr(pcaData, \"percentVar\"))\n",
    "ggplot(pcaData, aes(PC1, PC2, color=target_gt)) +\n",
    "  geom_point(size=3) +\n",
    "  xlab(paste0(\"PC1: \", percentVar[1], \"% variance\")) +\n",
    "  ylab(paste0(\"PC2: \", percentVar[2], \"% variance\")) +\n",
    "  coord_fixed() +\n",
    "  theme(\n",
    "    panel.grid.major = element_blank(),  \n",
    "    panel.grid.minor = element_blank(), \n",
    "    panel.background = element_blank(),  \n",
    "    axis.line = element_line(color = \"black\")  \n",
    "  )\n",
    "\n",
    "#Run DE analysis\n",
    "dds <- DESeq(dds)\n",
    "resultsNames(dds) \n"
   ]
  },
  {
   "cell_type": "code",
   "execution_count": null,
   "metadata": {
    "vscode": {
     "languageId": "r"
    }
   },
   "outputs": [],
   "source": [
    "#Comparing KO vs WT\n",
    "res <- results(dds, contrast=c(\"target_gt\", \"LRP1_HOMO\", \"LRP1_WT\"))\n",
    "#res <- lfcShrink(dds, coef=\"target_gtNRXN1_HOMO\", type=\"apeglm\")\n",
    "\n",
    "# Summarize results\n",
    "summary(res)\n",
    "\n",
    "# MA-plot\n",
    "\n",
    "plotMA(res, ylim=c(-2,2))"
   ]
  },
  {
   "cell_type": "code",
   "execution_count": null,
   "metadata": {
    "vscode": {
     "languageId": "r"
    }
   },
   "outputs": [],
   "source": [
    "#Copmare genotypes in a dosage-like manner\n",
    "\n",
    "metadata$genotype_dosage <- as.numeric(factor(metadata$target_gt, levels=c(\"NRXN1_WT\", \"NRXN1_HET\", \"NRXN1_HOMO\"))) - 1\n",
    "\n",
    "dds <- DESeqDataSetFromMatrix(countData = counts, colData = metadata, design = ~ sex + genotype_dosage)\n",
    "\n",
    "dds <- DESeq(dds)\n",
    "\n",
    "res <- results(dds, name=\"genotype_dosage\")\n",
    "\n",
    "=summary(res)"
   ]
  },
  {
   "cell_type": "code",
   "execution_count": null,
   "metadata": {
    "vscode": {
     "languageId": "r"
    }
   },
   "outputs": [],
   "source": [
    "res_df <- as.data.frame(res)\n",
    "res_df <- res_df[!is.na(res_df$padj),]\n",
    "top_hits <- res_df[res_df$padj<0.05,]\n",
    "top_hits[order(top_hits$padj),]\n",
    "res_df[\"NRXN1\",]\n",
    "top_hits"
   ]
  },
  {
   "cell_type": "code",
   "execution_count": null,
   "metadata": {
    "vscode": {
     "languageId": "r"
    }
   },
   "outputs": [],
   "source": [
    "norm_counts <- counts(dds, normalized = TRUE)\n",
    "head(norm_counts)"
   ]
  },
  {
   "cell_type": "code",
   "execution_count": 70,
   "metadata": {
    "vscode": {
     "languageId": "r"
    }
   },
   "outputs": [],
   "source": [
    "norm_counts_df <- as.data.frame(norm_counts)\n",
    "norm_counts_df$gene <- row.names(norm_counts)\n",
    "norm_counts_df <- norm_counts_df %>% \n",
    "  select(gene, everything())"
   ]
  },
  {
   "cell_type": "code",
   "execution_count": null,
   "metadata": {
    "vscode": {
     "languageId": "r"
    }
   },
   "outputs": [],
   "source": [
    "res_full <- as.data.frame(res)\n",
    "res_full$gene <- rownames(res)\n",
    "\n",
    "# Convert norm_counts matrix to a DataFrame and add gene identifiers as a column\n",
    "norm_counts_df <- as.data.frame(norm_counts)\n",
    "norm_counts_df$gene <- rownames(norm_counts)\n",
    "\n",
    "# Merge the norm_counts_df and res DataFrames based on gene identifiers\n",
    "merged_df <- merge(res_full, norm_counts_df, by = \"gene\")\n",
    "rownames(merged_df) <- merged_df$gene\n",
    "\n",
    "\n",
    "# View the first few rows of the merged DataFrame and check its dimensions\n",
    "merged_df <- merged_df[order(merged_df$padj, decreasing = FALSE), ]\n",
    "#head(merged_df$gene, n=15)\n",
    "top_genes <- head(merged_df$gene, n=14)\n",
    "\n",
    "# Convert the gene names into a single character string, each enclosed in quotes and separated by commas\n",
    "gene_vector <- paste0('\"', top_genes, '\"', collapse = \", \")\n",
    "\n",
    "# Print the formatted vector\n",
    "gene_vector <- gsub(\"'\", \"\", gene_vector)\n",
    "\n",
    "gene_list <- strsplit(gene_vector, \", \")[[1]]\n",
    "gene_list <- trimws(gsub('\"', '', gene_list))\n",
    "gene_list <- c(\"NRXN\", gene_list)\n",
    "gene_list\n"
   ]
  },
  {
   "cell_type": "code",
   "execution_count": null,
   "metadata": {
    "vscode": {
     "languageId": "r"
    }
   },
   "outputs": [],
   "source": [
    "#distribution of LogFC values\n",
    "\n",
    "plot_log2fc <- function(labeled_results, padj_threshold){\n",
    "  filtered_results <- labeled_results %>% filter(padj < padj_threshold)\n",
    "  p <- ggplot(filtered_results, aes(x = log2FoldChange)) +\n",
    "    geom_histogram(binwidth = 0.1, fill = \"royalblue1\", color = 'black') +\n",
    "    labs(title = \"Histogram of Log2FoldChange for DE genes from DESeq2\",\n",
    "         x = \"Log2FoldChange Values\",\n",
    "         y = \"Count\")\n",
    "  print(p) \n",
    "}\n",
    "\n",
    "\n",
    "log2fc <- plot_log2fc(merged_df, 0.05)"
   ]
  },
  {
   "cell_type": "code",
   "execution_count": null,
   "metadata": {
    "vscode": {
     "languageId": "r"
    }
   },
   "outputs": [],
   "source": [
    "#distribution of p-values\n",
    "plot_pvals <- function(norm_counts) {\n",
    "  p <- ggplot(norm_counts, aes(x = pvalue)) +\n",
    "    geom_histogram(binwidth = 0.02, fill = \"olivedrab3\", color = 'black') +\n",
    "    labs(title = \"Histogram of Raw P-Values obtained from DE analysis\",\n",
    "         x = \"P-Value\",\n",
    "         y = \"Count\")\n",
    "  print (p)\n",
    "}\n",
    "\n",
    "pvals <- plot_pvals(merged_df)"
   ]
  },
  {
   "cell_type": "code",
   "execution_count": null,
   "metadata": {
    "vscode": {
     "languageId": "r"
    }
   },
   "outputs": [],
   "source": [
    "p1 <- EnhancedVolcano(merged_df,\n",
    "    lab = merged_df$gene,\n",
    "    selectLab = c('NRXN1'),\n",
    "    x = 'log2FoldChange',\n",
    "    y = 'padj',\n",
    "    pCutoff = 0.05,\n",
    "    FCcutoff = 1.0,\n",
    "    col=c('black', 'black', 'RED3', 'red3'),\n",
    "    #cutoffLineType = 'blank', \n",
    "    cutoffLineCol = 'grey',\n",
    "    labSize = 4.0,\n",
    "    labCol = 'black',\n",
    "    labFace = 'bold',\n",
    "    boxedLabels = TRUE,\n",
    "    #boxedLabels = FALSE,\n",
    "    pointSize = 1,\n",
    "    colAlpha = 1,  \n",
    "    legendPosition = 'right',\n",
    "    legendLabSize = 14,\n",
    "    legendIconSize = 4.0,\n",
    "    drawConnectors = TRUE,\n",
    "    widthConnectors = 1.0,\n",
    "    colConnectors = 'grey',\n",
    "    maxoverlapsConnectors = Inf,\n",
    "    gridlines.major = FALSE,  \n",
    "    gridlines.minor = FALSE\n",
    "    #xlim = c(-6,6)\n",
    "    #ylim = c(0,17) \n",
    ")\n",
    "\n",
    "plot(p1)"
   ]
  },
  {
   "cell_type": "code",
   "execution_count": null,
   "metadata": {
    "vscode": {
     "languageId": "r"
    }
   },
   "outputs": [],
   "source": [
    "nrxn1_counts <- as.numeric(norm_counts[\"NRXN1\", ])  \n",
    "plot_df <- data.frame(sample = colnames(norm_counts), NRXN1 = nrxn1_counts)\n",
    "\n",
    "plot_df <- plot_df %>%\n",
    "  mutate(donor = metadata[match(sample, metadata$sample), \"donor\"],\n",
    "         genotype = metadata[match(sample, metadata$sample), \"genotype\"])\n",
    "\n",
    "\n",
    "plot_df$genotype <- factor(plot_df$genotype, levels = c(\"WT\", \"HET\", \"HOMO\"))\n",
    "\n",
    "# Plot NRXN1 expression with color coding by genotype\n",
    "ggplot(plot_df, aes(x = genotype, y = NRXN1, color = genotype)) +\n",
    "  geom_boxplot(alpha = 0.6) +  \n",
    "  geom_point(size = 2, stroke = 0.5, color = \"black\") +  \n",
    "  theme_minimal() +\n",
    "  labs(title = \"NRXN1 Expression by Genotype\",\n",
    "       x = \"Genotype\",\n",
    "       y = \"NRXN1 Counts\") +\n",
    "  theme(legend.position = \"right\", \n",
    "        axis.text.x = element_text(angle = 45, hjust = 1))  "
   ]
  },
  {
   "cell_type": "code",
   "execution_count": null,
   "metadata": {
    "vscode": {
     "languageId": "r"
    }
   },
   "outputs": [],
   "source": [
    "#NRXN1 expression per genotype and donor\n",
    "\n",
    "plot_df <- data.frame(sample = colnames(norm_counts), NRXN1 = nrxn1_counts)\n",
    "\n",
    "common_samples <- intersect(plot_df$sample, metadata$sample)\n",
    "\n",
    "plot_df <- plot_df %>%\n",
    "  filter(sample %in% common_samples) %>%\n",
    "  mutate(donor = metadata[match(sample, metadata$sample), \"donor\"],\n",
    "         genotype = metadata[match(sample, metadata$sample), \"genotype\"],\n",
    "         PRS = metadata[match(sample, metadata$sample), \"PRS\"])\n"
   ]
  },
  {
   "cell_type": "code",
   "execution_count": 319,
   "metadata": {
    "vscode": {
     "languageId": "r"
    }
   },
   "outputs": [
    {
     "data": {
      "image/png": "[encoded data removed]",
      "text/plain": [
       "plot without title"
      ]
     },
     "metadata": {
      "image/png": {
       "height": 420,
       "width": 420
      }
     },
     "output_type": "display_data"
    }
   ],
   "source": [
    "library(ggbeeswarm) \n",
    "summary_df <- plot_df %>%\n",
    "  group_by(donor, genotype)# %>%\n",
    "  #summarise(NRXN1_avg = mean(NRXN1, na.rm = TRUE), .groups = 'drop')\n",
    "\n",
    "\n",
    "genotypes <- c(\"WT\", \"HET\", \"HOMO\")  \n",
    "all_combinations <- expand.grid(donor = unique(plot_df$donor), genotype = genotypes)\n",
    "\n",
    "complete_df <- left_join(all_combinations, summary_df, by = c(\"donor\", \"genotype\"))\n",
    "\n",
    "complete_df <- complete_df %>%\n",
    "  replace_na(list(NRXN1 = 0)) %>%\n",
    "  mutate(genotype = factor(genotype, levels = genotypes))\n",
    "\n",
    "genotype_colors <- c(WT = \"blue\", HET = \"purple\", HOMO = \"red\")\n",
    "\n",
    "avg_df <- complete_df %>%\n",
    "  group_by(donor, genotype) %>%\n",
    "  summarise(\n",
    "    NRXN1_avg = mean(NRXN1, na.rm = TRUE),\n",
    "    NRXN1_sem = sd(NRXN1, na.rm = TRUE) / sqrt(n()),  \n",
    "    .groups = 'drop'\n",
    "  )\n",
    "\n",
    "# plotting NRXN1 expression per genotype and donor\n",
    "g_avg_bar <- ggplot(avg_df, aes(x = donor, y = NRXN1_avg, fill = genotype)) +\n",
    "  geom_bar(stat = \"identity\", position = position_dodge(width = 0.7), width = 0.6) +\n",
    "  geom_errorbar(aes(ymin = NRXN1_avg - NRXN1_sem, ymax = NRXN1_avg + NRXN1_sem), \n",
    "                position = position_dodge(width = 0.7), width = 0.25) +\n",
    "  scale_fill_manual(values = genotype_colors) +\n",
    "  theme_minimal() +\n",
    "  labs(title = \"Average NRXN1 Expression by Donor and Genotype\",\n",
    "       x = \"Donor\",\n",
    "       y = \"Average NRXN1 Expression\") +\n",
    "  theme(axis.text.x = element_text(angle = 90, hjust = 1, vjust = 0.5))\n",
    "\n",
    "g_avg_bar\n"
   ]
  },
  {
   "cell_type": "code",
   "execution_count": 321,
   "metadata": {
    "vscode": {
     "languageId": "r"
    }
   },
   "outputs": [],
   "source": [
    "full_plot_df <- merge(unique_donors_df, plot_df, by = \"donor\", all.x = TRUE)\n",
    "\n",
    "# Create a new column combining donor and PRS levels\n",
    "full_plot_df$donor_prs <- paste(full_plot_df$donor, \"(\", full_plot_df$PRS, \")\", sep = \"\")\n"
   ]
  },
  {
   "cell_type": "code",
   "execution_count": 1,
   "metadata": {
    "vscode": {
     "languageId": "r"
    }
   },
   "outputs": [
    {
     "data": {
      "text/html": [
       "<table class=\"dataframe\">\n",
       "<caption>A data.frame: 6 x 121</caption>\n",
       "<thead>\n",
       "\t<tr><th></th><th scope=col>gene</th><th scope=col>baseMean</th><th scope=col>log2FoldChange</th><th scope=col>lfcSE</th><th scope=col>stat</th><th scope=col>pvalue</th><th scope=col>padj</th><th scope=col>CW20012_NRXN1_Het_a</th><th scope=col>CW50037_NRXN1_Homo_b</th><th scope=col>CW50037_NRXN1_Homo_c</th><th scope=col>...</th><th scope=col>CW20103_NRXN1_Homo_c</th><th scope=col>CW20103_NRXN1_Homo_d</th><th scope=col>ML9096344_NRXN1_WT_b</th><th scope=col>ML9096344_NRXN1_WT_c</th><th scope=col>ML9096344_NRXN1_WT_d</th><th scope=col>ML9119779_NRXN1_Homo_a</th><th scope=col>ML9119779_NRXN1_Homo_b</th><th scope=col>ML9119779_NRXN1_Homo_c</th><th scope=col>ML9119779_NRXN1_Homo_d</th><th scope=col>CW20103_NRXN1_Homo_a</th></tr>\n",
       "\t<tr><th></th><th scope=col>&lt;chr&gt;</th><th scope=col>&lt;dbl&gt;</th><th scope=col>&lt;dbl&gt;</th><th scope=col>&lt;dbl&gt;</th><th scope=col>&lt;dbl&gt;</th><th scope=col>&lt;dbl&gt;</th><th scope=col>&lt;dbl&gt;</th><th scope=col>&lt;dbl&gt;</th><th scope=col>&lt;dbl&gt;</th><th scope=col>&lt;dbl&gt;</th><th scope=col>...</th><th scope=col>&lt;dbl&gt;</th><th scope=col>&lt;dbl&gt;</th><th scope=col>&lt;dbl&gt;</th><th scope=col>&lt;dbl&gt;</th><th scope=col>&lt;dbl&gt;</th><th scope=col>&lt;dbl&gt;</th><th scope=col>&lt;dbl&gt;</th><th scope=col>&lt;dbl&gt;</th><th scope=col>&lt;dbl&gt;</th><th scope=col>&lt;dbl&gt;</th></tr>\n",
       "</thead>\n",
       "<tbody>\n",
       "\t<tr><th scope=row>1</th><td>NRXN1 </td><td>111.000773</td><td>-0.7392916</td><td>0.04906642</td><td>-15.067159</td><td>2.663222e-51</td><td>4.860113e-47</td><td>93.139782</td><td>53.306678</td><td>72.546110</td><td>...</td><td>95.863246</td><td>122.25789</td><td>234.144616</td><td> 95.856617</td><td>191.229331</td><td>62.791584</td><td>87.603172</td><td>90.900703</td><td>54.633376</td><td>88.674205</td></tr>\n",
       "\t<tr><th scope=row>2</th><td>CALD1 </td><td> 52.152135</td><td> 0.6478427</td><td>0.11399529</td><td>  5.683066</td><td>1.323016e-08</td><td>1.207185e-04</td><td>29.788843</td><td>23.099560</td><td>27.902350</td><td>...</td><td>29.011245</td><td> 35.88003</td><td> 18.011124</td><td> 87.673735</td><td> 28.046969</td><td>46.170283</td><td>34.279502</td><td>19.478722</td><td>29.417971</td><td>33.252827</td></tr>\n",
       "\t<tr><th scope=row>3</th><td>COL1A1</td><td> 63.893654</td><td> 1.6616632</td><td>0.30316462</td><td>  5.481059</td><td>4.227872e-08</td><td>2.571815e-04</td><td> 8.142284</td><td> 1.776889</td><td> 1.116094</td><td>...</td><td>16.397660</td><td> 71.76007</td><td>  0.000000</td><td> 15.196781</td><td>  2.549724</td><td>14.774490</td><td> 2.539222</td><td> 0.000000</td><td> 5.253209</td><td>20.936965</td></tr>\n",
       "\t<tr><th scope=row>4</th><td>SPX   </td><td>  4.685142</td><td> 1.3775105</td><td>0.25844526</td><td>  5.329990</td><td>9.821838e-08</td><td>4.480968e-04</td><td> 1.985923</td><td> 7.996002</td><td> 1.116094</td><td>...</td><td> 1.261358</td><td>  0.00000</td><td>  0.000000</td><td>  1.168983</td><td>  2.549724</td><td> 1.846811</td><td> 1.269611</td><td> 0.000000</td><td> 0.000000</td><td> 0.000000</td></tr>\n",
       "\t<tr><th scope=row>5</th><td>TAGLN </td><td> 46.106776</td><td> 1.2833349</td><td>0.24694309</td><td>  5.196885</td><td>2.026553e-07</td><td>7.396513e-04</td><td> 3.376069</td><td> 2.665334</td><td> 4.464376</td><td>...</td><td>11.352226</td><td> 22.59113</td><td>  6.003708</td><td>264.190188</td><td>  2.549724</td><td>11.080868</td><td> 1.269611</td><td> 6.492907</td><td> 3.151926</td><td> 7.389517</td></tr>\n",
       "\t<tr><th scope=row>6</th><td>PLAU  </td><td>  5.428574</td><td> 1.1722165</td><td>0.22729993</td><td>  5.157135</td><td>2.507568e-07</td><td>7.626769e-04</td><td> 2.383107</td><td> 4.442223</td><td> 4.464376</td><td>...</td><td> 2.522717</td><td>  0.00000</td><td>  1.500927</td><td>  2.337966</td><td>  0.000000</td><td> 0.000000</td><td> 0.000000</td><td> 0.000000</td><td> 2.101284</td><td> 0.000000</td></tr>\n",
       "</tbody>\n",
       "</table>\n"
      ],
      "text/latex": [
       "A data.frame: 6 x 121\n",
       "\\begin{tabular}{r|lllllllllllllllllllll}\n",
       "  & gene & baseMean & log2FoldChange & lfcSE & stat & pvalue & padj & CW20012\\_NRXN1\\_Het\\_a & CW50037\\_NRXN1\\_Homo\\_b & CW50037\\_NRXN1\\_Homo\\_c & ... & CW20103\\_NRXN1\\_Homo\\_c & CW20103\\_NRXN1\\_Homo\\_d & ML9096344\\_NRXN1\\_WT\\_b & ML9096344\\_NRXN1\\_WT\\_c & ML9096344\\_NRXN1\\_WT\\_d & ML9119779\\_NRXN1\\_Homo\\_a & ML9119779\\_NRXN1\\_Homo\\_b & ML9119779\\_NRXN1\\_Homo\\_c & ML9119779\\_NRXN1\\_Homo\\_d & CW20103\\_NRXN1\\_Homo\\_a\\\\\n",
       "  & <chr> & <dbl> & <dbl> & <dbl> & <dbl> & <dbl> & <dbl> & <dbl> & <dbl> & <dbl> & ... & <dbl> & <dbl> & <dbl> & <dbl> & <dbl> & <dbl> & <dbl> & <dbl> & <dbl> & <dbl>\\\\\n",
       "\\hline\n",
       "\t1 & NRXN1  & 111.000773 & -0.7392916 & 0.04906642 & -15.067159 & 2.663222e-51 & 4.860113e-47 & 93.139782 & 53.306678 & 72.546110 & ... & 95.863246 & 122.25789 & 234.144616 &  95.856617 & 191.229331 & 62.791584 & 87.603172 & 90.900703 & 54.633376 & 88.674205\\\\\n",
       "\t2 & CALD1  &  52.152135 &  0.6478427 & 0.11399529 &   5.683066 & 1.323016e-08 & 1.207185e-04 & 29.788843 & 23.099560 & 27.902350 & ... & 29.011245 &  35.88003 &  18.011124 &  87.673735 &  28.046969 & 46.170283 & 34.279502 & 19.478722 & 29.417971 & 33.252827\\\\\n",
       "\t3 & COL1A1 &  63.893654 &  1.6616632 & 0.30316462 &   5.481059 & 4.227872e-08 & 2.571815e-04 &  8.142284 &  1.776889 &  1.116094 & ... & 16.397660 &  71.76007 &   0.000000 &  15.196781 &   2.549724 & 14.774490 &  2.539222 &  0.000000 &  5.253209 & 20.936965\\\\\n",
       "\t4 & SPX    &   4.685142 &  1.3775105 & 0.25844526 &   5.329990 & 9.821838e-08 & 4.480968e-04 &  1.985923 &  7.996002 &  1.116094 & ... &  1.261358 &   0.00000 &   0.000000 &   1.168983 &   2.549724 &  1.846811 &  1.269611 &  0.000000 &  0.000000 &  0.000000\\\\\n",
       "\t5 & TAGLN  &  46.106776 &  1.2833349 & 0.24694309 &   5.196885 & 2.026553e-07 & 7.396513e-04 &  3.376069 &  2.665334 &  4.464376 & ... & 11.352226 &  22.59113 &   6.003708 & 264.190188 &   2.549724 & 11.080868 &  1.269611 &  6.492907 &  3.151926 &  7.389517\\\\\n",
       "\t6 & PLAU   &   5.428574 &  1.1722165 & 0.22729993 &   5.157135 & 2.507568e-07 & 7.626769e-04 &  2.383107 &  4.442223 &  4.464376 & ... &  2.522717 &   0.00000 &   1.500927 &   2.337966 &   0.000000 &  0.000000 &  0.000000 &  0.000000 &  2.101284 &  0.000000\\\\\n",
       "\\end{tabular}\n"
      ],
      "text/markdown": [
       "\n",
       "A data.frame: 6 x 121\n",
       "\n",
       "| <!--/--> | gene &lt;chr&gt; | baseMean &lt;dbl&gt; | log2FoldChange &lt;dbl&gt; | lfcSE &lt;dbl&gt; | stat &lt;dbl&gt; | pvalue &lt;dbl&gt; | padj &lt;dbl&gt; | CW20012_NRXN1_Het_a &lt;dbl&gt; | CW50037_NRXN1_Homo_b &lt;dbl&gt; | CW50037_NRXN1_Homo_c &lt;dbl&gt; | ... ... | CW20103_NRXN1_Homo_c &lt;dbl&gt; | CW20103_NRXN1_Homo_d &lt;dbl&gt; | ML9096344_NRXN1_WT_b &lt;dbl&gt; | ML9096344_NRXN1_WT_c &lt;dbl&gt; | ML9096344_NRXN1_WT_d &lt;dbl&gt; | ML9119779_NRXN1_Homo_a &lt;dbl&gt; | ML9119779_NRXN1_Homo_b &lt;dbl&gt; | ML9119779_NRXN1_Homo_c &lt;dbl&gt; | ML9119779_NRXN1_Homo_d &lt;dbl&gt; | CW20103_NRXN1_Homo_a &lt;dbl&gt; |\n",
       "|---|---|---|---|---|---|---|---|---|---|---|---|---|---|---|---|---|---|---|---|---|---|\n",
       "| 1 | NRXN1  | 111.000773 | -0.7392916 | 0.04906642 | -15.067159 | 2.663222e-51 | 4.860113e-47 | 93.139782 | 53.306678 | 72.546110 | ... | 95.863246 | 122.25789 | 234.144616 |  95.856617 | 191.229331 | 62.791584 | 87.603172 | 90.900703 | 54.633376 | 88.674205 |\n",
       "| 2 | CALD1  |  52.152135 |  0.6478427 | 0.11399529 |   5.683066 | 1.323016e-08 | 1.207185e-04 | 29.788843 | 23.099560 | 27.902350 | ... | 29.011245 |  35.88003 |  18.011124 |  87.673735 |  28.046969 | 46.170283 | 34.279502 | 19.478722 | 29.417971 | 33.252827 |\n",
       "| 3 | COL1A1 |  63.893654 |  1.6616632 | 0.30316462 |   5.481059 | 4.227872e-08 | 2.571815e-04 |  8.142284 |  1.776889 |  1.116094 | ... | 16.397660 |  71.76007 |   0.000000 |  15.196781 |   2.549724 | 14.774490 |  2.539222 |  0.000000 |  5.253209 | 20.936965 |\n",
       "| 4 | SPX    |   4.685142 |  1.3775105 | 0.25844526 |   5.329990 | 9.821838e-08 | 4.480968e-04 |  1.985923 |  7.996002 |  1.116094 | ... |  1.261358 |   0.00000 |   0.000000 |   1.168983 |   2.549724 |  1.846811 |  1.269611 |  0.000000 |  0.000000 |  0.000000 |\n",
       "| 5 | TAGLN  |  46.106776 |  1.2833349 | 0.24694309 |   5.196885 | 2.026553e-07 | 7.396513e-04 |  3.376069 |  2.665334 |  4.464376 | ... | 11.352226 |  22.59113 |   6.003708 | 264.190188 |   2.549724 | 11.080868 |  1.269611 |  6.492907 |  3.151926 |  7.389517 |\n",
       "| 6 | PLAU   |   5.428574 |  1.1722165 | 0.22729993 |   5.157135 | 2.507568e-07 | 7.626769e-04 |  2.383107 |  4.442223 |  4.464376 | ... |  2.522717 |   0.00000 |   1.500927 |   2.337966 |   0.000000 |  0.000000 |  0.000000 |  0.000000 |  2.101284 |  0.000000 |\n",
       "\n"
      ],
      "text/plain": [
       "  gene   baseMean   log2FoldChange lfcSE      stat       pvalue      \n",
       "1 NRXN1  111.000773 -0.7392916     0.04906642 -15.067159 2.663222e-51\n",
       "2 CALD1   52.152135  0.6478427     0.11399529   5.683066 1.323016e-08\n",
       "3 COL1A1  63.893654  1.6616632     0.30316462   5.481059 4.227872e-08\n",
       "4 SPX      4.685142  1.3775105     0.25844526   5.329990 9.821838e-08\n",
       "5 TAGLN   46.106776  1.2833349     0.24694309   5.196885 2.026553e-07\n",
       "6 PLAU     5.428574  1.1722165     0.22729993   5.157135 2.507568e-07\n",
       "  padj         CW20012_NRXN1_Het_a CW50037_NRXN1_Homo_b CW50037_NRXN1_Homo_c\n",
       "1 4.860113e-47 93.139782           53.306678            72.546110           \n",
       "2 1.207185e-04 29.788843           23.099560            27.902350           \n",
       "3 2.571815e-04  8.142284            1.776889             1.116094           \n",
       "4 4.480968e-04  1.985923            7.996002             1.116094           \n",
       "5 7.396513e-04  3.376069            2.665334             4.464376           \n",
       "6 7.626769e-04  2.383107            4.442223             4.464376           \n",
       "  ... CW20103_NRXN1_Homo_c CW20103_NRXN1_Homo_d ML9096344_NRXN1_WT_b\n",
       "1 ... 95.863246            122.25789            234.144616          \n",
       "2 ... 29.011245             35.88003             18.011124          \n",
       "3 ... 16.397660             71.76007              0.000000          \n",
       "4 ...  1.261358              0.00000              0.000000          \n",
       "5 ... 11.352226             22.59113              6.003708          \n",
       "6 ...  2.522717              0.00000              1.500927          \n",
       "  ML9096344_NRXN1_WT_c ML9096344_NRXN1_WT_d ML9119779_NRXN1_Homo_a\n",
       "1  95.856617           191.229331           62.791584             \n",
       "2  87.673735            28.046969           46.170283             \n",
       "3  15.196781             2.549724           14.774490             \n",
       "4   1.168983             2.549724            1.846811             \n",
       "5 264.190188             2.549724           11.080868             \n",
       "6   2.337966             0.000000            0.000000             \n",
       "  ML9119779_NRXN1_Homo_b ML9119779_NRXN1_Homo_c ML9119779_NRXN1_Homo_d\n",
       "1 87.603172              90.900703              54.633376             \n",
       "2 34.279502              19.478722              29.417971             \n",
       "3  2.539222               0.000000               5.253209             \n",
       "4  1.269611               0.000000               0.000000             \n",
       "5  1.269611               6.492907               3.151926             \n",
       "6  0.000000               0.000000               2.101284             \n",
       "  CW20103_NRXN1_Homo_a\n",
       "1 88.674205           \n",
       "2 33.252827           \n",
       "3 20.936965           \n",
       "4  0.000000           \n",
       "5  7.389517           \n",
       "6  0.000000           "
      ]
     },
     "metadata": {},
     "output_type": "display_data"
    }
   ],
   "source": [
    "merged_df <- read.csv(\"/stanley/nehme_lab/sbolshak/analysis/village_editing/NRXN1/all_samples/all_samples_nrxn_dosage_merged_counts_no_sex_genes.csv\")\n",
    "head(merged_df)"
   ]
  },
  {
   "cell_type": "code",
   "execution_count": 80,
   "metadata": {
    "vscode": {
     "languageId": "r"
    }
   },
   "outputs": [
    {
     "data": {
      "text/html": [
       "<table class=\"dataframe\">\n",
       "<caption>A data.frame: 6 x 65</caption>\n",
       "<thead>\n",
       "\t<tr><th></th><th scope=col>gene</th><th scope=col>baseMean</th><th scope=col>log2FoldChange</th><th scope=col>lfcSE</th><th scope=col>stat</th><th scope=col>pvalue</th><th scope=col>padj</th><th scope=col>ML8984425_LRP1_WT_a</th><th scope=col>ML8984425_LRP1_WT_b</th><th scope=col>ML8984425_LRP1_WT_c</th><th scope=col>...</th><th scope=col>CW50037_LRP1_Homo_e</th><th scope=col>CW50037_LRP1_Homo_f</th><th scope=col>CW50037_LRP1_Het_a</th><th scope=col>CW20102_LRP1_Het_a</th><th scope=col>CW20102_LRP1_Het_b</th><th scope=col>CW20102_LRP1_Het_c</th><th scope=col>CW50037_LRP1_WT_b</th><th scope=col>CW50037_LRP1_WT_c</th><th scope=col>CW50037_LRP1_WT_d</th><th scope=col>CW50037_LRP1_WT_a</th></tr>\n",
       "\t<tr><th></th><th scope=col>&lt;chr&gt;</th><th scope=col>&lt;dbl&gt;</th><th scope=col>&lt;dbl&gt;</th><th scope=col>&lt;dbl&gt;</th><th scope=col>&lt;dbl&gt;</th><th scope=col>&lt;dbl&gt;</th><th scope=col>&lt;dbl&gt;</th><th scope=col>&lt;dbl&gt;</th><th scope=col>&lt;dbl&gt;</th><th scope=col>&lt;dbl&gt;</th><th scope=col>...</th><th scope=col>&lt;dbl&gt;</th><th scope=col>&lt;dbl&gt;</th><th scope=col>&lt;dbl&gt;</th><th scope=col>&lt;dbl&gt;</th><th scope=col>&lt;dbl&gt;</th><th scope=col>&lt;dbl&gt;</th><th scope=col>&lt;dbl&gt;</th><th scope=col>&lt;dbl&gt;</th><th scope=col>&lt;dbl&gt;</th><th scope=col>&lt;dbl&gt;</th></tr>\n",
       "</thead>\n",
       "<tbody>\n",
       "\t<tr><th scope=row>Ogn</th><td>OGN  </td><td>15.575193</td><td>-2.448080</td><td>0.4920952</td><td>-4.974809</td><td>6.531205e-07</td><td>0.009651161</td><td>110.44252</td><td>130</td><td> 57.6980747</td><td>...</td><td>1.048964</td><td>1.024190</td><td>11</td><td>3</td><td>14</td><td> 6</td><td> 8.593539</td><td>23.276518</td><td>14</td><td>13.314464</td></tr>\n",
       "\t<tr><th scope=row>Cxcl5</th><td>CXCL5</td><td>13.534048</td><td>-3.103512</td><td>0.6576375</td><td>-4.719184</td><td>2.367927e-06</td><td>0.017495428</td><td>154.87101</td><td>118</td><td>167.7682480</td><td>...</td><td>1.048964</td><td>4.096758</td><td> 5</td><td>7</td><td> 7</td><td> 8</td><td> 2.148385</td><td> 7.084158</td><td> 2</td><td> 2.048379</td></tr>\n",
       "\t<tr><th scope=row>Prelp</th><td>PRELP</td><td>25.232567</td><td>-2.337125</td><td>0.5141056</td><td>-4.546001</td><td>5.467469e-06</td><td>0.026930929</td><td>208.93965</td><td>155</td><td>169.5435734</td><td>...</td><td>6.293786</td><td>3.072569</td><td> 9</td><td>6</td><td>42</td><td>12</td><td>15.038694</td><td>40.480900</td><td>41</td><td>24.580549</td></tr>\n",
       "\t<tr><th scope=row>Crygs</th><td>CRYGS</td><td> 3.543549</td><td>-2.458516</td><td>0.5661056</td><td>-4.342858</td><td>1.406412e-05</td><td>0.034637586</td><td> 23.05252</td><td> 26</td><td> 21.3039045</td><td>...</td><td>1.048964</td><td>1.024190</td><td> 1</td><td>1</td><td> 1</td><td> 1</td><td> 1.074192</td><td> 4.048090</td><td> 4</td><td> 2.048379</td></tr>\n",
       "\t<tr><th scope=row>Pakap</th><td>PAKAP</td><td> 9.683987</td><td>-2.744098</td><td>0.6310203</td><td>-4.348669</td><td>1.369665e-05</td><td>0.034637586</td><td> 56.16432</td><td> 34</td><td>  0.8876627</td><td>...</td><td>1.048964</td><td>1.024190</td><td>74</td><td>1</td><td>28</td><td>65</td><td>17.187078</td><td>10.120225</td><td>43</td><td>14.338654</td></tr>\n",
       "\t<tr><th scope=row>Wfdc2</th><td>WFDC2</td><td> 3.985960</td><td>-2.346025</td><td>0.5296863</td><td>-4.429084</td><td>9.463428e-06</td><td>0.034637586</td><td> 50.71554</td><td> 13</td><td> 27.5175433</td><td>...</td><td>1.048964</td><td>1.024190</td><td> 1</td><td>1</td><td> 1</td><td> 1</td><td> 1.074192</td><td> 9.108203</td><td>14</td><td> 2.048379</td></tr>\n",
       "</tbody>\n",
       "</table>\n"
      ],
      "text/latex": [
       "A data.frame: 6 x 65\n",
       "\\begin{tabular}{r|lllllllllllllllllllll}\n",
       "  & gene & baseMean & log2FoldChange & lfcSE & stat & pvalue & padj & ML8984425\\_LRP1\\_WT\\_a & ML8984425\\_LRP1\\_WT\\_b & ML8984425\\_LRP1\\_WT\\_c & ... & CW50037\\_LRP1\\_Homo\\_e & CW50037\\_LRP1\\_Homo\\_f & CW50037\\_LRP1\\_Het\\_a & CW20102\\_LRP1\\_Het\\_a & CW20102\\_LRP1\\_Het\\_b & CW20102\\_LRP1\\_Het\\_c & CW50037\\_LRP1\\_WT\\_b & CW50037\\_LRP1\\_WT\\_c & CW50037\\_LRP1\\_WT\\_d & CW50037\\_LRP1\\_WT\\_a\\\\\n",
       "  & <chr> & <dbl> & <dbl> & <dbl> & <dbl> & <dbl> & <dbl> & <dbl> & <dbl> & <dbl> & ... & <dbl> & <dbl> & <dbl> & <dbl> & <dbl> & <dbl> & <dbl> & <dbl> & <dbl> & <dbl>\\\\\n",
       "\\hline\n",
       "\tOgn & OGN   & 15.575193 & -2.448080 & 0.4920952 & -4.974809 & 6.531205e-07 & 0.009651161 & 110.44252 & 130 &  57.6980747 & ... & 1.048964 & 1.024190 & 11 & 3 & 14 &  6 &  8.593539 & 23.276518 & 14 & 13.314464\\\\\n",
       "\tCxcl5 & CXCL5 & 13.534048 & -3.103512 & 0.6576375 & -4.719184 & 2.367927e-06 & 0.017495428 & 154.87101 & 118 & 167.7682480 & ... & 1.048964 & 4.096758 &  5 & 7 &  7 &  8 &  2.148385 &  7.084158 &  2 &  2.048379\\\\\n",
       "\tPrelp & PRELP & 25.232567 & -2.337125 & 0.5141056 & -4.546001 & 5.467469e-06 & 0.026930929 & 208.93965 & 155 & 169.5435734 & ... & 6.293786 & 3.072569 &  9 & 6 & 42 & 12 & 15.038694 & 40.480900 & 41 & 24.580549\\\\\n",
       "\tCrygs & CRYGS &  3.543549 & -2.458516 & 0.5661056 & -4.342858 & 1.406412e-05 & 0.034637586 &  23.05252 &  26 &  21.3039045 & ... & 1.048964 & 1.024190 &  1 & 1 &  1 &  1 &  1.074192 &  4.048090 &  4 &  2.048379\\\\\n",
       "\tPakap & PAKAP &  9.683987 & -2.744098 & 0.6310203 & -4.348669 & 1.369665e-05 & 0.034637586 &  56.16432 &  34 &   0.8876627 & ... & 1.048964 & 1.024190 & 74 & 1 & 28 & 65 & 17.187078 & 10.120225 & 43 & 14.338654\\\\\n",
       "\tWfdc2 & WFDC2 &  3.985960 & -2.346025 & 0.5296863 & -4.429084 & 9.463428e-06 & 0.034637586 &  50.71554 &  13 &  27.5175433 & ... & 1.048964 & 1.024190 &  1 & 1 &  1 &  1 &  1.074192 &  9.108203 & 14 &  2.048379\\\\\n",
       "\\end{tabular}\n"
      ],
      "text/markdown": [
       "\n",
       "A data.frame: 6 x 65\n",
       "\n",
       "| <!--/--> | gene &lt;chr&gt; | baseMean &lt;dbl&gt; | log2FoldChange &lt;dbl&gt; | lfcSE &lt;dbl&gt; | stat &lt;dbl&gt; | pvalue &lt;dbl&gt; | padj &lt;dbl&gt; | ML8984425_LRP1_WT_a &lt;dbl&gt; | ML8984425_LRP1_WT_b &lt;dbl&gt; | ML8984425_LRP1_WT_c &lt;dbl&gt; | ... ... | CW50037_LRP1_Homo_e &lt;dbl&gt; | CW50037_LRP1_Homo_f &lt;dbl&gt; | CW50037_LRP1_Het_a &lt;dbl&gt; | CW20102_LRP1_Het_a &lt;dbl&gt; | CW20102_LRP1_Het_b &lt;dbl&gt; | CW20102_LRP1_Het_c &lt;dbl&gt; | CW50037_LRP1_WT_b &lt;dbl&gt; | CW50037_LRP1_WT_c &lt;dbl&gt; | CW50037_LRP1_WT_d &lt;dbl&gt; | CW50037_LRP1_WT_a &lt;dbl&gt; |\n",
       "|---|---|---|---|---|---|---|---|---|---|---|---|---|---|---|---|---|---|---|---|---|---|\n",
       "| Ogn | OGN   | 15.575193 | -2.448080 | 0.4920952 | -4.974809 | 6.531205e-07 | 0.009651161 | 110.44252 | 130 |  57.6980747 | ... | 1.048964 | 1.024190 | 11 | 3 | 14 |  6 |  8.593539 | 23.276518 | 14 | 13.314464 |\n",
       "| Cxcl5 | CXCL5 | 13.534048 | -3.103512 | 0.6576375 | -4.719184 | 2.367927e-06 | 0.017495428 | 154.87101 | 118 | 167.7682480 | ... | 1.048964 | 4.096758 |  5 | 7 |  7 |  8 |  2.148385 |  7.084158 |  2 |  2.048379 |\n",
       "| Prelp | PRELP | 25.232567 | -2.337125 | 0.5141056 | -4.546001 | 5.467469e-06 | 0.026930929 | 208.93965 | 155 | 169.5435734 | ... | 6.293786 | 3.072569 |  9 | 6 | 42 | 12 | 15.038694 | 40.480900 | 41 | 24.580549 |\n",
       "| Crygs | CRYGS |  3.543549 | -2.458516 | 0.5661056 | -4.342858 | 1.406412e-05 | 0.034637586 |  23.05252 |  26 |  21.3039045 | ... | 1.048964 | 1.024190 |  1 | 1 |  1 |  1 |  1.074192 |  4.048090 |  4 |  2.048379 |\n",
       "| Pakap | PAKAP |  9.683987 | -2.744098 | 0.6310203 | -4.348669 | 1.369665e-05 | 0.034637586 |  56.16432 |  34 |   0.8876627 | ... | 1.048964 | 1.024190 | 74 | 1 | 28 | 65 | 17.187078 | 10.120225 | 43 | 14.338654 |\n",
       "| Wfdc2 | WFDC2 |  3.985960 | -2.346025 | 0.5296863 | -4.429084 | 9.463428e-06 | 0.034637586 |  50.71554 |  13 |  27.5175433 | ... | 1.048964 | 1.024190 |  1 | 1 |  1 |  1 |  1.074192 |  9.108203 | 14 |  2.048379 |\n",
       "\n"
      ],
      "text/plain": [
       "      gene  baseMean  log2FoldChange lfcSE     stat      pvalue      \n",
       "Ogn   OGN   15.575193 -2.448080      0.4920952 -4.974809 6.531205e-07\n",
       "Cxcl5 CXCL5 13.534048 -3.103512      0.6576375 -4.719184 2.367927e-06\n",
       "Prelp PRELP 25.232567 -2.337125      0.5141056 -4.546001 5.467469e-06\n",
       "Crygs CRYGS  3.543549 -2.458516      0.5661056 -4.342858 1.406412e-05\n",
       "Pakap PAKAP  9.683987 -2.744098      0.6310203 -4.348669 1.369665e-05\n",
       "Wfdc2 WFDC2  3.985960 -2.346025      0.5296863 -4.429084 9.463428e-06\n",
       "      padj        ML8984425_LRP1_WT_a ML8984425_LRP1_WT_b ML8984425_LRP1_WT_c\n",
       "Ogn   0.009651161 110.44252           130                  57.6980747        \n",
       "Cxcl5 0.017495428 154.87101           118                 167.7682480        \n",
       "Prelp 0.026930929 208.93965           155                 169.5435734        \n",
       "Crygs 0.034637586  23.05252            26                  21.3039045        \n",
       "Pakap 0.034637586  56.16432            34                   0.8876627        \n",
       "Wfdc2 0.034637586  50.71554            13                  27.5175433        \n",
       "      ... CW50037_LRP1_Homo_e CW50037_LRP1_Homo_f CW50037_LRP1_Het_a\n",
       "Ogn   ... 1.048964            1.024190            11                \n",
       "Cxcl5 ... 1.048964            4.096758             5                \n",
       "Prelp ... 6.293786            3.072569             9                \n",
       "Crygs ... 1.048964            1.024190             1                \n",
       "Pakap ... 1.048964            1.024190            74                \n",
       "Wfdc2 ... 1.048964            1.024190             1                \n",
       "      CW20102_LRP1_Het_a CW20102_LRP1_Het_b CW20102_LRP1_Het_c\n",
       "Ogn   3                  14                  6                \n",
       "Cxcl5 7                   7                  8                \n",
       "Prelp 6                  42                 12                \n",
       "Crygs 1                   1                  1                \n",
       "Pakap 1                  28                 65                \n",
       "Wfdc2 1                   1                  1                \n",
       "      CW50037_LRP1_WT_b CW50037_LRP1_WT_c CW50037_LRP1_WT_d CW50037_LRP1_WT_a\n",
       "Ogn    8.593539         23.276518         14                13.314464        \n",
       "Cxcl5  2.148385          7.084158          2                 2.048379        \n",
       "Prelp 15.038694         40.480900         41                24.580549        \n",
       "Crygs  1.074192          4.048090          4                 2.048379        \n",
       "Pakap 17.187078         10.120225         43                14.338654        \n",
       "Wfdc2  1.074192          9.108203         14                 2.048379        "
      ]
     },
     "metadata": {},
     "output_type": "display_data"
    }
   ],
   "source": [
    "merged_df$gene <- toupper(merged_df$gene)\n",
    "head(merged_df)"
   ]
  },
  {
   "cell_type": "code",
   "execution_count": 81,
   "metadata": {
    "vscode": {
     "languageId": "r"
    }
   },
   "outputs": [
    {
     "name": "stderr",
     "output_type": "stream",
     "text": [
      "Warning message in preparePathwaysAndStats(pathways, stats, minSize, maxSize, gseaParam, :\n",
      "\"There are ties in the preranked stats (29.54% of the list).\n",
      "The order of those tied genes will be arbitrary, which may produce unexpected results.\"\n",
      "Warning message in preparePathwaysAndStats(pathways, stats, minSize, maxSize, gseaParam, :\n",
      "\"There are duplicate gene names, fgsea may produce unexpected results.\"\n",
      "Warning message in preparePathwaysAndStats(pathways, stats, minSize, maxSize, gseaParam, :\n",
      "\"There are ties in the preranked stats (29.54% of the list).\n",
      "The order of those tied genes will be arbitrary, which may produce unexpected results.\"\n",
      "Warning message in preparePathwaysAndStats(pathways, stats, minSize, maxSize, gseaParam, :\n",
      "\"There are duplicate gene names, fgsea may produce unexpected results.\"\n",
      "Warning message in fgseaMultilevel(pathways = pathways, stats = stats, minSize = minSize, :\n",
      "\"There were 2 pathways for which P-values were not calculated properly due to unbalanced (positive and negative) gene-level statistic values. For such pathways pval, padj, NES, log2err are set to NA. You can try to increase the value of the argument nPermSimple (for example set it nPermSimple = 10000)\"\n",
      "Warning message in preparePathwaysAndStats(pathways, stats, minSize, maxSize, gseaParam, :\n",
      "\"There are ties in the preranked stats (29.54% of the list).\n",
      "The order of those tied genes will be arbitrary, which may produce unexpected results.\"\n",
      "Warning message in preparePathwaysAndStats(pathways, stats, minSize, maxSize, gseaParam, :\n",
      "\"There are duplicate gene names, fgsea may produce unexpected results.\"\n",
      "Warning message in fgseaMultilevel(pathways = pathways, stats = stats, minSize = minSize, :\n",
      "\"There were 1 pathways for which P-values were not calculated properly due to unbalanced (positive and negative) gene-level statistic values. For such pathways pval, padj, NES, log2err are set to NA. You can try to increase the value of the argument nPermSimple (for example set it nPermSimple = 10000)\"\n"
     ]
    }
   ],
   "source": [
    "library(fgsea)\n",
    "library(forcats)\n",
    "\n",
    "run_gsea_analysis <- function(donor_name, merged_results, gmt_paths) {\n",
    "  \n",
    "  # Function to create ranked log2 fold change vector\n",
    "  make_ranked_log2fc <- function(merged_results) {\n",
    "    rnk_vec <- deframe(merged_results[c(\"gene\", \"log2FoldChange\")])\n",
    "    rnk_vec <- rnk_vec[order(-rnk_vec)]\n",
    "    return(rnk_vec)\n",
    "  }\n",
    "  \n",
    "  ranked_logfc <- make_ranked_log2fc(merged_results)\n",
    "  ranked_logfc_clean <- ranked_logfc[!is.na(ranked_logfc)]\n",
    "  \n",
    "  # Function to run FGSEA\n",
    "  run_fgsea <- function(gmt_file_path, rnk_list, min_size, max_size) {\n",
    "    fgsea_file <- fgsea::gmtPathways(gmt_file_path)\n",
    "    fgsea_res <- fgsea(fgsea_file, rnk_list, minSize = min_size, maxSize = max_size)\n",
    "    fgsea_res <- as_tibble(fgsea_res)\n",
    "    return(fgsea_res)\n",
    "  }\n",
    "  \n",
    "  # Initialize an empty list to store results\n",
    "  fgsea_results <- list()\n",
    "  \n",
    "  # Iterate over the GMT file paths\n",
    "  for (gmt_path in gmt_paths) {\n",
    "    fgsea_res <- run_fgsea(gmt_path, ranked_logfc_clean, 15, 500)\n",
    "    fgsea_results[[gmt_path]] <- fgsea_res\n",
    "  }\n",
    "  \n",
    "  # Process and save results for each GMT file\n",
    "  for (gmt_path in names(fgsea_results)) {\n",
    "    fgsea_res_filt <- filter(fgsea_results[[gmt_path]], padj <= 0.05)\n",
    "    \n",
    "    # Create a data frame for the filtered results\n",
    "    fgsea_res_df <- as.data.frame(fgsea_res_filt)\n",
    "    list_cols <- sapply(fgsea_res_df, is.list)\n",
    "    \n",
    "    # Transform list columns\n",
    "    fgsea_res_df[list_cols] <- lapply(fgsea_res_df[list_cols], function(x) {\n",
    "      sapply(x, function(l) paste(l, collapse=\", \"))  \n",
    "    })\n",
    "    \n",
    "    # Save the results\n",
    "    gmt_name <- sub(\"^.*?/data/(.*)\\\\.gmt$\", \"\\\\1\", gmt_path)\n",
    "    output_file <- paste0(\"/stanley/nehme_lab/sbolshak/analysis/village_editing/GSEA/NRXN1/\", donor_name, \"_lrp1_mouse_final_\", gmt_name, \".tsv\")\n",
    "    write_tsv(fgsea_res_df, output_file)\n",
    "    \n",
    "    # Create plots\n",
    "    top_pathways <- function(fgsea_results, num_paths, padj_threshold) {\n",
    "      fgsea_results <- fgsea_results %>%\n",
    "        filter(padj <= padj_threshold) %>%\n",
    "        mutate(negLogPadj = -log10(padj))\n",
    "      \n",
    "      fgsea_top <- fgsea_results %>%\n",
    "        arrange(desc(abs(NES))) %>%\n",
    "        slice_head(n = num_paths)\n",
    "      \n",
    "      p <- ggplot(fgsea_top, aes(x = NES, y = reorder(pathway, order(NES, decreasing = FALSE)))) +\n",
    "        geom_point(aes(color = -log10(padj), size = size)) +\n",
    "        labs(title = paste(donor_name, \"GSEA results:\", gmt_name),\n",
    "             y = \"Pathway\", x = \"NES\") +\n",
    "        theme_minimal()\n",
    "      \n",
    "      return(p)\n",
    "    }\n",
    "    \n",
    "    plot <- top_pathways(fgsea_res_filt, 30, 0.05)\n",
    "    ggsave(filename = paste0(\"/stanley/nehme_lab/sbolshak/analysis/village_editing/GSEA/NRXN1/\", donor_name, \"_lrp1_mouse_final_\", gmt_name, \".png\"), plot = plot, width = 12, height = 6, bg = \"white\")\n",
    "  }\n",
    "}\n",
    "\n",
    "donor_name <- \"all_samples\"\n",
    "gmt_files <- c('/stanley/nehme_lab/sbolshak/analysis/village_editing/data/h.all.v2024.1.Hs.symbols.gmt',\n",
    "               '/stanley/nehme_lab/sbolshak/analysis/village_editing/data/c2.cp.v2024.1.Hs.symbols.gmt',\n",
    "               '/stanley/nehme_lab/sbolshak/analysis/village_editing/data/c5.go.v7.4.syngo.bp.cc.v1.1.symbols.humgenSCZ.SCHEMA1.and.GWAS.1-2.gmt')\n",
    "\n",
    "run_gsea_analysis(donor_name, merged_df, gmt_files)"
   ]
  },
  {
   "cell_type": "markdown",
   "metadata": {
    "vscode": {
     "languageId": "r"
    }
   },
   "source": [
    "## PEER"
   ]
  },
  {
   "cell_type": "code",
   "execution_count": null,
   "metadata": {
    "vscode": {
     "languageId": "r"
    }
   },
   "outputs": [],
   "source": [
    "?"
   ]
  },
  {
   "cell_type": "markdown",
   "metadata": {
    "vscode": {
     "languageId": "r"
    }
   },
   "source": [
    "## WGCNA ##"
   ]
  },
  {
   "cell_type": "markdown",
   "metadata": {},
   "source": []
  },
  {
   "cell_type": "markdown",
   "metadata": {},
   "source": [
    "# Run TRADE"
   ]
  },
  {
   "cell_type": "code",
   "execution_count": 76,
   "metadata": {
    "vscode": {
     "languageId": "r"
    }
   },
   "outputs": [
    {
     "data": {
      "text/html": [
       "<table class=\"dataframe\">\n",
       "<caption>A data.frame: 6 x 119</caption>\n",
       "<thead>\n",
       "\t<tr><th></th><th scope=col>CW20012_NRXN1_Het_a</th><th scope=col>CW50037_NRXN1_Homo_b</th><th scope=col>CW50037_NRXN1_Homo_c</th><th scope=col>CW50037_NRXN1_Homo_d</th><th scope=col>CW20012_NRXN1_Het_b</th><th scope=col>CW20012_NRXN1_Het_c</th><th scope=col>CW20012_NRXN1_Het_d</th><th scope=col>ML8984425_NRXN1_Homo_a</th><th scope=col>ML8984425_NRXN1_Homo_b</th><th scope=col>ML8984425_NRXN1_Homo_c</th><th scope=col>...</th><th scope=col>ML9096344_NRXN1_WT_d</th><th scope=col>ML9119779_NRXN1_Homo_a</th><th scope=col>ML9119779_NRXN1_Homo_b</th><th scope=col>ML9119779_NRXN1_Homo_c</th><th scope=col>ML9119779_NRXN1_Homo_d</th><th scope=col>CW20103_NRXN1_Homo_a</th><th scope=col>CW20012_NRXN1_Homo_a</th><th scope=col>CW20012_NRXN1_Homo_b</th><th scope=col>CW20012_NRXN1_Homo_c</th><th scope=col>CW20012_NRXN1_Homo_d</th></tr>\n",
       "\t<tr><th></th><th scope=col>&lt;dbl&gt;</th><th scope=col>&lt;dbl&gt;</th><th scope=col>&lt;dbl&gt;</th><th scope=col>&lt;dbl&gt;</th><th scope=col>&lt;dbl&gt;</th><th scope=col>&lt;dbl&gt;</th><th scope=col>&lt;dbl&gt;</th><th scope=col>&lt;dbl&gt;</th><th scope=col>&lt;dbl&gt;</th><th scope=col>&lt;dbl&gt;</th><th scope=col>...</th><th scope=col>&lt;dbl&gt;</th><th scope=col>&lt;dbl&gt;</th><th scope=col>&lt;dbl&gt;</th><th scope=col>&lt;dbl&gt;</th><th scope=col>&lt;dbl&gt;</th><th scope=col>&lt;dbl&gt;</th><th scope=col>&lt;dbl&gt;</th><th scope=col>&lt;dbl&gt;</th><th scope=col>&lt;dbl&gt;</th><th scope=col>&lt;dbl&gt;</th></tr>\n",
       "</thead>\n",
       "<tbody>\n",
       "\t<tr><th scope=row>5_8S_rRNA</th><td>   0</td><td>  0</td><td>  0</td><td>  0</td><td>   0</td><td>   0</td><td>   0</td><td>  0</td><td>0</td><td>  0</td><td>...</td><td> 0</td><td> 0</td><td>  0</td><td> 0</td><td>  0</td><td>  0</td><td>   0</td><td>   1</td><td>   0</td><td>   0</td></tr>\n",
       "\t<tr><th scope=row>7SK</th><td>   0</td><td>  0</td><td>  0</td><td>  0</td><td>   0</td><td>   0</td><td>   0</td><td>  0</td><td>0</td><td>  0</td><td>...</td><td> 0</td><td> 0</td><td>  0</td><td> 0</td><td>  0</td><td>  0</td><td>   0</td><td>   0</td><td>   0</td><td>   0</td></tr>\n",
       "\t<tr><th scope=row>A1BG</th><td>  86</td><td> 14</td><td> 22</td><td> 13</td><td>  38</td><td>  26</td><td>  28</td><td> 25</td><td>4</td><td> 33</td><td>...</td><td> 1</td><td>11</td><td>  9</td><td> 0</td><td> 14</td><td> 13</td><td>  34</td><td>  19</td><td>  28</td><td>  26</td></tr>\n",
       "\t<tr><th scope=row>A1BG-AS1</th><td>  69</td><td> 21</td><td> 12</td><td> 13</td><td>  10</td><td>  12</td><td>   7</td><td>  8</td><td>2</td><td>  4</td><td>...</td><td> 1</td><td> 2</td><td>  1</td><td> 3</td><td>  7</td><td>  1</td><td>  18</td><td>  10</td><td>  24</td><td>  24</td></tr>\n",
       "\t<tr><th scope=row>A1CF</th><td>   4</td><td>  1</td><td>  1</td><td>  2</td><td>   1</td><td>   0</td><td>   0</td><td>  0</td><td>1</td><td>  0</td><td>...</td><td> 1</td><td> 1</td><td>  1</td><td> 0</td><td>  0</td><td>  0</td><td>   0</td><td>   0</td><td>   4</td><td>   0</td></tr>\n",
       "\t<tr><th scope=row>A2M</th><td>2602</td><td>507</td><td>345</td><td>300</td><td>1417</td><td>1547</td><td>1415</td><td>498</td><td>1</td><td>278</td><td>...</td><td>25</td><td>94</td><td>282</td><td>84</td><td>676</td><td>276</td><td>1913</td><td>1350</td><td>1420</td><td>2105</td></tr>\n",
       "</tbody>\n",
       "</table>\n"
      ],
      "text/latex": [
       "A data.frame: 6 x 119\n",
       "\\begin{tabular}{r|lllllllllllllllllllll}\n",
       "  & CW20012\\_NRXN1\\_Het\\_a & CW50037\\_NRXN1\\_Homo\\_b & CW50037\\_NRXN1\\_Homo\\_c & CW50037\\_NRXN1\\_Homo\\_d & CW20012\\_NRXN1\\_Het\\_b & CW20012\\_NRXN1\\_Het\\_c & CW20012\\_NRXN1\\_Het\\_d & ML8984425\\_NRXN1\\_Homo\\_a & ML8984425\\_NRXN1\\_Homo\\_b & ML8984425\\_NRXN1\\_Homo\\_c & ... & ML9096344\\_NRXN1\\_WT\\_d & ML9119779\\_NRXN1\\_Homo\\_a & ML9119779\\_NRXN1\\_Homo\\_b & ML9119779\\_NRXN1\\_Homo\\_c & ML9119779\\_NRXN1\\_Homo\\_d & CW20103\\_NRXN1\\_Homo\\_a & CW20012\\_NRXN1\\_Homo\\_a & CW20012\\_NRXN1\\_Homo\\_b & CW20012\\_NRXN1\\_Homo\\_c & CW20012\\_NRXN1\\_Homo\\_d\\\\\n",
       "  & <dbl> & <dbl> & <dbl> & <dbl> & <dbl> & <dbl> & <dbl> & <dbl> & <dbl> & <dbl> & ... & <dbl> & <dbl> & <dbl> & <dbl> & <dbl> & <dbl> & <dbl> & <dbl> & <dbl> & <dbl>\\\\\n",
       "\\hline\n",
       "\t5\\_8S\\_rRNA &    0 &   0 &   0 &   0 &    0 &    0 &    0 &   0 & 0 &   0 & ... &  0 &  0 &   0 &  0 &   0 &   0 &    0 &    1 &    0 &    0\\\\\n",
       "\t7SK &    0 &   0 &   0 &   0 &    0 &    0 &    0 &   0 & 0 &   0 & ... &  0 &  0 &   0 &  0 &   0 &   0 &    0 &    0 &    0 &    0\\\\\n",
       "\tA1BG &   86 &  14 &  22 &  13 &   38 &   26 &   28 &  25 & 4 &  33 & ... &  1 & 11 &   9 &  0 &  14 &  13 &   34 &   19 &   28 &   26\\\\\n",
       "\tA1BG-AS1 &   69 &  21 &  12 &  13 &   10 &   12 &    7 &   8 & 2 &   4 & ... &  1 &  2 &   1 &  3 &   7 &   1 &   18 &   10 &   24 &   24\\\\\n",
       "\tA1CF &    4 &   1 &   1 &   2 &    1 &    0 &    0 &   0 & 1 &   0 & ... &  1 &  1 &   1 &  0 &   0 &   0 &    0 &    0 &    4 &    0\\\\\n",
       "\tA2M & 2602 & 507 & 345 & 300 & 1417 & 1547 & 1415 & 498 & 1 & 278 & ... & 25 & 94 & 282 & 84 & 676 & 276 & 1913 & 1350 & 1420 & 2105\\\\\n",
       "\\end{tabular}\n"
      ],
      "text/markdown": [
       "\n",
       "A data.frame: 6 x 119\n",
       "\n",
       "| <!--/--> | CW20012_NRXN1_Het_a &lt;dbl&gt; | CW50037_NRXN1_Homo_b &lt;dbl&gt; | CW50037_NRXN1_Homo_c &lt;dbl&gt; | CW50037_NRXN1_Homo_d &lt;dbl&gt; | CW20012_NRXN1_Het_b &lt;dbl&gt; | CW20012_NRXN1_Het_c &lt;dbl&gt; | CW20012_NRXN1_Het_d &lt;dbl&gt; | ML8984425_NRXN1_Homo_a &lt;dbl&gt; | ML8984425_NRXN1_Homo_b &lt;dbl&gt; | ML8984425_NRXN1_Homo_c &lt;dbl&gt; | ... ... | ML9096344_NRXN1_WT_d &lt;dbl&gt; | ML9119779_NRXN1_Homo_a &lt;dbl&gt; | ML9119779_NRXN1_Homo_b &lt;dbl&gt; | ML9119779_NRXN1_Homo_c &lt;dbl&gt; | ML9119779_NRXN1_Homo_d &lt;dbl&gt; | CW20103_NRXN1_Homo_a &lt;dbl&gt; | CW20012_NRXN1_Homo_a &lt;dbl&gt; | CW20012_NRXN1_Homo_b &lt;dbl&gt; | CW20012_NRXN1_Homo_c &lt;dbl&gt; | CW20012_NRXN1_Homo_d &lt;dbl&gt; |\n",
       "|---|---|---|---|---|---|---|---|---|---|---|---|---|---|---|---|---|---|---|---|---|---|\n",
       "| 5_8S_rRNA |    0 |   0 |   0 |   0 |    0 |    0 |    0 |   0 | 0 |   0 | ... |  0 |  0 |   0 |  0 |   0 |   0 |    0 |    1 |    0 |    0 |\n",
       "| 7SK |    0 |   0 |   0 |   0 |    0 |    0 |    0 |   0 | 0 |   0 | ... |  0 |  0 |   0 |  0 |   0 |   0 |    0 |    0 |    0 |    0 |\n",
       "| A1BG |   86 |  14 |  22 |  13 |   38 |   26 |   28 |  25 | 4 |  33 | ... |  1 | 11 |   9 |  0 |  14 |  13 |   34 |   19 |   28 |   26 |\n",
       "| A1BG-AS1 |   69 |  21 |  12 |  13 |   10 |   12 |    7 |   8 | 2 |   4 | ... |  1 |  2 |   1 |  3 |   7 |   1 |   18 |   10 |   24 |   24 |\n",
       "| A1CF |    4 |   1 |   1 |   2 |    1 |    0 |    0 |   0 | 1 |   0 | ... |  1 |  1 |   1 |  0 |   0 |   0 |    0 |    0 |    4 |    0 |\n",
       "| A2M | 2602 | 507 | 345 | 300 | 1417 | 1547 | 1415 | 498 | 1 | 278 | ... | 25 | 94 | 282 | 84 | 676 | 276 | 1913 | 1350 | 1420 | 2105 |\n",
       "\n"
      ],
      "text/plain": [
       "          CW20012_NRXN1_Het_a CW50037_NRXN1_Homo_b CW50037_NRXN1_Homo_c\n",
       "5_8S_rRNA    0                  0                    0                 \n",
       "7SK          0                  0                    0                 \n",
       "A1BG        86                 14                   22                 \n",
       "A1BG-AS1    69                 21                   12                 \n",
       "A1CF         4                  1                    1                 \n",
       "A2M       2602                507                  345                 \n",
       "          CW50037_NRXN1_Homo_d CW20012_NRXN1_Het_b CW20012_NRXN1_Het_c\n",
       "5_8S_rRNA   0                     0                   0               \n",
       "7SK         0                     0                   0               \n",
       "A1BG       13                    38                  26               \n",
       "A1BG-AS1   13                    10                  12               \n",
       "A1CF        2                     1                   0               \n",
       "A2M       300                  1417                1547               \n",
       "          CW20012_NRXN1_Het_d ML8984425_NRXN1_Homo_a ML8984425_NRXN1_Homo_b\n",
       "5_8S_rRNA    0                  0                    0                     \n",
       "7SK          0                  0                    0                     \n",
       "A1BG        28                 25                    4                     \n",
       "A1BG-AS1     7                  8                    2                     \n",
       "A1CF         0                  0                    1                     \n",
       "A2M       1415                498                    1                     \n",
       "          ML8984425_NRXN1_Homo_c ... ML9096344_NRXN1_WT_d\n",
       "5_8S_rRNA   0                    ...  0                  \n",
       "7SK         0                    ...  0                  \n",
       "A1BG       33                    ...  1                  \n",
       "A1BG-AS1    4                    ...  1                  \n",
       "A1CF        0                    ...  1                  \n",
       "A2M       278                    ... 25                  \n",
       "          ML9119779_NRXN1_Homo_a ML9119779_NRXN1_Homo_b ML9119779_NRXN1_Homo_c\n",
       "5_8S_rRNA  0                       0                     0                    \n",
       "7SK        0                       0                     0                    \n",
       "A1BG      11                       9                     0                    \n",
       "A1BG-AS1   2                       1                     3                    \n",
       "A1CF       1                       1                     0                    \n",
       "A2M       94                     282                    84                    \n",
       "          ML9119779_NRXN1_Homo_d CW20103_NRXN1_Homo_a CW20012_NRXN1_Homo_a\n",
       "5_8S_rRNA   0                      0                     0                \n",
       "7SK         0                      0                     0                \n",
       "A1BG       14                     13                    34                \n",
       "A1BG-AS1    7                      1                    18                \n",
       "A1CF        0                      0                     0                \n",
       "A2M       676                    276                  1913                \n",
       "          CW20012_NRXN1_Homo_b CW20012_NRXN1_Homo_c CW20012_NRXN1_Homo_d\n",
       "5_8S_rRNA    1                    0                    0                \n",
       "7SK          0                    0                    0                \n",
       "A1BG        19                   28                   26                \n",
       "A1BG-AS1    10                   24                   24                \n",
       "A1CF         0                    4                    0                \n",
       "A2M       1350                 1420                 2105                "
      ]
     },
     "metadata": {},
     "output_type": "display_data"
    }
   ],
   "source": [
    "#counts <- read.table(\"/stanley/nehme_lab/sbolshak/analysis/village_editing/NRXN1/nrxn1_human_counts_final_filtered_no_sex_genes.csv\", sep = ',', header = TRUE)\n",
    "counts <- read.table(\"/stanley/nehme_lab/sbolshak/analysis/village_editing/NRXN1/all_samples/nrxn1_dge_raw_counts_no_awful_rna_more_than_2.txt\", sep = '\\t', header = TRUE)\n",
    "counts[is.na(counts)] <- 0\n",
    "rownames(counts) <- counts$GENE\n",
    "counts <- counts[-1]\n",
    "colnames(counts) <- gsub(\"\\\\.\", \"\", colnames(counts))\n",
    "#counts <- counts[, grepl(\"ML910-8360|ML911.9779|ML907-2836|ML898-4425|ML611-3363\", colnames(counts))] #dosage\n",
    "\n",
    "#donor_name = \"dosage_only\"\n",
    "head(counts)"
   ]
  },
  {
   "cell_type": "code",
   "execution_count": 77,
   "metadata": {
    "vscode": {
     "languageId": "r"
    }
   },
   "outputs": [],
   "source": [
    "gene_list_cholest <- c(\"CLU\", \"SOAT1\", \"HMGCR\", \"LRP1\", \"APOE\", \"APOD\", \"LDLR\", \n",
    "\"NR1H3\", \"NR1H2\", \"SREBF2\", \"SREBF1\", \"ABCA1\", \"ABCG1\", \"FABP3\", \"FABP5\", \"FABP7\")"
   ]
  },
  {
   "cell_type": "code",
   "execution_count": 78,
   "metadata": {
    "vscode": {
     "languageId": "r"
    }
   },
   "outputs": [
    {
     "data": {
      "text/html": [
       "<table class=\"dataframe\">\n",
       "<caption>A data.frame: 16 x 119</caption>\n",
       "<thead>\n",
       "\t<tr><th></th><th scope=col>CW20012_NRXN1_Het_a</th><th scope=col>CW50037_NRXN1_Homo_b</th><th scope=col>CW50037_NRXN1_Homo_c</th><th scope=col>CW50037_NRXN1_Homo_d</th><th scope=col>CW20012_NRXN1_Het_b</th><th scope=col>CW20012_NRXN1_Het_c</th><th scope=col>CW20012_NRXN1_Het_d</th><th scope=col>ML8984425_NRXN1_Homo_a</th><th scope=col>ML8984425_NRXN1_Homo_b</th><th scope=col>ML8984425_NRXN1_Homo_c</th><th scope=col>...</th><th scope=col>ML9096344_NRXN1_WT_d</th><th scope=col>ML9119779_NRXN1_Homo_a</th><th scope=col>ML9119779_NRXN1_Homo_b</th><th scope=col>ML9119779_NRXN1_Homo_c</th><th scope=col>ML9119779_NRXN1_Homo_d</th><th scope=col>CW20103_NRXN1_Homo_a</th><th scope=col>CW20012_NRXN1_Homo_a</th><th scope=col>CW20012_NRXN1_Homo_b</th><th scope=col>CW20012_NRXN1_Homo_c</th><th scope=col>CW20012_NRXN1_Homo_d</th></tr>\n",
       "\t<tr><th></th><th scope=col>&lt;dbl&gt;</th><th scope=col>&lt;dbl&gt;</th><th scope=col>&lt;dbl&gt;</th><th scope=col>&lt;dbl&gt;</th><th scope=col>&lt;dbl&gt;</th><th scope=col>&lt;dbl&gt;</th><th scope=col>&lt;dbl&gt;</th><th scope=col>&lt;dbl&gt;</th><th scope=col>&lt;dbl&gt;</th><th scope=col>&lt;dbl&gt;</th><th scope=col>...</th><th scope=col>&lt;dbl&gt;</th><th scope=col>&lt;dbl&gt;</th><th scope=col>&lt;dbl&gt;</th><th scope=col>&lt;dbl&gt;</th><th scope=col>&lt;dbl&gt;</th><th scope=col>&lt;dbl&gt;</th><th scope=col>&lt;dbl&gt;</th><th scope=col>&lt;dbl&gt;</th><th scope=col>&lt;dbl&gt;</th><th scope=col>&lt;dbl&gt;</th></tr>\n",
       "</thead>\n",
       "<tbody>\n",
       "\t<tr><th scope=row>ABCA1</th><td> 654</td><td>119</td><td>120</td><td>102</td><td> 357</td><td> 293</td><td> 287</td><td>1330</td><td> 1</td><td>1236</td><td>...</td><td>285</td><td>368</td><td>624</td><td> 32</td><td>179</td><td>402</td><td>1087</td><td>2034</td><td> 754</td><td> 872</td></tr>\n",
       "\t<tr><th scope=row>ABCG1</th><td>  13</td><td>  4</td><td>  5</td><td>  3</td><td>   5</td><td>   2</td><td>   9</td><td>   1</td><td> 0</td><td>   3</td><td>...</td><td>  4</td><td>  2</td><td>  3</td><td>  5</td><td>  1</td><td>  1</td><td>  14</td><td>   7</td><td>   9</td><td>   8</td></tr>\n",
       "\t<tr><th scope=row>APOD</th><td>   3</td><td>  0</td><td>  3</td><td>  0</td><td>   3</td><td>   0</td><td>   3</td><td>   0</td><td> 1</td><td>   3</td><td>...</td><td>  0</td><td>  1</td><td>  2</td><td>  0</td><td>  3</td><td>  0</td><td>   2</td><td>   4</td><td>   1</td><td>   0</td></tr>\n",
       "\t<tr><th scope=row>APOE</th><td>   4</td><td>  2</td><td>  0</td><td>  0</td><td>   0</td><td>   4</td><td>   3</td><td>   2</td><td> 0</td><td>   0</td><td>...</td><td>  0</td><td>  2</td><td>  0</td><td>  0</td><td>  0</td><td>  0</td><td>   2</td><td>   4</td><td>   3</td><td>   3</td></tr>\n",
       "\t<tr><th scope=row>CLU</th><td>2006</td><td>599</td><td>436</td><td>478</td><td> 423</td><td> 296</td><td> 314</td><td>  43</td><td> 1</td><td>  30</td><td>...</td><td> 26</td><td> 33</td><td> 57</td><td> 12</td><td> 75</td><td> 80</td><td> 565</td><td> 277</td><td> 430</td><td> 475</td></tr>\n",
       "\t<tr><th scope=row>FABP3</th><td>  64</td><td>  8</td><td> 14</td><td> 27</td><td>  22</td><td>  21</td><td>   6</td><td>  42</td><td> 1</td><td>  25</td><td>...</td><td>  8</td><td> 38</td><td> 24</td><td>  3</td><td> 49</td><td> 20</td><td>  54</td><td>  36</td><td>  44</td><td>  67</td></tr>\n",
       "\t<tr><th scope=row>FABP5</th><td> 944</td><td>191</td><td>187</td><td>216</td><td> 501</td><td> 361</td><td> 332</td><td> 165</td><td>28</td><td> 126</td><td>...</td><td> 69</td><td> 73</td><td> 74</td><td> 20</td><td> 84</td><td> 83</td><td> 277</td><td> 170</td><td> 213</td><td> 225</td></tr>\n",
       "\t<tr><th scope=row>FABP7</th><td>   1</td><td>  0</td><td>  1</td><td>  0</td><td>   3</td><td>   4</td><td>   1</td><td>   8</td><td> 0</td><td>   8</td><td>...</td><td>  2</td><td>  2</td><td>  4</td><td>  2</td><td>  1</td><td>  0</td><td>   2</td><td>   3</td><td>   1</td><td>   0</td></tr>\n",
       "\t<tr><th scope=row>HMGCR</th><td>2743</td><td>741</td><td>461</td><td>335</td><td>1161</td><td>1301</td><td>1337</td><td> 358</td><td> 3</td><td> 249</td><td>...</td><td>220</td><td>232</td><td>463</td><td>136</td><td>948</td><td>389</td><td>3333</td><td>2052</td><td>2186</td><td>3144</td></tr>\n",
       "\t<tr><th scope=row>LDLR</th><td> 529</td><td>142</td><td>111</td><td> 85</td><td> 190</td><td> 135</td><td> 187</td><td>  49</td><td> 5</td><td>  17</td><td>...</td><td> 12</td><td> 13</td><td> 27</td><td> 30</td><td> 75</td><td> 21</td><td> 363</td><td> 103</td><td> 244</td><td> 280</td></tr>\n",
       "\t<tr><th scope=row>LRP1</th><td> 904</td><td>229</td><td>119</td><td>111</td><td> 258</td><td> 354</td><td> 452</td><td>  12</td><td> 1</td><td>   6</td><td>...</td><td>  9</td><td>  7</td><td> 15</td><td> 33</td><td> 42</td><td> 31</td><td> 556</td><td>  58</td><td> 440</td><td> 444</td></tr>\n",
       "\t<tr><th scope=row>NR1H2</th><td>  67</td><td> 13</td><td> 17</td><td> 16</td><td>  39</td><td>  30</td><td>  41</td><td>   5</td><td> 0</td><td>   6</td><td>...</td><td>  1</td><td>  1</td><td>  4</td><td>  5</td><td> 10</td><td>  6</td><td>  52</td><td>  17</td><td>  46</td><td>  50</td></tr>\n",
       "\t<tr><th scope=row>NR1H3</th><td>  15</td><td>  2</td><td>  2</td><td>  6</td><td>   9</td><td>   1</td><td>   4</td><td>   3</td><td> 0</td><td>   8</td><td>...</td><td>  2</td><td> 11</td><td>  9</td><td>  1</td><td>  5</td><td>  1</td><td>   5</td><td>   8</td><td>   7</td><td>   7</td></tr>\n",
       "\t<tr><th scope=row>SOAT1</th><td> 117</td><td> 46</td><td> 34</td><td>  5</td><td>  46</td><td>  28</td><td>  45</td><td>  13</td><td> 1</td><td>  34</td><td>...</td><td>  3</td><td>  9</td><td> 19</td><td>  1</td><td> 19</td><td> 17</td><td>  97</td><td>  37</td><td>  62</td><td>  75</td></tr>\n",
       "\t<tr><th scope=row>SREBF1</th><td>  12</td><td>  1</td><td>  4</td><td>  2</td><td>   2</td><td>   2</td><td>   2</td><td>   2</td><td> 2</td><td>   9</td><td>...</td><td>  3</td><td>  3</td><td>  2</td><td>  1</td><td>  1</td><td>  1</td><td>  11</td><td>  11</td><td>   7</td><td>  13</td></tr>\n",
       "\t<tr><th scope=row>SREBF2</th><td> 305</td><td> 72</td><td> 47</td><td> 39</td><td> 126</td><td> 155</td><td> 201</td><td>  36</td><td> 1</td><td>  24</td><td>...</td><td> 15</td><td> 23</td><td> 28</td><td> 33</td><td> 48</td><td> 36</td><td> 524</td><td>  77</td><td> 419</td><td> 449</td></tr>\n",
       "</tbody>\n",
       "</table>\n"
      ],
      "text/latex": [
       "A data.frame: 16 x 119\n",
       "\\begin{tabular}{r|lllllllllllllllllllll}\n",
       "  & CW20012\\_NRXN1\\_Het\\_a & CW50037\\_NRXN1\\_Homo\\_b & CW50037\\_NRXN1\\_Homo\\_c & CW50037\\_NRXN1\\_Homo\\_d & CW20012\\_NRXN1\\_Het\\_b & CW20012\\_NRXN1\\_Het\\_c & CW20012\\_NRXN1\\_Het\\_d & ML8984425\\_NRXN1\\_Homo\\_a & ML8984425\\_NRXN1\\_Homo\\_b & ML8984425\\_NRXN1\\_Homo\\_c & ... & ML9096344\\_NRXN1\\_WT\\_d & ML9119779\\_NRXN1\\_Homo\\_a & ML9119779\\_NRXN1\\_Homo\\_b & ML9119779\\_NRXN1\\_Homo\\_c & ML9119779\\_NRXN1\\_Homo\\_d & CW20103\\_NRXN1\\_Homo\\_a & CW20012\\_NRXN1\\_Homo\\_a & CW20012\\_NRXN1\\_Homo\\_b & CW20012\\_NRXN1\\_Homo\\_c & CW20012\\_NRXN1\\_Homo\\_d\\\\\n",
       "  & <dbl> & <dbl> & <dbl> & <dbl> & <dbl> & <dbl> & <dbl> & <dbl> & <dbl> & <dbl> & ... & <dbl> & <dbl> & <dbl> & <dbl> & <dbl> & <dbl> & <dbl> & <dbl> & <dbl> & <dbl>\\\\\n",
       "\\hline\n",
       "\tABCA1 &  654 & 119 & 120 & 102 &  357 &  293 &  287 & 1330 &  1 & 1236 & ... & 285 & 368 & 624 &  32 & 179 & 402 & 1087 & 2034 &  754 &  872\\\\\n",
       "\tABCG1 &   13 &   4 &   5 &   3 &    5 &    2 &    9 &    1 &  0 &    3 & ... &   4 &   2 &   3 &   5 &   1 &   1 &   14 &    7 &    9 &    8\\\\\n",
       "\tAPOD &    3 &   0 &   3 &   0 &    3 &    0 &    3 &    0 &  1 &    3 & ... &   0 &   1 &   2 &   0 &   3 &   0 &    2 &    4 &    1 &    0\\\\\n",
       "\tAPOE &    4 &   2 &   0 &   0 &    0 &    4 &    3 &    2 &  0 &    0 & ... &   0 &   2 &   0 &   0 &   0 &   0 &    2 &    4 &    3 &    3\\\\\n",
       "\tCLU & 2006 & 599 & 436 & 478 &  423 &  296 &  314 &   43 &  1 &   30 & ... &  26 &  33 &  57 &  12 &  75 &  80 &  565 &  277 &  430 &  475\\\\\n",
       "\tFABP3 &   64 &   8 &  14 &  27 &   22 &   21 &    6 &   42 &  1 &   25 & ... &   8 &  38 &  24 &   3 &  49 &  20 &   54 &   36 &   44 &   67\\\\\n",
       "\tFABP5 &  944 & 191 & 187 & 216 &  501 &  361 &  332 &  165 & 28 &  126 & ... &  69 &  73 &  74 &  20 &  84 &  83 &  277 &  170 &  213 &  225\\\\\n",
       "\tFABP7 &    1 &   0 &   1 &   0 &    3 &    4 &    1 &    8 &  0 &    8 & ... &   2 &   2 &   4 &   2 &   1 &   0 &    2 &    3 &    1 &    0\\\\\n",
       "\tHMGCR & 2743 & 741 & 461 & 335 & 1161 & 1301 & 1337 &  358 &  3 &  249 & ... & 220 & 232 & 463 & 136 & 948 & 389 & 3333 & 2052 & 2186 & 3144\\\\\n",
       "\tLDLR &  529 & 142 & 111 &  85 &  190 &  135 &  187 &   49 &  5 &   17 & ... &  12 &  13 &  27 &  30 &  75 &  21 &  363 &  103 &  244 &  280\\\\\n",
       "\tLRP1 &  904 & 229 & 119 & 111 &  258 &  354 &  452 &   12 &  1 &    6 & ... &   9 &   7 &  15 &  33 &  42 &  31 &  556 &   58 &  440 &  444\\\\\n",
       "\tNR1H2 &   67 &  13 &  17 &  16 &   39 &   30 &   41 &    5 &  0 &    6 & ... &   1 &   1 &   4 &   5 &  10 &   6 &   52 &   17 &   46 &   50\\\\\n",
       "\tNR1H3 &   15 &   2 &   2 &   6 &    9 &    1 &    4 &    3 &  0 &    8 & ... &   2 &  11 &   9 &   1 &   5 &   1 &    5 &    8 &    7 &    7\\\\\n",
       "\tSOAT1 &  117 &  46 &  34 &   5 &   46 &   28 &   45 &   13 &  1 &   34 & ... &   3 &   9 &  19 &   1 &  19 &  17 &   97 &   37 &   62 &   75\\\\\n",
       "\tSREBF1 &   12 &   1 &   4 &   2 &    2 &    2 &    2 &    2 &  2 &    9 & ... &   3 &   3 &   2 &   1 &   1 &   1 &   11 &   11 &    7 &   13\\\\\n",
       "\tSREBF2 &  305 &  72 &  47 &  39 &  126 &  155 &  201 &   36 &  1 &   24 & ... &  15 &  23 &  28 &  33 &  48 &  36 &  524 &   77 &  419 &  449\\\\\n",
       "\\end{tabular}\n"
      ],
      "text/markdown": [
       "\n",
       "A data.frame: 16 x 119\n",
       "\n",
       "| <!--/--> | CW20012_NRXN1_Het_a &lt;dbl&gt; | CW50037_NRXN1_Homo_b &lt;dbl&gt; | CW50037_NRXN1_Homo_c &lt;dbl&gt; | CW50037_NRXN1_Homo_d &lt;dbl&gt; | CW20012_NRXN1_Het_b &lt;dbl&gt; | CW20012_NRXN1_Het_c &lt;dbl&gt; | CW20012_NRXN1_Het_d &lt;dbl&gt; | ML8984425_NRXN1_Homo_a &lt;dbl&gt; | ML8984425_NRXN1_Homo_b &lt;dbl&gt; | ML8984425_NRXN1_Homo_c &lt;dbl&gt; | ... ... | ML9096344_NRXN1_WT_d &lt;dbl&gt; | ML9119779_NRXN1_Homo_a &lt;dbl&gt; | ML9119779_NRXN1_Homo_b &lt;dbl&gt; | ML9119779_NRXN1_Homo_c &lt;dbl&gt; | ML9119779_NRXN1_Homo_d &lt;dbl&gt; | CW20103_NRXN1_Homo_a &lt;dbl&gt; | CW20012_NRXN1_Homo_a &lt;dbl&gt; | CW20012_NRXN1_Homo_b &lt;dbl&gt; | CW20012_NRXN1_Homo_c &lt;dbl&gt; | CW20012_NRXN1_Homo_d &lt;dbl&gt; |\n",
       "|---|---|---|---|---|---|---|---|---|---|---|---|---|---|---|---|---|---|---|---|---|---|\n",
       "| ABCA1 |  654 | 119 | 120 | 102 |  357 |  293 |  287 | 1330 |  1 | 1236 | ... | 285 | 368 | 624 |  32 | 179 | 402 | 1087 | 2034 |  754 |  872 |\n",
       "| ABCG1 |   13 |   4 |   5 |   3 |    5 |    2 |    9 |    1 |  0 |    3 | ... |   4 |   2 |   3 |   5 |   1 |   1 |   14 |    7 |    9 |    8 |\n",
       "| APOD |    3 |   0 |   3 |   0 |    3 |    0 |    3 |    0 |  1 |    3 | ... |   0 |   1 |   2 |   0 |   3 |   0 |    2 |    4 |    1 |    0 |\n",
       "| APOE |    4 |   2 |   0 |   0 |    0 |    4 |    3 |    2 |  0 |    0 | ... |   0 |   2 |   0 |   0 |   0 |   0 |    2 |    4 |    3 |    3 |\n",
       "| CLU | 2006 | 599 | 436 | 478 |  423 |  296 |  314 |   43 |  1 |   30 | ... |  26 |  33 |  57 |  12 |  75 |  80 |  565 |  277 |  430 |  475 |\n",
       "| FABP3 |   64 |   8 |  14 |  27 |   22 |   21 |    6 |   42 |  1 |   25 | ... |   8 |  38 |  24 |   3 |  49 |  20 |   54 |   36 |   44 |   67 |\n",
       "| FABP5 |  944 | 191 | 187 | 216 |  501 |  361 |  332 |  165 | 28 |  126 | ... |  69 |  73 |  74 |  20 |  84 |  83 |  277 |  170 |  213 |  225 |\n",
       "| FABP7 |    1 |   0 |   1 |   0 |    3 |    4 |    1 |    8 |  0 |    8 | ... |   2 |   2 |   4 |   2 |   1 |   0 |    2 |    3 |    1 |    0 |\n",
       "| HMGCR | 2743 | 741 | 461 | 335 | 1161 | 1301 | 1337 |  358 |  3 |  249 | ... | 220 | 232 | 463 | 136 | 948 | 389 | 3333 | 2052 | 2186 | 3144 |\n",
       "| LDLR |  529 | 142 | 111 |  85 |  190 |  135 |  187 |   49 |  5 |   17 | ... |  12 |  13 |  27 |  30 |  75 |  21 |  363 |  103 |  244 |  280 |\n",
       "| LRP1 |  904 | 229 | 119 | 111 |  258 |  354 |  452 |   12 |  1 |    6 | ... |   9 |   7 |  15 |  33 |  42 |  31 |  556 |   58 |  440 |  444 |\n",
       "| NR1H2 |   67 |  13 |  17 |  16 |   39 |   30 |   41 |    5 |  0 |    6 | ... |   1 |   1 |   4 |   5 |  10 |   6 |   52 |   17 |   46 |   50 |\n",
       "| NR1H3 |   15 |   2 |   2 |   6 |    9 |    1 |    4 |    3 |  0 |    8 | ... |   2 |  11 |   9 |   1 |   5 |   1 |    5 |    8 |    7 |    7 |\n",
       "| SOAT1 |  117 |  46 |  34 |   5 |   46 |   28 |   45 |   13 |  1 |   34 | ... |   3 |   9 |  19 |   1 |  19 |  17 |   97 |   37 |   62 |   75 |\n",
       "| SREBF1 |   12 |   1 |   4 |   2 |    2 |    2 |    2 |    2 |  2 |    9 | ... |   3 |   3 |   2 |   1 |   1 |   1 |   11 |   11 |    7 |   13 |\n",
       "| SREBF2 |  305 |  72 |  47 |  39 |  126 |  155 |  201 |   36 |  1 |   24 | ... |  15 |  23 |  28 |  33 |  48 |  36 |  524 |   77 |  419 |  449 |\n",
       "\n"
      ],
      "text/plain": [
       "       CW20012_NRXN1_Het_a CW50037_NRXN1_Homo_b CW50037_NRXN1_Homo_c\n",
       "ABCA1   654                119                  120                 \n",
       "ABCG1    13                  4                    5                 \n",
       "APOD      3                  0                    3                 \n",
       "APOE      4                  2                    0                 \n",
       "CLU    2006                599                  436                 \n",
       "FABP3    64                  8                   14                 \n",
       "FABP5   944                191                  187                 \n",
       "FABP7     1                  0                    1                 \n",
       "HMGCR  2743                741                  461                 \n",
       "LDLR    529                142                  111                 \n",
       "LRP1    904                229                  119                 \n",
       "NR1H2    67                 13                   17                 \n",
       "NR1H3    15                  2                    2                 \n",
       "SOAT1   117                 46                   34                 \n",
       "SREBF1   12                  1                    4                 \n",
       "SREBF2  305                 72                   47                 \n",
       "       CW50037_NRXN1_Homo_d CW20012_NRXN1_Het_b CW20012_NRXN1_Het_c\n",
       "ABCA1  102                   357                 293               \n",
       "ABCG1    3                     5                   2               \n",
       "APOD     0                     3                   0               \n",
       "APOE     0                     0                   4               \n",
       "CLU    478                   423                 296               \n",
       "FABP3   27                    22                  21               \n",
       "FABP5  216                   501                 361               \n",
       "FABP7    0                     3                   4               \n",
       "HMGCR  335                  1161                1301               \n",
       "LDLR    85                   190                 135               \n",
       "LRP1   111                   258                 354               \n",
       "NR1H2   16                    39                  30               \n",
       "NR1H3    6                     9                   1               \n",
       "SOAT1    5                    46                  28               \n",
       "SREBF1   2                     2                   2               \n",
       "SREBF2  39                   126                 155               \n",
       "       CW20012_NRXN1_Het_d ML8984425_NRXN1_Homo_a ML8984425_NRXN1_Homo_b\n",
       "ABCA1   287                1330                    1                    \n",
       "ABCG1     9                   1                    0                    \n",
       "APOD      3                   0                    1                    \n",
       "APOE      3                   2                    0                    \n",
       "CLU     314                  43                    1                    \n",
       "FABP3     6                  42                    1                    \n",
       "FABP5   332                 165                   28                    \n",
       "FABP7     1                   8                    0                    \n",
       "HMGCR  1337                 358                    3                    \n",
       "LDLR    187                  49                    5                    \n",
       "LRP1    452                  12                    1                    \n",
       "NR1H2    41                   5                    0                    \n",
       "NR1H3     4                   3                    0                    \n",
       "SOAT1    45                  13                    1                    \n",
       "SREBF1    2                   2                    2                    \n",
       "SREBF2  201                  36                    1                    \n",
       "       ML8984425_NRXN1_Homo_c ... ML9096344_NRXN1_WT_d ML9119779_NRXN1_Homo_a\n",
       "ABCA1  1236                   ... 285                  368                   \n",
       "ABCG1     3                   ...   4                    2                   \n",
       "APOD      3                   ...   0                    1                   \n",
       "APOE      0                   ...   0                    2                   \n",
       "CLU      30                   ...  26                   33                   \n",
       "FABP3    25                   ...   8                   38                   \n",
       "FABP5   126                   ...  69                   73                   \n",
       "FABP7     8                   ...   2                    2                   \n",
       "HMGCR   249                   ... 220                  232                   \n",
       "LDLR     17                   ...  12                   13                   \n",
       "LRP1      6                   ...   9                    7                   \n",
       "NR1H2     6                   ...   1                    1                   \n",
       "NR1H3     8                   ...   2                   11                   \n",
       "SOAT1    34                   ...   3                    9                   \n",
       "SREBF1    9                   ...   3                    3                   \n",
       "SREBF2   24                   ...  15                   23                   \n",
       "       ML9119779_NRXN1_Homo_b ML9119779_NRXN1_Homo_c ML9119779_NRXN1_Homo_d\n",
       "ABCA1  624                     32                    179                   \n",
       "ABCG1    3                      5                      1                   \n",
       "APOD     2                      0                      3                   \n",
       "APOE     0                      0                      0                   \n",
       "CLU     57                     12                     75                   \n",
       "FABP3   24                      3                     49                   \n",
       "FABP5   74                     20                     84                   \n",
       "FABP7    4                      2                      1                   \n",
       "HMGCR  463                    136                    948                   \n",
       "LDLR    27                     30                     75                   \n",
       "LRP1    15                     33                     42                   \n",
       "NR1H2    4                      5                     10                   \n",
       "NR1H3    9                      1                      5                   \n",
       "SOAT1   19                      1                     19                   \n",
       "SREBF1   2                      1                      1                   \n",
       "SREBF2  28                     33                     48                   \n",
       "       CW20103_NRXN1_Homo_a CW20012_NRXN1_Homo_a CW20012_NRXN1_Homo_b\n",
       "ABCA1  402                  1087                 2034                \n",
       "ABCG1    1                    14                    7                \n",
       "APOD     0                     2                    4                \n",
       "APOE     0                     2                    4                \n",
       "CLU     80                   565                  277                \n",
       "FABP3   20                    54                   36                \n",
       "FABP5   83                   277                  170                \n",
       "FABP7    0                     2                    3                \n",
       "HMGCR  389                  3333                 2052                \n",
       "LDLR    21                   363                  103                \n",
       "LRP1    31                   556                   58                \n",
       "NR1H2    6                    52                   17                \n",
       "NR1H3    1                     5                    8                \n",
       "SOAT1   17                    97                   37                \n",
       "SREBF1   1                    11                   11                \n",
       "SREBF2  36                   524                   77                \n",
       "       CW20012_NRXN1_Homo_c CW20012_NRXN1_Homo_d\n",
       "ABCA1   754                  872                \n",
       "ABCG1     9                    8                \n",
       "APOD      1                    0                \n",
       "APOE      3                    3                \n",
       "CLU     430                  475                \n",
       "FABP3    44                   67                \n",
       "FABP5   213                  225                \n",
       "FABP7     1                    0                \n",
       "HMGCR  2186                 3144                \n",
       "LDLR    244                  280                \n",
       "LRP1    440                  444                \n",
       "NR1H2    46                   50                \n",
       "NR1H3     7                    7                \n",
       "SOAT1    62                   75                \n",
       "SREBF1    7                   13                \n",
       "SREBF2  419                  449                "
      ]
     },
     "metadata": {},
     "output_type": "display_data"
    }
   ],
   "source": [
    "counts<- counts[rownames(counts) %in% gene_list_cholest, ]\n",
    "counts"
   ]
  },
  {
   "cell_type": "code",
   "execution_count": 79,
   "metadata": {
    "vscode": {
     "languageId": "r"
    }
   },
   "outputs": [
    {
     "data": {
      "text/html": [
       "<table class=\"dataframe\">\n",
       "<caption>A data.frame: 119 x 9</caption>\n",
       "<thead>\n",
       "\t<tr><th scope=col>sample</th><th scope=col>gene</th><th scope=col>donor</th><th scope=col>genotype</th><th scope=col>target_gt</th><th scope=col>PRS</th><th scope=col>sex</th><th scope=col>plate</th><th scope=col>group</th></tr>\n",
       "\t<tr><th scope=col>&lt;chr&gt;</th><th scope=col>&lt;chr&gt;</th><th scope=col>&lt;chr&gt;</th><th scope=col>&lt;chr&gt;</th><th scope=col>&lt;chr&gt;</th><th scope=col>&lt;chr&gt;</th><th scope=col>&lt;chr&gt;</th><th scope=col>&lt;chr&gt;</th><th scope=col>&lt;chr&gt;</th></tr>\n",
       "</thead>\n",
       "<tbody>\n",
       "\t<tr><td>CW20012_NRXN1_Het_a   </td><td>NRXN1</td><td>CW20012  </td><td>HET </td><td>NRXN1_HET </td><td>HIGH   </td><td>Female</td><td>a</td><td>CW20012.NRXN1_HET   </td></tr>\n",
       "\t<tr><td>CW50037_NRXN1_Homo_b  </td><td>NRXN1</td><td>CW50037  </td><td>HOMO</td><td>NRXN1_HOMO</td><td>NEUTRAL</td><td>Female</td><td>a</td><td>CW50037.NRXN1_HOMO  </td></tr>\n",
       "\t<tr><td>CW50037_NRXN1_Homo_c  </td><td>NRXN1</td><td>CW50037  </td><td>HOMO</td><td>NRXN1_HOMO</td><td>NEUTRAL</td><td>Female</td><td>a</td><td>CW50037.NRXN1_HOMO  </td></tr>\n",
       "\t<tr><td>CW50037_NRXN1_Homo_d  </td><td>NRXN1</td><td>CW50037  </td><td>HOMO</td><td>NRXN1_HOMO</td><td>NEUTRAL</td><td>Female</td><td>a</td><td>CW50037.NRXN1_HOMO  </td></tr>\n",
       "\t<tr><td>CW20012_NRXN1_Het_b   </td><td>NRXN1</td><td>CW20012  </td><td>HET </td><td>NRXN1_HET </td><td>HIGH   </td><td>Female</td><td>a</td><td>CW20012.NRXN1_HET   </td></tr>\n",
       "\t<tr><td>CW20012_NRXN1_Het_c   </td><td>NRXN1</td><td>CW20012  </td><td>HET </td><td>NRXN1_HET </td><td>HIGH   </td><td>Female</td><td>a</td><td>CW20012.NRXN1_HET   </td></tr>\n",
       "\t<tr><td>CW20012_NRXN1_Het_d   </td><td>NRXN1</td><td>CW20012  </td><td>HET </td><td>NRXN1_HET </td><td>HIGH   </td><td>Female</td><td>a</td><td>CW20012.NRXN1_HET   </td></tr>\n",
       "\t<tr><td>ML8984425_NRXN1_Homo_a</td><td>NRXN1</td><td>ML8984425</td><td>HOMO</td><td>NRXN1_HOMO</td><td>LOW    </td><td>Female</td><td>b</td><td>ML8984425.NRXN1_HOMO</td></tr>\n",
       "\t<tr><td>ML8984425_NRXN1_Homo_b</td><td>NRXN1</td><td>ML8984425</td><td>HOMO</td><td>NRXN1_HOMO</td><td>LOW    </td><td>Female</td><td>b</td><td>ML8984425.NRXN1_HOMO</td></tr>\n",
       "\t<tr><td>ML8984425_NRXN1_Homo_c</td><td>NRXN1</td><td>ML8984425</td><td>HOMO</td><td>NRXN1_HOMO</td><td>LOW    </td><td>Female</td><td>b</td><td>ML8984425.NRXN1_HOMO</td></tr>\n",
       "\t<tr><td>ML8984425_NRXN1_Homo_d</td><td>NRXN1</td><td>ML8984425</td><td>HOMO</td><td>NRXN1_HOMO</td><td>LOW    </td><td>Female</td><td>b</td><td>ML8984425.NRXN1_HOMO</td></tr>\n",
       "\t<tr><td>CW50037_NRXN1_Homo_a  </td><td>NRXN1</td><td>CW50037  </td><td>HOMO</td><td>NRXN1_HOMO</td><td>NEUTRAL</td><td>Female</td><td>a</td><td>CW50037.NRXN1_HOMO  </td></tr>\n",
       "\t<tr><td>ML6113363_NRXN1_Homo_a</td><td>NRXN1</td><td>ML6113363</td><td>HOMO</td><td>NRXN1_HOMO</td><td>HIGH   </td><td>Male  </td><td>b</td><td>ML6113363.NRXN1_HOMO</td></tr>\n",
       "\t<tr><td>ML6113363_NRXN1_Homo_b</td><td>NRXN1</td><td>ML6113363</td><td>HOMO</td><td>NRXN1_HOMO</td><td>HIGH   </td><td>Male  </td><td>b</td><td>ML6113363.NRXN1_HOMO</td></tr>\n",
       "\t<tr><td>ML6113363_NRXN1_Homo_c</td><td>NRXN1</td><td>ML6113363</td><td>HOMO</td><td>NRXN1_HOMO</td><td>HIGH   </td><td>Male  </td><td>b</td><td>ML6113363.NRXN1_HOMO</td></tr>\n",
       "\t<tr><td>ML6113363_NRXN1_Homo_d</td><td>NRXN1</td><td>ML6113363</td><td>HOMO</td><td>NRXN1_HOMO</td><td>HIGH   </td><td>Male  </td><td>b</td><td>ML6113363.NRXN1_HOMO</td></tr>\n",
       "\t<tr><td>ML9108360_NRXN1_Het_a </td><td>NRXN1</td><td>ML9108360</td><td>HET </td><td>NRXN1_HET </td><td>HIGH   </td><td>Male  </td><td>b</td><td>ML9108360.NRXN1_HET </td></tr>\n",
       "\t<tr><td>ML9108360_NRXN1_Het_b </td><td>NRXN1</td><td>ML9108360</td><td>HET </td><td>NRXN1_HET </td><td>HIGH   </td><td>Male  </td><td>b</td><td>ML9108360.NRXN1_HET </td></tr>\n",
       "\t<tr><td>ML9108360_NRXN1_Het_c </td><td>NRXN1</td><td>ML9108360</td><td>HET </td><td>NRXN1_HET </td><td>HIGH   </td><td>Male  </td><td>b</td><td>ML9108360.NRXN1_HET </td></tr>\n",
       "\t<tr><td>ML9108360_NRXN1_Het_d </td><td>NRXN1</td><td>ML9108360</td><td>HET </td><td>NRXN1_HET </td><td>HIGH   </td><td>Male  </td><td>b</td><td>ML9108360.NRXN1_HET </td></tr>\n",
       "\t<tr><td>ML6113363_NRXN1_Het_a </td><td>NRXN1</td><td>ML6113363</td><td>HET </td><td>NRXN1_HET </td><td>HIGH   </td><td>Male  </td><td>b</td><td>ML6113363.NRXN1_HET </td></tr>\n",
       "\t<tr><td>ML9096344_NRXN1_Homo_b</td><td>NRXN1</td><td>ML9096344</td><td>HOMO</td><td>NRXN1_HOMO</td><td>HIGH   </td><td>Male  </td><td>b</td><td>ML9096344.NRXN1_HOMO</td></tr>\n",
       "\t<tr><td>ML9096344_NRXN1_Homo_c</td><td>NRXN1</td><td>ML9096344</td><td>HOMO</td><td>NRXN1_HOMO</td><td>HIGH   </td><td>Male  </td><td>b</td><td>ML9096344.NRXN1_HOMO</td></tr>\n",
       "\t<tr><td>ML9096344_NRXN1_Homo_d</td><td>NRXN1</td><td>ML9096344</td><td>HOMO</td><td>NRXN1_HOMO</td><td>HIGH   </td><td>Male  </td><td>b</td><td>ML9096344.NRXN1_HOMO</td></tr>\n",
       "\t<tr><td>ML6113363_NRXN1_Het_b </td><td>NRXN1</td><td>ML6113363</td><td>HET </td><td>NRXN1_HET </td><td>HIGH   </td><td>Male  </td><td>b</td><td>ML6113363.NRXN1_HET </td></tr>\n",
       "\t<tr><td>ML6113363_NRXN1_Het_c </td><td>NRXN1</td><td>ML6113363</td><td>HET </td><td>NRXN1_HET </td><td>HIGH   </td><td>Male  </td><td>b</td><td>ML6113363.NRXN1_HET </td></tr>\n",
       "\t<tr><td>ML6113363_NRXN1_Het_d </td><td>NRXN1</td><td>ML6113363</td><td>HET </td><td>NRXN1_HET </td><td>HIGH   </td><td>Male  </td><td>b</td><td>ML6113363.NRXN1_HET </td></tr>\n",
       "\t<tr><td>ML9108360_NRXN1_WT_a  </td><td>NRXN1</td><td>ML9108360</td><td>WT  </td><td>NRXN1_WT  </td><td>HIGH   </td><td>Male  </td><td>b</td><td>ML9108360.NRXN1_WT  </td></tr>\n",
       "\t<tr><td>ML9108360_NRXN1_WT_b  </td><td>NRXN1</td><td>ML9108360</td><td>WT  </td><td>NRXN1_WT  </td><td>HIGH   </td><td>Male  </td><td>b</td><td>ML9108360.NRXN1_WT  </td></tr>\n",
       "\t<tr><td>ML9108360_NRXN1_WT_c  </td><td>NRXN1</td><td>ML9108360</td><td>WT  </td><td>NRXN1_WT  </td><td>HIGH   </td><td>Male  </td><td>b</td><td>ML9108360.NRXN1_WT  </td></tr>\n",
       "\t<tr><td>...</td><td>...</td><td>...</td><td>...</td><td>...</td><td>...</td><td>...</td><td>...</td><td>...</td></tr>\n",
       "\t<tr><td>ML6112911_NRXN1_Homo_c</td><td>NRXN1</td><td>ML6112911</td><td>HOMO</td><td>NRXN1_HOMO</td><td>NEUTRAL</td><td>Male  </td><td>b</td><td>ML6112911.NRXN1_HOMO</td></tr>\n",
       "\t<tr><td>ML6112911_NRXN1_Homo_d</td><td>NRXN1</td><td>ML6112911</td><td>HOMO</td><td>NRXN1_HOMO</td><td>NEUTRAL</td><td>Male  </td><td>b</td><td>ML6112911.NRXN1_HOMO</td></tr>\n",
       "\t<tr><td>ML6112911_NRXN1_WT_a  </td><td>NRXN1</td><td>ML6112911</td><td>WT  </td><td>NRXN1_WT  </td><td>NEUTRAL</td><td>Male  </td><td>b</td><td>ML6112911.NRXN1_WT  </td></tr>\n",
       "\t<tr><td>ML6112911_NRXN1_WT_b  </td><td>NRXN1</td><td>ML6112911</td><td>WT  </td><td>NRXN1_WT  </td><td>NEUTRAL</td><td>Male  </td><td>b</td><td>ML6112911.NRXN1_WT  </td></tr>\n",
       "\t<tr><td>ML6112911_NRXN1_WT_c  </td><td>NRXN1</td><td>ML6112911</td><td>WT  </td><td>NRXN1_WT  </td><td>NEUTRAL</td><td>Male  </td><td>b</td><td>ML6112911.NRXN1_WT  </td></tr>\n",
       "\t<tr><td>ML6112911_NRXN1_WT_d  </td><td>NRXN1</td><td>ML6112911</td><td>WT  </td><td>NRXN1_WT  </td><td>NEUTRAL</td><td>Male  </td><td>b</td><td>ML6112911.NRXN1_WT  </td></tr>\n",
       "\t<tr><td>ML6113363_NRXN1_WT_a  </td><td>NRXN1</td><td>ML6113363</td><td>WT  </td><td>NRXN1_WT  </td><td>HIGH   </td><td>Male  </td><td>b</td><td>ML6113363.NRXN1_WT  </td></tr>\n",
       "\t<tr><td>CW50037_NRXN1_WT_b    </td><td>NRXN1</td><td>CW50037  </td><td>WT  </td><td>NRXN1_WT  </td><td>NEUTRAL</td><td>Female</td><td>b</td><td>CW50037.NRXN1_WT    </td></tr>\n",
       "\t<tr><td>CW50037_NRXN1_WT_c    </td><td>NRXN1</td><td>CW50037  </td><td>WT  </td><td>NRXN1_WT  </td><td>NEUTRAL</td><td>Female</td><td>b</td><td>CW50037.NRXN1_WT    </td></tr>\n",
       "\t<tr><td>CW50037_NRXN1_WT_d    </td><td>NRXN1</td><td>CW50037  </td><td>WT  </td><td>NRXN1_WT  </td><td>NEUTRAL</td><td>Female</td><td>b</td><td>CW50037.NRXN1_WT    </td></tr>\n",
       "\t<tr><td>ML6113363_NRXN1_WT_b  </td><td>NRXN1</td><td>ML6113363</td><td>WT  </td><td>NRXN1_WT  </td><td>HIGH   </td><td>Male  </td><td>b</td><td>ML6113363.NRXN1_WT  </td></tr>\n",
       "\t<tr><td>ML6113363_NRXN1_WT_c  </td><td>NRXN1</td><td>ML6113363</td><td>WT  </td><td>NRXN1_WT  </td><td>HIGH   </td><td>Male  </td><td>b</td><td>ML6113363.NRXN1_WT  </td></tr>\n",
       "\t<tr><td>ML6113363_NRXN1_WT_d  </td><td>NRXN1</td><td>ML6113363</td><td>WT  </td><td>NRXN1_WT  </td><td>HIGH   </td><td>Male  </td><td>b</td><td>ML6113363.NRXN1_WT  </td></tr>\n",
       "\t<tr><td>CW50037_NRXN1_WT_a    </td><td>NRXN1</td><td>CW50037  </td><td>WT  </td><td>NRXN1_WT  </td><td>NEUTRAL</td><td>Female</td><td>b</td><td>CW50037.NRXN1_WT    </td></tr>\n",
       "\t<tr><td>ML9096344_NRXN1_WT_a  </td><td>NRXN1</td><td>ML9096344</td><td>WT  </td><td>NRXN1_WT  </td><td>HIGH   </td><td>Male  </td><td>b</td><td>ML9096344.NRXN1_WT  </td></tr>\n",
       "\t<tr><td>CW20103_NRXN1_Homo_b  </td><td>NRXN1</td><td>CW20103  </td><td>HOMO</td><td>NRXN1_HOMO</td><td>NEUTRAL</td><td>Female</td><td>b</td><td>CW20103.NRXN1_HOMO  </td></tr>\n",
       "\t<tr><td>CW20103_NRXN1_Homo_c  </td><td>NRXN1</td><td>CW20103  </td><td>HOMO</td><td>NRXN1_HOMO</td><td>NEUTRAL</td><td>Female</td><td>b</td><td>CW20103.NRXN1_HOMO  </td></tr>\n",
       "\t<tr><td>CW20103_NRXN1_Homo_d  </td><td>NRXN1</td><td>CW20103  </td><td>HOMO</td><td>NRXN1_HOMO</td><td>NEUTRAL</td><td>Female</td><td>b</td><td>CW20103.NRXN1_HOMO  </td></tr>\n",
       "\t<tr><td>ML9096344_NRXN1_WT_b  </td><td>NRXN1</td><td>ML9096344</td><td>WT  </td><td>NRXN1_WT  </td><td>HIGH   </td><td>Male  </td><td>b</td><td>ML9096344.NRXN1_WT  </td></tr>\n",
       "\t<tr><td>ML9096344_NRXN1_WT_c  </td><td>NRXN1</td><td>ML9096344</td><td>WT  </td><td>NRXN1_WT  </td><td>HIGH   </td><td>Male  </td><td>b</td><td>ML9096344.NRXN1_WT  </td></tr>\n",
       "\t<tr><td>ML9096344_NRXN1_WT_d  </td><td>NRXN1</td><td>ML9096344</td><td>WT  </td><td>NRXN1_WT  </td><td>HIGH   </td><td>Male  </td><td>b</td><td>ML9096344.NRXN1_WT  </td></tr>\n",
       "\t<tr><td>ML9119779_NRXN1_Homo_a</td><td>NRXN1</td><td>ML9119779</td><td>HOMO</td><td>NRXN1_HOMO</td><td>NEUTRAL</td><td>Female</td><td>b</td><td>ML9119779.NRXN1_HOMO</td></tr>\n",
       "\t<tr><td>ML9119779_NRXN1_Homo_b</td><td>NRXN1</td><td>ML9119779</td><td>HOMO</td><td>NRXN1_HOMO</td><td>NEUTRAL</td><td>Female</td><td>b</td><td>ML9119779.NRXN1_HOMO</td></tr>\n",
       "\t<tr><td>ML9119779_NRXN1_Homo_c</td><td>NRXN1</td><td>ML9119779</td><td>HOMO</td><td>NRXN1_HOMO</td><td>NEUTRAL</td><td>Female</td><td>b</td><td>ML9119779.NRXN1_HOMO</td></tr>\n",
       "\t<tr><td>ML9119779_NRXN1_Homo_d</td><td>NRXN1</td><td>ML9119779</td><td>HOMO</td><td>NRXN1_HOMO</td><td>NEUTRAL</td><td>Female</td><td>b</td><td>ML9119779.NRXN1_HOMO</td></tr>\n",
       "\t<tr><td>CW20103_NRXN1_Homo_a  </td><td>NRXN1</td><td>CW20103  </td><td>HOMO</td><td>NRXN1_HOMO</td><td>NEUTRAL</td><td>Female</td><td>b</td><td>CW20103.NRXN1_HOMO  </td></tr>\n",
       "\t<tr><td>CW20012_NRXN1_Homo_a  </td><td>NRXN1</td><td>CW20012  </td><td>HOMO</td><td>NRXN1_HOMO</td><td>HIGH   </td><td>Female</td><td>b</td><td>CW20012.NRXN1_HOMO  </td></tr>\n",
       "\t<tr><td>CW20012_NRXN1_Homo_b  </td><td>NRXN1</td><td>CW20012  </td><td>HOMO</td><td>NRXN1_HOMO</td><td>HIGH   </td><td>Female</td><td>b</td><td>CW20012.NRXN1_HOMO  </td></tr>\n",
       "\t<tr><td>CW20012_NRXN1_Homo_c  </td><td>NRXN1</td><td>CW20012  </td><td>HOMO</td><td>NRXN1_HOMO</td><td>HIGH   </td><td>Female</td><td>b</td><td>CW20012.NRXN1_HOMO  </td></tr>\n",
       "\t<tr><td>CW20012_NRXN1_Homo_d  </td><td>NRXN1</td><td>CW20012  </td><td>HOMO</td><td>NRXN1_HOMO</td><td>HIGH   </td><td>Female</td><td>b</td><td>CW20012.NRXN1_HOMO  </td></tr>\n",
       "</tbody>\n",
       "</table>\n"
      ],
      "text/latex": [
       "A data.frame: 119 x 9\n",
       "\\begin{tabular}{lllllllll}\n",
       " sample & gene & donor & genotype & target\\_gt & PRS & sex & plate & group\\\\\n",
       " <chr> & <chr> & <chr> & <chr> & <chr> & <chr> & <chr> & <chr> & <chr>\\\\\n",
       "\\hline\n",
       "\t CW20012\\_NRXN1\\_Het\\_a    & NRXN1 & CW20012   & HET  & NRXN1\\_HET  & HIGH    & Female & a & CW20012.NRXN1\\_HET   \\\\\n",
       "\t CW50037\\_NRXN1\\_Homo\\_b   & NRXN1 & CW50037   & HOMO & NRXN1\\_HOMO & NEUTRAL & Female & a & CW50037.NRXN1\\_HOMO  \\\\\n",
       "\t CW50037\\_NRXN1\\_Homo\\_c   & NRXN1 & CW50037   & HOMO & NRXN1\\_HOMO & NEUTRAL & Female & a & CW50037.NRXN1\\_HOMO  \\\\\n",
       "\t CW50037\\_NRXN1\\_Homo\\_d   & NRXN1 & CW50037   & HOMO & NRXN1\\_HOMO & NEUTRAL & Female & a & CW50037.NRXN1\\_HOMO  \\\\\n",
       "\t CW20012\\_NRXN1\\_Het\\_b    & NRXN1 & CW20012   & HET  & NRXN1\\_HET  & HIGH    & Female & a & CW20012.NRXN1\\_HET   \\\\\n",
       "\t CW20012\\_NRXN1\\_Het\\_c    & NRXN1 & CW20012   & HET  & NRXN1\\_HET  & HIGH    & Female & a & CW20012.NRXN1\\_HET   \\\\\n",
       "\t CW20012\\_NRXN1\\_Het\\_d    & NRXN1 & CW20012   & HET  & NRXN1\\_HET  & HIGH    & Female & a & CW20012.NRXN1\\_HET   \\\\\n",
       "\t ML8984425\\_NRXN1\\_Homo\\_a & NRXN1 & ML8984425 & HOMO & NRXN1\\_HOMO & LOW     & Female & b & ML8984425.NRXN1\\_HOMO\\\\\n",
       "\t ML8984425\\_NRXN1\\_Homo\\_b & NRXN1 & ML8984425 & HOMO & NRXN1\\_HOMO & LOW     & Female & b & ML8984425.NRXN1\\_HOMO\\\\\n",
       "\t ML8984425\\_NRXN1\\_Homo\\_c & NRXN1 & ML8984425 & HOMO & NRXN1\\_HOMO & LOW     & Female & b & ML8984425.NRXN1\\_HOMO\\\\\n",
       "\t ML8984425\\_NRXN1\\_Homo\\_d & NRXN1 & ML8984425 & HOMO & NRXN1\\_HOMO & LOW     & Female & b & ML8984425.NRXN1\\_HOMO\\\\\n",
       "\t CW50037\\_NRXN1\\_Homo\\_a   & NRXN1 & CW50037   & HOMO & NRXN1\\_HOMO & NEUTRAL & Female & a & CW50037.NRXN1\\_HOMO  \\\\\n",
       "\t ML6113363\\_NRXN1\\_Homo\\_a & NRXN1 & ML6113363 & HOMO & NRXN1\\_HOMO & HIGH    & Male   & b & ML6113363.NRXN1\\_HOMO\\\\\n",
       "\t ML6113363\\_NRXN1\\_Homo\\_b & NRXN1 & ML6113363 & HOMO & NRXN1\\_HOMO & HIGH    & Male   & b & ML6113363.NRXN1\\_HOMO\\\\\n",
       "\t ML6113363\\_NRXN1\\_Homo\\_c & NRXN1 & ML6113363 & HOMO & NRXN1\\_HOMO & HIGH    & Male   & b & ML6113363.NRXN1\\_HOMO\\\\\n",
       "\t ML6113363\\_NRXN1\\_Homo\\_d & NRXN1 & ML6113363 & HOMO & NRXN1\\_HOMO & HIGH    & Male   & b & ML6113363.NRXN1\\_HOMO\\\\\n",
       "\t ML9108360\\_NRXN1\\_Het\\_a  & NRXN1 & ML9108360 & HET  & NRXN1\\_HET  & HIGH    & Male   & b & ML9108360.NRXN1\\_HET \\\\\n",
       "\t ML9108360\\_NRXN1\\_Het\\_b  & NRXN1 & ML9108360 & HET  & NRXN1\\_HET  & HIGH    & Male   & b & ML9108360.NRXN1\\_HET \\\\\n",
       "\t ML9108360\\_NRXN1\\_Het\\_c  & NRXN1 & ML9108360 & HET  & NRXN1\\_HET  & HIGH    & Male   & b & ML9108360.NRXN1\\_HET \\\\\n",
       "\t ML9108360\\_NRXN1\\_Het\\_d  & NRXN1 & ML9108360 & HET  & NRXN1\\_HET  & HIGH    & Male   & b & ML9108360.NRXN1\\_HET \\\\\n",
       "\t ML6113363\\_NRXN1\\_Het\\_a  & NRXN1 & ML6113363 & HET  & NRXN1\\_HET  & HIGH    & Male   & b & ML6113363.NRXN1\\_HET \\\\\n",
       "\t ML9096344\\_NRXN1\\_Homo\\_b & NRXN1 & ML9096344 & HOMO & NRXN1\\_HOMO & HIGH    & Male   & b & ML9096344.NRXN1\\_HOMO\\\\\n",
       "\t ML9096344\\_NRXN1\\_Homo\\_c & NRXN1 & ML9096344 & HOMO & NRXN1\\_HOMO & HIGH    & Male   & b & ML9096344.NRXN1\\_HOMO\\\\\n",
       "\t ML9096344\\_NRXN1\\_Homo\\_d & NRXN1 & ML9096344 & HOMO & NRXN1\\_HOMO & HIGH    & Male   & b & ML9096344.NRXN1\\_HOMO\\\\\n",
       "\t ML6113363\\_NRXN1\\_Het\\_b  & NRXN1 & ML6113363 & HET  & NRXN1\\_HET  & HIGH    & Male   & b & ML6113363.NRXN1\\_HET \\\\\n",
       "\t ML6113363\\_NRXN1\\_Het\\_c  & NRXN1 & ML6113363 & HET  & NRXN1\\_HET  & HIGH    & Male   & b & ML6113363.NRXN1\\_HET \\\\\n",
       "\t ML6113363\\_NRXN1\\_Het\\_d  & NRXN1 & ML6113363 & HET  & NRXN1\\_HET  & HIGH    & Male   & b & ML6113363.NRXN1\\_HET \\\\\n",
       "\t ML9108360\\_NRXN1\\_WT\\_a   & NRXN1 & ML9108360 & WT   & NRXN1\\_WT   & HIGH    & Male   & b & ML9108360.NRXN1\\_WT  \\\\\n",
       "\t ML9108360\\_NRXN1\\_WT\\_b   & NRXN1 & ML9108360 & WT   & NRXN1\\_WT   & HIGH    & Male   & b & ML9108360.NRXN1\\_WT  \\\\\n",
       "\t ML9108360\\_NRXN1\\_WT\\_c   & NRXN1 & ML9108360 & WT   & NRXN1\\_WT   & HIGH    & Male   & b & ML9108360.NRXN1\\_WT  \\\\\n",
       "\t ... & ... & ... & ... & ... & ... & ... & ... & ...\\\\\n",
       "\t ML6112911\\_NRXN1\\_Homo\\_c & NRXN1 & ML6112911 & HOMO & NRXN1\\_HOMO & NEUTRAL & Male   & b & ML6112911.NRXN1\\_HOMO\\\\\n",
       "\t ML6112911\\_NRXN1\\_Homo\\_d & NRXN1 & ML6112911 & HOMO & NRXN1\\_HOMO & NEUTRAL & Male   & b & ML6112911.NRXN1\\_HOMO\\\\\n",
       "\t ML6112911\\_NRXN1\\_WT\\_a   & NRXN1 & ML6112911 & WT   & NRXN1\\_WT   & NEUTRAL & Male   & b & ML6112911.NRXN1\\_WT  \\\\\n",
       "\t ML6112911\\_NRXN1\\_WT\\_b   & NRXN1 & ML6112911 & WT   & NRXN1\\_WT   & NEUTRAL & Male   & b & ML6112911.NRXN1\\_WT  \\\\\n",
       "\t ML6112911\\_NRXN1\\_WT\\_c   & NRXN1 & ML6112911 & WT   & NRXN1\\_WT   & NEUTRAL & Male   & b & ML6112911.NRXN1\\_WT  \\\\\n",
       "\t ML6112911\\_NRXN1\\_WT\\_d   & NRXN1 & ML6112911 & WT   & NRXN1\\_WT   & NEUTRAL & Male   & b & ML6112911.NRXN1\\_WT  \\\\\n",
       "\t ML6113363\\_NRXN1\\_WT\\_a   & NRXN1 & ML6113363 & WT   & NRXN1\\_WT   & HIGH    & Male   & b & ML6113363.NRXN1\\_WT  \\\\\n",
       "\t CW50037\\_NRXN1\\_WT\\_b     & NRXN1 & CW50037   & WT   & NRXN1\\_WT   & NEUTRAL & Female & b & CW50037.NRXN1\\_WT    \\\\\n",
       "\t CW50037\\_NRXN1\\_WT\\_c     & NRXN1 & CW50037   & WT   & NRXN1\\_WT   & NEUTRAL & Female & b & CW50037.NRXN1\\_WT    \\\\\n",
       "\t CW50037\\_NRXN1\\_WT\\_d     & NRXN1 & CW50037   & WT   & NRXN1\\_WT   & NEUTRAL & Female & b & CW50037.NRXN1\\_WT    \\\\\n",
       "\t ML6113363\\_NRXN1\\_WT\\_b   & NRXN1 & ML6113363 & WT   & NRXN1\\_WT   & HIGH    & Male   & b & ML6113363.NRXN1\\_WT  \\\\\n",
       "\t ML6113363\\_NRXN1\\_WT\\_c   & NRXN1 & ML6113363 & WT   & NRXN1\\_WT   & HIGH    & Male   & b & ML6113363.NRXN1\\_WT  \\\\\n",
       "\t ML6113363\\_NRXN1\\_WT\\_d   & NRXN1 & ML6113363 & WT   & NRXN1\\_WT   & HIGH    & Male   & b & ML6113363.NRXN1\\_WT  \\\\\n",
       "\t CW50037\\_NRXN1\\_WT\\_a     & NRXN1 & CW50037   & WT   & NRXN1\\_WT   & NEUTRAL & Female & b & CW50037.NRXN1\\_WT    \\\\\n",
       "\t ML9096344\\_NRXN1\\_WT\\_a   & NRXN1 & ML9096344 & WT   & NRXN1\\_WT   & HIGH    & Male   & b & ML9096344.NRXN1\\_WT  \\\\\n",
       "\t CW20103\\_NRXN1\\_Homo\\_b   & NRXN1 & CW20103   & HOMO & NRXN1\\_HOMO & NEUTRAL & Female & b & CW20103.NRXN1\\_HOMO  \\\\\n",
       "\t CW20103\\_NRXN1\\_Homo\\_c   & NRXN1 & CW20103   & HOMO & NRXN1\\_HOMO & NEUTRAL & Female & b & CW20103.NRXN1\\_HOMO  \\\\\n",
       "\t CW20103\\_NRXN1\\_Homo\\_d   & NRXN1 & CW20103   & HOMO & NRXN1\\_HOMO & NEUTRAL & Female & b & CW20103.NRXN1\\_HOMO  \\\\\n",
       "\t ML9096344\\_NRXN1\\_WT\\_b   & NRXN1 & ML9096344 & WT   & NRXN1\\_WT   & HIGH    & Male   & b & ML9096344.NRXN1\\_WT  \\\\\n",
       "\t ML9096344\\_NRXN1\\_WT\\_c   & NRXN1 & ML9096344 & WT   & NRXN1\\_WT   & HIGH    & Male   & b & ML9096344.NRXN1\\_WT  \\\\\n",
       "\t ML9096344\\_NRXN1\\_WT\\_d   & NRXN1 & ML9096344 & WT   & NRXN1\\_WT   & HIGH    & Male   & b & ML9096344.NRXN1\\_WT  \\\\\n",
       "\t ML9119779\\_NRXN1\\_Homo\\_a & NRXN1 & ML9119779 & HOMO & NRXN1\\_HOMO & NEUTRAL & Female & b & ML9119779.NRXN1\\_HOMO\\\\\n",
       "\t ML9119779\\_NRXN1\\_Homo\\_b & NRXN1 & ML9119779 & HOMO & NRXN1\\_HOMO & NEUTRAL & Female & b & ML9119779.NRXN1\\_HOMO\\\\\n",
       "\t ML9119779\\_NRXN1\\_Homo\\_c & NRXN1 & ML9119779 & HOMO & NRXN1\\_HOMO & NEUTRAL & Female & b & ML9119779.NRXN1\\_HOMO\\\\\n",
       "\t ML9119779\\_NRXN1\\_Homo\\_d & NRXN1 & ML9119779 & HOMO & NRXN1\\_HOMO & NEUTRAL & Female & b & ML9119779.NRXN1\\_HOMO\\\\\n",
       "\t CW20103\\_NRXN1\\_Homo\\_a   & NRXN1 & CW20103   & HOMO & NRXN1\\_HOMO & NEUTRAL & Female & b & CW20103.NRXN1\\_HOMO  \\\\\n",
       "\t CW20012\\_NRXN1\\_Homo\\_a   & NRXN1 & CW20012   & HOMO & NRXN1\\_HOMO & HIGH    & Female & b & CW20012.NRXN1\\_HOMO  \\\\\n",
       "\t CW20012\\_NRXN1\\_Homo\\_b   & NRXN1 & CW20012   & HOMO & NRXN1\\_HOMO & HIGH    & Female & b & CW20012.NRXN1\\_HOMO  \\\\\n",
       "\t CW20012\\_NRXN1\\_Homo\\_c   & NRXN1 & CW20012   & HOMO & NRXN1\\_HOMO & HIGH    & Female & b & CW20012.NRXN1\\_HOMO  \\\\\n",
       "\t CW20012\\_NRXN1\\_Homo\\_d   & NRXN1 & CW20012   & HOMO & NRXN1\\_HOMO & HIGH    & Female & b & CW20012.NRXN1\\_HOMO  \\\\\n",
       "\\end{tabular}\n"
      ],
      "text/markdown": [
       "\n",
       "A data.frame: 119 x 9\n",
       "\n",
       "| sample &lt;chr&gt; | gene &lt;chr&gt; | donor &lt;chr&gt; | genotype &lt;chr&gt; | target_gt &lt;chr&gt; | PRS &lt;chr&gt; | sex &lt;chr&gt; | plate &lt;chr&gt; | group &lt;chr&gt; |\n",
       "|---|---|---|---|---|---|---|---|---|\n",
       "| CW20012_NRXN1_Het_a    | NRXN1 | CW20012   | HET  | NRXN1_HET  | HIGH    | Female | a | CW20012.NRXN1_HET    |\n",
       "| CW50037_NRXN1_Homo_b   | NRXN1 | CW50037   | HOMO | NRXN1_HOMO | NEUTRAL | Female | a | CW50037.NRXN1_HOMO   |\n",
       "| CW50037_NRXN1_Homo_c   | NRXN1 | CW50037   | HOMO | NRXN1_HOMO | NEUTRAL | Female | a | CW50037.NRXN1_HOMO   |\n",
       "| CW50037_NRXN1_Homo_d   | NRXN1 | CW50037   | HOMO | NRXN1_HOMO | NEUTRAL | Female | a | CW50037.NRXN1_HOMO   |\n",
       "| CW20012_NRXN1_Het_b    | NRXN1 | CW20012   | HET  | NRXN1_HET  | HIGH    | Female | a | CW20012.NRXN1_HET    |\n",
       "| CW20012_NRXN1_Het_c    | NRXN1 | CW20012   | HET  | NRXN1_HET  | HIGH    | Female | a | CW20012.NRXN1_HET    |\n",
       "| CW20012_NRXN1_Het_d    | NRXN1 | CW20012   | HET  | NRXN1_HET  | HIGH    | Female | a | CW20012.NRXN1_HET    |\n",
       "| ML8984425_NRXN1_Homo_a | NRXN1 | ML8984425 | HOMO | NRXN1_HOMO | LOW     | Female | b | ML8984425.NRXN1_HOMO |\n",
       "| ML8984425_NRXN1_Homo_b | NRXN1 | ML8984425 | HOMO | NRXN1_HOMO | LOW     | Female | b | ML8984425.NRXN1_HOMO |\n",
       "| ML8984425_NRXN1_Homo_c | NRXN1 | ML8984425 | HOMO | NRXN1_HOMO | LOW     | Female | b | ML8984425.NRXN1_HOMO |\n",
       "| ML8984425_NRXN1_Homo_d | NRXN1 | ML8984425 | HOMO | NRXN1_HOMO | LOW     | Female | b | ML8984425.NRXN1_HOMO |\n",
       "| CW50037_NRXN1_Homo_a   | NRXN1 | CW50037   | HOMO | NRXN1_HOMO | NEUTRAL | Female | a | CW50037.NRXN1_HOMO   |\n",
       "| ML6113363_NRXN1_Homo_a | NRXN1 | ML6113363 | HOMO | NRXN1_HOMO | HIGH    | Male   | b | ML6113363.NRXN1_HOMO |\n",
       "| ML6113363_NRXN1_Homo_b | NRXN1 | ML6113363 | HOMO | NRXN1_HOMO | HIGH    | Male   | b | ML6113363.NRXN1_HOMO |\n",
       "| ML6113363_NRXN1_Homo_c | NRXN1 | ML6113363 | HOMO | NRXN1_HOMO | HIGH    | Male   | b | ML6113363.NRXN1_HOMO |\n",
       "| ML6113363_NRXN1_Homo_d | NRXN1 | ML6113363 | HOMO | NRXN1_HOMO | HIGH    | Male   | b | ML6113363.NRXN1_HOMO |\n",
       "| ML9108360_NRXN1_Het_a  | NRXN1 | ML9108360 | HET  | NRXN1_HET  | HIGH    | Male   | b | ML9108360.NRXN1_HET  |\n",
       "| ML9108360_NRXN1_Het_b  | NRXN1 | ML9108360 | HET  | NRXN1_HET  | HIGH    | Male   | b | ML9108360.NRXN1_HET  |\n",
       "| ML9108360_NRXN1_Het_c  | NRXN1 | ML9108360 | HET  | NRXN1_HET  | HIGH    | Male   | b | ML9108360.NRXN1_HET  |\n",
       "| ML9108360_NRXN1_Het_d  | NRXN1 | ML9108360 | HET  | NRXN1_HET  | HIGH    | Male   | b | ML9108360.NRXN1_HET  |\n",
       "| ML6113363_NRXN1_Het_a  | NRXN1 | ML6113363 | HET  | NRXN1_HET  | HIGH    | Male   | b | ML6113363.NRXN1_HET  |\n",
       "| ML9096344_NRXN1_Homo_b | NRXN1 | ML9096344 | HOMO | NRXN1_HOMO | HIGH    | Male   | b | ML9096344.NRXN1_HOMO |\n",
       "| ML9096344_NRXN1_Homo_c | NRXN1 | ML9096344 | HOMO | NRXN1_HOMO | HIGH    | Male   | b | ML9096344.NRXN1_HOMO |\n",
       "| ML9096344_NRXN1_Homo_d | NRXN1 | ML9096344 | HOMO | NRXN1_HOMO | HIGH    | Male   | b | ML9096344.NRXN1_HOMO |\n",
       "| ML6113363_NRXN1_Het_b  | NRXN1 | ML6113363 | HET  | NRXN1_HET  | HIGH    | Male   | b | ML6113363.NRXN1_HET  |\n",
       "| ML6113363_NRXN1_Het_c  | NRXN1 | ML6113363 | HET  | NRXN1_HET  | HIGH    | Male   | b | ML6113363.NRXN1_HET  |\n",
       "| ML6113363_NRXN1_Het_d  | NRXN1 | ML6113363 | HET  | NRXN1_HET  | HIGH    | Male   | b | ML6113363.NRXN1_HET  |\n",
       "| ML9108360_NRXN1_WT_a   | NRXN1 | ML9108360 | WT   | NRXN1_WT   | HIGH    | Male   | b | ML9108360.NRXN1_WT   |\n",
       "| ML9108360_NRXN1_WT_b   | NRXN1 | ML9108360 | WT   | NRXN1_WT   | HIGH    | Male   | b | ML9108360.NRXN1_WT   |\n",
       "| ML9108360_NRXN1_WT_c   | NRXN1 | ML9108360 | WT   | NRXN1_WT   | HIGH    | Male   | b | ML9108360.NRXN1_WT   |\n",
       "| ... | ... | ... | ... | ... | ... | ... | ... | ... |\n",
       "| ML6112911_NRXN1_Homo_c | NRXN1 | ML6112911 | HOMO | NRXN1_HOMO | NEUTRAL | Male   | b | ML6112911.NRXN1_HOMO |\n",
       "| ML6112911_NRXN1_Homo_d | NRXN1 | ML6112911 | HOMO | NRXN1_HOMO | NEUTRAL | Male   | b | ML6112911.NRXN1_HOMO |\n",
       "| ML6112911_NRXN1_WT_a   | NRXN1 | ML6112911 | WT   | NRXN1_WT   | NEUTRAL | Male   | b | ML6112911.NRXN1_WT   |\n",
       "| ML6112911_NRXN1_WT_b   | NRXN1 | ML6112911 | WT   | NRXN1_WT   | NEUTRAL | Male   | b | ML6112911.NRXN1_WT   |\n",
       "| ML6112911_NRXN1_WT_c   | NRXN1 | ML6112911 | WT   | NRXN1_WT   | NEUTRAL | Male   | b | ML6112911.NRXN1_WT   |\n",
       "| ML6112911_NRXN1_WT_d   | NRXN1 | ML6112911 | WT   | NRXN1_WT   | NEUTRAL | Male   | b | ML6112911.NRXN1_WT   |\n",
       "| ML6113363_NRXN1_WT_a   | NRXN1 | ML6113363 | WT   | NRXN1_WT   | HIGH    | Male   | b | ML6113363.NRXN1_WT   |\n",
       "| CW50037_NRXN1_WT_b     | NRXN1 | CW50037   | WT   | NRXN1_WT   | NEUTRAL | Female | b | CW50037.NRXN1_WT     |\n",
       "| CW50037_NRXN1_WT_c     | NRXN1 | CW50037   | WT   | NRXN1_WT   | NEUTRAL | Female | b | CW50037.NRXN1_WT     |\n",
       "| CW50037_NRXN1_WT_d     | NRXN1 | CW50037   | WT   | NRXN1_WT   | NEUTRAL | Female | b | CW50037.NRXN1_WT     |\n",
       "| ML6113363_NRXN1_WT_b   | NRXN1 | ML6113363 | WT   | NRXN1_WT   | HIGH    | Male   | b | ML6113363.NRXN1_WT   |\n",
       "| ML6113363_NRXN1_WT_c   | NRXN1 | ML6113363 | WT   | NRXN1_WT   | HIGH    | Male   | b | ML6113363.NRXN1_WT   |\n",
       "| ML6113363_NRXN1_WT_d   | NRXN1 | ML6113363 | WT   | NRXN1_WT   | HIGH    | Male   | b | ML6113363.NRXN1_WT   |\n",
       "| CW50037_NRXN1_WT_a     | NRXN1 | CW50037   | WT   | NRXN1_WT   | NEUTRAL | Female | b | CW50037.NRXN1_WT     |\n",
       "| ML9096344_NRXN1_WT_a   | NRXN1 | ML9096344 | WT   | NRXN1_WT   | HIGH    | Male   | b | ML9096344.NRXN1_WT   |\n",
       "| CW20103_NRXN1_Homo_b   | NRXN1 | CW20103   | HOMO | NRXN1_HOMO | NEUTRAL | Female | b | CW20103.NRXN1_HOMO   |\n",
       "| CW20103_NRXN1_Homo_c   | NRXN1 | CW20103   | HOMO | NRXN1_HOMO | NEUTRAL | Female | b | CW20103.NRXN1_HOMO   |\n",
       "| CW20103_NRXN1_Homo_d   | NRXN1 | CW20103   | HOMO | NRXN1_HOMO | NEUTRAL | Female | b | CW20103.NRXN1_HOMO   |\n",
       "| ML9096344_NRXN1_WT_b   | NRXN1 | ML9096344 | WT   | NRXN1_WT   | HIGH    | Male   | b | ML9096344.NRXN1_WT   |\n",
       "| ML9096344_NRXN1_WT_c   | NRXN1 | ML9096344 | WT   | NRXN1_WT   | HIGH    | Male   | b | ML9096344.NRXN1_WT   |\n",
       "| ML9096344_NRXN1_WT_d   | NRXN1 | ML9096344 | WT   | NRXN1_WT   | HIGH    | Male   | b | ML9096344.NRXN1_WT   |\n",
       "| ML9119779_NRXN1_Homo_a | NRXN1 | ML9119779 | HOMO | NRXN1_HOMO | NEUTRAL | Female | b | ML9119779.NRXN1_HOMO |\n",
       "| ML9119779_NRXN1_Homo_b | NRXN1 | ML9119779 | HOMO | NRXN1_HOMO | NEUTRAL | Female | b | ML9119779.NRXN1_HOMO |\n",
       "| ML9119779_NRXN1_Homo_c | NRXN1 | ML9119779 | HOMO | NRXN1_HOMO | NEUTRAL | Female | b | ML9119779.NRXN1_HOMO |\n",
       "| ML9119779_NRXN1_Homo_d | NRXN1 | ML9119779 | HOMO | NRXN1_HOMO | NEUTRAL | Female | b | ML9119779.NRXN1_HOMO |\n",
       "| CW20103_NRXN1_Homo_a   | NRXN1 | CW20103   | HOMO | NRXN1_HOMO | NEUTRAL | Female | b | CW20103.NRXN1_HOMO   |\n",
       "| CW20012_NRXN1_Homo_a   | NRXN1 | CW20012   | HOMO | NRXN1_HOMO | HIGH    | Female | b | CW20012.NRXN1_HOMO   |\n",
       "| CW20012_NRXN1_Homo_b   | NRXN1 | CW20012   | HOMO | NRXN1_HOMO | HIGH    | Female | b | CW20012.NRXN1_HOMO   |\n",
       "| CW20012_NRXN1_Homo_c   | NRXN1 | CW20012   | HOMO | NRXN1_HOMO | HIGH    | Female | b | CW20012.NRXN1_HOMO   |\n",
       "| CW20012_NRXN1_Homo_d   | NRXN1 | CW20012   | HOMO | NRXN1_HOMO | HIGH    | Female | b | CW20012.NRXN1_HOMO   |\n",
       "\n"
      ],
      "text/plain": [
       "    sample                 gene  donor     genotype target_gt  PRS     sex   \n",
       "1   CW20012_NRXN1_Het_a    NRXN1 CW20012   HET      NRXN1_HET  HIGH    Female\n",
       "2   CW50037_NRXN1_Homo_b   NRXN1 CW50037   HOMO     NRXN1_HOMO NEUTRAL Female\n",
       "3   CW50037_NRXN1_Homo_c   NRXN1 CW50037   HOMO     NRXN1_HOMO NEUTRAL Female\n",
       "4   CW50037_NRXN1_Homo_d   NRXN1 CW50037   HOMO     NRXN1_HOMO NEUTRAL Female\n",
       "5   CW20012_NRXN1_Het_b    NRXN1 CW20012   HET      NRXN1_HET  HIGH    Female\n",
       "6   CW20012_NRXN1_Het_c    NRXN1 CW20012   HET      NRXN1_HET  HIGH    Female\n",
       "7   CW20012_NRXN1_Het_d    NRXN1 CW20012   HET      NRXN1_HET  HIGH    Female\n",
       "8   ML8984425_NRXN1_Homo_a NRXN1 ML8984425 HOMO     NRXN1_HOMO LOW     Female\n",
       "9   ML8984425_NRXN1_Homo_b NRXN1 ML8984425 HOMO     NRXN1_HOMO LOW     Female\n",
       "10  ML8984425_NRXN1_Homo_c NRXN1 ML8984425 HOMO     NRXN1_HOMO LOW     Female\n",
       "11  ML8984425_NRXN1_Homo_d NRXN1 ML8984425 HOMO     NRXN1_HOMO LOW     Female\n",
       "12  CW50037_NRXN1_Homo_a   NRXN1 CW50037   HOMO     NRXN1_HOMO NEUTRAL Female\n",
       "13  ML6113363_NRXN1_Homo_a NRXN1 ML6113363 HOMO     NRXN1_HOMO HIGH    Male  \n",
       "14  ML6113363_NRXN1_Homo_b NRXN1 ML6113363 HOMO     NRXN1_HOMO HIGH    Male  \n",
       "15  ML6113363_NRXN1_Homo_c NRXN1 ML6113363 HOMO     NRXN1_HOMO HIGH    Male  \n",
       "16  ML6113363_NRXN1_Homo_d NRXN1 ML6113363 HOMO     NRXN1_HOMO HIGH    Male  \n",
       "17  ML9108360_NRXN1_Het_a  NRXN1 ML9108360 HET      NRXN1_HET  HIGH    Male  \n",
       "18  ML9108360_NRXN1_Het_b  NRXN1 ML9108360 HET      NRXN1_HET  HIGH    Male  \n",
       "19  ML9108360_NRXN1_Het_c  NRXN1 ML9108360 HET      NRXN1_HET  HIGH    Male  \n",
       "20  ML9108360_NRXN1_Het_d  NRXN1 ML9108360 HET      NRXN1_HET  HIGH    Male  \n",
       "21  ML6113363_NRXN1_Het_a  NRXN1 ML6113363 HET      NRXN1_HET  HIGH    Male  \n",
       "22  ML9096344_NRXN1_Homo_b NRXN1 ML9096344 HOMO     NRXN1_HOMO HIGH    Male  \n",
       "23  ML9096344_NRXN1_Homo_c NRXN1 ML9096344 HOMO     NRXN1_HOMO HIGH    Male  \n",
       "24  ML9096344_NRXN1_Homo_d NRXN1 ML9096344 HOMO     NRXN1_HOMO HIGH    Male  \n",
       "25  ML6113363_NRXN1_Het_b  NRXN1 ML6113363 HET      NRXN1_HET  HIGH    Male  \n",
       "26  ML6113363_NRXN1_Het_c  NRXN1 ML6113363 HET      NRXN1_HET  HIGH    Male  \n",
       "27  ML6113363_NRXN1_Het_d  NRXN1 ML6113363 HET      NRXN1_HET  HIGH    Male  \n",
       "28  ML9108360_NRXN1_WT_a   NRXN1 ML9108360 WT       NRXN1_WT   HIGH    Male  \n",
       "29  ML9108360_NRXN1_WT_b   NRXN1 ML9108360 WT       NRXN1_WT   HIGH    Male  \n",
       "30  ML9108360_NRXN1_WT_c   NRXN1 ML9108360 WT       NRXN1_WT   HIGH    Male  \n",
       "... ...                    ...   ...       ...      ...        ...     ...   \n",
       "90  ML6112911_NRXN1_Homo_c NRXN1 ML6112911 HOMO     NRXN1_HOMO NEUTRAL Male  \n",
       "91  ML6112911_NRXN1_Homo_d NRXN1 ML6112911 HOMO     NRXN1_HOMO NEUTRAL Male  \n",
       "92  ML6112911_NRXN1_WT_a   NRXN1 ML6112911 WT       NRXN1_WT   NEUTRAL Male  \n",
       "93  ML6112911_NRXN1_WT_b   NRXN1 ML6112911 WT       NRXN1_WT   NEUTRAL Male  \n",
       "94  ML6112911_NRXN1_WT_c   NRXN1 ML6112911 WT       NRXN1_WT   NEUTRAL Male  \n",
       "95  ML6112911_NRXN1_WT_d   NRXN1 ML6112911 WT       NRXN1_WT   NEUTRAL Male  \n",
       "96  ML6113363_NRXN1_WT_a   NRXN1 ML6113363 WT       NRXN1_WT   HIGH    Male  \n",
       "97  CW50037_NRXN1_WT_b     NRXN1 CW50037   WT       NRXN1_WT   NEUTRAL Female\n",
       "98  CW50037_NRXN1_WT_c     NRXN1 CW50037   WT       NRXN1_WT   NEUTRAL Female\n",
       "99  CW50037_NRXN1_WT_d     NRXN1 CW50037   WT       NRXN1_WT   NEUTRAL Female\n",
       "100 ML6113363_NRXN1_WT_b   NRXN1 ML6113363 WT       NRXN1_WT   HIGH    Male  \n",
       "101 ML6113363_NRXN1_WT_c   NRXN1 ML6113363 WT       NRXN1_WT   HIGH    Male  \n",
       "102 ML6113363_NRXN1_WT_d   NRXN1 ML6113363 WT       NRXN1_WT   HIGH    Male  \n",
       "103 CW50037_NRXN1_WT_a     NRXN1 CW50037   WT       NRXN1_WT   NEUTRAL Female\n",
       "104 ML9096344_NRXN1_WT_a   NRXN1 ML9096344 WT       NRXN1_WT   HIGH    Male  \n",
       "105 CW20103_NRXN1_Homo_b   NRXN1 CW20103   HOMO     NRXN1_HOMO NEUTRAL Female\n",
       "106 CW20103_NRXN1_Homo_c   NRXN1 CW20103   HOMO     NRXN1_HOMO NEUTRAL Female\n",
       "107 CW20103_NRXN1_Homo_d   NRXN1 CW20103   HOMO     NRXN1_HOMO NEUTRAL Female\n",
       "108 ML9096344_NRXN1_WT_b   NRXN1 ML9096344 WT       NRXN1_WT   HIGH    Male  \n",
       "109 ML9096344_NRXN1_WT_c   NRXN1 ML9096344 WT       NRXN1_WT   HIGH    Male  \n",
       "110 ML9096344_NRXN1_WT_d   NRXN1 ML9096344 WT       NRXN1_WT   HIGH    Male  \n",
       "111 ML9119779_NRXN1_Homo_a NRXN1 ML9119779 HOMO     NRXN1_HOMO NEUTRAL Female\n",
       "112 ML9119779_NRXN1_Homo_b NRXN1 ML9119779 HOMO     NRXN1_HOMO NEUTRAL Female\n",
       "113 ML9119779_NRXN1_Homo_c NRXN1 ML9119779 HOMO     NRXN1_HOMO NEUTRAL Female\n",
       "114 ML9119779_NRXN1_Homo_d NRXN1 ML9119779 HOMO     NRXN1_HOMO NEUTRAL Female\n",
       "115 CW20103_NRXN1_Homo_a   NRXN1 CW20103   HOMO     NRXN1_HOMO NEUTRAL Female\n",
       "116 CW20012_NRXN1_Homo_a   NRXN1 CW20012   HOMO     NRXN1_HOMO HIGH    Female\n",
       "117 CW20012_NRXN1_Homo_b   NRXN1 CW20012   HOMO     NRXN1_HOMO HIGH    Female\n",
       "118 CW20012_NRXN1_Homo_c   NRXN1 CW20012   HOMO     NRXN1_HOMO HIGH    Female\n",
       "119 CW20012_NRXN1_Homo_d   NRXN1 CW20012   HOMO     NRXN1_HOMO HIGH    Female\n",
       "    plate group               \n",
       "1   a     CW20012.NRXN1_HET   \n",
       "2   a     CW50037.NRXN1_HOMO  \n",
       "3   a     CW50037.NRXN1_HOMO  \n",
       "4   a     CW50037.NRXN1_HOMO  \n",
       "5   a     CW20012.NRXN1_HET   \n",
       "6   a     CW20012.NRXN1_HET   \n",
       "7   a     CW20012.NRXN1_HET   \n",
       "8   b     ML8984425.NRXN1_HOMO\n",
       "9   b     ML8984425.NRXN1_HOMO\n",
       "10  b     ML8984425.NRXN1_HOMO\n",
       "11  b     ML8984425.NRXN1_HOMO\n",
       "12  a     CW50037.NRXN1_HOMO  \n",
       "13  b     ML6113363.NRXN1_HOMO\n",
       "14  b     ML6113363.NRXN1_HOMO\n",
       "15  b     ML6113363.NRXN1_HOMO\n",
       "16  b     ML6113363.NRXN1_HOMO\n",
       "17  b     ML9108360.NRXN1_HET \n",
       "18  b     ML9108360.NRXN1_HET \n",
       "19  b     ML9108360.NRXN1_HET \n",
       "20  b     ML9108360.NRXN1_HET \n",
       "21  b     ML6113363.NRXN1_HET \n",
       "22  b     ML9096344.NRXN1_HOMO\n",
       "23  b     ML9096344.NRXN1_HOMO\n",
       "24  b     ML9096344.NRXN1_HOMO\n",
       "25  b     ML6113363.NRXN1_HET \n",
       "26  b     ML6113363.NRXN1_HET \n",
       "27  b     ML6113363.NRXN1_HET \n",
       "28  b     ML9108360.NRXN1_WT  \n",
       "29  b     ML9108360.NRXN1_WT  \n",
       "30  b     ML9108360.NRXN1_WT  \n",
       "... ...   ...                 \n",
       "90  b     ML6112911.NRXN1_HOMO\n",
       "91  b     ML6112911.NRXN1_HOMO\n",
       "92  b     ML6112911.NRXN1_WT  \n",
       "93  b     ML6112911.NRXN1_WT  \n",
       "94  b     ML6112911.NRXN1_WT  \n",
       "95  b     ML6112911.NRXN1_WT  \n",
       "96  b     ML6113363.NRXN1_WT  \n",
       "97  b     CW50037.NRXN1_WT    \n",
       "98  b     CW50037.NRXN1_WT    \n",
       "99  b     CW50037.NRXN1_WT    \n",
       "100 b     ML6113363.NRXN1_WT  \n",
       "101 b     ML6113363.NRXN1_WT  \n",
       "102 b     ML6113363.NRXN1_WT  \n",
       "103 b     CW50037.NRXN1_WT    \n",
       "104 b     ML9096344.NRXN1_WT  \n",
       "105 b     CW20103.NRXN1_HOMO  \n",
       "106 b     CW20103.NRXN1_HOMO  \n",
       "107 b     CW20103.NRXN1_HOMO  \n",
       "108 b     ML9096344.NRXN1_WT  \n",
       "109 b     ML9096344.NRXN1_WT  \n",
       "110 b     ML9096344.NRXN1_WT  \n",
       "111 b     ML9119779.NRXN1_HOMO\n",
       "112 b     ML9119779.NRXN1_HOMO\n",
       "113 b     ML9119779.NRXN1_HOMO\n",
       "114 b     ML9119779.NRXN1_HOMO\n",
       "115 b     CW20103.NRXN1_HOMO  \n",
       "116 b     CW20012.NRXN1_HOMO  \n",
       "117 b     CW20012.NRXN1_HOMO  \n",
       "118 b     CW20012.NRXN1_HOMO  \n",
       "119 b     CW20012.NRXN1_HOMO  "
      ]
     },
     "metadata": {},
     "output_type": "display_data"
    }
   ],
   "source": [
    "#metadata <- \n",
    "metadata"
   ]
  },
  {
   "cell_type": "code",
   "execution_count": 80,
   "metadata": {
    "vscode": {
     "languageId": "r"
    }
   },
   "outputs": [
    {
     "name": "stderr",
     "output_type": "stream",
     "text": [
      "converting counts to integer mode\n",
      "\n",
      "Warning message in DESeqDataSet(se, design = design, ignoreRank):\n",
      "\"some variables in design formula are characters, converting to factors\"\n"
     ]
    }
   ],
   "source": [
    "# first run differential expression on data using DEseq2\n",
    "library(DESeq2,verbose=F)\n",
    "\n",
    "# create metadata dataframe containing sgRNA conditions/target conditions\n",
    "coldata <- data.frame(row.names=colnames(counts))\n",
    "coldata$target_gt <- as.factor(metadata[match(rownames(coldata),metadata$sample),\"target_gt\"])\n",
    "# coldata$plate <- as.factor(metadata[match(rownames(coldata),metadata$sample),\"plate\"])\n",
    "coldata$PRS <- as.factor(metadata[match(rownames(coldata),metadata$sample),\"PRS\"])\n",
    "coldata$donor <- as.factor(metadata[match(rownames(coldata),metadata$sample),\"donor\"])\n",
    "coldata$group <- paste0(coldata$donor,\".\",coldata$target_gt)\n",
    "\n",
    "#metadata$genotype_dosage <- as.numeric(factor(metadata$target_gt, levels=c(\"NRXN1_WT\", \"NRXN1_HET\", \"NRXN1_HOMO\"))) - 1\n",
    "\n",
    "# Create a DESeqDataSet\n",
    "#dds <- DESeqDataSetFromMatrix(countData = counts, colData = metadata, design = ~ genotype_dosage)\n",
    "# create DESeq2 dataset, using sgRNA as design matrix\n",
    "dds <- DESeqDataSetFromMatrix(countData = counts,\n",
    "                              colData = coldata,\n",
    "                              design = ~0 + group)"
   ]
  },
  {
   "cell_type": "code",
   "execution_count": 81,
   "metadata": {
    "vscode": {
     "languageId": "r"
    }
   },
   "outputs": [
    {
     "data": {
      "text/plain": [
       "keep\n",
       "FALSE  TRUE \n",
       "    5    11 "
      ]
     },
     "metadata": {},
     "output_type": "display_data"
    }
   ],
   "source": [
    "# filter dataset to only use genes with >10 counts in >=3 samples\n",
    "smallestGroupSize <- 3\n",
    "keep <- rowSums(counts(dds) >= 50) >= smallestGroupSize\n",
    "table(keep)\n",
    "dds <- dds[keep,]"
   ]
  },
  {
   "cell_type": "code",
   "execution_count": 88,
   "metadata": {
    "vscode": {
     "languageId": "r"
    }
   },
   "outputs": [
    {
     "name": "stderr",
     "output_type": "stream",
     "text": [
      "using pre-existing size factors\n",
      "\n",
      "estimating dispersions\n",
      "\n",
      "found already estimated dispersions, replacing these\n",
      "\n",
      "gene-wise dispersion estimates\n",
      "\n",
      "mean-dispersion relationship\n",
      "\n",
      "final dispersion estimates\n",
      "\n",
      "fitting model and testing\n",
      "\n"
     ]
    },
    {
     "data": {
      "text/html": [
       "<table class=\"dataframe\">\n",
       "<caption>A data.frame: 11 x 7</caption>\n",
       "<thead>\n",
       "\t<tr><th scope=col>baseMean</th><th scope=col>log2FoldChange</th><th scope=col>lfcSE</th><th scope=col>stat</th><th scope=col>pvalue</th><th scope=col>padj</th><th scope=col>GENE</th></tr>\n",
       "\t<tr><th scope=col>&lt;dbl&gt;</th><th scope=col>&lt;dbl&gt;</th><th scope=col>&lt;dbl&gt;</th><th scope=col>&lt;dbl&gt;</th><th scope=col>&lt;dbl&gt;</th><th scope=col>&lt;dbl&gt;</th><th scope=col>&lt;chr&gt;</th></tr>\n",
       "</thead>\n",
       "<tbody>\n",
       "\t<tr><td>319.29957</td><td>-0.93293228</td><td>0.7687211</td><td>-1.2136161</td><td>0.22489437</td><td>0.4947676</td><td>ABCA1 </td></tr>\n",
       "\t<tr><td>173.07499</td><td>-0.20765563</td><td>0.3635182</td><td>-0.5712386</td><td>0.56783792</td><td>0.7807771</td><td>CLU   </td></tr>\n",
       "\t<tr><td> 25.21117</td><td>-0.90394874</td><td>0.5525660</td><td>-1.6359110</td><td>0.10185822</td><td>0.4947676</td><td>FABP3 </td></tr>\n",
       "\t<tr><td>163.19709</td><td> 0.04622431</td><td>0.3891617</td><td> 0.1187792</td><td>0.90545031</td><td>0.9054503</td><td>FABP5 </td></tr>\n",
       "\t<tr><td> 14.93114</td><td>-1.70367313</td><td>1.5913761</td><td>-1.0705660</td><td>0.28436461</td><td>0.5213351</td><td>FABP7 </td></tr>\n",
       "\t<tr><td>645.11077</td><td> 0.60613537</td><td>0.2926384</td><td> 2.0712776</td><td>0.03833286</td><td>0.4216615</td><td>HMGCR </td></tr>\n",
       "\t<tr><td> 82.97981</td><td> 0.21984599</td><td>0.3552826</td><td> 0.6187918</td><td>0.53605352</td><td>0.7807771</td><td>LDLR  </td></tr>\n",
       "\t<tr><td>120.07180</td><td> 0.79356096</td><td>0.5425479</td><td> 1.4626561</td><td>0.14356151</td><td>0.4947676</td><td>LRP1  </td></tr>\n",
       "\t<tr><td> 15.38151</td><td>-0.54100953</td><td>0.4268102</td><td>-1.2675646</td><td>0.20495346</td><td>0.4947676</td><td>NR1H2 </td></tr>\n",
       "\t<tr><td> 23.37764</td><td>-0.04470534</td><td>0.3595828</td><td>-0.1243256</td><td>0.90105748</td><td>0.9054503</td><td>SOAT1 </td></tr>\n",
       "\t<tr><td> 84.67733</td><td> 0.12680395</td><td>0.3034322</td><td> 0.4178988</td><td>0.67602110</td><td>0.8262480</td><td>SREBF2</td></tr>\n",
       "</tbody>\n",
       "</table>\n"
      ],
      "text/latex": [
       "A data.frame: 11 x 7\n",
       "\\begin{tabular}{lllllll}\n",
       " baseMean & log2FoldChange & lfcSE & stat & pvalue & padj & GENE\\\\\n",
       " <dbl> & <dbl> & <dbl> & <dbl> & <dbl> & <dbl> & <chr>\\\\\n",
       "\\hline\n",
       "\t 319.29957 & -0.93293228 & 0.7687211 & -1.2136161 & 0.22489437 & 0.4947676 & ABCA1 \\\\\n",
       "\t 173.07499 & -0.20765563 & 0.3635182 & -0.5712386 & 0.56783792 & 0.7807771 & CLU   \\\\\n",
       "\t  25.21117 & -0.90394874 & 0.5525660 & -1.6359110 & 0.10185822 & 0.4947676 & FABP3 \\\\\n",
       "\t 163.19709 &  0.04622431 & 0.3891617 &  0.1187792 & 0.90545031 & 0.9054503 & FABP5 \\\\\n",
       "\t  14.93114 & -1.70367313 & 1.5913761 & -1.0705660 & 0.28436461 & 0.5213351 & FABP7 \\\\\n",
       "\t 645.11077 &  0.60613537 & 0.2926384 &  2.0712776 & 0.03833286 & 0.4216615 & HMGCR \\\\\n",
       "\t  82.97981 &  0.21984599 & 0.3552826 &  0.6187918 & 0.53605352 & 0.7807771 & LDLR  \\\\\n",
       "\t 120.07180 &  0.79356096 & 0.5425479 &  1.4626561 & 0.14356151 & 0.4947676 & LRP1  \\\\\n",
       "\t  15.38151 & -0.54100953 & 0.4268102 & -1.2675646 & 0.20495346 & 0.4947676 & NR1H2 \\\\\n",
       "\t  23.37764 & -0.04470534 & 0.3595828 & -0.1243256 & 0.90105748 & 0.9054503 & SOAT1 \\\\\n",
       "\t  84.67733 &  0.12680395 & 0.3034322 &  0.4178988 & 0.67602110 & 0.8262480 & SREBF2\\\\\n",
       "\\end{tabular}\n"
      ],
      "text/markdown": [
       "\n",
       "A data.frame: 11 x 7\n",
       "\n",
       "| baseMean &lt;dbl&gt; | log2FoldChange &lt;dbl&gt; | lfcSE &lt;dbl&gt; | stat &lt;dbl&gt; | pvalue &lt;dbl&gt; | padj &lt;dbl&gt; | GENE &lt;chr&gt; |\n",
       "|---|---|---|---|---|---|---|\n",
       "| 319.29957 | -0.93293228 | 0.7687211 | -1.2136161 | 0.22489437 | 0.4947676 | ABCA1  |\n",
       "| 173.07499 | -0.20765563 | 0.3635182 | -0.5712386 | 0.56783792 | 0.7807771 | CLU    |\n",
       "|  25.21117 | -0.90394874 | 0.5525660 | -1.6359110 | 0.10185822 | 0.4947676 | FABP3  |\n",
       "| 163.19709 |  0.04622431 | 0.3891617 |  0.1187792 | 0.90545031 | 0.9054503 | FABP5  |\n",
       "|  14.93114 | -1.70367313 | 1.5913761 | -1.0705660 | 0.28436461 | 0.5213351 | FABP7  |\n",
       "| 645.11077 |  0.60613537 | 0.2926384 |  2.0712776 | 0.03833286 | 0.4216615 | HMGCR  |\n",
       "|  82.97981 |  0.21984599 | 0.3552826 |  0.6187918 | 0.53605352 | 0.7807771 | LDLR   |\n",
       "| 120.07180 |  0.79356096 | 0.5425479 |  1.4626561 | 0.14356151 | 0.4947676 | LRP1   |\n",
       "|  15.38151 | -0.54100953 | 0.4268102 | -1.2675646 | 0.20495346 | 0.4947676 | NR1H2  |\n",
       "|  23.37764 | -0.04470534 | 0.3595828 | -0.1243256 | 0.90105748 | 0.9054503 | SOAT1  |\n",
       "|  84.67733 |  0.12680395 | 0.3034322 |  0.4178988 | 0.67602110 | 0.8262480 | SREBF2 |\n",
       "\n"
      ],
      "text/plain": [
       "   baseMean  log2FoldChange lfcSE     stat       pvalue     padj      GENE  \n",
       "1  319.29957 -0.93293228    0.7687211 -1.2136161 0.22489437 0.4947676 ABCA1 \n",
       "2  173.07499 -0.20765563    0.3635182 -0.5712386 0.56783792 0.7807771 CLU   \n",
       "3   25.21117 -0.90394874    0.5525660 -1.6359110 0.10185822 0.4947676 FABP3 \n",
       "4  163.19709  0.04622431    0.3891617  0.1187792 0.90545031 0.9054503 FABP5 \n",
       "5   14.93114 -1.70367313    1.5913761 -1.0705660 0.28436461 0.5213351 FABP7 \n",
       "6  645.11077  0.60613537    0.2926384  2.0712776 0.03833286 0.4216615 HMGCR \n",
       "7   82.97981  0.21984599    0.3552826  0.6187918 0.53605352 0.7807771 LDLR  \n",
       "8  120.07180  0.79356096    0.5425479  1.4626561 0.14356151 0.4947676 LRP1  \n",
       "9   15.38151 -0.54100953    0.4268102 -1.2675646 0.20495346 0.4947676 NR1H2 \n",
       "10  23.37764 -0.04470534    0.3595828 -0.1243256 0.90105748 0.9054503 SOAT1 \n",
       "11  84.67733  0.12680395    0.3034322  0.4178988 0.67602110 0.8262480 SREBF2"
      ]
     },
     "metadata": {},
     "output_type": "display_data"
    }
   ],
   "source": [
    "dds <- DESeq(dds) #,test=\"LRT\",reduced=~plate,useT=TRUE,minmu=1e-6,minReplicatesForReplace=Inf)\n",
    "#res <- results(dds,contrast=c(\"target_gt\",\"NRXN1_HOMO\",\"NRXN1_WT\"))\n",
    "res"
   ]
  },
  {
   "cell_type": "code",
   "execution_count": 83,
   "metadata": {
    "vscode": {
     "languageId": "r"
    }
   },
   "outputs": [
    {
     "data": {
      "text/html": [
       "<style>\n",
       ".list-inline {list-style: none; margin:0; padding: 0}\n",
       ".list-inline>li {display: inline-block}\n",
       ".list-inline>li:not(:last-child)::after {content: \"\\00b7\"; padding: 0 .5ex}\n",
       "</style>\n",
       "<ol class=list-inline><li>'groupCW20012.NRXN1_HET'</li><li>'groupCW20012.NRXN1_HOMO'</li><li>'groupCW20012.NRXN1_WT'</li><li>'groupCW20103.NRXN1_HOMO'</li><li>'groupCW20103.NRXN1_WT'</li><li>'groupCW30154.NRXN1_HOMO'</li><li>'groupCW30154.NRXN1_WT'</li><li>'groupCW50037.NRXN1_HOMO'</li><li>'groupCW50037.NRXN1_WT'</li><li>'groupML6112911.NRXN1_HOMO'</li><li>'groupML6112911.NRXN1_WT'</li><li>'groupML6113363.NRXN1_HET'</li><li>'groupML6113363.NRXN1_HOMO'</li><li>'groupML6113363.NRXN1_WT'</li><li>'groupML8326778.NRXN1_HOMO'</li><li>'groupML8984425.NRXN1_HET'</li><li>'groupML8984425.NRXN1_HOMO'</li><li>'groupML8984425.NRXN1_WT'</li><li>'groupML9072836.NRXN1_HET'</li><li>'groupML9072836.NRXN1_HOMO'</li><li>'groupML9072836.NRXN1_WT'</li><li>'groupML9096344.NRXN1_HOMO'</li><li>'groupML9096344.NRXN1_WT'</li><li>'groupML9108360.NRXN1_HET'</li><li>'groupML9108360.NRXN1_HOMO'</li><li>'groupML9108360.NRXN1_WT'</li><li>'groupML9119779.NRXN1_HET'</li><li>'groupML9119779.NRXN1_HOMO'</li><li>'groupML9119779.NRXN1_WT'</li></ol>\n"
      ],
      "text/latex": [
       "\\begin{enumerate*}\n",
       "\\item 'groupCW20012.NRXN1\\_HET'\n",
       "\\item 'groupCW20012.NRXN1\\_HOMO'\n",
       "\\item 'groupCW20012.NRXN1\\_WT'\n",
       "\\item 'groupCW20103.NRXN1\\_HOMO'\n",
       "\\item 'groupCW20103.NRXN1\\_WT'\n",
       "\\item 'groupCW30154.NRXN1\\_HOMO'\n",
       "\\item 'groupCW30154.NRXN1\\_WT'\n",
       "\\item 'groupCW50037.NRXN1\\_HOMO'\n",
       "\\item 'groupCW50037.NRXN1\\_WT'\n",
       "\\item 'groupML6112911.NRXN1\\_HOMO'\n",
       "\\item 'groupML6112911.NRXN1\\_WT'\n",
       "\\item 'groupML6113363.NRXN1\\_HET'\n",
       "\\item 'groupML6113363.NRXN1\\_HOMO'\n",
       "\\item 'groupML6113363.NRXN1\\_WT'\n",
       "\\item 'groupML8326778.NRXN1\\_HOMO'\n",
       "\\item 'groupML8984425.NRXN1\\_HET'\n",
       "\\item 'groupML8984425.NRXN1\\_HOMO'\n",
       "\\item 'groupML8984425.NRXN1\\_WT'\n",
       "\\item 'groupML9072836.NRXN1\\_HET'\n",
       "\\item 'groupML9072836.NRXN1\\_HOMO'\n",
       "\\item 'groupML9072836.NRXN1\\_WT'\n",
       "\\item 'groupML9096344.NRXN1\\_HOMO'\n",
       "\\item 'groupML9096344.NRXN1\\_WT'\n",
       "\\item 'groupML9108360.NRXN1\\_HET'\n",
       "\\item 'groupML9108360.NRXN1\\_HOMO'\n",
       "\\item 'groupML9108360.NRXN1\\_WT'\n",
       "\\item 'groupML9119779.NRXN1\\_HET'\n",
       "\\item 'groupML9119779.NRXN1\\_HOMO'\n",
       "\\item 'groupML9119779.NRXN1\\_WT'\n",
       "\\end{enumerate*}\n"
      ],
      "text/markdown": [
       "1. 'groupCW20012.NRXN1_HET'\n",
       "2. 'groupCW20012.NRXN1_HOMO'\n",
       "3. 'groupCW20012.NRXN1_WT'\n",
       "4. 'groupCW20103.NRXN1_HOMO'\n",
       "5. 'groupCW20103.NRXN1_WT'\n",
       "6. 'groupCW30154.NRXN1_HOMO'\n",
       "7. 'groupCW30154.NRXN1_WT'\n",
       "8. 'groupCW50037.NRXN1_HOMO'\n",
       "9. 'groupCW50037.NRXN1_WT'\n",
       "10. 'groupML6112911.NRXN1_HOMO'\n",
       "11. 'groupML6112911.NRXN1_WT'\n",
       "12. 'groupML6113363.NRXN1_HET'\n",
       "13. 'groupML6113363.NRXN1_HOMO'\n",
       "14. 'groupML6113363.NRXN1_WT'\n",
       "15. 'groupML8326778.NRXN1_HOMO'\n",
       "16. 'groupML8984425.NRXN1_HET'\n",
       "17. 'groupML8984425.NRXN1_HOMO'\n",
       "18. 'groupML8984425.NRXN1_WT'\n",
       "19. 'groupML9072836.NRXN1_HET'\n",
       "20. 'groupML9072836.NRXN1_HOMO'\n",
       "21. 'groupML9072836.NRXN1_WT'\n",
       "22. 'groupML9096344.NRXN1_HOMO'\n",
       "23. 'groupML9096344.NRXN1_WT'\n",
       "24. 'groupML9108360.NRXN1_HET'\n",
       "25. 'groupML9108360.NRXN1_HOMO'\n",
       "26. 'groupML9108360.NRXN1_WT'\n",
       "27. 'groupML9119779.NRXN1_HET'\n",
       "28. 'groupML9119779.NRXN1_HOMO'\n",
       "29. 'groupML9119779.NRXN1_WT'\n",
       "\n",
       "\n"
      ],
      "text/plain": [
       " [1] \"groupCW20012.NRXN1_HET\"    \"groupCW20012.NRXN1_HOMO\"  \n",
       " [3] \"groupCW20012.NRXN1_WT\"     \"groupCW20103.NRXN1_HOMO\"  \n",
       " [5] \"groupCW20103.NRXN1_WT\"     \"groupCW30154.NRXN1_HOMO\"  \n",
       " [7] \"groupCW30154.NRXN1_WT\"     \"groupCW50037.NRXN1_HOMO\"  \n",
       " [9] \"groupCW50037.NRXN1_WT\"     \"groupML6112911.NRXN1_HOMO\"\n",
       "[11] \"groupML6112911.NRXN1_WT\"   \"groupML6113363.NRXN1_HET\" \n",
       "[13] \"groupML6113363.NRXN1_HOMO\" \"groupML6113363.NRXN1_WT\"  \n",
       "[15] \"groupML8326778.NRXN1_HOMO\" \"groupML8984425.NRXN1_HET\" \n",
       "[17] \"groupML8984425.NRXN1_HOMO\" \"groupML8984425.NRXN1_WT\"  \n",
       "[19] \"groupML9072836.NRXN1_HET\"  \"groupML9072836.NRXN1_HOMO\"\n",
       "[21] \"groupML9072836.NRXN1_WT\"   \"groupML9096344.NRXN1_HOMO\"\n",
       "[23] \"groupML9096344.NRXN1_WT\"   \"groupML9108360.NRXN1_HET\" \n",
       "[25] \"groupML9108360.NRXN1_HOMO\" \"groupML9108360.NRXN1_WT\"  \n",
       "[27] \"groupML9119779.NRXN1_HET\"  \"groupML9119779.NRXN1_HOMO\"\n",
       "[29] \"groupML9119779.NRXN1_WT\"  "
      ]
     },
     "metadata": {},
     "output_type": "display_data"
    }
   ],
   "source": [
    "resultsNames(dds)"
   ]
  },
  {
   "cell_type": "code",
   "execution_count": null,
   "metadata": {
    "vscode": {
     "languageId": "r"
    }
   },
   "outputs": [],
   "source": [
    "#old\n",
    "library(data.table)\n",
    "dir.create(\"/stanley/nehme_lab/sbolshak/analysis/village_editing/TRADE/NRXN1/\")\n",
    "targets_list <- unique(coldata[! coldata$target_gt %in% c(\"NRXN1_WT\",\"LRP1_WT\"),\"group\"])\n",
    "for (target in targets_list) {\n",
    "    if (grepl(\"NRXN1\", target) & !grepl(\"WT\", target)) {\n",
    "    donor <- sub(\"\\\\..*\", \"\", target)\n",
    "    if (! paste0(\"group\",donor,\".NRXN1_WT\") %in% resultsNames(dds)) { \n",
    "        next \n",
    "    } else {\n",
    "        print(target)\n",
    "        res_tmp <- results(dds,contrast=c(\"group\",target,paste0(donor,\".NRXN1_WT\")))\n",
    "    }\n",
    "} else if (grepl(\"LRP1\", target) & !grepl(\"WT\", target)) {\n",
    "    donor <- sub(\"\\\\..*\", \"\", target)\n",
    "    if (! paste0(\"group\",donor,\".LRP1_WT\") %in% resultsNames(dds)) { \n",
    "        next \n",
    "    } else {\n",
    "        print(target)\n",
    "        res_tmp <- results(dds,contrast=c(\"group\",target,paste0(donor,\".LRP1_WT\")))\n",
    "    }\n",
    "    } else {\n",
    "        if (! paste0(\"group\",donor,\".NRXN1_WT\") %in% resultsNames(dds)) { \n",
    "    message(\"Skipping: contrast group\",donor,\".NRXN1_WT not found\")\n",
    "    next \n",
    "}\n",
    "        next\n",
    "    }\n",
    "    res_tmp_df <- as.data.frame(res_tmp)\n",
    "    res_tmp_df$GENE <- rownames(res_tmp_df)\n",
    "    # break\n",
    "    write.table(as.data.frame(res_tmp_df),paste0(\"/stanley/nehme_lab/sbolshak/analysis/village_editing/TRADE/NRXN1/\",target,\"_vs_CTRL.results.txt\"),sep=\"\\t\",quote=F,row.names=F,col.names=T)\n",
    "}\n",
    "print(\"Done!\")"
   ]
  },
  {
   "cell_type": "code",
   "execution_count": 60,
   "metadata": {
    "vscode": {
     "languageId": "r"
    }
   },
   "outputs": [
    {
     "name": "stderr",
     "output_type": "stream",
     "text": [
      "Warning message in dir.create(\"/stanley/nehme_lab/sbolshak/analysis/village_editing/TRADE/dosage/\", :\n",
      "\"'/stanley/nehme_lab/sbolshak/analysis/village_editing/TRADE/dosage' already exists\"\n"
     ]
    },
    {
     "name": "stdout",
     "output_type": "stream",
     "text": [
      "[1] \"Running: ML898-4425.NRXN1_HOMO\"\n",
      "[1] \"Running: ML611-3363.NRXN1_HOMO\"\n",
      "[1] \"Running: ML910-8360.NRXN1_HET\"\n",
      "[1] \"Running: ML611-3363.NRXN1_HET\"\n",
      "[1] \"Running: ML910-8360.NRXN1_HOMO\"\n",
      "[1] \"Running: ML907-2836.NRXN1_HOMO\"\n",
      "[1] \"Running: ML898-4425.NRXN1_HET\"\n",
      "[1] \"Running: ML907-2836.NRXN1_HET\"\n",
      "[1] \"Running: ML911-9779.NRXN1_HET\"\n",
      "[1] \"Running: ML911-9779.NRXN1_HOMO\"\n",
      "[1] \"Done!\"\n"
     ]
    }
   ],
   "source": [
    "dir.create(\"/stanley/nehme_lab/sbolshak/analysis/village_editing/TRADE/dosage/\", recursive = TRUE)\n",
    "\n",
    "targets_list <- unique(coldata[! coldata$target_gt %in% c(\"NRXN1_WT\", \"LRP1_WT\"), \"group\"])\n",
    "\n",
    "for (target in targets_list) {\n",
    "    # Parse donor ID from group name (everything before the last period)\n",
    "    donor <- gsub(\"-\", \".\", sub(\"\\\\.([^.]+)$\", \"\", target))\n",
    "\n",
    "    if (grepl(\"NRXN1\", target) & !grepl(\"WT\", target)) {\n",
    "        ref_group <- paste0(\"group\", donor, \".NRXN1_WT\")\n",
    "        if (! ref_group %in% resultsNames(dds)) {\n",
    "            message(\"Skipping: contrast \", ref_group, \" not found\")\n",
    "            next\n",
    "        }\n",
    "        print(paste(\"Running:\", target))\n",
    "        res_tmp <- results(dds, contrast = c(\"group\", target, paste0(donor, \".NRXN1_WT\")))\n",
    "\n",
    "    } else if (grepl(\"LRP1\", target) & !grepl(\"WT\", target)) {\n",
    "        ref_group <- paste0(\"group\", donor, \".LRP1_WT\")\n",
    "        if (! ref_group %in% resultsNames(dds)) {\n",
    "            message(\"Skipping: contrast \", ref_group, \" not found\")\n",
    "            next\n",
    "        }\n",
    "        print(paste(\"Running:\", target))\n",
    "        res_tmp <- results(dds, contrast = c(\"group\", target, paste0(donor, \".LRP1_WT\")))\n",
    "\n",
    "    } else {\n",
    "        next\n",
    "    }\n",
    "\n",
    "    res_tmp_df <- as.data.frame(res_tmp)\n",
    "    res_tmp_df$GENE <- rownames(res_tmp_df)\n",
    "\n",
    "    out_path <- paste0(\"/stanley/nehme_lab/sbolshak/analysis/village_editing/TRADE/dosage/\", target, \"_vs_CTRL.results.txt\")\n",
    "    write.table(res_tmp_df, out_path, sep = \"\\t\", quote = FALSE, row.names = FALSE, col.names = TRUE)\n",
    "}\n",
    "print(\"Done!\")"
   ]
  },
  {
   "cell_type": "code",
   "execution_count": null,
   "metadata": {
    "vscode": {
     "languageId": "r"
    }
   },
   "outputs": [],
   "source": [
    "targets_list"
   ]
  },
  {
   "cell_type": "code",
   "execution_count": 91,
   "metadata": {
    "vscode": {
     "languageId": "r"
    }
   },
   "outputs": [
    {
     "name": "stdout",
     "output_type": "stream",
     "text": [
      "[1] \"CW20012.NRXN1_HET\"\n",
      "[1] \"NRXN1...\"\n",
      "[1] \"CW20012.NRXN1_HET\"\n"
     ]
    },
    {
     "name": "stderr",
     "output_type": "stream",
     "text": [
      "0 genes excluded with NA entries\n",
      "\n",
      "0 genes excluded with extreme log2FC (abs value > 10)\n",
      "\n",
      "11 genes retained for analysis\n",
      "\n",
      "Fitting mixture model\n",
      "\n",
      "Warning message in check_args(mixcompdist, df, prior, optmethod, gridmult, sebetahat, :\n",
      "\"Use of halfuniform without nullbiased prior can lead to misleading local false sign rates, and so is not recommended\"\n"
     ]
    },
    {
     "ename": "ERROR",
     "evalue": "Error in x[[jj]][iseq] <- vjj: replacement has length zero\n",
     "output_type": "error",
     "traceback": [
      "Error in x[[jj]][iseq] <- vjj: replacement has length zero\nTraceback:\n",
      "1. `[<-`(`*tmp*`, \"KD\", target, value = logical(0))",
      "2. `[<-.data.frame`(`*tmp*`, \"KD\", target, value = logical(0))"
     ]
    }
   ],
   "source": [
    "library(mashr)\n",
    "library(ggplot2)\n",
    "library(ashr)\n",
    "library(TRADE)\n",
    "targets_list <- unique(coldata[! coldata$target_gt %in% c(\"NRXN1_WT\",\"LRP1_WT\"),\"group\"])\n",
    "deseq_res_files <- list.files(\"/stanley/nehme_lab/sbolshak/analysis/village_editing/TRADE/NRXN1/\")\n",
    "# run TRADE on ecah set of differential expression results, then write the combined results to a new summary file\n",
    "TRADE_out_df <- data.frame(row.names=c(\"mean\",\"transcriptome_wide_impact\",\"Me\",\"KD\"))\n",
    "for (target in targets_list) {\n",
    "    print(target)\n",
    "    if (target %like% \"NRXN1\" & !target %like% \"WT\") {\n",
    "        print(\"NRXN1...\")\n",
    "        donor <- sub(\"\\\\..*\", \"\", target)\n",
    "        if (! paste0(target,\"_vs_CTRL.results.txt\") %in% deseq_res_files) { \n",
    "            next \n",
    "        } else {\n",
    "            print(target)\n",
    "            res <- read.table(paste0(\"/stanley/nehme_lab/sbolshak/analysis/village_editing/TRADE/NRXN1/\",target,\"_vs_CTRL.results.txt\"),sep=\"\\t\",header=T)\n",
    "            TRADE_tmp <- TRADE(mode=\"univariate\",results1=res)\n",
    "            TRADE_out_df[c(\"mean\",\"transcriptome_wide_impact\",\"Me\"),target] <- as.numeric(TRADE_tmp$distribution_summary)\n",
    "            TRADE_out_df[\"KD\",target] <- ifelse(res[res$GENE==\"NRXN1\",'padj']<0.05,TRUE,FALSE)\n",
    "        }\n",
    "    } else if (target %like% \"LRP1\" & !target %like% \"WT\") {\n",
    "        print(\"LRP1...\")\n",
    "        donor <- sub(\"\\\\..*\", \"\", target)\n",
    "        if (! paste0(target,\"_vs_CTRL.results.txt\") %in% deseq_res_files){ \n",
    "            next \n",
    "        } else {\n",
    "            res <- read.table(paste0(\"/stanley/nehme_lab/sbolshak/analysis/village_editing/TRADE/NRXN1/\",target,\"_vs_CTRL.results.txt\"),sep=\"\\t\",header=T)\n",
    "            TRADE_tmp <- TRADE(mode=\"univariate\",results1=res)\n",
    "            TRADE_out_df[c(\"mean\",\"transcriptome_wide_impact\",\"Me\"),target] <- as.numeric(TRADE_tmp$distribution_summary)\n",
    "            TRADE_out_df[\"KD\",target] <- ifelse(res[res$GENE==\"LRP1\",'padj']<0.05,TRUE,FALSE)\n",
    "        }\n",
    "    } else {\n",
    "        next\n",
    "    }\n",
    "    print(target)\n",
    "\n",
    "    # res <- read.table(paste0(\"/broad/mccarroll/npettina/analysis/village_editing/DESeq2/by_donor/\",target,\"_vs_CTRL.results.txt\"),sep=\"\\t\",header=T)\n",
    "    # TRADE_tmp <- TRADE(mode=\"univariate\",results1=res)\n",
    "    # TRADE_out_df[,target] <- as.numeric(TRADE_tmp$distribution_summary)\n",
    "}\n",
    "\n",
    "TRADE_out_df <- as.data.frame(t(TRADE_out_df))\n",
    "TRADE_out_df$target <- rownames(TRADE_out_df)\n",
    "TRADE_out_df\n"
   ]
  },
  {
   "cell_type": "code",
   "execution_count": 75,
   "metadata": {
    "vscode": {
     "languageId": "r"
    }
   },
   "outputs": [
    {
     "name": "stderr",
     "output_type": "stream",
     "text": [
      "Loading required package: ashr\n",
      "\n"
     ]
    },
    {
     "name": "stdout",
     "output_type": "stream",
     "text": [
      "[1] \"ML9108360.NRXN1_WT\"\n",
      "[1] \"CW20012.NRXN1_WT\"\n",
      "[1] \"ML8984425.NRXN1_WT\"\n",
      "[1] \"ML9072836.NRXN1_WT\"\n",
      "[1] \"ML9119779.NRXN1_WT\"\n",
      "[1] \"CW20103.NRXN1_WT\"\n",
      "[1] \"CW30154.NRXN1_WT\"\n",
      "[1] \"ML6112911.NRXN1_WT\"\n",
      "[1] \"ML6113363.NRXN1_WT\"\n",
      "[1] \"CW50037.NRXN1_WT\"\n",
      "[1] \"ML9096344.NRXN1_WT\"\n"
     ]
    },
    {
     "data": {
      "text/html": [
       "<table class=\"dataframe\">\n",
       "<caption>A data.frame: 0 x 5</caption>\n",
       "<thead>\n",
       "\t<tr><th scope=col>mean</th><th scope=col>transcriptome_wide_impact</th><th scope=col>Me</th><th scope=col>KD</th><th scope=col>target</th></tr>\n",
       "\t<tr><th scope=col>&lt;lgl&gt;</th><th scope=col>&lt;lgl&gt;</th><th scope=col>&lt;lgl&gt;</th><th scope=col>&lt;lgl&gt;</th><th scope=col>&lt;chr&gt;</th></tr>\n",
       "</thead>\n",
       "<tbody>\n",
       "</tbody>\n",
       "</table>\n"
      ],
      "text/latex": [
       "A data.frame: 0 x 5\n",
       "\\begin{tabular}{lllll}\n",
       " mean & transcriptome\\_wide\\_impact & Me & KD & target\\\\\n",
       " <lgl> & <lgl> & <lgl> & <lgl> & <chr>\\\\\n",
       "\\hline\n",
       "\\end{tabular}\n"
      ],
      "text/markdown": [
       "\n",
       "A data.frame: 0 x 5\n",
       "\n",
       "| mean &lt;lgl&gt; | transcriptome_wide_impact &lt;lgl&gt; | Me &lt;lgl&gt; | KD &lt;lgl&gt; | target &lt;chr&gt; |\n",
       "|---|---|---|---|---|\n",
       "\n"
      ],
      "text/plain": [
       "     mean transcriptome_wide_impact Me KD target"
      ]
     },
     "metadata": {},
     "output_type": "display_data"
    }
   ],
   "source": [
    "#PRS\n",
    "library(mashr)\n",
    "library(ggplot2)\n",
    "library(ashr)\n",
    "library(TRADE)\n",
    "\n",
    "# Assuming PRS values are in coldata$group\n",
    "targets_list <- unique(coldata[! coldata$target_gt %in% c(\"PRSLOW\"), \"group\"])\n",
    "\n",
    "# Load DESeq2 result files\n",
    "deseq_res_files <- list.files(\"/stanley/nehme_lab/sbolshak/analysis/village_editing/TRADE/dosage/\")\n",
    "\n",
    "# Prepare an empty dataframe for TRADE output\n",
    "TRADE_out_df <- data.frame(row.names=c(\"mean\", \"transcriptome_wide_impact\", \"Me\", \"KD\"))\n",
    "\n",
    "for (target in targets_list) {\n",
    "    print(target)\n",
    "    \n",
    "    if (grepl(\"PRS\", target) & !grepl(\"LOW\", target)) {  # Adjusted for PRS condition\n",
    "        print(\"Processing PRS target...\")\n",
    "        \n",
    "        # Ensure the corresponding results file exists\n",
    "        if (!paste0(target, \"_vs_CTRL.results.txt\") %in% deseq_res_files) { \n",
    "            next \n",
    "        } else {\n",
    "            res <- read.table(paste0(\"/stanley/nehme_lab/sbolshak/analysis/village_editing/TRADE/dosage/\", target, \"_vs_CTRL.results.txt\"), sep=\"\\t\", header=T)\n",
    "            TRADE_tmp <- TRADE(mode=\"univariate\", results1=res)\n",
    "            \n",
    "            # Extract summary results from TRADE output and store in the output dataframe\n",
    "            TRADE_out_df[c(\"mean\", \"transcriptome_wide_impact\", \"Me\"), target] <- as.numeric(TRADE_tmp$distribution_summary)\n",
    "            \n",
    "            # Check if the contrast for the target is significant based on the p-value (adjusted)\n",
    "            TRADE_out_df[\"KD\", target] <- ifelse(res[res$GENE == target, 'padj'] < 0.05, TRUE, FALSE)\n",
    "        }\n",
    "    } else {\n",
    "        next  # Skip if not a valid PRS target\n",
    "    }\n",
    "\n",
    "    print(target)\n",
    "}\n",
    "\n",
    "# Transpose the dataframe so that each target is a row\n",
    "TRADE_out_df <- as.data.frame(t(TRADE_out_df))\n",
    "\n",
    "# Add the target column to the output dataframe\n",
    "TRADE_out_df$target <- rownames(TRADE_out_df)\n",
    "\n",
    "# View the final TRADE output\n",
    "TRADE_out_df"
   ]
  },
  {
   "cell_type": "code",
   "execution_count": 76,
   "metadata": {
    "vscode": {
     "languageId": "r"
    }
   },
   "outputs": [
    {
     "data": {
      "text/html": [
       "<style>\n",
       ".list-inline {list-style: none; margin:0; padding: 0}\n",
       ".list-inline>li {display: inline-block}\n",
       ".list-inline>li:not(:last-child)::after {content: \"\\00b7\"; padding: 0 .5ex}\n",
       "</style>\n",
       "<ol class=list-inline><li>'ML611-3363.NRXN1_HET_vs_CTRL.results.txt'</li><li>'ML611-3363.NRXN1_HOMO_vs_CTRL.results.txt'</li><li>'ML898-4425.NRXN1_HET_vs_CTRL.results.txt'</li><li>'ML898-4425.NRXN1_HOMO_vs_CTRL.results.txt'</li><li>'ML907-2836.NRXN1_HET_vs_CTRL.results.txt'</li><li>'ML907-2836.NRXN1_HOMO_vs_CTRL.results.txt'</li><li>'ML910-8360.NRXN1_HET_vs_CTRL.results.txt'</li><li>'ML910-8360.NRXN1_HOMO_vs_CTRL.results.txt'</li><li>'ML911-9779.NRXN1_HET_vs_CTRL.results.txt'</li><li>'ML911-9779.NRXN1_HOMO_vs_CTRL.results.txt'</li><li>'NRXN1.trade_dist_summary.csv'</li><li>'NRXN1_LRP1.trade_dist_summary.txt'</li></ol>\n"
      ],
      "text/latex": [
       "\\begin{enumerate*}\n",
       "\\item 'ML611-3363.NRXN1\\_HET\\_vs\\_CTRL.results.txt'\n",
       "\\item 'ML611-3363.NRXN1\\_HOMO\\_vs\\_CTRL.results.txt'\n",
       "\\item 'ML898-4425.NRXN1\\_HET\\_vs\\_CTRL.results.txt'\n",
       "\\item 'ML898-4425.NRXN1\\_HOMO\\_vs\\_CTRL.results.txt'\n",
       "\\item 'ML907-2836.NRXN1\\_HET\\_vs\\_CTRL.results.txt'\n",
       "\\item 'ML907-2836.NRXN1\\_HOMO\\_vs\\_CTRL.results.txt'\n",
       "\\item 'ML910-8360.NRXN1\\_HET\\_vs\\_CTRL.results.txt'\n",
       "\\item 'ML910-8360.NRXN1\\_HOMO\\_vs\\_CTRL.results.txt'\n",
       "\\item 'ML911-9779.NRXN1\\_HET\\_vs\\_CTRL.results.txt'\n",
       "\\item 'ML911-9779.NRXN1\\_HOMO\\_vs\\_CTRL.results.txt'\n",
       "\\item 'NRXN1.trade\\_dist\\_summary.csv'\n",
       "\\item 'NRXN1\\_LRP1.trade\\_dist\\_summary.txt'\n",
       "\\end{enumerate*}\n"
      ],
      "text/markdown": [
       "1. 'ML611-3363.NRXN1_HET_vs_CTRL.results.txt'\n",
       "2. 'ML611-3363.NRXN1_HOMO_vs_CTRL.results.txt'\n",
       "3. 'ML898-4425.NRXN1_HET_vs_CTRL.results.txt'\n",
       "4. 'ML898-4425.NRXN1_HOMO_vs_CTRL.results.txt'\n",
       "5. 'ML907-2836.NRXN1_HET_vs_CTRL.results.txt'\n",
       "6. 'ML907-2836.NRXN1_HOMO_vs_CTRL.results.txt'\n",
       "7. 'ML910-8360.NRXN1_HET_vs_CTRL.results.txt'\n",
       "8. 'ML910-8360.NRXN1_HOMO_vs_CTRL.results.txt'\n",
       "9. 'ML911-9779.NRXN1_HET_vs_CTRL.results.txt'\n",
       "10. 'ML911-9779.NRXN1_HOMO_vs_CTRL.results.txt'\n",
       "11. 'NRXN1.trade_dist_summary.csv'\n",
       "12. 'NRXN1_LRP1.trade_dist_summary.txt'\n",
       "\n",
       "\n"
      ],
      "text/plain": [
       " [1] \"ML611-3363.NRXN1_HET_vs_CTRL.results.txt\" \n",
       " [2] \"ML611-3363.NRXN1_HOMO_vs_CTRL.results.txt\"\n",
       " [3] \"ML898-4425.NRXN1_HET_vs_CTRL.results.txt\" \n",
       " [4] \"ML898-4425.NRXN1_HOMO_vs_CTRL.results.txt\"\n",
       " [5] \"ML907-2836.NRXN1_HET_vs_CTRL.results.txt\" \n",
       " [6] \"ML907-2836.NRXN1_HOMO_vs_CTRL.results.txt\"\n",
       " [7] \"ML910-8360.NRXN1_HET_vs_CTRL.results.txt\" \n",
       " [8] \"ML910-8360.NRXN1_HOMO_vs_CTRL.results.txt\"\n",
       " [9] \"ML911-9779.NRXN1_HET_vs_CTRL.results.txt\" \n",
       "[10] \"ML911-9779.NRXN1_HOMO_vs_CTRL.results.txt\"\n",
       "[11] \"NRXN1.trade_dist_summary.csv\"             \n",
       "[12] \"NRXN1_LRP1.trade_dist_summary.txt\"        "
      ]
     },
     "metadata": {},
     "output_type": "display_data"
    }
   ],
   "source": [
    "targets_list <- unique(coldata[! coldata$target_gt %in% c(\"NRXN1_WT\",\"LRP1_WT\"),\"group\"])\n",
    "deseq_res_files <- list.files(\"/stanley/nehme_lab/sbolshak/analysis/village_editing/TRADE/NRXN1/\") \n",
    "deseq_res_files"
   ]
  },
  {
   "cell_type": "code",
   "execution_count": 69,
   "metadata": {
    "vscode": {
     "languageId": "r"
    }
   },
   "outputs": [],
   "source": [
    "write.table(TRADE_out_df,paste0(\"/stanley/nehme_lab/sbolshak/analysis/village_editing/TRADE/NRXN1/NRXN1_all_samps.trade_dist_summary.txt\"),sep=\"\\t\",col.names=T,row.names=T,quote=F)"
   ]
  },
  {
   "cell_type": "code",
   "execution_count": 67,
   "metadata": {
    "vscode": {
     "languageId": "r"
    }
   },
   "outputs": [
    {
     "ename": "ERROR",
     "evalue": "Error in data[[rlabp]]: attempt to select less than one element in get1index <real>\n",
     "output_type": "error",
     "traceback": [
      "Error in data[[rlabp]]: attempt to select less than one element in get1index <real>\nTraceback:\n",
      "1. read.table(\"/stanley/nehme_lab/sbolshak/analysis/village_editing/TRADE/NRXN1/NRXN1_all_samps.trade_dist_summary.txt\", \n .     row.names = 0, header = TRUE)"
     ]
    }
   ],
   "source": [
    "TRADE_out_df <- read.table(\"/stanley/nehme_lab/sbolshak/analysis/village_editing/TRADE/NRXN1/NRXN1_all_samps.trade_dist_summary.txt\", row.names = 1,  header =TRUE)\n",
    "TRADE_out_df "
   ]
  },
  {
   "cell_type": "code",
   "execution_count": 70,
   "metadata": {
    "vscode": {
     "languageId": "r"
    }
   },
   "outputs": [
    {
     "data": {
      "text/html": [
       "<table class=\"dataframe\">\n",
       "<caption>A data.frame: 17 x 6</caption>\n",
       "<thead>\n",
       "\t<tr><th></th><th scope=col>mean</th><th scope=col>transcriptome_wide_impact</th><th scope=col>Me</th><th scope=col>KD</th><th scope=col>target</th><th scope=col>donor</th></tr>\n",
       "\t<tr><th></th><th scope=col>&lt;dbl&gt;</th><th scope=col>&lt;dbl&gt;</th><th scope=col>&lt;dbl&gt;</th><th scope=col>&lt;dbl&gt;</th><th scope=col>&lt;chr&gt;</th><th scope=col>&lt;chr&gt;</th></tr>\n",
       "</thead>\n",
       "<tbody>\n",
       "\t<tr><th scope=row>CW20012.NRXN1_HET</th><td> 2.439318e-02</td><td>0.176190923</td><td>  891.54625</td><td>0</td><td>CW20012.NRXN1_HET   </td><td>CW20012  </td></tr>\n",
       "\t<tr><th scope=row>CW50037.NRXN1_HOMO</th><td>-2.082726e-02</td><td>0.157178724</td><td>  625.71216</td><td>1</td><td>CW50037.NRXN1_HOMO  </td><td>CW50037  </td></tr>\n",
       "\t<tr><th scope=row>ML8984425.NRXN1_HOMO</th><td> 2.325386e-02</td><td>0.164466419</td><td>  430.25435</td><td>1</td><td>ML8984425.NRXN1_HOMO</td><td>ML8984425</td></tr>\n",
       "\t<tr><th scope=row>ML6113363.NRXN1_HOMO</th><td>-3.483774e-02</td><td>0.142866882</td><td> 4227.74807</td><td>1</td><td>ML6113363.NRXN1_HOMO</td><td>ML6113363</td></tr>\n",
       "\t<tr><th scope=row>ML9108360.NRXN1_HET</th><td>-2.632428e-02</td><td>0.033663774</td><td>  192.74488</td><td>0</td><td>ML9108360.NRXN1_HET </td><td>ML9108360</td></tr>\n",
       "\t<tr><th scope=row>ML6113363.NRXN1_HET</th><td>-2.638590e-02</td><td>0.081901277</td><td> 2891.83326</td><td>1</td><td>ML6113363.NRXN1_HET </td><td>ML6113363</td></tr>\n",
       "\t<tr><th scope=row>ML9096344.NRXN1_HOMO</th><td>-1.099074e-01</td><td>0.256551033</td><td>  527.82807</td><td>1</td><td>ML9096344.NRXN1_HOMO</td><td>ML9096344</td></tr>\n",
       "\t<tr><th scope=row>ML9108360.NRXN1_HOMO</th><td>-1.203658e-03</td><td>0.074144684</td><td>  103.13340</td><td>1</td><td>ML9108360.NRXN1_HOMO</td><td>ML9108360</td></tr>\n",
       "\t<tr><th scope=row>ML9072836.NRXN1_HOMO</th><td> 1.275562e-01</td><td>0.972080303</td><td> 1420.01647</td><td>1</td><td>ML9072836.NRXN1_HOMO</td><td>ML9072836</td></tr>\n",
       "\t<tr><th scope=row>ML8984425.NRXN1_HET</th><td>-8.778141e-03</td><td>0.018178681</td><td>   37.70816</td><td>1</td><td>ML8984425.NRXN1_HET </td><td>ML8984425</td></tr>\n",
       "\t<tr><th scope=row>ML9072836.NRXN1_HET</th><td> 2.267096e-02</td><td>0.373790896</td><td> 1612.32504</td><td>1</td><td>ML9072836.NRXN1_HET </td><td>ML9072836</td></tr>\n",
       "\t<tr><th scope=row>ML9119779.NRXN1_HET</th><td>-3.198281e-02</td><td>0.480476757</td><td>12584.12207</td><td>0</td><td>ML9119779.NRXN1_HET </td><td>ML9119779</td></tr>\n",
       "\t<tr><th scope=row>CW30154.NRXN1_HOMO</th><td> 5.636151e-03</td><td>0.009991955</td><td>   15.01811</td><td>1</td><td>CW30154.NRXN1_HOMO  </td><td>CW30154  </td></tr>\n",
       "\t<tr><th scope=row>ML6112911.NRXN1_HOMO</th><td>-1.655842e-06</td><td>0.111548011</td><td> 5906.62505</td><td>0</td><td>ML6112911.NRXN1_HOMO</td><td>ML6112911</td></tr>\n",
       "\t<tr><th scope=row>CW20103.NRXN1_HOMO</th><td> 1.932021e-03</td><td>0.035331934</td><td> 1039.64447</td><td>1</td><td>CW20103.NRXN1_HOMO  </td><td>CW20103  </td></tr>\n",
       "\t<tr><th scope=row>ML9119779.NRXN1_HOMO</th><td>-2.129062e-02</td><td>0.325909499</td><td> 5209.53853</td><td>1</td><td>ML9119779.NRXN1_HOMO</td><td>ML9119779</td></tr>\n",
       "\t<tr><th scope=row>CW20012.NRXN1_HOMO</th><td> 5.225989e-02</td><td>0.399773576</td><td> 2603.55455</td><td>1</td><td>CW20012.NRXN1_HOMO  </td><td>CW20012  </td></tr>\n",
       "</tbody>\n",
       "</table>\n"
      ],
      "text/latex": [
       "A data.frame: 17 x 6\n",
       "\\begin{tabular}{r|llllll}\n",
       "  & mean & transcriptome\\_wide\\_impact & Me & KD & target & donor\\\\\n",
       "  & <dbl> & <dbl> & <dbl> & <dbl> & <chr> & <chr>\\\\\n",
       "\\hline\n",
       "\tCW20012.NRXN1\\_HET &  2.439318e-02 & 0.176190923 &   891.54625 & 0 & CW20012.NRXN1\\_HET    & CW20012  \\\\\n",
       "\tCW50037.NRXN1\\_HOMO & -2.082726e-02 & 0.157178724 &   625.71216 & 1 & CW50037.NRXN1\\_HOMO   & CW50037  \\\\\n",
       "\tML8984425.NRXN1\\_HOMO &  2.325386e-02 & 0.164466419 &   430.25435 & 1 & ML8984425.NRXN1\\_HOMO & ML8984425\\\\\n",
       "\tML6113363.NRXN1\\_HOMO & -3.483774e-02 & 0.142866882 &  4227.74807 & 1 & ML6113363.NRXN1\\_HOMO & ML6113363\\\\\n",
       "\tML9108360.NRXN1\\_HET & -2.632428e-02 & 0.033663774 &   192.74488 & 0 & ML9108360.NRXN1\\_HET  & ML9108360\\\\\n",
       "\tML6113363.NRXN1\\_HET & -2.638590e-02 & 0.081901277 &  2891.83326 & 1 & ML6113363.NRXN1\\_HET  & ML6113363\\\\\n",
       "\tML9096344.NRXN1\\_HOMO & -1.099074e-01 & 0.256551033 &   527.82807 & 1 & ML9096344.NRXN1\\_HOMO & ML9096344\\\\\n",
       "\tML9108360.NRXN1\\_HOMO & -1.203658e-03 & 0.074144684 &   103.13340 & 1 & ML9108360.NRXN1\\_HOMO & ML9108360\\\\\n",
       "\tML9072836.NRXN1\\_HOMO &  1.275562e-01 & 0.972080303 &  1420.01647 & 1 & ML9072836.NRXN1\\_HOMO & ML9072836\\\\\n",
       "\tML8984425.NRXN1\\_HET & -8.778141e-03 & 0.018178681 &    37.70816 & 1 & ML8984425.NRXN1\\_HET  & ML8984425\\\\\n",
       "\tML9072836.NRXN1\\_HET &  2.267096e-02 & 0.373790896 &  1612.32504 & 1 & ML9072836.NRXN1\\_HET  & ML9072836\\\\\n",
       "\tML9119779.NRXN1\\_HET & -3.198281e-02 & 0.480476757 & 12584.12207 & 0 & ML9119779.NRXN1\\_HET  & ML9119779\\\\\n",
       "\tCW30154.NRXN1\\_HOMO &  5.636151e-03 & 0.009991955 &    15.01811 & 1 & CW30154.NRXN1\\_HOMO   & CW30154  \\\\\n",
       "\tML6112911.NRXN1\\_HOMO & -1.655842e-06 & 0.111548011 &  5906.62505 & 0 & ML6112911.NRXN1\\_HOMO & ML6112911\\\\\n",
       "\tCW20103.NRXN1\\_HOMO &  1.932021e-03 & 0.035331934 &  1039.64447 & 1 & CW20103.NRXN1\\_HOMO   & CW20103  \\\\\n",
       "\tML9119779.NRXN1\\_HOMO & -2.129062e-02 & 0.325909499 &  5209.53853 & 1 & ML9119779.NRXN1\\_HOMO & ML9119779\\\\\n",
       "\tCW20012.NRXN1\\_HOMO &  5.225989e-02 & 0.399773576 &  2603.55455 & 1 & CW20012.NRXN1\\_HOMO   & CW20012  \\\\\n",
       "\\end{tabular}\n"
      ],
      "text/markdown": [
       "\n",
       "A data.frame: 17 x 6\n",
       "\n",
       "| <!--/--> | mean &lt;dbl&gt; | transcriptome_wide_impact &lt;dbl&gt; | Me &lt;dbl&gt; | KD &lt;dbl&gt; | target &lt;chr&gt; | donor &lt;chr&gt; |\n",
       "|---|---|---|---|---|---|---|\n",
       "| CW20012.NRXN1_HET |  2.439318e-02 | 0.176190923 |   891.54625 | 0 | CW20012.NRXN1_HET    | CW20012   |\n",
       "| CW50037.NRXN1_HOMO | -2.082726e-02 | 0.157178724 |   625.71216 | 1 | CW50037.NRXN1_HOMO   | CW50037   |\n",
       "| ML8984425.NRXN1_HOMO |  2.325386e-02 | 0.164466419 |   430.25435 | 1 | ML8984425.NRXN1_HOMO | ML8984425 |\n",
       "| ML6113363.NRXN1_HOMO | -3.483774e-02 | 0.142866882 |  4227.74807 | 1 | ML6113363.NRXN1_HOMO | ML6113363 |\n",
       "| ML9108360.NRXN1_HET | -2.632428e-02 | 0.033663774 |   192.74488 | 0 | ML9108360.NRXN1_HET  | ML9108360 |\n",
       "| ML6113363.NRXN1_HET | -2.638590e-02 | 0.081901277 |  2891.83326 | 1 | ML6113363.NRXN1_HET  | ML6113363 |\n",
       "| ML9096344.NRXN1_HOMO | -1.099074e-01 | 0.256551033 |   527.82807 | 1 | ML9096344.NRXN1_HOMO | ML9096344 |\n",
       "| ML9108360.NRXN1_HOMO | -1.203658e-03 | 0.074144684 |   103.13340 | 1 | ML9108360.NRXN1_HOMO | ML9108360 |\n",
       "| ML9072836.NRXN1_HOMO |  1.275562e-01 | 0.972080303 |  1420.01647 | 1 | ML9072836.NRXN1_HOMO | ML9072836 |\n",
       "| ML8984425.NRXN1_HET | -8.778141e-03 | 0.018178681 |    37.70816 | 1 | ML8984425.NRXN1_HET  | ML8984425 |\n",
       "| ML9072836.NRXN1_HET |  2.267096e-02 | 0.373790896 |  1612.32504 | 1 | ML9072836.NRXN1_HET  | ML9072836 |\n",
       "| ML9119779.NRXN1_HET | -3.198281e-02 | 0.480476757 | 12584.12207 | 0 | ML9119779.NRXN1_HET  | ML9119779 |\n",
       "| CW30154.NRXN1_HOMO |  5.636151e-03 | 0.009991955 |    15.01811 | 1 | CW30154.NRXN1_HOMO   | CW30154   |\n",
       "| ML6112911.NRXN1_HOMO | -1.655842e-06 | 0.111548011 |  5906.62505 | 0 | ML6112911.NRXN1_HOMO | ML6112911 |\n",
       "| CW20103.NRXN1_HOMO |  1.932021e-03 | 0.035331934 |  1039.64447 | 1 | CW20103.NRXN1_HOMO   | CW20103   |\n",
       "| ML9119779.NRXN1_HOMO | -2.129062e-02 | 0.325909499 |  5209.53853 | 1 | ML9119779.NRXN1_HOMO | ML9119779 |\n",
       "| CW20012.NRXN1_HOMO |  5.225989e-02 | 0.399773576 |  2603.55455 | 1 | CW20012.NRXN1_HOMO   | CW20012   |\n",
       "\n"
      ],
      "text/plain": [
       "                     mean          transcriptome_wide_impact Me          KD\n",
       "CW20012.NRXN1_HET     2.439318e-02 0.176190923                 891.54625 0 \n",
       "CW50037.NRXN1_HOMO   -2.082726e-02 0.157178724                 625.71216 1 \n",
       "ML8984425.NRXN1_HOMO  2.325386e-02 0.164466419                 430.25435 1 \n",
       "ML6113363.NRXN1_HOMO -3.483774e-02 0.142866882                4227.74807 1 \n",
       "ML9108360.NRXN1_HET  -2.632428e-02 0.033663774                 192.74488 0 \n",
       "ML6113363.NRXN1_HET  -2.638590e-02 0.081901277                2891.83326 1 \n",
       "ML9096344.NRXN1_HOMO -1.099074e-01 0.256551033                 527.82807 1 \n",
       "ML9108360.NRXN1_HOMO -1.203658e-03 0.074144684                 103.13340 1 \n",
       "ML9072836.NRXN1_HOMO  1.275562e-01 0.972080303                1420.01647 1 \n",
       "ML8984425.NRXN1_HET  -8.778141e-03 0.018178681                  37.70816 1 \n",
       "ML9072836.NRXN1_HET   2.267096e-02 0.373790896                1612.32504 1 \n",
       "ML9119779.NRXN1_HET  -3.198281e-02 0.480476757               12584.12207 0 \n",
       "CW30154.NRXN1_HOMO    5.636151e-03 0.009991955                  15.01811 1 \n",
       "ML6112911.NRXN1_HOMO -1.655842e-06 0.111548011                5906.62505 0 \n",
       "CW20103.NRXN1_HOMO    1.932021e-03 0.035331934                1039.64447 1 \n",
       "ML9119779.NRXN1_HOMO -2.129062e-02 0.325909499                5209.53853 1 \n",
       "CW20012.NRXN1_HOMO    5.225989e-02 0.399773576                2603.55455 1 \n",
       "                     target               donor    \n",
       "CW20012.NRXN1_HET    CW20012.NRXN1_HET    CW20012  \n",
       "CW50037.NRXN1_HOMO   CW50037.NRXN1_HOMO   CW50037  \n",
       "ML8984425.NRXN1_HOMO ML8984425.NRXN1_HOMO ML8984425\n",
       "ML6113363.NRXN1_HOMO ML6113363.NRXN1_HOMO ML6113363\n",
       "ML9108360.NRXN1_HET  ML9108360.NRXN1_HET  ML9108360\n",
       "ML6113363.NRXN1_HET  ML6113363.NRXN1_HET  ML6113363\n",
       "ML9096344.NRXN1_HOMO ML9096344.NRXN1_HOMO ML9096344\n",
       "ML9108360.NRXN1_HOMO ML9108360.NRXN1_HOMO ML9108360\n",
       "ML9072836.NRXN1_HOMO ML9072836.NRXN1_HOMO ML9072836\n",
       "ML8984425.NRXN1_HET  ML8984425.NRXN1_HET  ML8984425\n",
       "ML9072836.NRXN1_HET  ML9072836.NRXN1_HET  ML9072836\n",
       "ML9119779.NRXN1_HET  ML9119779.NRXN1_HET  ML9119779\n",
       "CW30154.NRXN1_HOMO   CW30154.NRXN1_HOMO   CW30154  \n",
       "ML6112911.NRXN1_HOMO ML6112911.NRXN1_HOMO ML6112911\n",
       "CW20103.NRXN1_HOMO   CW20103.NRXN1_HOMO   CW20103  \n",
       "ML9119779.NRXN1_HOMO ML9119779.NRXN1_HOMO ML9119779\n",
       "CW20012.NRXN1_HOMO   CW20012.NRXN1_HOMO   CW20012  "
      ]
     },
     "metadata": {},
     "output_type": "display_data"
    }
   ],
   "source": [
    "TRADE_out_df$donor <- sub(\"\\\\..*\", \"\", TRADE_out_df$target)\n",
    "TRADE_out_df"
   ]
  },
  {
   "cell_type": "code",
   "execution_count": 71,
   "metadata": {
    "vscode": {
     "languageId": "r"
    }
   },
   "outputs": [
    {
     "data": {
      "text/html": [
       "<table class=\"dataframe\">\n",
       "<caption>A data.frame: 17 x 9</caption>\n",
       "<thead>\n",
       "\t<tr><th scope=col>donor</th><th scope=col>mean</th><th scope=col>transcriptome_wide_impact</th><th scope=col>Me</th><th scope=col>KD</th><th scope=col>target</th><th scope=col>PRS</th><th scope=col>sex</th><th scope=col>genotype</th></tr>\n",
       "\t<tr><th scope=col>&lt;chr&gt;</th><th scope=col>&lt;dbl&gt;</th><th scope=col>&lt;dbl&gt;</th><th scope=col>&lt;dbl&gt;</th><th scope=col>&lt;dbl&gt;</th><th scope=col>&lt;chr&gt;</th><th scope=col>&lt;chr&gt;</th><th scope=col>&lt;chr&gt;</th><th scope=col>&lt;chr&gt;</th></tr>\n",
       "</thead>\n",
       "<tbody>\n",
       "\t<tr><td>CW20012  </td><td> 2.439318e-02</td><td>0.176190923</td><td>  891.54625</td><td>0</td><td>CW20012.NRXN1_HET   </td><td>HIGH   </td><td>Female</td><td>HET </td></tr>\n",
       "\t<tr><td>CW20012  </td><td> 5.225989e-02</td><td>0.399773576</td><td> 2603.55455</td><td>1</td><td>CW20012.NRXN1_HOMO  </td><td>HIGH   </td><td>Female</td><td>HET </td></tr>\n",
       "\t<tr><td>CW20103  </td><td> 1.932021e-03</td><td>0.035331934</td><td> 1039.64447</td><td>1</td><td>CW20103.NRXN1_HOMO  </td><td>NEUTRAL</td><td>Female</td><td>WT  </td></tr>\n",
       "\t<tr><td>CW30154  </td><td> 5.636151e-03</td><td>0.009991955</td><td>   15.01811</td><td>1</td><td>CW30154.NRXN1_HOMO  </td><td>LOW    </td><td>Female</td><td>WT  </td></tr>\n",
       "\t<tr><td>CW50037  </td><td>-2.082726e-02</td><td>0.157178724</td><td>  625.71216</td><td>1</td><td>CW50037.NRXN1_HOMO  </td><td>NEUTRAL</td><td>Female</td><td>HOMO</td></tr>\n",
       "\t<tr><td>ML6112911</td><td>-1.655842e-06</td><td>0.111548011</td><td> 5906.62505</td><td>0</td><td>ML6112911.NRXN1_HOMO</td><td>NEUTRAL</td><td>Male  </td><td>HOMO</td></tr>\n",
       "\t<tr><td>ML6113363</td><td>-3.483774e-02</td><td>0.142866882</td><td> 4227.74807</td><td>1</td><td>ML6113363.NRXN1_HOMO</td><td>HIGH   </td><td>Male  </td><td>HOMO</td></tr>\n",
       "\t<tr><td>ML6113363</td><td>-2.638590e-02</td><td>0.081901277</td><td> 2891.83326</td><td>1</td><td>ML6113363.NRXN1_HET </td><td>HIGH   </td><td>Male  </td><td>HOMO</td></tr>\n",
       "\t<tr><td>ML8984425</td><td> 2.325386e-02</td><td>0.164466419</td><td>  430.25435</td><td>1</td><td>ML8984425.NRXN1_HOMO</td><td>LOW    </td><td>Female</td><td>HOMO</td></tr>\n",
       "\t<tr><td>ML8984425</td><td>-8.778141e-03</td><td>0.018178681</td><td>   37.70816</td><td>1</td><td>ML8984425.NRXN1_HET </td><td>LOW    </td><td>Female</td><td>HOMO</td></tr>\n",
       "\t<tr><td>ML9072836</td><td> 2.267096e-02</td><td>0.373790896</td><td> 1612.32504</td><td>1</td><td>ML9072836.NRXN1_HET </td><td>NEUTRAL</td><td>Female</td><td>HOMO</td></tr>\n",
       "\t<tr><td>ML9072836</td><td> 1.275562e-01</td><td>0.972080303</td><td> 1420.01647</td><td>1</td><td>ML9072836.NRXN1_HOMO</td><td>NEUTRAL</td><td>Female</td><td>HOMO</td></tr>\n",
       "\t<tr><td>ML9096344</td><td>-1.099074e-01</td><td>0.256551033</td><td>  527.82807</td><td>1</td><td>ML9096344.NRXN1_HOMO</td><td>HIGH   </td><td>Male  </td><td>HOMO</td></tr>\n",
       "\t<tr><td>ML9108360</td><td>-1.203658e-03</td><td>0.074144684</td><td>  103.13340</td><td>1</td><td>ML9108360.NRXN1_HOMO</td><td>HIGH   </td><td>Male  </td><td>HET </td></tr>\n",
       "\t<tr><td>ML9108360</td><td>-2.632428e-02</td><td>0.033663774</td><td>  192.74488</td><td>0</td><td>ML9108360.NRXN1_HET </td><td>HIGH   </td><td>Male  </td><td>HET </td></tr>\n",
       "\t<tr><td>ML9119779</td><td>-3.198281e-02</td><td>0.480476757</td><td>12584.12207</td><td>0</td><td>ML9119779.NRXN1_HET </td><td>NEUTRAL</td><td>Female</td><td>HET </td></tr>\n",
       "\t<tr><td>ML9119779</td><td>-2.129062e-02</td><td>0.325909499</td><td> 5209.53853</td><td>1</td><td>ML9119779.NRXN1_HOMO</td><td>NEUTRAL</td><td>Female</td><td>HET </td></tr>\n",
       "</tbody>\n",
       "</table>\n"
      ],
      "text/latex": [
       "A data.frame: 17 x 9\n",
       "\\begin{tabular}{lllllllll}\n",
       " donor & mean & transcriptome\\_wide\\_impact & Me & KD & target & PRS & sex & genotype\\\\\n",
       " <chr> & <dbl> & <dbl> & <dbl> & <dbl> & <chr> & <chr> & <chr> & <chr>\\\\\n",
       "\\hline\n",
       "\t CW20012   &  2.439318e-02 & 0.176190923 &   891.54625 & 0 & CW20012.NRXN1\\_HET    & HIGH    & Female & HET \\\\\n",
       "\t CW20012   &  5.225989e-02 & 0.399773576 &  2603.55455 & 1 & CW20012.NRXN1\\_HOMO   & HIGH    & Female & HET \\\\\n",
       "\t CW20103   &  1.932021e-03 & 0.035331934 &  1039.64447 & 1 & CW20103.NRXN1\\_HOMO   & NEUTRAL & Female & WT  \\\\\n",
       "\t CW30154   &  5.636151e-03 & 0.009991955 &    15.01811 & 1 & CW30154.NRXN1\\_HOMO   & LOW     & Female & WT  \\\\\n",
       "\t CW50037   & -2.082726e-02 & 0.157178724 &   625.71216 & 1 & CW50037.NRXN1\\_HOMO   & NEUTRAL & Female & HOMO\\\\\n",
       "\t ML6112911 & -1.655842e-06 & 0.111548011 &  5906.62505 & 0 & ML6112911.NRXN1\\_HOMO & NEUTRAL & Male   & HOMO\\\\\n",
       "\t ML6113363 & -3.483774e-02 & 0.142866882 &  4227.74807 & 1 & ML6113363.NRXN1\\_HOMO & HIGH    & Male   & HOMO\\\\\n",
       "\t ML6113363 & -2.638590e-02 & 0.081901277 &  2891.83326 & 1 & ML6113363.NRXN1\\_HET  & HIGH    & Male   & HOMO\\\\\n",
       "\t ML8984425 &  2.325386e-02 & 0.164466419 &   430.25435 & 1 & ML8984425.NRXN1\\_HOMO & LOW     & Female & HOMO\\\\\n",
       "\t ML8984425 & -8.778141e-03 & 0.018178681 &    37.70816 & 1 & ML8984425.NRXN1\\_HET  & LOW     & Female & HOMO\\\\\n",
       "\t ML9072836 &  2.267096e-02 & 0.373790896 &  1612.32504 & 1 & ML9072836.NRXN1\\_HET  & NEUTRAL & Female & HOMO\\\\\n",
       "\t ML9072836 &  1.275562e-01 & 0.972080303 &  1420.01647 & 1 & ML9072836.NRXN1\\_HOMO & NEUTRAL & Female & HOMO\\\\\n",
       "\t ML9096344 & -1.099074e-01 & 0.256551033 &   527.82807 & 1 & ML9096344.NRXN1\\_HOMO & HIGH    & Male   & HOMO\\\\\n",
       "\t ML9108360 & -1.203658e-03 & 0.074144684 &   103.13340 & 1 & ML9108360.NRXN1\\_HOMO & HIGH    & Male   & HET \\\\\n",
       "\t ML9108360 & -2.632428e-02 & 0.033663774 &   192.74488 & 0 & ML9108360.NRXN1\\_HET  & HIGH    & Male   & HET \\\\\n",
       "\t ML9119779 & -3.198281e-02 & 0.480476757 & 12584.12207 & 0 & ML9119779.NRXN1\\_HET  & NEUTRAL & Female & HET \\\\\n",
       "\t ML9119779 & -2.129062e-02 & 0.325909499 &  5209.53853 & 1 & ML9119779.NRXN1\\_HOMO & NEUTRAL & Female & HET \\\\\n",
       "\\end{tabular}\n"
      ],
      "text/markdown": [
       "\n",
       "A data.frame: 17 x 9\n",
       "\n",
       "| donor &lt;chr&gt; | mean &lt;dbl&gt; | transcriptome_wide_impact &lt;dbl&gt; | Me &lt;dbl&gt; | KD &lt;dbl&gt; | target &lt;chr&gt; | PRS &lt;chr&gt; | sex &lt;chr&gt; | genotype &lt;chr&gt; |\n",
       "|---|---|---|---|---|---|---|---|---|\n",
       "| CW20012   |  2.439318e-02 | 0.176190923 |   891.54625 | 0 | CW20012.NRXN1_HET    | HIGH    | Female | HET  |\n",
       "| CW20012   |  5.225989e-02 | 0.399773576 |  2603.55455 | 1 | CW20012.NRXN1_HOMO   | HIGH    | Female | HET  |\n",
       "| CW20103   |  1.932021e-03 | 0.035331934 |  1039.64447 | 1 | CW20103.NRXN1_HOMO   | NEUTRAL | Female | WT   |\n",
       "| CW30154   |  5.636151e-03 | 0.009991955 |    15.01811 | 1 | CW30154.NRXN1_HOMO   | LOW     | Female | WT   |\n",
       "| CW50037   | -2.082726e-02 | 0.157178724 |   625.71216 | 1 | CW50037.NRXN1_HOMO   | NEUTRAL | Female | HOMO |\n",
       "| ML6112911 | -1.655842e-06 | 0.111548011 |  5906.62505 | 0 | ML6112911.NRXN1_HOMO | NEUTRAL | Male   | HOMO |\n",
       "| ML6113363 | -3.483774e-02 | 0.142866882 |  4227.74807 | 1 | ML6113363.NRXN1_HOMO | HIGH    | Male   | HOMO |\n",
       "| ML6113363 | -2.638590e-02 | 0.081901277 |  2891.83326 | 1 | ML6113363.NRXN1_HET  | HIGH    | Male   | HOMO |\n",
       "| ML8984425 |  2.325386e-02 | 0.164466419 |   430.25435 | 1 | ML8984425.NRXN1_HOMO | LOW     | Female | HOMO |\n",
       "| ML8984425 | -8.778141e-03 | 0.018178681 |    37.70816 | 1 | ML8984425.NRXN1_HET  | LOW     | Female | HOMO |\n",
       "| ML9072836 |  2.267096e-02 | 0.373790896 |  1612.32504 | 1 | ML9072836.NRXN1_HET  | NEUTRAL | Female | HOMO |\n",
       "| ML9072836 |  1.275562e-01 | 0.972080303 |  1420.01647 | 1 | ML9072836.NRXN1_HOMO | NEUTRAL | Female | HOMO |\n",
       "| ML9096344 | -1.099074e-01 | 0.256551033 |   527.82807 | 1 | ML9096344.NRXN1_HOMO | HIGH    | Male   | HOMO |\n",
       "| ML9108360 | -1.203658e-03 | 0.074144684 |   103.13340 | 1 | ML9108360.NRXN1_HOMO | HIGH    | Male   | HET  |\n",
       "| ML9108360 | -2.632428e-02 | 0.033663774 |   192.74488 | 0 | ML9108360.NRXN1_HET  | HIGH    | Male   | HET  |\n",
       "| ML9119779 | -3.198281e-02 | 0.480476757 | 12584.12207 | 0 | ML9119779.NRXN1_HET  | NEUTRAL | Female | HET  |\n",
       "| ML9119779 | -2.129062e-02 | 0.325909499 |  5209.53853 | 1 | ML9119779.NRXN1_HOMO | NEUTRAL | Female | HET  |\n",
       "\n"
      ],
      "text/plain": [
       "   donor     mean          transcriptome_wide_impact Me          KD\n",
       "1  CW20012    2.439318e-02 0.176190923                 891.54625 0 \n",
       "2  CW20012    5.225989e-02 0.399773576                2603.55455 1 \n",
       "3  CW20103    1.932021e-03 0.035331934                1039.64447 1 \n",
       "4  CW30154    5.636151e-03 0.009991955                  15.01811 1 \n",
       "5  CW50037   -2.082726e-02 0.157178724                 625.71216 1 \n",
       "6  ML6112911 -1.655842e-06 0.111548011                5906.62505 0 \n",
       "7  ML6113363 -3.483774e-02 0.142866882                4227.74807 1 \n",
       "8  ML6113363 -2.638590e-02 0.081901277                2891.83326 1 \n",
       "9  ML8984425  2.325386e-02 0.164466419                 430.25435 1 \n",
       "10 ML8984425 -8.778141e-03 0.018178681                  37.70816 1 \n",
       "11 ML9072836  2.267096e-02 0.373790896                1612.32504 1 \n",
       "12 ML9072836  1.275562e-01 0.972080303                1420.01647 1 \n",
       "13 ML9096344 -1.099074e-01 0.256551033                 527.82807 1 \n",
       "14 ML9108360 -1.203658e-03 0.074144684                 103.13340 1 \n",
       "15 ML9108360 -2.632428e-02 0.033663774                 192.74488 0 \n",
       "16 ML9119779 -3.198281e-02 0.480476757               12584.12207 0 \n",
       "17 ML9119779 -2.129062e-02 0.325909499                5209.53853 1 \n",
       "   target               PRS     sex    genotype\n",
       "1  CW20012.NRXN1_HET    HIGH    Female HET     \n",
       "2  CW20012.NRXN1_HOMO   HIGH    Female HET     \n",
       "3  CW20103.NRXN1_HOMO   NEUTRAL Female WT      \n",
       "4  CW30154.NRXN1_HOMO   LOW     Female WT      \n",
       "5  CW50037.NRXN1_HOMO   NEUTRAL Female HOMO    \n",
       "6  ML6112911.NRXN1_HOMO NEUTRAL Male   HOMO    \n",
       "7  ML6113363.NRXN1_HOMO HIGH    Male   HOMO    \n",
       "8  ML6113363.NRXN1_HET  HIGH    Male   HOMO    \n",
       "9  ML8984425.NRXN1_HOMO LOW     Female HOMO    \n",
       "10 ML8984425.NRXN1_HET  LOW     Female HOMO    \n",
       "11 ML9072836.NRXN1_HET  NEUTRAL Female HOMO    \n",
       "12 ML9072836.NRXN1_HOMO NEUTRAL Female HOMO    \n",
       "13 ML9096344.NRXN1_HOMO HIGH    Male   HOMO    \n",
       "14 ML9108360.NRXN1_HOMO HIGH    Male   HET     \n",
       "15 ML9108360.NRXN1_HET  HIGH    Male   HET     \n",
       "16 ML9119779.NRXN1_HET  NEUTRAL Female HET     \n",
       "17 ML9119779.NRXN1_HOMO NEUTRAL Female HET     "
      ]
     },
     "metadata": {},
     "output_type": "display_data"
    }
   ],
   "source": [
    "metadata_distinct <- metadata[!duplicated(metadata$donor), c(\"donor\", \"PRS\", \"sex\", \"genotype\")]\n",
    "\n",
    "# Merge with TRADE_out_df\n",
    "TRADE_out_df <- merge(TRADE_out_df, metadata_distinct, by = \"donor\", all.x = TRUE)\n",
    "TRADE_out_df <- TRADE_out_df %>%\n",
    "  select(-ends_with(\".y\"))\n",
    "TRADE_out_df"
   ]
  },
  {
   "cell_type": "code",
   "execution_count": 72,
   "metadata": {
    "vscode": {
     "languageId": "r"
    }
   },
   "outputs": [
    {
     "data": {
      "text/html": [
       "<table class=\"dataframe\">\n",
       "<caption>A data.frame: 13 x 9</caption>\n",
       "<thead>\n",
       "\t<tr><th></th><th scope=col>donor</th><th scope=col>mean</th><th scope=col>transcriptome_wide_impact</th><th scope=col>Me</th><th scope=col>KD</th><th scope=col>target</th><th scope=col>PRS</th><th scope=col>sex</th><th scope=col>genotype</th></tr>\n",
       "\t<tr><th></th><th scope=col>&lt;chr&gt;</th><th scope=col>&lt;dbl&gt;</th><th scope=col>&lt;dbl&gt;</th><th scope=col>&lt;dbl&gt;</th><th scope=col>&lt;dbl&gt;</th><th scope=col>&lt;chr&gt;</th><th scope=col>&lt;chr&gt;</th><th scope=col>&lt;chr&gt;</th><th scope=col>&lt;chr&gt;</th></tr>\n",
       "</thead>\n",
       "<tbody>\n",
       "\t<tr><th scope=row>2</th><td>CW20012  </td><td> 0.052259888</td><td>0.399773576</td><td>2603.55455</td><td>1</td><td>CW20012.NRXN1_HOMO  </td><td>HIGH   </td><td>Female</td><td>HET </td></tr>\n",
       "\t<tr><th scope=row>3</th><td>CW20103  </td><td> 0.001932021</td><td>0.035331934</td><td>1039.64447</td><td>1</td><td>CW20103.NRXN1_HOMO  </td><td>NEUTRAL</td><td>Female</td><td>WT  </td></tr>\n",
       "\t<tr><th scope=row>4</th><td>CW30154  </td><td> 0.005636151</td><td>0.009991955</td><td>  15.01811</td><td>1</td><td>CW30154.NRXN1_HOMO  </td><td>LOW    </td><td>Female</td><td>WT  </td></tr>\n",
       "\t<tr><th scope=row>5</th><td>CW50037  </td><td>-0.020827258</td><td>0.157178724</td><td> 625.71216</td><td>1</td><td>CW50037.NRXN1_HOMO  </td><td>NEUTRAL</td><td>Female</td><td>HOMO</td></tr>\n",
       "\t<tr><th scope=row>7</th><td>ML6113363</td><td>-0.034837737</td><td>0.142866882</td><td>4227.74807</td><td>1</td><td>ML6113363.NRXN1_HOMO</td><td>HIGH   </td><td>Male  </td><td>HOMO</td></tr>\n",
       "\t<tr><th scope=row>8</th><td>ML6113363</td><td>-0.026385896</td><td>0.081901277</td><td>2891.83326</td><td>1</td><td>ML6113363.NRXN1_HET </td><td>HIGH   </td><td>Male  </td><td>HOMO</td></tr>\n",
       "\t<tr><th scope=row>9</th><td>ML8984425</td><td> 0.023253859</td><td>0.164466419</td><td> 430.25435</td><td>1</td><td>ML8984425.NRXN1_HOMO</td><td>LOW    </td><td>Female</td><td>HOMO</td></tr>\n",
       "\t<tr><th scope=row>10</th><td>ML8984425</td><td>-0.008778141</td><td>0.018178681</td><td>  37.70816</td><td>1</td><td>ML8984425.NRXN1_HET </td><td>LOW    </td><td>Female</td><td>HOMO</td></tr>\n",
       "\t<tr><th scope=row>11</th><td>ML9072836</td><td> 0.022670958</td><td>0.373790896</td><td>1612.32504</td><td>1</td><td>ML9072836.NRXN1_HET </td><td>NEUTRAL</td><td>Female</td><td>HOMO</td></tr>\n",
       "\t<tr><th scope=row>12</th><td>ML9072836</td><td> 0.127556244</td><td>0.972080303</td><td>1420.01647</td><td>1</td><td>ML9072836.NRXN1_HOMO</td><td>NEUTRAL</td><td>Female</td><td>HOMO</td></tr>\n",
       "\t<tr><th scope=row>13</th><td>ML9096344</td><td>-0.109907371</td><td>0.256551033</td><td> 527.82807</td><td>1</td><td>ML9096344.NRXN1_HOMO</td><td>HIGH   </td><td>Male  </td><td>HOMO</td></tr>\n",
       "\t<tr><th scope=row>14</th><td>ML9108360</td><td>-0.001203658</td><td>0.074144684</td><td> 103.13340</td><td>1</td><td>ML9108360.NRXN1_HOMO</td><td>HIGH   </td><td>Male  </td><td>HET </td></tr>\n",
       "\t<tr><th scope=row>17</th><td>ML9119779</td><td>-0.021290619</td><td>0.325909499</td><td>5209.53853</td><td>1</td><td>ML9119779.NRXN1_HOMO</td><td>NEUTRAL</td><td>Female</td><td>HET </td></tr>\n",
       "</tbody>\n",
       "</table>\n"
      ],
      "text/latex": [
       "A data.frame: 13 x 9\n",
       "\\begin{tabular}{r|lllllllll}\n",
       "  & donor & mean & transcriptome\\_wide\\_impact & Me & KD & target & PRS & sex & genotype\\\\\n",
       "  & <chr> & <dbl> & <dbl> & <dbl> & <dbl> & <chr> & <chr> & <chr> & <chr>\\\\\n",
       "\\hline\n",
       "\t2 & CW20012   &  0.052259888 & 0.399773576 & 2603.55455 & 1 & CW20012.NRXN1\\_HOMO   & HIGH    & Female & HET \\\\\n",
       "\t3 & CW20103   &  0.001932021 & 0.035331934 & 1039.64447 & 1 & CW20103.NRXN1\\_HOMO   & NEUTRAL & Female & WT  \\\\\n",
       "\t4 & CW30154   &  0.005636151 & 0.009991955 &   15.01811 & 1 & CW30154.NRXN1\\_HOMO   & LOW     & Female & WT  \\\\\n",
       "\t5 & CW50037   & -0.020827258 & 0.157178724 &  625.71216 & 1 & CW50037.NRXN1\\_HOMO   & NEUTRAL & Female & HOMO\\\\\n",
       "\t7 & ML6113363 & -0.034837737 & 0.142866882 & 4227.74807 & 1 & ML6113363.NRXN1\\_HOMO & HIGH    & Male   & HOMO\\\\\n",
       "\t8 & ML6113363 & -0.026385896 & 0.081901277 & 2891.83326 & 1 & ML6113363.NRXN1\\_HET  & HIGH    & Male   & HOMO\\\\\n",
       "\t9 & ML8984425 &  0.023253859 & 0.164466419 &  430.25435 & 1 & ML8984425.NRXN1\\_HOMO & LOW     & Female & HOMO\\\\\n",
       "\t10 & ML8984425 & -0.008778141 & 0.018178681 &   37.70816 & 1 & ML8984425.NRXN1\\_HET  & LOW     & Female & HOMO\\\\\n",
       "\t11 & ML9072836 &  0.022670958 & 0.373790896 & 1612.32504 & 1 & ML9072836.NRXN1\\_HET  & NEUTRAL & Female & HOMO\\\\\n",
       "\t12 & ML9072836 &  0.127556244 & 0.972080303 & 1420.01647 & 1 & ML9072836.NRXN1\\_HOMO & NEUTRAL & Female & HOMO\\\\\n",
       "\t13 & ML9096344 & -0.109907371 & 0.256551033 &  527.82807 & 1 & ML9096344.NRXN1\\_HOMO & HIGH    & Male   & HOMO\\\\\n",
       "\t14 & ML9108360 & -0.001203658 & 0.074144684 &  103.13340 & 1 & ML9108360.NRXN1\\_HOMO & HIGH    & Male   & HET \\\\\n",
       "\t17 & ML9119779 & -0.021290619 & 0.325909499 & 5209.53853 & 1 & ML9119779.NRXN1\\_HOMO & NEUTRAL & Female & HET \\\\\n",
       "\\end{tabular}\n"
      ],
      "text/markdown": [
       "\n",
       "A data.frame: 13 x 9\n",
       "\n",
       "| <!--/--> | donor &lt;chr&gt; | mean &lt;dbl&gt; | transcriptome_wide_impact &lt;dbl&gt; | Me &lt;dbl&gt; | KD &lt;dbl&gt; | target &lt;chr&gt; | PRS &lt;chr&gt; | sex &lt;chr&gt; | genotype &lt;chr&gt; |\n",
       "|---|---|---|---|---|---|---|---|---|---|\n",
       "| 2 | CW20012   |  0.052259888 | 0.399773576 | 2603.55455 | 1 | CW20012.NRXN1_HOMO   | HIGH    | Female | HET  |\n",
       "| 3 | CW20103   |  0.001932021 | 0.035331934 | 1039.64447 | 1 | CW20103.NRXN1_HOMO   | NEUTRAL | Female | WT   |\n",
       "| 4 | CW30154   |  0.005636151 | 0.009991955 |   15.01811 | 1 | CW30154.NRXN1_HOMO   | LOW     | Female | WT   |\n",
       "| 5 | CW50037   | -0.020827258 | 0.157178724 |  625.71216 | 1 | CW50037.NRXN1_HOMO   | NEUTRAL | Female | HOMO |\n",
       "| 7 | ML6113363 | -0.034837737 | 0.142866882 | 4227.74807 | 1 | ML6113363.NRXN1_HOMO | HIGH    | Male   | HOMO |\n",
       "| 8 | ML6113363 | -0.026385896 | 0.081901277 | 2891.83326 | 1 | ML6113363.NRXN1_HET  | HIGH    | Male   | HOMO |\n",
       "| 9 | ML8984425 |  0.023253859 | 0.164466419 |  430.25435 | 1 | ML8984425.NRXN1_HOMO | LOW     | Female | HOMO |\n",
       "| 10 | ML8984425 | -0.008778141 | 0.018178681 |   37.70816 | 1 | ML8984425.NRXN1_HET  | LOW     | Female | HOMO |\n",
       "| 11 | ML9072836 |  0.022670958 | 0.373790896 | 1612.32504 | 1 | ML9072836.NRXN1_HET  | NEUTRAL | Female | HOMO |\n",
       "| 12 | ML9072836 |  0.127556244 | 0.972080303 | 1420.01647 | 1 | ML9072836.NRXN1_HOMO | NEUTRAL | Female | HOMO |\n",
       "| 13 | ML9096344 | -0.109907371 | 0.256551033 |  527.82807 | 1 | ML9096344.NRXN1_HOMO | HIGH    | Male   | HOMO |\n",
       "| 14 | ML9108360 | -0.001203658 | 0.074144684 |  103.13340 | 1 | ML9108360.NRXN1_HOMO | HIGH    | Male   | HET  |\n",
       "| 17 | ML9119779 | -0.021290619 | 0.325909499 | 5209.53853 | 1 | ML9119779.NRXN1_HOMO | NEUTRAL | Female | HET  |\n",
       "\n"
      ],
      "text/plain": [
       "   donor     mean         transcriptome_wide_impact Me         KD\n",
       "2  CW20012    0.052259888 0.399773576               2603.55455 1 \n",
       "3  CW20103    0.001932021 0.035331934               1039.64447 1 \n",
       "4  CW30154    0.005636151 0.009991955                 15.01811 1 \n",
       "5  CW50037   -0.020827258 0.157178724                625.71216 1 \n",
       "7  ML6113363 -0.034837737 0.142866882               4227.74807 1 \n",
       "8  ML6113363 -0.026385896 0.081901277               2891.83326 1 \n",
       "9  ML8984425  0.023253859 0.164466419                430.25435 1 \n",
       "10 ML8984425 -0.008778141 0.018178681                 37.70816 1 \n",
       "11 ML9072836  0.022670958 0.373790896               1612.32504 1 \n",
       "12 ML9072836  0.127556244 0.972080303               1420.01647 1 \n",
       "13 ML9096344 -0.109907371 0.256551033                527.82807 1 \n",
       "14 ML9108360 -0.001203658 0.074144684                103.13340 1 \n",
       "17 ML9119779 -0.021290619 0.325909499               5209.53853 1 \n",
       "   target               PRS     sex    genotype\n",
       "2  CW20012.NRXN1_HOMO   HIGH    Female HET     \n",
       "3  CW20103.NRXN1_HOMO   NEUTRAL Female WT      \n",
       "4  CW30154.NRXN1_HOMO   LOW     Female WT      \n",
       "5  CW50037.NRXN1_HOMO   NEUTRAL Female HOMO    \n",
       "7  ML6113363.NRXN1_HOMO HIGH    Male   HOMO    \n",
       "8  ML6113363.NRXN1_HET  HIGH    Male   HOMO    \n",
       "9  ML8984425.NRXN1_HOMO LOW     Female HOMO    \n",
       "10 ML8984425.NRXN1_HET  LOW     Female HOMO    \n",
       "11 ML9072836.NRXN1_HET  NEUTRAL Female HOMO    \n",
       "12 ML9072836.NRXN1_HOMO NEUTRAL Female HOMO    \n",
       "13 ML9096344.NRXN1_HOMO HIGH    Male   HOMO    \n",
       "14 ML9108360.NRXN1_HOMO HIGH    Male   HET     \n",
       "17 ML9119779.NRXN1_HOMO NEUTRAL Female HET     "
      ]
     },
     "metadata": {},
     "output_type": "display_data"
    }
   ],
   "source": [
    "TRADE_out_df[TRADE_out_df$KD==1,]"
   ]
  },
  {
   "cell_type": "code",
   "execution_count": null,
   "metadata": {
    "vscode": {
     "languageId": "r"
    }
   },
   "outputs": [],
   "source": [
    "target <- \"ML9072836.NRXN1_HOMO\"\n",
    "trade_res <- read.table(paste0(\"/stanley/nehme_lab/sbolshak/analysis/village_editing/DESeq2/by_donor/\",target,\"_vs_CTRL.results.txt\"),sep=\"\\t\",header=T)"
   ]
  },
  {
   "cell_type": "code",
   "execution_count": 73,
   "metadata": {
    "vscode": {
     "languageId": "r"
    }
   },
   "outputs": [
    {
     "ename": "ERROR",
     "evalue": "Error in eval(expr, envir, enclos): object 'trade_res' not found\n",
     "output_type": "error",
     "traceback": [
      "Error in eval(expr, envir, enclos): object 'trade_res' not found\nTraceback:\n"
     ]
    }
   ],
   "source": [
    "trade_res[order(trade_res$padj),]\n",
    "trade_res[trade_res$GENE==\"NRXN1\",]"
   ]
  },
  {
   "cell_type": "code",
   "execution_count": null,
   "metadata": {
    "vscode": {
     "languageId": "r"
    }
   },
   "outputs": [
    {
     "data": {
      "text/html": [
       "<style>\n",
       ".list-inline {list-style: none; margin:0; padding: 0}\n",
       ".list-inline>li {display: inline-block}\n",
       ".list-inline>li:not(:last-child)::after {content: \"\\00b7\"; padding: 0 .5ex}\n",
       "</style>\n",
       "<ol class=list-inline><li>'FAIL'</li><li>'PASS'</li><li>'FAIL'</li><li>'PASS'</li><li>'PASS'</li><li>'PASS'</li><li>'PASS'</li><li>'PASS'</li><li>'PASS'</li><li>'FAIL'</li><li>'PASS'</li><li>'PASS'</li></ol>\n"
      ],
      "text/latex": [
       "\\begin{enumerate*}\n",
       "\\item 'FAIL'\n",
       "\\item 'PASS'\n",
       "\\item 'FAIL'\n",
       "\\item 'PASS'\n",
       "\\item 'PASS'\n",
       "\\item 'PASS'\n",
       "\\item 'PASS'\n",
       "\\item 'PASS'\n",
       "\\item 'PASS'\n",
       "\\item 'FAIL'\n",
       "\\item 'PASS'\n",
       "\\item 'PASS'\n",
       "\\end{enumerate*}\n"
      ],
      "text/markdown": [
       "1. 'FAIL'\n",
       "2. 'PASS'\n",
       "3. 'FAIL'\n",
       "4. 'PASS'\n",
       "5. 'PASS'\n",
       "6. 'PASS'\n",
       "7. 'PASS'\n",
       "8. 'PASS'\n",
       "9. 'PASS'\n",
       "10. 'FAIL'\n",
       "11. 'PASS'\n",
       "12. 'PASS'\n",
       "\n",
       "\n"
      ],
      "text/plain": [
       " [1] \"FAIL\" \"PASS\" \"FAIL\" \"PASS\" \"PASS\" \"PASS\" \"PASS\" \"PASS\" \"PASS\" \"FAIL\"\n",
       "[11] \"PASS\" \"PASS\""
      ]
     },
     "metadata": {},
     "output_type": "display_data"
    }
   ],
   "source": [
    "as.character(ifelse(results[results$ID=='NRXN1',paste0(\"P.value.adj.\",TRADE_out_df$target)]<0.05,'PASS','FAIL'))"
   ]
  },
  {
   "cell_type": "code",
   "execution_count": 73,
   "metadata": {
    "vscode": {
     "languageId": "r"
    }
   },
   "outputs": [
    {
     "data": {
      "text/html": [
       "<table class=\"dataframe\">\n",
       "<caption>A data.frame: 6 x 9</caption>\n",
       "<thead>\n",
       "\t<tr><th></th><th scope=col>donor</th><th scope=col>mean</th><th scope=col>transcriptome_wide_impact</th><th scope=col>Me</th><th scope=col>KD</th><th scope=col>target</th><th scope=col>PRS</th><th scope=col>sex</th><th scope=col>genotype</th></tr>\n",
       "\t<tr><th></th><th scope=col>&lt;chr&gt;</th><th scope=col>&lt;dbl&gt;</th><th scope=col>&lt;dbl&gt;</th><th scope=col>&lt;dbl&gt;</th><th scope=col>&lt;dbl&gt;</th><th scope=col>&lt;chr&gt;</th><th scope=col>&lt;chr&gt;</th><th scope=col>&lt;chr&gt;</th><th scope=col>&lt;chr&gt;</th></tr>\n",
       "</thead>\n",
       "<tbody>\n",
       "\t<tr><th scope=row>1</th><td>CW20012  </td><td> 2.439318e-02</td><td>0.176190923</td><td> 891.54625</td><td>0</td><td>CW20012.NRXN1_HET   </td><td>HIGH   </td><td>Female</td><td>HET </td></tr>\n",
       "\t<tr><th scope=row>2</th><td>CW20012  </td><td> 5.225989e-02</td><td>0.399773576</td><td>2603.55455</td><td>1</td><td>CW20012.NRXN1_HOMO  </td><td>HIGH   </td><td>Female</td><td>HET </td></tr>\n",
       "\t<tr><th scope=row>3</th><td>CW20103  </td><td> 1.932021e-03</td><td>0.035331934</td><td>1039.64447</td><td>1</td><td>CW20103.NRXN1_HOMO  </td><td>NEUTRAL</td><td>Female</td><td>WT  </td></tr>\n",
       "\t<tr><th scope=row>4</th><td>CW30154  </td><td> 5.636151e-03</td><td>0.009991955</td><td>  15.01811</td><td>1</td><td>CW30154.NRXN1_HOMO  </td><td>LOW    </td><td>Female</td><td>WT  </td></tr>\n",
       "\t<tr><th scope=row>5</th><td>CW50037  </td><td>-2.082726e-02</td><td>0.157178724</td><td> 625.71216</td><td>1</td><td>CW50037.NRXN1_HOMO  </td><td>NEUTRAL</td><td>Female</td><td>HOMO</td></tr>\n",
       "\t<tr><th scope=row>6</th><td>ML6112911</td><td>-1.655842e-06</td><td>0.111548011</td><td>5906.62505</td><td>0</td><td>ML6112911.NRXN1_HOMO</td><td>NEUTRAL</td><td>Male  </td><td>HOMO</td></tr>\n",
       "</tbody>\n",
       "</table>\n"
      ],
      "text/latex": [
       "A data.frame: 6 x 9\n",
       "\\begin{tabular}{r|lllllllll}\n",
       "  & donor & mean & transcriptome\\_wide\\_impact & Me & KD & target & PRS & sex & genotype\\\\\n",
       "  & <chr> & <dbl> & <dbl> & <dbl> & <dbl> & <chr> & <chr> & <chr> & <chr>\\\\\n",
       "\\hline\n",
       "\t1 & CW20012   &  2.439318e-02 & 0.176190923 &  891.54625 & 0 & CW20012.NRXN1\\_HET    & HIGH    & Female & HET \\\\\n",
       "\t2 & CW20012   &  5.225989e-02 & 0.399773576 & 2603.55455 & 1 & CW20012.NRXN1\\_HOMO   & HIGH    & Female & HET \\\\\n",
       "\t3 & CW20103   &  1.932021e-03 & 0.035331934 & 1039.64447 & 1 & CW20103.NRXN1\\_HOMO   & NEUTRAL & Female & WT  \\\\\n",
       "\t4 & CW30154   &  5.636151e-03 & 0.009991955 &   15.01811 & 1 & CW30154.NRXN1\\_HOMO   & LOW     & Female & WT  \\\\\n",
       "\t5 & CW50037   & -2.082726e-02 & 0.157178724 &  625.71216 & 1 & CW50037.NRXN1\\_HOMO   & NEUTRAL & Female & HOMO\\\\\n",
       "\t6 & ML6112911 & -1.655842e-06 & 0.111548011 & 5906.62505 & 0 & ML6112911.NRXN1\\_HOMO & NEUTRAL & Male   & HOMO\\\\\n",
       "\\end{tabular}\n"
      ],
      "text/markdown": [
       "\n",
       "A data.frame: 6 x 9\n",
       "\n",
       "| <!--/--> | donor &lt;chr&gt; | mean &lt;dbl&gt; | transcriptome_wide_impact &lt;dbl&gt; | Me &lt;dbl&gt; | KD &lt;dbl&gt; | target &lt;chr&gt; | PRS &lt;chr&gt; | sex &lt;chr&gt; | genotype &lt;chr&gt; |\n",
       "|---|---|---|---|---|---|---|---|---|---|\n",
       "| 1 | CW20012   |  2.439318e-02 | 0.176190923 |  891.54625 | 0 | CW20012.NRXN1_HET    | HIGH    | Female | HET  |\n",
       "| 2 | CW20012   |  5.225989e-02 | 0.399773576 | 2603.55455 | 1 | CW20012.NRXN1_HOMO   | HIGH    | Female | HET  |\n",
       "| 3 | CW20103   |  1.932021e-03 | 0.035331934 | 1039.64447 | 1 | CW20103.NRXN1_HOMO   | NEUTRAL | Female | WT   |\n",
       "| 4 | CW30154   |  5.636151e-03 | 0.009991955 |   15.01811 | 1 | CW30154.NRXN1_HOMO   | LOW     | Female | WT   |\n",
       "| 5 | CW50037   | -2.082726e-02 | 0.157178724 |  625.71216 | 1 | CW50037.NRXN1_HOMO   | NEUTRAL | Female | HOMO |\n",
       "| 6 | ML6112911 | -1.655842e-06 | 0.111548011 | 5906.62505 | 0 | ML6112911.NRXN1_HOMO | NEUTRAL | Male   | HOMO |\n",
       "\n"
      ],
      "text/plain": [
       "  donor     mean          transcriptome_wide_impact Me         KD\n",
       "1 CW20012    2.439318e-02 0.176190923                891.54625 0 \n",
       "2 CW20012    5.225989e-02 0.399773576               2603.55455 1 \n",
       "3 CW20103    1.932021e-03 0.035331934               1039.64447 1 \n",
       "4 CW30154    5.636151e-03 0.009991955                 15.01811 1 \n",
       "5 CW50037   -2.082726e-02 0.157178724                625.71216 1 \n",
       "6 ML6112911 -1.655842e-06 0.111548011               5906.62505 0 \n",
       "  target               PRS     sex    genotype\n",
       "1 CW20012.NRXN1_HET    HIGH    Female HET     \n",
       "2 CW20012.NRXN1_HOMO   HIGH    Female HET     \n",
       "3 CW20103.NRXN1_HOMO   NEUTRAL Female WT      \n",
       "4 CW30154.NRXN1_HOMO   LOW     Female WT      \n",
       "5 CW50037.NRXN1_HOMO   NEUTRAL Female HOMO    \n",
       "6 ML6112911.NRXN1_HOMO NEUTRAL Male   HOMO    "
      ]
     },
     "metadata": {},
     "output_type": "display_data"
    },
    {
     "data": {
      "image/png": "[encoded data removed]",
      "text/plain": [
       "plot without title"
      ]
     },
     "metadata": {
      "image/png": {
       "height": 360,
       "width": 720
      }
     },
     "output_type": "display_data"
    }
   ],
   "source": [
    "# TRADE_out_df <- read.table(\"/broad/mccarroll/npettina/analysis/village_editing/DESeq2/by_donor/NRXN1_LRP1.trade_dist_summary.txt\",sep=\"\\t\",header=T)\n",
    "# TRADE_out_df <- TRADE_out_df[TRADE_out_df$target %like% \"NRXN1\",]\n",
    "metadata$group <- paste0(metadata$donor,\".\",metadata$target_gt)\n",
    "TRADE_out_df$PRS <- metadata[match(TRADE_out_df$target,metadata$group),\"PRS\"]\n",
    "# TRADE_out_df$KO_pass <- as.logical(ifelse(results[results$ID=='NRXN1',paste0(\"P.value.adj.\",TRADE_out_df$target)]<0.05,TRUE,FALSE))\n",
    "head(TRADE_out_df)\n",
    "# TRADE_homo <- TRADE_out_df[TRADE_out_df$target %like% \"NRXN1_HOMO\",]\n",
    "# TRADE_homo$PRS <- factor(TRADE_homo$PRS,levels=c(\"NONE\",\"LOW\",\"NEUTRAL\",\"HIGH\"))\n",
    "options(repr.plot.width=12,repr.plot.height=6)\n",
    "ggplot(TRADE_out_df,aes(x=genotype,y=transcriptome_wide_impact)) +\n",
    "    geom_bar(aes(fill=target),position=\"dodge\",stat=\"identity\") +\n",
    "    labs(y=\"TWI\",fill=\"Donor\",title=\"NRXN1\") +\n",
    "    theme(plot.title = element_text(hjust=0.5)) +\n",
    "    geom_text(aes(label = ifelse(KD, \"*\", \"\"), group = target),position = position_dodge(width = 0.9), vjust = -.1, size = 20 / .pt)"
   ]
  },
  {
   "cell_type": "code",
   "execution_count": 75,
   "metadata": {
    "vscode": {
     "languageId": "r"
    }
   },
   "outputs": [
    {
     "data": {
      "text/html": [
       "<table class=\"dataframe\">\n",
       "<caption>A data.frame: 6 x 9</caption>\n",
       "<thead>\n",
       "\t<tr><th></th><th scope=col>donor</th><th scope=col>mean</th><th scope=col>transcriptome_wide_impact</th><th scope=col>Me</th><th scope=col>KD</th><th scope=col>target</th><th scope=col>PRS</th><th scope=col>sex</th><th scope=col>genotype</th></tr>\n",
       "\t<tr><th></th><th scope=col>&lt;chr&gt;</th><th scope=col>&lt;dbl&gt;</th><th scope=col>&lt;dbl&gt;</th><th scope=col>&lt;dbl&gt;</th><th scope=col>&lt;dbl&gt;</th><th scope=col>&lt;chr&gt;</th><th scope=col>&lt;chr&gt;</th><th scope=col>&lt;chr&gt;</th><th scope=col>&lt;chr&gt;</th></tr>\n",
       "</thead>\n",
       "<tbody>\n",
       "\t<tr><th scope=row>1</th><td>CW20012  </td><td> 2.439318e-02</td><td>0.176190923</td><td> 891.54625</td><td>0</td><td>CW20012.NRXN1_HET   </td><td>HIGH   </td><td>Female</td><td>HET </td></tr>\n",
       "\t<tr><th scope=row>2</th><td>CW20012  </td><td> 5.225989e-02</td><td>0.399773576</td><td>2603.55455</td><td>1</td><td>CW20012.NRXN1_HOMO  </td><td>HIGH   </td><td>Female</td><td>HET </td></tr>\n",
       "\t<tr><th scope=row>3</th><td>CW20103  </td><td> 1.932021e-03</td><td>0.035331934</td><td>1039.64447</td><td>1</td><td>CW20103.NRXN1_HOMO  </td><td>NEUTRAL</td><td>Female</td><td>WT  </td></tr>\n",
       "\t<tr><th scope=row>4</th><td>CW30154  </td><td> 5.636151e-03</td><td>0.009991955</td><td>  15.01811</td><td>1</td><td>CW30154.NRXN1_HOMO  </td><td>LOW    </td><td>Female</td><td>WT  </td></tr>\n",
       "\t<tr><th scope=row>5</th><td>CW50037  </td><td>-2.082726e-02</td><td>0.157178724</td><td> 625.71216</td><td>1</td><td>CW50037.NRXN1_HOMO  </td><td>NEUTRAL</td><td>Female</td><td>HOMO</td></tr>\n",
       "\t<tr><th scope=row>6</th><td>ML6112911</td><td>-1.655842e-06</td><td>0.111548011</td><td>5906.62505</td><td>0</td><td>ML6112911.NRXN1_HOMO</td><td>NEUTRAL</td><td>Male  </td><td>HOMO</td></tr>\n",
       "</tbody>\n",
       "</table>\n"
      ],
      "text/latex": [
       "A data.frame: 6 x 9\n",
       "\\begin{tabular}{r|lllllllll}\n",
       "  & donor & mean & transcriptome\\_wide\\_impact & Me & KD & target & PRS & sex & genotype\\\\\n",
       "  & <chr> & <dbl> & <dbl> & <dbl> & <dbl> & <chr> & <chr> & <chr> & <chr>\\\\\n",
       "\\hline\n",
       "\t1 & CW20012   &  2.439318e-02 & 0.176190923 &  891.54625 & 0 & CW20012.NRXN1\\_HET    & HIGH    & Female & HET \\\\\n",
       "\t2 & CW20012   &  5.225989e-02 & 0.399773576 & 2603.55455 & 1 & CW20012.NRXN1\\_HOMO   & HIGH    & Female & HET \\\\\n",
       "\t3 & CW20103   &  1.932021e-03 & 0.035331934 & 1039.64447 & 1 & CW20103.NRXN1\\_HOMO   & NEUTRAL & Female & WT  \\\\\n",
       "\t4 & CW30154   &  5.636151e-03 & 0.009991955 &   15.01811 & 1 & CW30154.NRXN1\\_HOMO   & LOW     & Female & WT  \\\\\n",
       "\t5 & CW50037   & -2.082726e-02 & 0.157178724 &  625.71216 & 1 & CW50037.NRXN1\\_HOMO   & NEUTRAL & Female & HOMO\\\\\n",
       "\t6 & ML6112911 & -1.655842e-06 & 0.111548011 & 5906.62505 & 0 & ML6112911.NRXN1\\_HOMO & NEUTRAL & Male   & HOMO\\\\\n",
       "\\end{tabular}\n"
      ],
      "text/markdown": [
       "\n",
       "A data.frame: 6 x 9\n",
       "\n",
       "| <!--/--> | donor &lt;chr&gt; | mean &lt;dbl&gt; | transcriptome_wide_impact &lt;dbl&gt; | Me &lt;dbl&gt; | KD &lt;dbl&gt; | target &lt;chr&gt; | PRS &lt;chr&gt; | sex &lt;chr&gt; | genotype &lt;chr&gt; |\n",
       "|---|---|---|---|---|---|---|---|---|---|\n",
       "| 1 | CW20012   |  2.439318e-02 | 0.176190923 |  891.54625 | 0 | CW20012.NRXN1_HET    | HIGH    | Female | HET  |\n",
       "| 2 | CW20012   |  5.225989e-02 | 0.399773576 | 2603.55455 | 1 | CW20012.NRXN1_HOMO   | HIGH    | Female | HET  |\n",
       "| 3 | CW20103   |  1.932021e-03 | 0.035331934 | 1039.64447 | 1 | CW20103.NRXN1_HOMO   | NEUTRAL | Female | WT   |\n",
       "| 4 | CW30154   |  5.636151e-03 | 0.009991955 |   15.01811 | 1 | CW30154.NRXN1_HOMO   | LOW     | Female | WT   |\n",
       "| 5 | CW50037   | -2.082726e-02 | 0.157178724 |  625.71216 | 1 | CW50037.NRXN1_HOMO   | NEUTRAL | Female | HOMO |\n",
       "| 6 | ML6112911 | -1.655842e-06 | 0.111548011 | 5906.62505 | 0 | ML6112911.NRXN1_HOMO | NEUTRAL | Male   | HOMO |\n",
       "\n"
      ],
      "text/plain": [
       "  donor     mean          transcriptome_wide_impact Me         KD\n",
       "1 CW20012    2.439318e-02 0.176190923                891.54625 0 \n",
       "2 CW20012    5.225989e-02 0.399773576               2603.55455 1 \n",
       "3 CW20103    1.932021e-03 0.035331934               1039.64447 1 \n",
       "4 CW30154    5.636151e-03 0.009991955                 15.01811 1 \n",
       "5 CW50037   -2.082726e-02 0.157178724                625.71216 1 \n",
       "6 ML6112911 -1.655842e-06 0.111548011               5906.62505 0 \n",
       "  target               PRS     sex    genotype\n",
       "1 CW20012.NRXN1_HET    HIGH    Female HET     \n",
       "2 CW20012.NRXN1_HOMO   HIGH    Female HET     \n",
       "3 CW20103.NRXN1_HOMO   NEUTRAL Female WT      \n",
       "4 CW30154.NRXN1_HOMO   LOW     Female WT      \n",
       "5 CW50037.NRXN1_HOMO   NEUTRAL Female HOMO    \n",
       "6 ML6112911.NRXN1_HOMO NEUTRAL Male   HOMO    "
      ]
     },
     "metadata": {},
     "output_type": "display_data"
    },
    {
     "data": {
      "image/png": "[encoded data removed]",
      "text/plain": [
       "plot without title"
      ]
     },
     "metadata": {
      "image/png": {
       "height": 360,
       "width": 720
      }
     },
     "output_type": "display_data"
    }
   ],
   "source": [
    "# TRADE_out_df <- read.table(\"/broad/mccarroll/npettina/analysis/village_editing/DESeq2/by_donor/NRXN1_LRP1.trade_dist_summary.txt\",sep=\"\\t\",header=T)\n",
    "# TRADE_out_df <- TRADE_out_df[TRADE_out_df$target %like% \"NRXN1\",]\n",
    "metadata$group <- paste0(metadata$donor,\".\",metadata$target_gt)\n",
    "TRADE_out_df$PRS <- metadata[match(TRADE_out_df$target,metadata$group),\"PRS\"]\n",
    "# TRADE_out_df$KO_pass <- as.logical(ifelse(results[results$ID=='NRXN1',paste0(\"P.value.adj.\",TRADE_out_df$target)]<0.05,TRUE,FALSE))\n",
    "head(TRADE_out_df)\n",
    "# TRADE_homo <- TRADE_out_df[TRADE_out_df$target %like% \"NRXN1_HOMO\",]\n",
    "# TRADE_homo$PRS <- factor(TRADE_homo$PRS,levels=c(\"NONE\",\"LOW\",\"NEUTRAL\",\"HIGH\"))\n",
    "options(repr.plot.width=12,repr.plot.height=6)\n",
    "ggplot(TRADE_out_df,aes(x=PRS,y=transcriptome_wide_impact)) +\n",
    "    geom_bar(aes(fill=target),position=\"dodge\",stat=\"identity\") +\n",
    "    labs(y=\"TWI\",fill=\"Donor\",title=\"NRXN1\") +\n",
    "    theme(plot.title = element_text(hjust=0.5)) +\n",
    "    geom_text(aes(label = ifelse(KD, \"*\", \"\"), group = target),position = position_dodge(width = 0.9), vjust = -.1, size = 20 / .pt)"
   ]
  },
  {
   "cell_type": "code",
   "execution_count": 74,
   "metadata": {
    "vscode": {
     "languageId": "r"
    }
   },
   "outputs": [
    {
     "data": {
      "image/png": "[encoded data removed]",
      "text/plain": [
       "plot without title"
      ]
     },
     "metadata": {
      "image/png": {
       "height": 360,
       "width": 720
      }
     },
     "output_type": "display_data"
    }
   ],
   "source": [
    "ggplot(TRADE_out_df,aes(x=log10(Me),y=log10(transcriptome_wide_impact),color=genotype)) +\n",
    "    geom_point(size=4) +\n",
    "    labs(x=\"# Effective Differentially Expressed Genes (log10)\", y=\"TWI (log10)\")"
   ]
  },
  {
   "cell_type": "code",
   "execution_count": 83,
   "metadata": {
    "vscode": {
     "languageId": "r"
    }
   },
   "outputs": [
    {
     "data": {
      "image/png": "[encoded data removed]",
      "text/plain": [
       "plot without title"
      ]
     },
     "metadata": {
      "image/png": {
       "height": 360,
       "width": 720
      }
     },
     "output_type": "display_data"
    }
   ],
   "source": [
    "library(ggpubr)\n",
    "\n",
    "comparisons_list <- list(#c('HIGH', 'LOW'), c('HIGH', 'NEUTRAL'), c('LOW', 'NEUTRAL'))\n",
    "                      c('HET', 'HOMO'))\n",
    "                      #c('Female', 'Male'))\n",
    "\n",
    "# Calculate average TWI for each genotype\n",
    "avg_data <- TRADE_out_df %>%\n",
    "  group_by(genotype) %>%\n",
    "  summarize(avg_TWI = mean(transcriptome_wide_impact, na.rm = TRUE), .groups = 'drop')\n",
    "\n",
    "# Create boxplots with jitter\n",
    "p <- ggplot(TRADE_out_df, aes(x = genotype, y = transcriptome_wide_impact, fill = genotype)) +\n",
    "  geom_boxplot() +\n",
    "  geom_jitter(width = 0.2, alpha = 0.5) +\n",
    "  labs(y = \"Transcriptome Wide Impact (TWI)\", fill = \"Genotype\", title = \"NRXN1 Average Trade Results by Genotype\") +\n",
    "  theme(plot.title = element_text(hjust = 0.5))\n",
    "\n",
    "# Add statistical significance\n",
    "p + geom_signif(comparisons = comparisons_list, \n",
    "                 map_signif_level = TRUE, \n",
    "                 y_position = c(1, 1.2, 1.4))"
   ]
  },
  {
   "cell_type": "code",
   "execution_count": 85,
   "metadata": {
    "vscode": {
     "languageId": "r"
    }
   },
   "outputs": [
    {
     "name": "stderr",
     "output_type": "stream",
     "text": [
      "Warning message:\n",
      "\"\u001b[1m\u001b[22mComputation failed in `stat_signif()`.\n",
      "Caused by error in `wilcox.test.default()`:\n",
      "\u001b[33m!\u001b[39m not enough 'y' observations\"\n"
     ]
    },
    {
     "data": {
      "image/png": "[encoded data removed]",
      "text/plain": [
       "plot without title"
      ]
     },
     "metadata": {
      "image/png": {
       "height": 360,
       "width": 720
      }
     },
     "output_type": "display_data"
    }
   ],
   "source": [
    "library(ggpubr)\n",
    "\n",
    "# Define comparisons for genotype differences within each sex\n",
    "comparisons_list <- #list(c(\"HOMO\", \"HET\"), c(\"HOMO\", \"HET\"))  # Will be mapped by sex \n",
    "list(c('HIGH', 'LOW'), c('HIGH', 'NEUTRAL'), c('LOW', 'NEUTRAL'), c('HIGH', 'LOW'), c('HIGH', 'NEUTRAL'), c('LOW', 'NEUTRAL'))\n",
    "\n",
    "# Create boxplots with jitter, mapping genotype and sex\n",
    "p <- ggplot(TRADE_out_df, aes(x = PRS, y = transcriptome_wide_impact, fill = PRS)) +\n",
    "  geom_boxplot() +\n",
    "  geom_jitter(width = 0.2, alpha = 0.5) +\n",
    "  labs(y = \"Transcriptome Wide Impact (TWI)\", fill = \"PRS\", title = \"NRXN1 Average Trade Results by Genotype\") +\n",
    "  theme(plot.title = element_text(hjust = 0.5)) +\n",
    "  facet_wrap(~ sex)  # Facet by sex\n",
    "\n",
    "# Add statistical significance, ensuring to adjust for each facet\n",
    "p + geom_signif(comparisons = comparisons_list,\n",
    "                 map_signif_level = TRUE,\n",
    "                 y_position = c(1, 1.2, 1.4, 1, 1.2, 1.4))\n",
    "                 #y_position = max(TRADE_out_df$transcriptome_wide_impact, na.rm = TRUE) + 0.5,\n",
    "                 #position = position_dodge(0.75))  # Adjust position to avoid overlap"
   ]
  },
  {
   "cell_type": "code",
   "execution_count": null,
   "metadata": {
    "vscode": {
     "languageId": "r"
    }
   },
   "outputs": [
    {
     "data": {
      "text/html": [
       "<table class=\"dataframe\">\n",
       "<caption>A data.frame: 17 x 9</caption>\n",
       "<thead>\n",
       "\t<tr><th scope=col>donor</th><th scope=col>mean</th><th scope=col>transcriptome_wide_impact</th><th scope=col>Me</th><th scope=col>KD</th><th scope=col>target</th><th scope=col>PRS</th><th scope=col>sex</th><th scope=col>genotype</th></tr>\n",
       "\t<tr><th scope=col>&lt;chr&gt;</th><th scope=col>&lt;dbl&gt;</th><th scope=col>&lt;dbl&gt;</th><th scope=col>&lt;dbl&gt;</th><th scope=col>&lt;int&gt;</th><th scope=col>&lt;chr&gt;</th><th scope=col>&lt;chr&gt;</th><th scope=col>&lt;chr&gt;</th><th scope=col>&lt;chr&gt;</th></tr>\n",
       "</thead>\n",
       "<tbody>\n",
       "\t<tr><td>CW20012  </td><td> 2.439318e-02</td><td>0.176190923</td><td>  891.54625</td><td>0</td><td>CW20012.NRXN1_HET   </td><td>HIGH   </td><td>Female</td><td>HET </td></tr>\n",
       "\t<tr><td>CW20012  </td><td> 5.225989e-02</td><td>0.399773576</td><td> 2603.55455</td><td>1</td><td>CW20012.NRXN1_HOMO  </td><td>HIGH   </td><td>Female</td><td>HOMO</td></tr>\n",
       "\t<tr><td>CW20103  </td><td> 1.932021e-03</td><td>0.035331934</td><td> 1039.64447</td><td>1</td><td>CW20103.NRXN1_HOMO  </td><td>NEUTRAL</td><td>Female</td><td>HOMO</td></tr>\n",
       "\t<tr><td>CW30154  </td><td> 5.636151e-03</td><td>0.009991955</td><td>   15.01811</td><td>1</td><td>CW30154.NRXN1_HOMO  </td><td>LOW    </td><td>Female</td><td>HOMO</td></tr>\n",
       "\t<tr><td>CW50037  </td><td>-2.082726e-02</td><td>0.157178724</td><td>  625.71216</td><td>1</td><td>CW50037.NRXN1_HOMO  </td><td>NEUTRAL</td><td>Female</td><td>HOMO</td></tr>\n",
       "\t<tr><td>ML6112911</td><td>-1.655842e-06</td><td>0.111548011</td><td> 5906.62505</td><td>0</td><td>ML6112911.NRXN1_HOMO</td><td>NEUTRAL</td><td>Male  </td><td>HOMO</td></tr>\n",
       "\t<tr><td>ML6113363</td><td>-3.483774e-02</td><td>0.142866882</td><td> 4227.74807</td><td>1</td><td>ML6113363.NRXN1_HOMO</td><td>HIGH   </td><td>Male  </td><td>HOMO</td></tr>\n",
       "\t<tr><td>ML6113363</td><td>-2.638590e-02</td><td>0.081901277</td><td> 2891.83326</td><td>1</td><td>ML6113363.NRXN1_HET </td><td>HIGH   </td><td>Male  </td><td>HET </td></tr>\n",
       "\t<tr><td>ML8984425</td><td> 2.325386e-02</td><td>0.164466419</td><td>  430.25435</td><td>1</td><td>ML8984425.NRXN1_HOMO</td><td>LOW    </td><td>Female</td><td>HOMO</td></tr>\n",
       "\t<tr><td>ML8984425</td><td>-8.778141e-03</td><td>0.018178681</td><td>   37.70816</td><td>1</td><td>ML8984425.NRXN1_HET </td><td>LOW    </td><td>Female</td><td>HET </td></tr>\n",
       "\t<tr><td>ML9072836</td><td> 2.267096e-02</td><td>0.373790896</td><td> 1612.32504</td><td>1</td><td>ML9072836.NRXN1_HET </td><td>NEUTRAL</td><td>Female</td><td>HET </td></tr>\n",
       "\t<tr><td>ML9072836</td><td> 1.275562e-01</td><td>0.972080303</td><td> 1420.01647</td><td>1</td><td>ML9072836.NRXN1_HOMO</td><td>NEUTRAL</td><td>Female</td><td>HOMO</td></tr>\n",
       "\t<tr><td>ML9096344</td><td>-1.099074e-01</td><td>0.256551033</td><td>  527.82807</td><td>1</td><td>ML9096344.NRXN1_HOMO</td><td>HIGH   </td><td>Male  </td><td>HOMO</td></tr>\n",
       "\t<tr><td>ML9108360</td><td>-1.203658e-03</td><td>0.074144684</td><td>  103.13340</td><td>1</td><td>ML9108360.NRXN1_HOMO</td><td>HIGH   </td><td>Male  </td><td>HOMO</td></tr>\n",
       "\t<tr><td>ML9108360</td><td>-2.632428e-02</td><td>0.033663774</td><td>  192.74488</td><td>0</td><td>ML9108360.NRXN1_HET </td><td>HIGH   </td><td>Male  </td><td>HET </td></tr>\n",
       "\t<tr><td>ML9119779</td><td>-3.198281e-02</td><td>0.480476757</td><td>12584.12207</td><td>0</td><td>ML9119779.NRXN1_HET </td><td>NEUTRAL</td><td>Female</td><td>HET </td></tr>\n",
       "\t<tr><td>ML9119779</td><td>-2.129062e-02</td><td>0.325909499</td><td> 5209.53853</td><td>1</td><td>ML9119779.NRXN1_HOMO</td><td>NEUTRAL</td><td>Female</td><td>HOMO</td></tr>\n",
       "</tbody>\n",
       "</table>\n"
      ],
      "text/latex": [
       "A data.frame: 17 x 9\n",
       "\\begin{tabular}{lllllllll}\n",
       " donor & mean & transcriptome\\_wide\\_impact & Me & KD & target & PRS & sex & genotype\\\\\n",
       " <chr> & <dbl> & <dbl> & <dbl> & <int> & <chr> & <chr> & <chr> & <chr>\\\\\n",
       "\\hline\n",
       "\t CW20012   &  2.439318e-02 & 0.176190923 &   891.54625 & 0 & CW20012.NRXN1\\_HET    & HIGH    & Female & HET \\\\\n",
       "\t CW20012   &  5.225989e-02 & 0.399773576 &  2603.55455 & 1 & CW20012.NRXN1\\_HOMO   & HIGH    & Female & HOMO\\\\\n",
       "\t CW20103   &  1.932021e-03 & 0.035331934 &  1039.64447 & 1 & CW20103.NRXN1\\_HOMO   & NEUTRAL & Female & HOMO\\\\\n",
       "\t CW30154   &  5.636151e-03 & 0.009991955 &    15.01811 & 1 & CW30154.NRXN1\\_HOMO   & LOW     & Female & HOMO\\\\\n",
       "\t CW50037   & -2.082726e-02 & 0.157178724 &   625.71216 & 1 & CW50037.NRXN1\\_HOMO   & NEUTRAL & Female & HOMO\\\\\n",
       "\t ML6112911 & -1.655842e-06 & 0.111548011 &  5906.62505 & 0 & ML6112911.NRXN1\\_HOMO & NEUTRAL & Male   & HOMO\\\\\n",
       "\t ML6113363 & -3.483774e-02 & 0.142866882 &  4227.74807 & 1 & ML6113363.NRXN1\\_HOMO & HIGH    & Male   & HOMO\\\\\n",
       "\t ML6113363 & -2.638590e-02 & 0.081901277 &  2891.83326 & 1 & ML6113363.NRXN1\\_HET  & HIGH    & Male   & HET \\\\\n",
       "\t ML8984425 &  2.325386e-02 & 0.164466419 &   430.25435 & 1 & ML8984425.NRXN1\\_HOMO & LOW     & Female & HOMO\\\\\n",
       "\t ML8984425 & -8.778141e-03 & 0.018178681 &    37.70816 & 1 & ML8984425.NRXN1\\_HET  & LOW     & Female & HET \\\\\n",
       "\t ML9072836 &  2.267096e-02 & 0.373790896 &  1612.32504 & 1 & ML9072836.NRXN1\\_HET  & NEUTRAL & Female & HET \\\\\n",
       "\t ML9072836 &  1.275562e-01 & 0.972080303 &  1420.01647 & 1 & ML9072836.NRXN1\\_HOMO & NEUTRAL & Female & HOMO\\\\\n",
       "\t ML9096344 & -1.099074e-01 & 0.256551033 &   527.82807 & 1 & ML9096344.NRXN1\\_HOMO & HIGH    & Male   & HOMO\\\\\n",
       "\t ML9108360 & -1.203658e-03 & 0.074144684 &   103.13340 & 1 & ML9108360.NRXN1\\_HOMO & HIGH    & Male   & HOMO\\\\\n",
       "\t ML9108360 & -2.632428e-02 & 0.033663774 &   192.74488 & 0 & ML9108360.NRXN1\\_HET  & HIGH    & Male   & HET \\\\\n",
       "\t ML9119779 & -3.198281e-02 & 0.480476757 & 12584.12207 & 0 & ML9119779.NRXN1\\_HET  & NEUTRAL & Female & HET \\\\\n",
       "\t ML9119779 & -2.129062e-02 & 0.325909499 &  5209.53853 & 1 & ML9119779.NRXN1\\_HOMO & NEUTRAL & Female & HOMO\\\\\n",
       "\\end{tabular}\n"
      ],
      "text/markdown": [
       "\n",
       "A data.frame: 17 x 9\n",
       "\n",
       "| donor &lt;chr&gt; | mean &lt;dbl&gt; | transcriptome_wide_impact &lt;dbl&gt; | Me &lt;dbl&gt; | KD &lt;int&gt; | target &lt;chr&gt; | PRS &lt;chr&gt; | sex &lt;chr&gt; | genotype &lt;chr&gt; |\n",
       "|---|---|---|---|---|---|---|---|---|\n",
       "| CW20012   |  2.439318e-02 | 0.176190923 |   891.54625 | 0 | CW20012.NRXN1_HET    | HIGH    | Female | HET  |\n",
       "| CW20012   |  5.225989e-02 | 0.399773576 |  2603.55455 | 1 | CW20012.NRXN1_HOMO   | HIGH    | Female | HOMO |\n",
       "| CW20103   |  1.932021e-03 | 0.035331934 |  1039.64447 | 1 | CW20103.NRXN1_HOMO   | NEUTRAL | Female | HOMO |\n",
       "| CW30154   |  5.636151e-03 | 0.009991955 |    15.01811 | 1 | CW30154.NRXN1_HOMO   | LOW     | Female | HOMO |\n",
       "| CW50037   | -2.082726e-02 | 0.157178724 |   625.71216 | 1 | CW50037.NRXN1_HOMO   | NEUTRAL | Female | HOMO |\n",
       "| ML6112911 | -1.655842e-06 | 0.111548011 |  5906.62505 | 0 | ML6112911.NRXN1_HOMO | NEUTRAL | Male   | HOMO |\n",
       "| ML6113363 | -3.483774e-02 | 0.142866882 |  4227.74807 | 1 | ML6113363.NRXN1_HOMO | HIGH    | Male   | HOMO |\n",
       "| ML6113363 | -2.638590e-02 | 0.081901277 |  2891.83326 | 1 | ML6113363.NRXN1_HET  | HIGH    | Male   | HET  |\n",
       "| ML8984425 |  2.325386e-02 | 0.164466419 |   430.25435 | 1 | ML8984425.NRXN1_HOMO | LOW     | Female | HOMO |\n",
       "| ML8984425 | -8.778141e-03 | 0.018178681 |    37.70816 | 1 | ML8984425.NRXN1_HET  | LOW     | Female | HET  |\n",
       "| ML9072836 |  2.267096e-02 | 0.373790896 |  1612.32504 | 1 | ML9072836.NRXN1_HET  | NEUTRAL | Female | HET  |\n",
       "| ML9072836 |  1.275562e-01 | 0.972080303 |  1420.01647 | 1 | ML9072836.NRXN1_HOMO | NEUTRAL | Female | HOMO |\n",
       "| ML9096344 | -1.099074e-01 | 0.256551033 |   527.82807 | 1 | ML9096344.NRXN1_HOMO | HIGH    | Male   | HOMO |\n",
       "| ML9108360 | -1.203658e-03 | 0.074144684 |   103.13340 | 1 | ML9108360.NRXN1_HOMO | HIGH    | Male   | HOMO |\n",
       "| ML9108360 | -2.632428e-02 | 0.033663774 |   192.74488 | 0 | ML9108360.NRXN1_HET  | HIGH    | Male   | HET  |\n",
       "| ML9119779 | -3.198281e-02 | 0.480476757 | 12584.12207 | 0 | ML9119779.NRXN1_HET  | NEUTRAL | Female | HET  |\n",
       "| ML9119779 | -2.129062e-02 | 0.325909499 |  5209.53853 | 1 | ML9119779.NRXN1_HOMO | NEUTRAL | Female | HOMO |\n",
       "\n"
      ],
      "text/plain": [
       "   donor     mean          transcriptome_wide_impact Me          KD\n",
       "1  CW20012    2.439318e-02 0.176190923                 891.54625 0 \n",
       "2  CW20012    5.225989e-02 0.399773576                2603.55455 1 \n",
       "3  CW20103    1.932021e-03 0.035331934                1039.64447 1 \n",
       "4  CW30154    5.636151e-03 0.009991955                  15.01811 1 \n",
       "5  CW50037   -2.082726e-02 0.157178724                 625.71216 1 \n",
       "6  ML6112911 -1.655842e-06 0.111548011                5906.62505 0 \n",
       "7  ML6113363 -3.483774e-02 0.142866882                4227.74807 1 \n",
       "8  ML6113363 -2.638590e-02 0.081901277                2891.83326 1 \n",
       "9  ML8984425  2.325386e-02 0.164466419                 430.25435 1 \n",
       "10 ML8984425 -8.778141e-03 0.018178681                  37.70816 1 \n",
       "11 ML9072836  2.267096e-02 0.373790896                1612.32504 1 \n",
       "12 ML9072836  1.275562e-01 0.972080303                1420.01647 1 \n",
       "13 ML9096344 -1.099074e-01 0.256551033                 527.82807 1 \n",
       "14 ML9108360 -1.203658e-03 0.074144684                 103.13340 1 \n",
       "15 ML9108360 -2.632428e-02 0.033663774                 192.74488 0 \n",
       "16 ML9119779 -3.198281e-02 0.480476757               12584.12207 0 \n",
       "17 ML9119779 -2.129062e-02 0.325909499                5209.53853 1 \n",
       "   target               PRS     sex    genotype\n",
       "1  CW20012.NRXN1_HET    HIGH    Female HET     \n",
       "2  CW20012.NRXN1_HOMO   HIGH    Female HOMO    \n",
       "3  CW20103.NRXN1_HOMO   NEUTRAL Female HOMO    \n",
       "4  CW30154.NRXN1_HOMO   LOW     Female HOMO    \n",
       "5  CW50037.NRXN1_HOMO   NEUTRAL Female HOMO    \n",
       "6  ML6112911.NRXN1_HOMO NEUTRAL Male   HOMO    \n",
       "7  ML6113363.NRXN1_HOMO HIGH    Male   HOMO    \n",
       "8  ML6113363.NRXN1_HET  HIGH    Male   HET     \n",
       "9  ML8984425.NRXN1_HOMO LOW     Female HOMO    \n",
       "10 ML8984425.NRXN1_HET  LOW     Female HET     \n",
       "11 ML9072836.NRXN1_HET  NEUTRAL Female HET     \n",
       "12 ML9072836.NRXN1_HOMO NEUTRAL Female HOMO    \n",
       "13 ML9096344.NRXN1_HOMO HIGH    Male   HOMO    \n",
       "14 ML9108360.NRXN1_HOMO HIGH    Male   HOMO    \n",
       "15 ML9108360.NRXN1_HET  HIGH    Male   HET     \n",
       "16 ML9119779.NRXN1_HET  NEUTRAL Female HET     \n",
       "17 ML9119779.NRXN1_HOMO NEUTRAL Female HOMO    "
      ]
     },
     "metadata": {},
     "output_type": "display_data"
    }
   ],
   "source": [
    "TRADE_out_df"
   ]
  }
 ],
 "metadata": {
  "kernelspec": {
   "display_name": "R",
   "language": "R",
   "name": "ir"
  },
  "language_info": {
   "codemirror_mode": "r",
   "file_extension": ".r",
   "mimetype": "text/x-r-source",
   "name": "R",
   "pygments_lexer": "r",
   "version": "4.3.1"
  },
  "orig_nbformat": 4
 },
 "nbformat": 4,
 "nbformat_minor": 2
}
