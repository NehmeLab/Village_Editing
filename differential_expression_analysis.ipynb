{
 "cells": [
  {
   "cell_type": "markdown",
   "metadata": {},
   "source": [
    "## Load libraries"
   ]
  },
  {
   "cell_type": "code",
   "execution_count": null,
   "metadata": {
    "vscode": {
     "languageId": "r"
    }
   },
   "outputs": [],
   "source": [
    "library(limma)\n",
    "library(statmod)\n",
    "library(ggplot2)\n",
    "library(dplyr)\n",
    "library(tidyverse)\n",
    "library(edgeR)\n",
    "library(data.table)\n",
    "library(readr)\n",
    "library(tibble)\n",
    "library(reshape2)\n",
    "library(pheatmap)\n",
    "library(yaml)\n",
    "library(stringr)\n",
    "library(ggh4x)\n",
    "library(matrixStats)\n",
    "library(RColorBrewer)\n",
    "library(DESeq2)"
   ]
  },
  {
   "cell_type": "markdown",
   "metadata": {
    "vscode": {
     "languageId": "r"
    }
   },
   "source": [
    "## Load data"
   ]
  },
  {
   "cell_type": "code",
   "execution_count": null,
   "metadata": {
    "vscode": {
     "languageId": "r"
    }
   },
   "outputs": [],
   "source": [
    "counts <- read.table(\"counts_matrix.txt\", sep = '\\t', header = TRUE)\n",
    "rownames(counts) <- counts$GENE\n",
    "counts <- counts[-1]\n",
    "colnames(counts) <- gsub(\"\\\\.\", \"-\", colnames(counts))\n",
    "head(counts)"
   ]
  },
  {
   "cell_type": "code",
   "execution_count": null,
   "metadata": {
    "vscode": {
     "languageId": "r"
    }
   },
   "outputs": [],
   "source": [
    "#Remove relevant X and Y-linked genes\n",
    "sex_genes <- c(\"DBY\", \"SMCY\", \"UTY\", \"RPS4Y\", \"USP9Y\", \"XIST\")\n",
    "counts<- counts[!rownames(counts) %in% sex_genes, ]\n",
    "dim(counts)"
   ]
  },
  {
   "cell_type": "code",
   "execution_count": 5,
   "metadata": {
    "vscode": {
     "languageId": "r"
    }
   },
   "outputs": [],
   "source": [
    "counts[is.na(counts)] <- 0"
   ]
  },
  {
   "cell_type": "code",
   "execution_count": null,
   "metadata": {
    "vscode": {
     "languageId": "r"
    }
   },
   "outputs": [],
   "source": [
    "#Make metadata table\n",
    "\n",
    "metadata <- data.frame(sample=colnames(counts)) \n",
    "metadata$gene <- str_to_upper(str_split_fixed(colnames(counts),\"_\",n=4)[,2])\n",
    "metadata$donor <- str_to_upper(str_split_fixed(colnames(counts),\"_\",n=4)[,1])\n",
    "metadata$genotype <- str_to_upper(str_split_fixed(colnames(counts),\"_\",n=4)[,3])\n",
    "metadata$target_gt <- paste0(metadata$gene,\"_\",metadata$genotype)\n",
    "head(metadata)"
   ]
  },
  {
   "cell_type": "code",
   "execution_count": null,
   "metadata": {
    "vscode": {
     "languageId": "r"
    }
   },
   "outputs": [],
   "source": [
    "raw_metadata <- read.table(\"/path_to_metadata.tsv\",sep=\"\\t\",header=T)\n",
    "metadata$PRS <- raw_metadata[match(metadata$donor,raw_metadata$Donor),\"PRS\"]\n",
    "metadata$sex <- raw_metadata[match(metadata$donor,raw_metadata$Donor),\"Sex\"]\n",
    "rownames(metadata) <- NULL\n",
    "head(metadata)"
   ]
  },
  {
   "cell_type": "code",
   "execution_count": 8,
   "metadata": {
    "vscode": {
     "languageId": "r"
    }
   },
   "outputs": [],
   "source": [
    "names(counts) <- sub(\"\\\\-\",\"\",names(counts))\n",
    "metadata$donor <- sub(\"\\\\-\",\"\",metadata$donor)\n",
    "metadata$sample <- sub(\"\\\\-\",\"\",metadata$sample)\n",
    "metadata[is.na(metadata$PRS),\"PRS\"] <- \"NEUTRAL\"\n",
    "head(metadata)"
   ]
  },
  {
   "cell_type": "code",
   "execution_count": null,
   "metadata": {
    "vscode": {
     "languageId": "r"
    }
   },
   "outputs": [],
   "source": [
    "#Plot library size\n",
    "\n",
    "get_library_size <- function(count_data) {\n",
    "  df <- as.data.frame(count_data)\n",
    "  \n",
    "  long_df <- df %>% \n",
    "    pivot_longer(cols = everything(), names_to = \"sample\", values_to = \"reads\")\n",
    "  \n",
    "  #Remove replicate indicators\n",
    "  long_df$sample <- gsub(\"_a|_b|_c|_d|_e|_f$\", \"\", long_df$sample)\n",
    "  \n",
    "\n",
    "  aggregated_df <- long_df %>% \n",
    "    group_by(sample) %>%\n",
    "    summarise(total_reads = sum(reads, na.rm = TRUE))\n",
    "\n",
    "  aggregated_df$donor <- sub(\"_.*\", \"\", aggregated_df$sample)\n",
    "  aggregated_df$genotype <- sub(\".*_\", \"\", aggregated_df$sample)\n",
    "\n",
    "\n",
    "  \n",
    "  return(aggregated_df)\n",
    "}\n",
    "\n",
    "#Library size bar graph\n",
    "\n",
    "lib_size_bar <- function(library_data) {\n",
    "  if (!\"donor\" %in% names(library_data)) {\n",
    "    library_data$donor <- sub(\"_.*\", \"\", library_data$sample)\n",
    "    library_data$genotype <- sub(\".*_(.*)$\", \"\\\\1\", library_data$sample)\n",
    "  }\n",
    "\n",
    "  library_data$donor_genotype <- with(library_data, paste(donor, genotype, sep = \"_\"))\n",
    "\n",
    "  genotype_order <- c(\"WT\", \"Het\", \"Homo\")\n",
    "  \n",
    "  library_data <- library_data %>%\n",
    "    mutate(\n",
    "      donor_genotype = factor(donor_genotype, levels = unique(donor_genotype[order(donor, match(genotype, genotype_order))]))\n",
    "    )\n",
    "\n",
    "\n",
    "  lib_size <- ggplot(library_data, aes(x = donor_genotype, y = total_reads, fill = donor)) +\n",
    "    geom_bar(stat = \"identity\") +\n",
    "    labs(title = \"Library Size per Sample\", x = \"Sample\", y = \"Counts\") +\n",
    "    scale_fill_brewer(palette = \"Set3\", name = \"Donor\") +\n",
    "    scale_x_discrete(labels = function(x) stringr::str_wrap(x, width = 10)) +\n",
    "    theme(axis.text.x = element_text(angle = 90, vjust = 0.5, size = 8))\n",
    "\n",
    "  return(lib_size)\n",
    "}\n",
    "\n",
    "library_data <- get_library_size(counts)\n",
    "lib_bar <- lib_size_bar(library_data)\n",
    "lib_bar"
   ]
  },
  {
   "cell_type": "markdown",
   "metadata": {},
   "source": [
    "# Run differential expression"
   ]
  },
  {
   "cell_type": "code",
   "execution_count": 13,
   "metadata": {
    "vscode": {
     "languageId": "r"
    }
   },
   "outputs": [],
   "source": [
    "metadata$target_gt <- factor(metadata$target_gt, levels = c(\"NRXN1_WT\", \"NRXN1_HET\", \"NRXN1_HOMO\"))\n",
    "metadata$sex <- factor(metadata$sex, levels = c(\"Male\", \"Female\"))\n",
    "metadata$PRS <- factor(metadata$PRS, levels = c(\"LOW\", \"NEUTRAL\", \"HIGH\"))\n"
   ]
  },
  {
   "cell_type": "code",
   "execution_count": null,
   "metadata": {
    "vscode": {
     "languageId": "r"
    }
   },
   "outputs": [],
   "source": [
    "#dds <- DESeqDataSetFromMatrix(countData = counts, colData = metadata, design = ~ 0 + target_gt + sex)\n",
    "dds <- DESeqDataSetFromMatrix(countData = counts, colData = metadata, design = ~ 0 + target_gt)\n",
    "\n",
    "vsd <- vst(dds, blind=FALSE)\n",
    "pcaData <- plotPCA(vsd, intgroup = c(\"target_gt\"), returnData = TRUE) \n",
    "percentVar <- round(100 * attr(pcaData, \"percentVar\"))\n",
    "ggplot(pcaData, aes(PC1, PC2, color=target_gt)) +\n",
    "  geom_point(size=3) +\n",
    "  xlab(paste0(\"PC1: \", percentVar[1], \"% variance\")) +\n",
    "  ylab(paste0(\"PC2: \", percentVar[2], \"% variance\")) +\n",
    "  coord_fixed() +\n",
    "  theme(\n",
    "    panel.grid.major = element_blank(),  \n",
    "    panel.grid.minor = element_blank(), \n",
    "    panel.background = element_blank(),  \n",
    "    axis.line = element_line(color = \"black\")  \n",
    "  )\n",
    "\n",
    "#Run DE analysis\n",
    "dds <- DESeq(dds)\n",
    "resultsNames(dds) \n"
   ]
  },
  {
   "cell_type": "code",
   "execution_count": null,
   "metadata": {
    "vscode": {
     "languageId": "r"
    }
   },
   "outputs": [],
   "source": [
    "# Pairwise comparison\n",
    "res <- results(dds, contrast=c(\"target_gt\", \"LRP1_HOMO\", \"LRP1_WT\"))\n",
    "#res <- lfcShrink(dds, coef=\"target_gtNRXN1_HOMO\", type=\"apeglm\")\n",
    "\n",
    "# Summarize results\n",
    "summary(res)\n",
    "\n",
    "# MA-plot\n",
    "\n",
    "plotMA(res, ylim=c(-2,2))"
   ]
  },
  {
   "cell_type": "code",
   "execution_count": null,
   "metadata": {
    "vscode": {
     "languageId": "r"
    }
   },
   "outputs": [],
   "source": [
    "#Compare genotypes in a dosage-like manner\n",
    "\n",
    "metadata$genotype_dosage <- as.numeric(factor(metadata$target_gt, levels=c(\"NRXN1_WT\", \"NRXN1_HET\", \"NRXN1_HOMO\"))) - 1\n",
    "\n",
    "dds <- DESeqDataSetFromMatrix(countData = counts, colData = metadata, design = ~ sex + genotype_dosage)\n",
    "\n",
    "dds <- DESeq(dds)\n",
    "\n",
    "res <- results(dds, name=\"genotype_dosage\")\n",
    "\n",
    "=summary(res)"
   ]
  },
  {
   "cell_type": "code",
   "execution_count": null,
   "metadata": {
    "vscode": {
     "languageId": "r"
    }
   },
   "outputs": [],
   "source": [
    "res_df <- as.data.frame(res)\n",
    "res_df <- res_df[!is.na(res_df$padj),]\n",
    "top_hits <- res_df[res_df$padj<0.05,]\n",
    "top_hits[order(top_hits$padj),]\n",
    "res_df[\"NRXN1\",]\n",
    "top_hits"
   ]
  },
  {
   "cell_type": "code",
   "execution_count": null,
   "metadata": {
    "vscode": {
     "languageId": "r"
    }
   },
   "outputs": [],
   "source": [
    "norm_counts <- counts(dds, normalized = TRUE)\n",
    "head(norm_counts)"
   ]
  },
  {
   "cell_type": "code",
   "execution_count": 70,
   "metadata": {
    "vscode": {
     "languageId": "r"
    }
   },
   "outputs": [],
   "source": [
    "norm_counts_df <- as.data.frame(norm_counts)\n",
    "norm_counts_df$gene <- row.names(norm_counts)\n",
    "norm_counts_df <- norm_counts_df %>% \n",
    "  select(gene, everything())"
   ]
  },
  {
   "cell_type": "code",
   "execution_count": null,
   "metadata": {
    "vscode": {
     "languageId": "r"
    }
   },
   "outputs": [],
   "source": [
    "#distribution of LogFC values\n",
    "\n",
    "plot_log2fc <- function(labeled_results, padj_threshold){\n",
    "  filtered_results <- labeled_results %>% filter(padj < padj_threshold)\n",
    "  p <- ggplot(filtered_results, aes(x = log2FoldChange)) +\n",
    "    geom_histogram(binwidth = 0.1, fill = \"royalblue1\", color = 'black') +\n",
    "    labs(title = \"Histogram of Log2FoldChange for DE genes from DESeq2\",\n",
    "         x = \"Log2FoldChange Values\",\n",
    "         y = \"Count\")\n",
    "  print(p) \n",
    "}\n",
    "\n",
    "\n",
    "log2fc <- plot_log2fc(merged_df, 0.05)"
   ]
  },
  {
   "cell_type": "code",
   "execution_count": null,
   "metadata": {
    "vscode": {
     "languageId": "r"
    }
   },
   "outputs": [],
   "source": [
    "#distribution of p-values\n",
    "plot_pvals <- function(norm_counts) {\n",
    "  p <- ggplot(norm_counts, aes(x = pvalue)) +\n",
    "    geom_histogram(binwidth = 0.02, fill = \"olivedrab3\", color = 'black') +\n",
    "    labs(title = \"Histogram of Raw P-Values obtained from DE analysis\",\n",
    "         x = \"P-Value\",\n",
    "         y = \"Count\")\n",
    "  print (p)\n",
    "}\n",
    "\n",
    "pvals <- plot_pvals(merged_df)"
   ]
  },
  {
   "cell_type": "code",
   "execution_count": null,
   "metadata": {
    "vscode": {
     "languageId": "r"
    }
   },
   "outputs": [],
   "source": [
    "res_full <- as.data.frame(res)\n",
    "res_full$gene <- rownames(res)\n",
    "\n",
    "norm_counts_df <- as.data.frame(norm_counts)\n",
    "norm_counts_df$gene <- rownames(norm_counts)\n",
    "\n",
    "#merge norm_counts_df and res dfs\n",
    "merged_df <- merge(res_full, norm_counts_df, by = \"gene\")\n",
    "rownames(merged_df) <- merged_df$gene\n",
    "\n",
    "merged_df <- merged_df[order(merged_df$padj, decreasing = FALSE), ]\n",
    "#head(merged_df$gene, n=15)\n",
    "top_genes <- head(merged_df$gene, n=14)\n",
    "\n",
    "gene_vector <- paste0('\"', top_genes, '\"', collapse = \", \")\n",
    "\n",
    "gene_vector <- gsub(\"'\", \"\", gene_vector)\n",
    "\n",
    "gene_list <- strsplit(gene_vector, \", \")[[1]]\n",
    "gene_list <- trimws(gsub('\"', '', gene_list))\n",
    "gene_list <- c(\"NRXN1\", gene_list)\n",
    "gene_list\n"
   ]
  },
  {
   "cell_type": "code",
   "execution_count": null,
   "metadata": {
    "vscode": {
     "languageId": "r"
    }
   },
   "outputs": [],
   "source": [
    "#volcano plot\n",
    "p1 <- EnhancedVolcano(merged_df,\n",
    "    lab = merged_df$gene,\n",
    "    selectLab = c('NRXN1'),\n",
    "    x = 'log2FoldChange',\n",
    "    y = 'padj',\n",
    "    pCutoff = 0.05,\n",
    "    FCcutoff = 1.0,\n",
    "    col=c('black', 'black', 'RED3', 'red3'),\n",
    "    #cutoffLineType = 'blank', \n",
    "    cutoffLineCol = 'grey',\n",
    "    labSize = 4.0,\n",
    "    labCol = 'black',\n",
    "    labFace = 'bold',\n",
    "    boxedLabels = TRUE,\n",
    "    #boxedLabels = FALSE,\n",
    "    pointSize = 1,\n",
    "    colAlpha = 1,  \n",
    "    legendPosition = 'right',\n",
    "    legendLabSize = 14,\n",
    "    legendIconSize = 4.0,\n",
    "    drawConnectors = TRUE,\n",
    "    widthConnectors = 1.0,\n",
    "    colConnectors = 'grey',\n",
    "    maxoverlapsConnectors = Inf,\n",
    "    gridlines.major = FALSE,  \n",
    "    gridlines.minor = FALSE\n",
    "    #xlim = c(-6,6)\n",
    "    #ylim = c(0,17) \n",
    ")\n",
    "\n",
    "plot(p1)"
   ]
  },
  {
   "cell_type": "code",
   "execution_count": null,
   "metadata": {
    "vscode": {
     "languageId": "r"
    }
   },
   "outputs": [],
   "source": [
    "#visualizing NRXN1 expression\n",
    "\n",
    "nrxn1_counts <- as.numeric(norm_counts[\"NRXN1\", ])  \n",
    "plot_df <- data.frame(sample = colnames(norm_counts), NRXN1 = nrxn1_counts)\n",
    "\n",
    "plot_df <- plot_df %>%\n",
    "  mutate(donor = metadata[match(sample, metadata$sample), \"donor\"],\n",
    "         genotype = metadata[match(sample, metadata$sample), \"genotype\"])\n",
    "\n",
    "\n",
    "\n",
    "plot_df$genotype <- factor(plot_df$genotype, levels = c(\"WT\", \"HET\", \"HOMO\"))\n",
    "\n",
    "# Plot NRXN1 expression with color coding by genotype\n",
    "ggplot(plot_df, aes(x = genotype, y = NRXN1, color = genotype)) +\n",
    "  geom_boxplot(alpha = 0.6) +  \n",
    "  geom_point(size = 2, stroke = 0.5, color = \"black\") +  \n",
    "  theme_minimal() +\n",
    "  labs(title = \"NRXN1 Expression by Genotype\",\n",
    "       x = \"Genotype\",\n",
    "       y = \"NRXN1 Counts\") +\n",
    "  theme(legend.position = \"right\", \n",
    "        axis.text.x = element_text(angle = 45, hjust = 1))  "
   ]
  },
  {
   "cell_type": "code",
   "execution_count": null,
   "metadata": {
    "vscode": {
     "languageId": "r"
    }
   },
   "outputs": [],
   "source": [
    "#NRXN1 expression per genotype and donor\n",
    "\n",
    "plot_df <- data.frame(sample = colnames(norm_counts), NRXN1 = nrxn1_counts)\n",
    "\n",
    "common_samples <- intersect(plot_df$sample, metadata$sample)\n",
    "\n",
    "plot_df <- plot_df %>%\n",
    "  filter(sample %in% common_samples) %>%\n",
    "  mutate(donor = metadata[match(sample, metadata$sample), \"donor\"],\n",
    "         genotype = metadata[match(sample, metadata$sample), \"genotype\"],\n",
    "         PRS = metadata[match(sample, metadata$sample), \"PRS\"])\n"
   ]
  },
  {
   "cell_type": "code",
   "execution_count": null,
   "metadata": {
    "vscode": {
     "languageId": "r"
    }
   },
   "outputs": [],
   "source": [
    "library(ggbeeswarm) \n",
    "summary_df <- plot_df %>%\n",
    "  group_by(donor, genotype)# %>%\n",
    "  #summarise(NRXN1_avg = mean(NRXN1, na.rm = TRUE), .groups = 'drop')\n",
    "\n",
    "\n",
    "genotypes <- c(\"WT\", \"HET\", \"HOMO\")  \n",
    "all_combinations <- expand.grid(donor = unique(plot_df$donor), genotype = genotypes)\n",
    "\n",
    "complete_df <- left_join(all_combinations, summary_df, by = c(\"donor\", \"genotype\"))\n",
    "\n",
    "complete_df <- complete_df %>%\n",
    "  replace_na(list(NRXN1 = 0)) %>%\n",
    "  mutate(genotype = factor(genotype, levels = genotypes))\n",
    "\n",
    "genotype_colors <- c(WT = \"blue\", HET = \"purple\", HOMO = \"red\")\n",
    "\n",
    "avg_df <- complete_df %>%\n",
    "  group_by(donor, genotype) %>%\n",
    "  summarise(\n",
    "    NRXN1_avg = mean(NRXN1, na.rm = TRUE),\n",
    "    NRXN1_sem = sd(NRXN1, na.rm = TRUE) / sqrt(n()),  \n",
    "    .groups = 'drop'\n",
    "  )\n",
    "\n",
    "# plotting NRXN1 expression per genotype and donor\n",
    "g_avg_bar <- ggplot(avg_df, aes(x = donor, y = NRXN1_avg, fill = genotype)) +\n",
    "  geom_bar(stat = \"identity\", position = position_dodge(width = 0.7), width = 0.6) +\n",
    "  geom_errorbar(aes(ymin = NRXN1_avg - NRXN1_sem, ymax = NRXN1_avg + NRXN1_sem), \n",
    "                position = position_dodge(width = 0.7), width = 0.25) +\n",
    "  scale_fill_manual(values = genotype_colors) +\n",
    "  theme_minimal() +\n",
    "  labs(title = \"Average NRXN1 Expression by Donor and Genotype\",\n",
    "       x = \"Donor\",\n",
    "       y = \"Average NRXN1 Expression\") +\n",
    "  theme(axis.text.x = element_text(angle = 90, hjust = 1, vjust = 0.5))\n",
    "\n",
    "g_avg_bar\n"
   ]
  },
  {
   "cell_type": "markdown",
   "metadata": {},
   "source": [
    "# GSEA Analysis"
   ]
  },
  {
   "cell_type": "code",
   "execution_count": null,
   "metadata": {
    "vscode": {
     "languageId": "r"
    }
   },
   "outputs": [],
   "source": [
    "library(fgsea)\n",
    "library(forcats)\n",
    "\n",
    "run_gsea_analysis <- function(donor_name, merged_results, gmt_paths) {\n",
    "  \n",
    "  # Function to create ranked log2 fold change vector\n",
    "  make_ranked_log2fc <- function(merged_results) {\n",
    "    rnk_vec <- deframe(merged_results[c(\"gene\", \"log2FoldChange\")])\n",
    "    rnk_vec <- rnk_vec[order(-rnk_vec)]\n",
    "    return(rnk_vec)\n",
    "  }\n",
    "  \n",
    "  ranked_logfc <- make_ranked_log2fc(merged_results)\n",
    "  ranked_logfc_clean <- ranked_logfc[!is.na(ranked_logfc)]\n",
    "  \n",
    "  # Function to run FGSEA\n",
    "  run_fgsea <- function(gmt_file_path, rnk_list, min_size, max_size) {\n",
    "    fgsea_file <- fgsea::gmtPathways(gmt_file_path)\n",
    "    fgsea_res <- fgsea(fgsea_file, rnk_list, minSize = min_size, maxSize = max_size)\n",
    "    fgsea_res <- as_tibble(fgsea_res)\n",
    "    return(fgsea_res)\n",
    "  }\n",
    "  \n",
    "  # Initialize an empty list to store results\n",
    "  fgsea_results <- list()\n",
    "  \n",
    "  # Iterate over the GMT file paths\n",
    "  for (gmt_path in gmt_paths) {\n",
    "    fgsea_res <- run_fgsea(gmt_path, ranked_logfc_clean, 15, 500)\n",
    "    fgsea_results[[gmt_path]] <- fgsea_res\n",
    "  }\n",
    "  \n",
    "  # Process and save results for each GMT file\n",
    "  for (gmt_path in names(fgsea_results)) {\n",
    "    fgsea_res_filt <- filter(fgsea_results[[gmt_path]], padj <= 0.05)\n",
    "    \n",
    "    # Create a data frame for the filtered results\n",
    "    fgsea_res_df <- as.data.frame(fgsea_res_filt)\n",
    "    list_cols <- sapply(fgsea_res_df, is.list)\n",
    "    \n",
    "    # Transform list columns\n",
    "    fgsea_res_df[list_cols] <- lapply(fgsea_res_df[list_cols], function(x) {\n",
    "      sapply(x, function(l) paste(l, collapse=\", \"))  \n",
    "    })\n",
    "    \n",
    "    # Save the results\n",
    "    gmt_name <- sub(\"^.*?/data/(.*)\\\\.gmt$\", \"\\\\1\", gmt_path)\n",
    "    output_file <- paste0(\"/stanley/nehme_lab/sbolshak/analysis/village_editing/GSEA/NRXN1/\", donor_name, \"_lrp1_mouse_final_\", gmt_name, \".tsv\")\n",
    "    write_tsv(fgsea_res_df, output_file)\n",
    "    \n",
    "    # Create plots\n",
    "    top_pathways <- function(fgsea_results, num_paths, padj_threshold) {\n",
    "      fgsea_results <- fgsea_results %>%\n",
    "        filter(padj <= padj_threshold) %>%\n",
    "        mutate(negLogPadj = -log10(padj))\n",
    "      \n",
    "      fgsea_top <- fgsea_results %>%\n",
    "        arrange(desc(abs(NES))) %>%\n",
    "        slice_head(n = num_paths)\n",
    "      \n",
    "      p <- ggplot(fgsea_top, aes(x = NES, y = reorder(pathway, order(NES, decreasing = FALSE)))) +\n",
    "        geom_point(aes(color = -log10(padj), size = size)) +\n",
    "        labs(title = paste(donor_name, \"GSEA results:\", gmt_name),\n",
    "             y = \"Pathway\", x = \"NES\") +\n",
    "        theme_minimal()\n",
    "      \n",
    "      return(p)\n",
    "    }\n",
    "    \n",
    "    plot <- top_pathways(fgsea_res_filt, 30, 0.05)\n",
    "    ggsave(filename = paste0(\"/stanley/nehme_lab/sbolshak/analysis/village_editing/GSEA/NRXN1/\", donor_name, \"_lrp1_mouse_final_\", gmt_name, \".png\"), plot = plot, width = 12, height = 6, bg = \"white\")\n",
    "  }\n",
    "}\n",
    "\n",
    "donor_name <- \"all_samples\"\n",
    "gmt_files <- c('/stanley/nehme_lab/sbolshak/analysis/village_editing/data/h.all.v2024.1.Hs.symbols.gmt',\n",
    "               '/stanley/nehme_lab/sbolshak/analysis/village_editing/data/c2.cp.v2024.1.Hs.symbols.gmt',\n",
    "               '/stanley/nehme_lab/sbolshak/analysis/village_editing/data/c5.go.v7.4.syngo.bp.cc.v1.1.symbols.humgenSCZ.SCHEMA1.and.GWAS.1-2.gmt')\n",
    "\n",
    "run_gsea_analysis(donor_name, merged_df, gmt_files)"
   ]
  }
 ],
 "metadata": {
  "kernelspec": {
   "display_name": "R",
   "language": "R",
   "name": "ir"
  },
  "language_info": {
   "codemirror_mode": "r",
   "file_extension": ".r",
   "mimetype": "text/x-r-source",
   "name": "R",
   "pygments_lexer": "r",
   "version": "4.3.1"
  },
  "orig_nbformat": 4
 },
 "nbformat": 4,
 "nbformat_minor": 2
}
