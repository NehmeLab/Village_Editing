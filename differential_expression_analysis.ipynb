{
 "cells": [
  {
   "cell_type": "markdown",
   "metadata": {},
   "source": [
    "## Load libraries"
   ]
  },
  {
   "cell_type": "code",
   "execution_count": null,
   "metadata": {
    "vscode": {
     "languageId": "r"
    }
   },
   "outputs": [],
   "source": [
    "library(limma)\n",
    "library(statmod)\n",
    "library(ggplot2)\n",
    "library(dplyr)\n",
    "library(tidyverse)\n",
    "library(edgeR)\n",
    "library(data.table)\n",
    "library(readr)\n",
    "library(tibble)\n",
    "library(reshape2)\n",
    "library(pheatmap)\n",
    "library(yaml)\n",
    "library(stringr)\n",
    "library(ggh4x)\n",
    "library(matrixStats)\n",
    "library(RColorBrewer)\n",
    "library(DESeq2)"
   ]
  },
  {
   "cell_type": "markdown",
   "metadata": {
    "vscode": {
     "languageId": "r"
    }
   },
   "source": [
    "## Load data"
   ]
  },
  {
   "cell_type": "code",
   "execution_count": 2,
   "metadata": {
    "vscode": {
     "languageId": "r"
    }
   },
   "outputs": [
    {
     "data": {
      "text/html": [
       "<table class=\"dataframe\">\n",
       "<caption>A data.frame: 6 x 119</caption>\n",
       "<thead>\n",
       "\t<tr><th></th><th scope=col>CW20012_NRXN1_Het_a</th><th scope=col>CW50037_NRXN1_Homo_b</th><th scope=col>CW50037_NRXN1_Homo_c</th><th scope=col>CW50037_NRXN1_Homo_d</th><th scope=col>CW20012_NRXN1_Het_b</th><th scope=col>CW20012_NRXN1_Het_c</th><th scope=col>CW20012_NRXN1_Het_d</th><th scope=col>ML898-4425_NRXN1_Homo_a</th><th scope=col>ML898-4425_NRXN1_Homo_b</th><th scope=col>ML898-4425_NRXN1_Homo_c</th><th scope=col>...</th><th scope=col>ML909-6344_NRXN1_WT_d</th><th scope=col>ML911-9779_NRXN1_Homo_a</th><th scope=col>ML911-9779_NRXN1_Homo_b</th><th scope=col>ML911-9779_NRXN1_Homo_c</th><th scope=col>ML911-9779_NRXN1_Homo_d</th><th scope=col>CW20103_NRXN1_Homo_a</th><th scope=col>CW20012_NRXN1_Homo_a</th><th scope=col>CW20012_NRXN1_Homo_b</th><th scope=col>CW20012_NRXN1_Homo_c</th><th scope=col>CW20012_NRXN1_Homo_d</th></tr>\n",
       "\t<tr><th></th><th scope=col>&lt;dbl&gt;</th><th scope=col>&lt;dbl&gt;</th><th scope=col>&lt;dbl&gt;</th><th scope=col>&lt;dbl&gt;</th><th scope=col>&lt;dbl&gt;</th><th scope=col>&lt;dbl&gt;</th><th scope=col>&lt;dbl&gt;</th><th scope=col>&lt;dbl&gt;</th><th scope=col>&lt;dbl&gt;</th><th scope=col>&lt;dbl&gt;</th><th scope=col>...</th><th scope=col>&lt;dbl&gt;</th><th scope=col>&lt;dbl&gt;</th><th scope=col>&lt;dbl&gt;</th><th scope=col>&lt;dbl&gt;</th><th scope=col>&lt;dbl&gt;</th><th scope=col>&lt;dbl&gt;</th><th scope=col>&lt;dbl&gt;</th><th scope=col>&lt;dbl&gt;</th><th scope=col>&lt;dbl&gt;</th><th scope=col>&lt;dbl&gt;</th></tr>\n",
       "</thead>\n",
       "<tbody>\n",
       "\t<tr><th scope=row>5_8S_rRNA</th><td>  NA</td><td> NA</td><td> NA</td><td> NA</td><td>  NA</td><td>  NA</td><td>  NA</td><td> NA</td><td>NA</td><td> NA</td><td>...</td><td>NA</td><td>NA</td><td> NA</td><td>NA</td><td> NA</td><td> NA</td><td>   0</td><td>   1</td><td>   0</td><td>   0</td></tr>\n",
       "\t<tr><th scope=row>7SK</th><td>   0</td><td>  0</td><td>  0</td><td>  0</td><td>   0</td><td>   0</td><td>   0</td><td>  0</td><td> 0</td><td>  0</td><td>...</td><td> 0</td><td> 0</td><td>  0</td><td> 0</td><td>  0</td><td>  0</td><td>   0</td><td>   0</td><td>   0</td><td>   0</td></tr>\n",
       "\t<tr><th scope=row>A1BG</th><td>  86</td><td> 14</td><td> 22</td><td> 13</td><td>  38</td><td>  26</td><td>  28</td><td> 25</td><td> 4</td><td> 33</td><td>...</td><td> 1</td><td>11</td><td>  9</td><td> 0</td><td> 14</td><td> 13</td><td>  34</td><td>  19</td><td>  28</td><td>  26</td></tr>\n",
       "\t<tr><th scope=row>A1BG-AS1</th><td>  69</td><td> 21</td><td> 12</td><td> 13</td><td>  10</td><td>  12</td><td>   7</td><td>  8</td><td> 2</td><td>  4</td><td>...</td><td> 1</td><td> 2</td><td>  1</td><td> 3</td><td>  7</td><td>  1</td><td>  18</td><td>  10</td><td>  24</td><td>  24</td></tr>\n",
       "\t<tr><th scope=row>A1CF</th><td>   4</td><td>  1</td><td>  1</td><td>  2</td><td>   1</td><td>   0</td><td>   0</td><td>  0</td><td> 1</td><td>  0</td><td>...</td><td> 1</td><td> 1</td><td>  1</td><td> 0</td><td>  0</td><td>  0</td><td>   0</td><td>   0</td><td>   4</td><td>   0</td></tr>\n",
       "\t<tr><th scope=row>A2M</th><td>2602</td><td>507</td><td>345</td><td>300</td><td>1417</td><td>1547</td><td>1415</td><td>498</td><td> 1</td><td>278</td><td>...</td><td>25</td><td>94</td><td>282</td><td>84</td><td>676</td><td>276</td><td>1913</td><td>1350</td><td>1420</td><td>2105</td></tr>\n",
       "</tbody>\n",
       "</table>\n"
      ],
      "text/latex": [
       "A data.frame: 6 x 119\n",
       "\\begin{tabular}{r|lllllllllllllllllllll}\n",
       "  & CW20012\\_NRXN1\\_Het\\_a & CW50037\\_NRXN1\\_Homo\\_b & CW50037\\_NRXN1\\_Homo\\_c & CW50037\\_NRXN1\\_Homo\\_d & CW20012\\_NRXN1\\_Het\\_b & CW20012\\_NRXN1\\_Het\\_c & CW20012\\_NRXN1\\_Het\\_d & ML898-4425\\_NRXN1\\_Homo\\_a & ML898-4425\\_NRXN1\\_Homo\\_b & ML898-4425\\_NRXN1\\_Homo\\_c & ... & ML909-6344\\_NRXN1\\_WT\\_d & ML911-9779\\_NRXN1\\_Homo\\_a & ML911-9779\\_NRXN1\\_Homo\\_b & ML911-9779\\_NRXN1\\_Homo\\_c & ML911-9779\\_NRXN1\\_Homo\\_d & CW20103\\_NRXN1\\_Homo\\_a & CW20012\\_NRXN1\\_Homo\\_a & CW20012\\_NRXN1\\_Homo\\_b & CW20012\\_NRXN1\\_Homo\\_c & CW20012\\_NRXN1\\_Homo\\_d\\\\\n",
       "  & <dbl> & <dbl> & <dbl> & <dbl> & <dbl> & <dbl> & <dbl> & <dbl> & <dbl> & <dbl> & ... & <dbl> & <dbl> & <dbl> & <dbl> & <dbl> & <dbl> & <dbl> & <dbl> & <dbl> & <dbl>\\\\\n",
       "\\hline\n",
       "\t5\\_8S\\_rRNA &   NA &  NA &  NA &  NA &   NA &   NA &   NA &  NA & NA &  NA & ... & NA & NA &  NA & NA &  NA &  NA &    0 &    1 &    0 &    0\\\\\n",
       "\t7SK &    0 &   0 &   0 &   0 &    0 &    0 &    0 &   0 &  0 &   0 & ... &  0 &  0 &   0 &  0 &   0 &   0 &    0 &    0 &    0 &    0\\\\\n",
       "\tA1BG &   86 &  14 &  22 &  13 &   38 &   26 &   28 &  25 &  4 &  33 & ... &  1 & 11 &   9 &  0 &  14 &  13 &   34 &   19 &   28 &   26\\\\\n",
       "\tA1BG-AS1 &   69 &  21 &  12 &  13 &   10 &   12 &    7 &   8 &  2 &   4 & ... &  1 &  2 &   1 &  3 &   7 &   1 &   18 &   10 &   24 &   24\\\\\n",
       "\tA1CF &    4 &   1 &   1 &   2 &    1 &    0 &    0 &   0 &  1 &   0 & ... &  1 &  1 &   1 &  0 &   0 &   0 &    0 &    0 &    4 &    0\\\\\n",
       "\tA2M & 2602 & 507 & 345 & 300 & 1417 & 1547 & 1415 & 498 &  1 & 278 & ... & 25 & 94 & 282 & 84 & 676 & 276 & 1913 & 1350 & 1420 & 2105\\\\\n",
       "\\end{tabular}\n"
      ],
      "text/markdown": [
       "\n",
       "A data.frame: 6 x 119\n",
       "\n",
       "| <!--/--> | CW20012_NRXN1_Het_a &lt;dbl&gt; | CW50037_NRXN1_Homo_b &lt;dbl&gt; | CW50037_NRXN1_Homo_c &lt;dbl&gt; | CW50037_NRXN1_Homo_d &lt;dbl&gt; | CW20012_NRXN1_Het_b &lt;dbl&gt; | CW20012_NRXN1_Het_c &lt;dbl&gt; | CW20012_NRXN1_Het_d &lt;dbl&gt; | ML898-4425_NRXN1_Homo_a &lt;dbl&gt; | ML898-4425_NRXN1_Homo_b &lt;dbl&gt; | ML898-4425_NRXN1_Homo_c &lt;dbl&gt; | ... ... | ML909-6344_NRXN1_WT_d &lt;dbl&gt; | ML911-9779_NRXN1_Homo_a &lt;dbl&gt; | ML911-9779_NRXN1_Homo_b &lt;dbl&gt; | ML911-9779_NRXN1_Homo_c &lt;dbl&gt; | ML911-9779_NRXN1_Homo_d &lt;dbl&gt; | CW20103_NRXN1_Homo_a &lt;dbl&gt; | CW20012_NRXN1_Homo_a &lt;dbl&gt; | CW20012_NRXN1_Homo_b &lt;dbl&gt; | CW20012_NRXN1_Homo_c &lt;dbl&gt; | CW20012_NRXN1_Homo_d &lt;dbl&gt; |\n",
       "|---|---|---|---|---|---|---|---|---|---|---|---|---|---|---|---|---|---|---|---|---|---|\n",
       "| 5_8S_rRNA |   NA |  NA |  NA |  NA |   NA |   NA |   NA |  NA | NA |  NA | ... | NA | NA |  NA | NA |  NA |  NA |    0 |    1 |    0 |    0 |\n",
       "| 7SK |    0 |   0 |   0 |   0 |    0 |    0 |    0 |   0 |  0 |   0 | ... |  0 |  0 |   0 |  0 |   0 |   0 |    0 |    0 |    0 |    0 |\n",
       "| A1BG |   86 |  14 |  22 |  13 |   38 |   26 |   28 |  25 |  4 |  33 | ... |  1 | 11 |   9 |  0 |  14 |  13 |   34 |   19 |   28 |   26 |\n",
       "| A1BG-AS1 |   69 |  21 |  12 |  13 |   10 |   12 |    7 |   8 |  2 |   4 | ... |  1 |  2 |   1 |  3 |   7 |   1 |   18 |   10 |   24 |   24 |\n",
       "| A1CF |    4 |   1 |   1 |   2 |    1 |    0 |    0 |   0 |  1 |   0 | ... |  1 |  1 |   1 |  0 |   0 |   0 |    0 |    0 |    4 |    0 |\n",
       "| A2M | 2602 | 507 | 345 | 300 | 1417 | 1547 | 1415 | 498 |  1 | 278 | ... | 25 | 94 | 282 | 84 | 676 | 276 | 1913 | 1350 | 1420 | 2105 |\n",
       "\n"
      ],
      "text/plain": [
       "          CW20012_NRXN1_Het_a CW50037_NRXN1_Homo_b CW50037_NRXN1_Homo_c\n",
       "5_8S_rRNA   NA                 NA                   NA                 \n",
       "7SK          0                  0                    0                 \n",
       "A1BG        86                 14                   22                 \n",
       "A1BG-AS1    69                 21                   12                 \n",
       "A1CF         4                  1                    1                 \n",
       "A2M       2602                507                  345                 \n",
       "          CW50037_NRXN1_Homo_d CW20012_NRXN1_Het_b CW20012_NRXN1_Het_c\n",
       "5_8S_rRNA  NA                    NA                  NA               \n",
       "7SK         0                     0                   0               \n",
       "A1BG       13                    38                  26               \n",
       "A1BG-AS1   13                    10                  12               \n",
       "A1CF        2                     1                   0               \n",
       "A2M       300                  1417                1547               \n",
       "          CW20012_NRXN1_Het_d ML898-4425_NRXN1_Homo_a ML898-4425_NRXN1_Homo_b\n",
       "5_8S_rRNA   NA                 NA                     NA                     \n",
       "7SK          0                  0                      0                     \n",
       "A1BG        28                 25                      4                     \n",
       "A1BG-AS1     7                  8                      2                     \n",
       "A1CF         0                  0                      1                     \n",
       "A2M       1415                498                      1                     \n",
       "          ML898-4425_NRXN1_Homo_c ... ML909-6344_NRXN1_WT_d\n",
       "5_8S_rRNA  NA                     ... NA                   \n",
       "7SK         0                     ...  0                   \n",
       "A1BG       33                     ...  1                   \n",
       "A1BG-AS1    4                     ...  1                   \n",
       "A1CF        0                     ...  1                   \n",
       "A2M       278                     ... 25                   \n",
       "          ML911-9779_NRXN1_Homo_a ML911-9779_NRXN1_Homo_b\n",
       "5_8S_rRNA NA                       NA                    \n",
       "7SK        0                        0                    \n",
       "A1BG      11                        9                    \n",
       "A1BG-AS1   2                        1                    \n",
       "A1CF       1                        1                    \n",
       "A2M       94                      282                    \n",
       "          ML911-9779_NRXN1_Homo_c ML911-9779_NRXN1_Homo_d CW20103_NRXN1_Homo_a\n",
       "5_8S_rRNA NA                       NA                      NA                 \n",
       "7SK        0                        0                       0                 \n",
       "A1BG       0                       14                      13                 \n",
       "A1BG-AS1   3                        7                       1                 \n",
       "A1CF       0                        0                       0                 \n",
       "A2M       84                      676                     276                 \n",
       "          CW20012_NRXN1_Homo_a CW20012_NRXN1_Homo_b CW20012_NRXN1_Homo_c\n",
       "5_8S_rRNA    0                    1                    0                \n",
       "7SK          0                    0                    0                \n",
       "A1BG        34                   19                   28                \n",
       "A1BG-AS1    18                   10                   24                \n",
       "A1CF         0                    0                    4                \n",
       "A2M       1913                 1350                 1420                \n",
       "          CW20012_NRXN1_Homo_d\n",
       "5_8S_rRNA    0                \n",
       "7SK          0                \n",
       "A1BG        26                \n",
       "A1BG-AS1    24                \n",
       "A1CF         0                \n",
       "A2M       2105                "
      ]
     },
     "metadata": {},
     "output_type": "display_data"
    }
   ],
   "source": [
    "counts <- read.table(\"counts_matrix.txt\", sep = '\\t', header = TRUE)\n",
    "rownames(counts) <- counts$GENE\n",
    "counts <- counts[-1]\n",
    "colnames(counts) <- gsub(\"\\\\.\", \"-\", colnames(counts))\n",
    "head(counts)"
   ]
  },
  {
   "cell_type": "code",
   "execution_count": 3,
   "metadata": {
    "vscode": {
     "languageId": "r"
    }
   },
   "outputs": [
    {
     "data": {
      "text/html": [
       "<style>\n",
       ".list-inline {list-style: none; margin:0; padding: 0}\n",
       ".list-inline>li {display: inline-block}\n",
       ".list-inline>li:not(:last-child)::after {content: \"\\00b7\"; padding: 0 .5ex}\n",
       "</style>\n",
       "<ol class=list-inline><li>37201</li><li>119</li></ol>\n"
      ],
      "text/latex": [
       "\\begin{enumerate*}\n",
       "\\item 37201\n",
       "\\item 119\n",
       "\\end{enumerate*}\n"
      ],
      "text/markdown": [
       "1. 37201\n",
       "2. 119\n",
       "\n",
       "\n"
      ],
      "text/plain": [
       "[1] 37201   119"
      ]
     },
     "metadata": {},
     "output_type": "display_data"
    }
   ],
   "source": [
    "#Remove relevant X and Y-linked genes\n",
    "sex_genes <- c(\"DBY\", \"SMCY\", \"UTY\", \"RPS4Y\", \"USP9Y\", \"XIST\")\n",
    "counts<- counts[!rownames(counts) %in% sex_genes, ]\n",
    "dim(counts)"
   ]
  },
  {
   "cell_type": "code",
   "execution_count": 5,
   "metadata": {
    "vscode": {
     "languageId": "r"
    }
   },
   "outputs": [],
   "source": [
    "counts[is.na(counts)] <- 0"
   ]
  },
  {
   "cell_type": "code",
   "execution_count": null,
   "metadata": {
    "vscode": {
     "languageId": "r"
    }
   },
   "outputs": [],
   "source": [
    "#Make metadata table\n",
    "\n",
    "metadata <- data.frame(sample=colnames(counts)) \n",
    "metadata$gene <- str_to_upper(str_split_fixed(colnames(counts),\"_\",n=4)[,2])\n",
    "metadata$donor <- str_to_upper(str_split_fixed(colnames(counts),\"_\",n=4)[,1])\n",
    "metadata$genotype <- str_to_upper(str_split_fixed(colnames(counts),\"_\",n=4)[,3])\n",
    "metadata$target_gt <- paste0(metadata$gene,\"_\",metadata$genotype)\n",
    "head(metadata)"
   ]
  },
  {
   "cell_type": "code",
   "execution_count": null,
   "metadata": {
    "vscode": {
     "languageId": "r"
    }
   },
   "outputs": [],
   "source": [
    "raw_metadata <- read.table(\"/path_to_metadata.tsv\",sep=\"\\t\",header=T)\n",
    "metadata$PRS <- raw_metadata[match(metadata$donor,raw_metadata$Donor),\"PRS\"]\n",
    "metadata$sex <- raw_metadata[match(metadata$donor,raw_metadata$Donor),\"Sex\"]\n",
    "rownames(metadata) <- NULL\n",
    "head(metadata)"
   ]
  },
  {
   "cell_type": "code",
   "execution_count": 8,
   "metadata": {
    "vscode": {
     "languageId": "r"
    }
   },
   "outputs": [],
   "source": [
    "names(counts) <- sub(\"\\\\-\",\"\",names(counts))\n",
    "metadata$donor <- sub(\"\\\\-\",\"\",metadata$donor)\n",
    "metadata$sample <- sub(\"\\\\-\",\"\",metadata$sample)\n",
    "metadata[is.na(metadata$PRS),\"PRS\"] <- \"NEUTRAL\"\n",
    "head(metadata)"
   ]
  },
  {
   "cell_type": "code",
   "execution_count": null,
   "metadata": {
    "vscode": {
     "languageId": "r"
    }
   },
   "outputs": [],
   "source": [
    "#Plot library size\n",
    "\n",
    "get_library_size <- function(count_data) {\n",
    "  df <- as.data.frame(count_data)\n",
    "  \n",
    "  long_df <- df %>% \n",
    "    pivot_longer(cols = everything(), names_to = \"sample\", values_to = \"reads\")\n",
    "  \n",
    "  #Remove replicate indicators\n",
    "  long_df$sample <- gsub(\"_a|_b|_c|_d|_e|_f$\", \"\", long_df$sample)\n",
    "  \n",
    "\n",
    "  aggregated_df <- long_df %>% \n",
    "    group_by(sample) %>%\n",
    "    summarise(total_reads = sum(reads, na.rm = TRUE))\n",
    "\n",
    "  aggregated_df$donor <- sub(\"_.*\", \"\", aggregated_df$sample)\n",
    "  aggregated_df$genotype <- sub(\".*_\", \"\", aggregated_df$sample)\n",
    "\n",
    "\n",
    "  \n",
    "  return(aggregated_df)\n",
    "}\n",
    "\n",
    "#Library size bar graph\n",
    "\n",
    "lib_size_bar <- function(library_data) {\n",
    "  if (!\"donor\" %in% names(library_data)) {\n",
    "    library_data$donor <- sub(\"_.*\", \"\", library_data$sample)\n",
    "    library_data$genotype <- sub(\".*_(.*)$\", \"\\\\1\", library_data$sample)\n",
    "  }\n",
    "\n",
    "  library_data$donor_genotype <- with(library_data, paste(donor, genotype, sep = \"_\"))\n",
    "\n",
    "  genotype_order <- c(\"WT\", \"Het\", \"Homo\")\n",
    "  \n",
    "  library_data <- library_data %>%\n",
    "    mutate(\n",
    "      donor_genotype = factor(donor_genotype, levels = unique(donor_genotype[order(donor, match(genotype, genotype_order))]))\n",
    "    )\n",
    "\n",
    "\n",
    "  lib_size <- ggplot(library_data, aes(x = donor_genotype, y = total_reads, fill = donor)) +\n",
    "    geom_bar(stat = \"identity\") +\n",
    "    labs(title = \"Library Size per Sample\", x = \"Sample\", y = \"Counts\") +\n",
    "    scale_fill_brewer(palette = \"Set3\", name = \"Donor\") +\n",
    "    scale_x_discrete(labels = function(x) stringr::str_wrap(x, width = 10)) +\n",
    "    theme(axis.text.x = element_text(angle = 90, vjust = 0.5, size = 8))\n",
    "\n",
    "  return(lib_size)\n",
    "}\n",
    "\n",
    "library_data <- get_library_size(counts)\n",
    "lib_bar <- lib_size_bar(library_data)\n",
    "lib_bar"
   ]
  },
  {
   "cell_type": "markdown",
   "metadata": {},
   "source": [
    "# Run differential expression"
   ]
  },
  {
   "cell_type": "code",
   "execution_count": 12,
   "metadata": {
    "vscode": {
     "languageId": "r"
    }
   },
   "outputs": [],
   "source": [
    "make_donor_contrasts <- function(design,dge) {\n",
    "\n",
    "    #get one contrast\n",
    "    getOneContrast <- function(idx, dge, samples) {\n",
    "        d <- dge$samples[idx,]$donor\n",
    "        controls <- samples[grep(paste0(d,\"NRXN1_WT\"), samples)] #use NRXN1_WT as control\n",
    "        treats <- dge$samples[idx,]$group\n",
    "        if (length(treats)>0 & length(controls)>0 & (!treats %like% \"NRXN1_WT\")) {\n",
    "            comparison <- paste(treats,controls,sep=\" - \")\n",
    "            names(comparison) <- treats\n",
    "            return (comparison)\n",
    "        } else {\n",
    "            print(\"No valid case/control group -- skipping contrast\")\n",
    "            return(NULL)\n",
    "        }\n",
    "    }\n",
    "    samples <- colnames(design)\n",
    "    r=c()\n",
    "    for (i in seq_len(dim(dge$samples)[1])) {\n",
    "        r <- c(r,getOneContrast(i,dge,samples))\n",
    "    }\n",
    "    r = as.list(r)\n",
    "    r=c(r,list(levels=design))\n",
    "    r=r[!duplicated(r)]\n",
    "    contr.matrix=do.call(makeContrasts,r)\n",
    "    return (contr.matrix)\n",
    "}\n",
    "\n",
    "run_DGEA <- function(counts, metadata) { \n",
    "    # initialize DGE object + metadata\n",
    "    print(\"Initializing DGE object...\")\n",
    "    dge <- DGEList(counts=counts) #create DGEList object\n",
    "    dge$samples$target_gt <- factor(metadata$target_gt[match(rownames(dge$samples),metadata$sample)],levels=c(\"PARENTAL_WT\",\"NRXN1_WT\",\"NRXN1_HET\",\"NRXN1_HOMO\",\"LRP1_WT\",\"NRXN1_HET\",\"NRXN1_HOMO\"))\n",
    "    dge$samples$PRS <- factor(metadata$PRS[match(rownames(dge$samples),metadata$sample)],levels=c(\"NONE\",\"LOW\",\"NEUTRAL\",\"HIGH\"))\n",
    "    \n",
    "    dge$samples$group <- paste0(dge$samples$donor,\".\",dge$samples$target_gt)\n",
    "\n",
    "    dge <- dge[,! dge$samples$target_gt %like% \"NRXN11\"]\n",
    "    \n",
    "    print(\"Filtering DGE...\")\n",
    "    # filter + normalize DGE\n",
    "    keep.exprs <- filterByExpr(dge, group=dge$samples$group)\n",
    "    dge <- dge[keep.exprs,, keep.lib.sizes=FALSE]\n",
    "\n",
    "    # filter out samples with shit library sizes\n",
    "    dge <- dge[,dge$samples$lib.size>100000]\n",
    "    # keep <- rowSums(cpm(dge)>=50)>=4\n",
    "    # print(paste0(\"Keeping \",sum(keep),\" genes...\"))\n",
    "    # dge <- filterDGE(dge,keep)\n",
    "    ID <- rownames(dge)\n",
    "    dge$genes <- as.data.frame(ID)\n",
    "    metadata <- subset(metadata, sample %in% rownames(dge$samples))\n",
    "\n",
    "    #check ratio of largest to smallest library size\n",
    "    #this helps us determine whether to use limma-trend or voom\n",
    "    print(max(colSums(dge$counts))/min(colSums(dge$counts))) #if >>3, use voom. otherwise, use limma-trend\n",
    "\n",
    "    print(\"Normalizing DGE...\")\n",
    "    dge <- calcNormFactors(dge) #calculate normalization factors; used for voom transform later\n",
    "\n",
    "    print(\"Initializing design and contrast matrices...\")\n",
    "    # initialize design matrix for differential expression\n",
    "    #design <- model.matrix(~ 0 + target_gt + sex, data=dge$samples)\n",
    "    design <- model.matrix(~ 0 + target_gt, data=dge$samples)\n",
    "\n",
    "    design <- design[, colSums(design != 0) > 0]\n",
    "    colnames(design) <- sub(\"target_gt\",\"\",colnames(design))\n",
    "    colnames(design) <- sub(\"PRS\",\"\",colnames(design))\n",
    "    colnames(design) <- sub(\"donor\",\"\",colnames(design))\n",
    "    colnames(design) <- sub(\"group\",\"\",colnames(design))\n",
    "    colnames(design) <- sub(\"sex\",\"\",colnames(design))\n",
    "    colnames(design) <- sub(\"\\\\s\",\"\",colnames(design))\n",
    "    colnames(design) <- sub(\":\",\".\",colnames(design))\n",
    "\n",
    "    #select contrast\n",
    "    contr.matrix=makeContrasts(\n",
    "                        #NRXN1.HOMO=NRXN1_HOMO-NRXN1_WT,\n",
    "                        #NRXN1.HET=NRXN1_HET-NRXN1_WT,\n",
    "                        #NRXN1_HOMO-NRXN1_HET,\n",
    "                        #NRXN1.WT=NRXN1_WT-PARENTAL_WT,\n",
    "                        #HIGH_LOW = HIGH - LOW,\n",
    "                        #HIGH_NEU = HIGH - NEUTRAL,\n",
    "                        #NEU_LOW = NEUTRAL - LOW,\n",
    "                        NRXN1.HOMO=LRP1_HOMO-LRP1_WT,\n",
    "                        LRP1.HET=LRP1_HET-LRP1_WT,\n",
    "                        LRP1_HOMO-LRP1_HET,\n",
    "                        #LRP1.WT=LRP1_WT-PARENTAL_WT,\n",
    "                        levels=colnames(design))\n",
    "\n",
    "\n",
    "    print(\"Performing differential expression fit with voom...\")\n",
    "    # perform differential expression fit\n",
    "    v <- voom(dge,design,plot=T)\n",
    "    colnames(v$genes) <- \"ID\"\n",
    "\n",
    "\n",
    "    fit <- lmFit(v,design)\n",
    "    fit <- contrasts.fit(fit,contr.matrix)\n",
    "    fit <- eBayes(fit) \n",
    "    plotSA(fit) \n",
    "\n",
    "    return(fit)\n",
    "    print(\"Done!\")\n",
    "}"
   ]
  },
  {
   "cell_type": "code",
   "execution_count": 13,
   "metadata": {
    "vscode": {
     "languageId": "r"
    }
   },
   "outputs": [],
   "source": [
    "metadata$target_gt <- factor(metadata$target_gt, levels = c(\"NRXN1_WT\", \"NRXN1_HET\", \"NRXN1_HOMO\"))\n",
    "metadata$sex <- factor(metadata$sex, levels = c(\"Male\", \"Female\"))\n",
    "metadata$PRS <- factor(metadata$PRS, levels = c(\"LOW\", \"NEUTRAL\", \"HIGH\"))\n"
   ]
  },
  {
   "cell_type": "code",
   "execution_count": null,
   "metadata": {
    "vscode": {
     "languageId": "r"
    }
   },
   "outputs": [],
   "source": [
    "fit <- run_DGEA(counts,metadata)"
   ]
  },
  {
   "cell_type": "code",
   "execution_count": null,
   "metadata": {
    "vscode": {
     "languageId": "r"
    }
   },
   "outputs": [],
   "source": [
    "#dds <- DESeqDataSetFromMatrix(countData = counts, colData = metadata, design = ~ 0 + target_gt + sex)\n",
    "dds <- DESeqDataSetFromMatrix(countData = counts, colData = metadata, design = ~ 0 + target_gt)\n",
    "\n",
    "vsd <- vst(dds, blind=FALSE)\n",
    "pcaData <- plotPCA(vsd, intgroup = c(\"target_gt\"), returnData = TRUE) \n",
    "percentVar <- round(100 * attr(pcaData, \"percentVar\"))\n",
    "ggplot(pcaData, aes(PC1, PC2, color=target_gt)) +\n",
    "  geom_point(size=3) +\n",
    "  xlab(paste0(\"PC1: \", percentVar[1], \"% variance\")) +\n",
    "  ylab(paste0(\"PC2: \", percentVar[2], \"% variance\")) +\n",
    "  coord_fixed() +\n",
    "  theme(\n",
    "    panel.grid.major = element_blank(),  \n",
    "    panel.grid.minor = element_blank(), \n",
    "    panel.background = element_blank(),  \n",
    "    axis.line = element_line(color = \"black\")  \n",
    "  )\n",
    "\n",
    "#Run DE analysis\n",
    "dds <- DESeq(dds)\n",
    "resultsNames(dds) \n"
   ]
  },
  {
   "cell_type": "code",
   "execution_count": null,
   "metadata": {
    "vscode": {
     "languageId": "r"
    }
   },
   "outputs": [],
   "source": [
    "#Comparing KO vs WT\n",
    "res <- results(dds, contrast=c(\"target_gt\", \"LRP1_HOMO\", \"LRP1_WT\"))\n",
    "#res <- lfcShrink(dds, coef=\"target_gtNRXN1_HOMO\", type=\"apeglm\")\n",
    "\n",
    "# Summarize results\n",
    "summary(res)\n",
    "\n",
    "# MA-plot\n",
    "\n",
    "plotMA(res, ylim=c(-2,2))"
   ]
  },
  {
   "cell_type": "code",
   "execution_count": null,
   "metadata": {
    "vscode": {
     "languageId": "r"
    }
   },
   "outputs": [],
   "source": [
    "#Copmare genotypes in a dosage-like manner\n",
    "\n",
    "metadata$genotype_dosage <- as.numeric(factor(metadata$target_gt, levels=c(\"NRXN1_WT\", \"NRXN1_HET\", \"NRXN1_HOMO\"))) - 1\n",
    "\n",
    "dds <- DESeqDataSetFromMatrix(countData = counts, colData = metadata, design = ~ sex + genotype_dosage)\n",
    "\n",
    "dds <- DESeq(dds)\n",
    "\n",
    "res <- results(dds, name=\"genotype_dosage\")\n",
    "\n",
    "=summary(res)"
   ]
  },
  {
   "cell_type": "code",
   "execution_count": null,
   "metadata": {
    "vscode": {
     "languageId": "r"
    }
   },
   "outputs": [],
   "source": [
    "res_df <- as.data.frame(res)\n",
    "res_df <- res_df[!is.na(res_df$padj),]\n",
    "top_hits <- res_df[res_df$padj<0.05,]\n",
    "top_hits[order(top_hits$padj),]\n",
    "res_df[\"NRXN1\",]\n",
    "top_hits"
   ]
  },
  {
   "cell_type": "code",
   "execution_count": null,
   "metadata": {
    "vscode": {
     "languageId": "r"
    }
   },
   "outputs": [],
   "source": [
    "norm_counts <- counts(dds, normalized = TRUE)\n",
    "head(norm_counts)"
   ]
  },
  {
   "cell_type": "code",
   "execution_count": 70,
   "metadata": {
    "vscode": {
     "languageId": "r"
    }
   },
   "outputs": [],
   "source": [
    "norm_counts_df <- as.data.frame(norm_counts)\n",
    "norm_counts_df$gene <- row.names(norm_counts)\n",
    "norm_counts_df <- norm_counts_df %>% \n",
    "  select(gene, everything())"
   ]
  },
  {
   "cell_type": "code",
   "execution_count": null,
   "metadata": {
    "vscode": {
     "languageId": "r"
    }
   },
   "outputs": [],
   "source": [
    "#distribution of LogFC values\n",
    "\n",
    "plot_log2fc <- function(labeled_results, padj_threshold){\n",
    "  filtered_results <- labeled_results %>% filter(padj < padj_threshold)\n",
    "  p <- ggplot(filtered_results, aes(x = log2FoldChange)) +\n",
    "    geom_histogram(binwidth = 0.1, fill = \"royalblue1\", color = 'black') +\n",
    "    labs(title = \"Histogram of Log2FoldChange for DE genes from DESeq2\",\n",
    "         x = \"Log2FoldChange Values\",\n",
    "         y = \"Count\")\n",
    "  print(p) \n",
    "}\n",
    "\n",
    "\n",
    "log2fc <- plot_log2fc(merged_df, 0.05)"
   ]
  },
  {
   "cell_type": "code",
   "execution_count": null,
   "metadata": {
    "vscode": {
     "languageId": "r"
    }
   },
   "outputs": [],
   "source": [
    "#distribution of p-values\n",
    "plot_pvals <- function(norm_counts) {\n",
    "  p <- ggplot(norm_counts, aes(x = pvalue)) +\n",
    "    geom_histogram(binwidth = 0.02, fill = \"olivedrab3\", color = 'black') +\n",
    "    labs(title = \"Histogram of Raw P-Values obtained from DE analysis\",\n",
    "         x = \"P-Value\",\n",
    "         y = \"Count\")\n",
    "  print (p)\n",
    "}\n",
    "\n",
    "pvals <- plot_pvals(merged_df)"
   ]
  },
  {
   "cell_type": "code",
   "execution_count": null,
   "metadata": {
    "vscode": {
     "languageId": "r"
    }
   },
   "outputs": [],
   "source": [
    "res_full <- as.data.frame(res)\n",
    "res_full$gene <- rownames(res)\n",
    "\n",
    "norm_counts_df <- as.data.frame(norm_counts)\n",
    "norm_counts_df$gene <- rownames(norm_counts)\n",
    "\n",
    "#merge norm_counts_df and res dfs\n",
    "merged_df <- merge(res_full, norm_counts_df, by = \"gene\")\n",
    "rownames(merged_df) <- merged_df$gene\n",
    "\n",
    "merged_df <- merged_df[order(merged_df$padj, decreasing = FALSE), ]\n",
    "#head(merged_df$gene, n=15)\n",
    "top_genes <- head(merged_df$gene, n=14)\n",
    "\n",
    "gene_vector <- paste0('\"', top_genes, '\"', collapse = \", \")\n",
    "\n",
    "gene_vector <- gsub(\"'\", \"\", gene_vector)\n",
    "\n",
    "gene_list <- strsplit(gene_vector, \", \")[[1]]\n",
    "gene_list <- trimws(gsub('\"', '', gene_list))\n",
    "gene_list <- c(\"NRXN1\", gene_list)\n",
    "gene_list\n"
   ]
  },
  {
   "cell_type": "code",
   "execution_count": null,
   "metadata": {
    "vscode": {
     "languageId": "r"
    }
   },
   "outputs": [],
   "source": [
    "#volcano plot\n",
    "p1 <- EnhancedVolcano(merged_df,\n",
    "    lab = merged_df$gene,\n",
    "    selectLab = c('NRXN1'),\n",
    "    x = 'log2FoldChange',\n",
    "    y = 'padj',\n",
    "    pCutoff = 0.05,\n",
    "    FCcutoff = 1.0,\n",
    "    col=c('black', 'black', 'RED3', 'red3'),\n",
    "    #cutoffLineType = 'blank', \n",
    "    cutoffLineCol = 'grey',\n",
    "    labSize = 4.0,\n",
    "    labCol = 'black',\n",
    "    labFace = 'bold',\n",
    "    boxedLabels = TRUE,\n",
    "    #boxedLabels = FALSE,\n",
    "    pointSize = 1,\n",
    "    colAlpha = 1,  \n",
    "    legendPosition = 'right',\n",
    "    legendLabSize = 14,\n",
    "    legendIconSize = 4.0,\n",
    "    drawConnectors = TRUE,\n",
    "    widthConnectors = 1.0,\n",
    "    colConnectors = 'grey',\n",
    "    maxoverlapsConnectors = Inf,\n",
    "    gridlines.major = FALSE,  \n",
    "    gridlines.minor = FALSE\n",
    "    #xlim = c(-6,6)\n",
    "    #ylim = c(0,17) \n",
    ")\n",
    "\n",
    "plot(p1)"
   ]
  },
  {
   "cell_type": "code",
   "execution_count": null,
   "metadata": {
    "vscode": {
     "languageId": "r"
    }
   },
   "outputs": [],
   "source": [
    "#visualizing NRXN1 expression\n",
    "\n",
    "nrxn1_counts <- as.numeric(norm_counts[\"NRXN1\", ])  \n",
    "plot_df <- data.frame(sample = colnames(norm_counts), NRXN1 = nrxn1_counts)\n",
    "\n",
    "plot_df <- plot_df %>%\n",
    "  mutate(donor = metadata[match(sample, metadata$sample), \"donor\"],\n",
    "         genotype = metadata[match(sample, metadata$sample), \"genotype\"])\n",
    "\n",
    "\n",
    "\n",
    "plot_df$genotype <- factor(plot_df$genotype, levels = c(\"WT\", \"HET\", \"HOMO\"))\n",
    "\n",
    "# Plot NRXN1 expression with color coding by genotype\n",
    "ggplot(plot_df, aes(x = genotype, y = NRXN1, color = genotype)) +\n",
    "  geom_boxplot(alpha = 0.6) +  \n",
    "  geom_point(size = 2, stroke = 0.5, color = \"black\") +  \n",
    "  theme_minimal() +\n",
    "  labs(title = \"NRXN1 Expression by Genotype\",\n",
    "       x = \"Genotype\",\n",
    "       y = \"NRXN1 Counts\") +\n",
    "  theme(legend.position = \"right\", \n",
    "        axis.text.x = element_text(angle = 45, hjust = 1))  "
   ]
  },
  {
   "cell_type": "code",
   "execution_count": null,
   "metadata": {
    "vscode": {
     "languageId": "r"
    }
   },
   "outputs": [],
   "source": [
    "#NRXN1 expression per genotype and donor\n",
    "\n",
    "plot_df <- data.frame(sample = colnames(norm_counts), NRXN1 = nrxn1_counts)\n",
    "\n",
    "common_samples <- intersect(plot_df$sample, metadata$sample)\n",
    "\n",
    "plot_df <- plot_df %>%\n",
    "  filter(sample %in% common_samples) %>%\n",
    "  mutate(donor = metadata[match(sample, metadata$sample), \"donor\"],\n",
    "         genotype = metadata[match(sample, metadata$sample), \"genotype\"],\n",
    "         PRS = metadata[match(sample, metadata$sample), \"PRS\"])\n"
   ]
  },
  {
   "cell_type": "code",
   "execution_count": null,
   "metadata": {
    "vscode": {
     "languageId": "r"
    }
   },
   "outputs": [],
   "source": [
    "library(ggbeeswarm) \n",
    "summary_df <- plot_df %>%\n",
    "  group_by(donor, genotype)# %>%\n",
    "  #summarise(NRXN1_avg = mean(NRXN1, na.rm = TRUE), .groups = 'drop')\n",
    "\n",
    "\n",
    "genotypes <- c(\"WT\", \"HET\", \"HOMO\")  \n",
    "all_combinations <- expand.grid(donor = unique(plot_df$donor), genotype = genotypes)\n",
    "\n",
    "complete_df <- left_join(all_combinations, summary_df, by = c(\"donor\", \"genotype\"))\n",
    "\n",
    "complete_df <- complete_df %>%\n",
    "  replace_na(list(NRXN1 = 0)) %>%\n",
    "  mutate(genotype = factor(genotype, levels = genotypes))\n",
    "\n",
    "genotype_colors <- c(WT = \"blue\", HET = \"purple\", HOMO = \"red\")\n",
    "\n",
    "avg_df <- complete_df %>%\n",
    "  group_by(donor, genotype) %>%\n",
    "  summarise(\n",
    "    NRXN1_avg = mean(NRXN1, na.rm = TRUE),\n",
    "    NRXN1_sem = sd(NRXN1, na.rm = TRUE) / sqrt(n()),  \n",
    "    .groups = 'drop'\n",
    "  )\n",
    "\n",
    "# plotting NRXN1 expression per genotype and donor\n",
    "g_avg_bar <- ggplot(avg_df, aes(x = donor, y = NRXN1_avg, fill = genotype)) +\n",
    "  geom_bar(stat = \"identity\", position = position_dodge(width = 0.7), width = 0.6) +\n",
    "  geom_errorbar(aes(ymin = NRXN1_avg - NRXN1_sem, ymax = NRXN1_avg + NRXN1_sem), \n",
    "                position = position_dodge(width = 0.7), width = 0.25) +\n",
    "  scale_fill_manual(values = genotype_colors) +\n",
    "  theme_minimal() +\n",
    "  labs(title = \"Average NRXN1 Expression by Donor and Genotype\",\n",
    "       x = \"Donor\",\n",
    "       y = \"Average NRXN1 Expression\") +\n",
    "  theme(axis.text.x = element_text(angle = 90, hjust = 1, vjust = 0.5))\n",
    "\n",
    "g_avg_bar\n"
   ]
  },
  {
   "cell_type": "markdown",
   "metadata": {},
   "source": [
    "# GSEA Analysis"
   ]
  },
  {
   "cell_type": "code",
   "execution_count": null,
   "metadata": {
    "vscode": {
     "languageId": "r"
    }
   },
   "outputs": [],
   "source": [
    "library(fgsea)\n",
    "library(forcats)\n",
    "\n",
    "run_gsea_analysis <- function(donor_name, merged_results, gmt_paths) {\n",
    "  \n",
    "  # Function to create ranked log2 fold change vector\n",
    "  make_ranked_log2fc <- function(merged_results) {\n",
    "    rnk_vec <- deframe(merged_results[c(\"gene\", \"log2FoldChange\")])\n",
    "    rnk_vec <- rnk_vec[order(-rnk_vec)]\n",
    "    return(rnk_vec)\n",
    "  }\n",
    "  \n",
    "  ranked_logfc <- make_ranked_log2fc(merged_results)\n",
    "  ranked_logfc_clean <- ranked_logfc[!is.na(ranked_logfc)]\n",
    "  \n",
    "  # Function to run FGSEA\n",
    "  run_fgsea <- function(gmt_file_path, rnk_list, min_size, max_size) {\n",
    "    fgsea_file <- fgsea::gmtPathways(gmt_file_path)\n",
    "    fgsea_res <- fgsea(fgsea_file, rnk_list, minSize = min_size, maxSize = max_size)\n",
    "    fgsea_res <- as_tibble(fgsea_res)\n",
    "    return(fgsea_res)\n",
    "  }\n",
    "  \n",
    "  # Initialize an empty list to store results\n",
    "  fgsea_results <- list()\n",
    "  \n",
    "  # Iterate over the GMT file paths\n",
    "  for (gmt_path in gmt_paths) {\n",
    "    fgsea_res <- run_fgsea(gmt_path, ranked_logfc_clean, 15, 500)\n",
    "    fgsea_results[[gmt_path]] <- fgsea_res\n",
    "  }\n",
    "  \n",
    "  # Process and save results for each GMT file\n",
    "  for (gmt_path in names(fgsea_results)) {\n",
    "    fgsea_res_filt <- filter(fgsea_results[[gmt_path]], padj <= 0.05)\n",
    "    \n",
    "    # Create a data frame for the filtered results\n",
    "    fgsea_res_df <- as.data.frame(fgsea_res_filt)\n",
    "    list_cols <- sapply(fgsea_res_df, is.list)\n",
    "    \n",
    "    # Transform list columns\n",
    "    fgsea_res_df[list_cols] <- lapply(fgsea_res_df[list_cols], function(x) {\n",
    "      sapply(x, function(l) paste(l, collapse=\", \"))  \n",
    "    })\n",
    "    \n",
    "    # Save the results\n",
    "    gmt_name <- sub(\"^.*?/data/(.*)\\\\.gmt$\", \"\\\\1\", gmt_path)\n",
    "    output_file <- paste0(\"/stanley/nehme_lab/sbolshak/analysis/village_editing/GSEA/NRXN1/\", donor_name, \"_lrp1_mouse_final_\", gmt_name, \".tsv\")\n",
    "    write_tsv(fgsea_res_df, output_file)\n",
    "    \n",
    "    # Create plots\n",
    "    top_pathways <- function(fgsea_results, num_paths, padj_threshold) {\n",
    "      fgsea_results <- fgsea_results %>%\n",
    "        filter(padj <= padj_threshold) %>%\n",
    "        mutate(negLogPadj = -log10(padj))\n",
    "      \n",
    "      fgsea_top <- fgsea_results %>%\n",
    "        arrange(desc(abs(NES))) %>%\n",
    "        slice_head(n = num_paths)\n",
    "      \n",
    "      p <- ggplot(fgsea_top, aes(x = NES, y = reorder(pathway, order(NES, decreasing = FALSE)))) +\n",
    "        geom_point(aes(color = -log10(padj), size = size)) +\n",
    "        labs(title = paste(donor_name, \"GSEA results:\", gmt_name),\n",
    "             y = \"Pathway\", x = \"NES\") +\n",
    "        theme_minimal()\n",
    "      \n",
    "      return(p)\n",
    "    }\n",
    "    \n",
    "    plot <- top_pathways(fgsea_res_filt, 30, 0.05)\n",
    "    ggsave(filename = paste0(\"/stanley/nehme_lab/sbolshak/analysis/village_editing/GSEA/NRXN1/\", donor_name, \"_lrp1_mouse_final_\", gmt_name, \".png\"), plot = plot, width = 12, height = 6, bg = \"white\")\n",
    "  }\n",
    "}\n",
    "\n",
    "donor_name <- \"all_samples\"\n",
    "gmt_files <- c('/stanley/nehme_lab/sbolshak/analysis/village_editing/data/h.all.v2024.1.Hs.symbols.gmt',\n",
    "               '/stanley/nehme_lab/sbolshak/analysis/village_editing/data/c2.cp.v2024.1.Hs.symbols.gmt',\n",
    "               '/stanley/nehme_lab/sbolshak/analysis/village_editing/data/c5.go.v7.4.syngo.bp.cc.v1.1.symbols.humgenSCZ.SCHEMA1.and.GWAS.1-2.gmt')\n",
    "\n",
    "run_gsea_analysis(donor_name, merged_df, gmt_files)"
   ]
  },
  {
   "cell_type": "markdown",
   "metadata": {},
   "source": [
    "# Run TRADE"
   ]
  },
  {
   "cell_type": "code",
   "execution_count": null,
   "metadata": {
    "vscode": {
     "languageId": "r"
    }
   },
   "outputs": [],
   "source": [
    "counts <- read.table(\"counts_matrix.txt\", sep = '\\t', header = TRUE)\n",
    "counts[is.na(counts)] <- 0\n",
    "rownames(counts) <- counts$GENE\n",
    "counts <- counts[-1]\n",
    "colnames(counts) <- gsub(\"\\\\.\", \"\", colnames(counts))\n",
    "head(counts)"
   ]
  },
  {
   "cell_type": "code",
   "execution_count": null,
   "metadata": {
    "vscode": {
     "languageId": "r"
    }
   },
   "outputs": [],
   "source": [
    "# first run differential expression on data using DEseq2\n",
    "library(DESeq2,verbose=F)\n",
    "\n",
    "coldata <- data.frame(row.names=colnames(counts))\n",
    "coldata$target_gt <- as.factor(metadata[match(rownames(coldata),metadata$sample),\"target_gt\"])\n",
    "# coldata$plate <- as.factor(metadata[match(rownames(coldata),metadata$sample),\"plate\"])\n",
    "coldata$PRS <- as.factor(metadata[match(rownames(coldata),metadata$sample),\"PRS\"])\n",
    "coldata$donor <- as.factor(metadata[match(rownames(coldata),metadata$sample),\"donor\"])\n",
    "coldata$group <- paste0(coldata$donor,\".\",coldata$target_gt)\n",
    "\n",
    "\n",
    "# Create a DESeqDataSet\n",
    "dds <- DESeqDataSetFromMatrix(countData = counts,\n",
    "                              colData = coldata,\n",
    "                              design = ~0 + group)"
   ]
  },
  {
   "cell_type": "code",
   "execution_count": null,
   "metadata": {
    "vscode": {
     "languageId": "r"
    }
   },
   "outputs": [],
   "source": [
    "# filter dataset to only use genes with >10 counts in >=3 samples\n",
    "smallestGroupSize <- 3\n",
    "keep <- rowSums(counts(dds) >= 50) >= smallestGroupSize\n",
    "table(keep)\n",
    "dds <- dds[keep,]"
   ]
  },
  {
   "cell_type": "code",
   "execution_count": null,
   "metadata": {
    "vscode": {
     "languageId": "r"
    }
   },
   "outputs": [],
   "source": [
    "dds <- DESeq(dds) \n",
    "#res <- results(dds,contrast=c(\"target_gt\",\"NRXN1_HOMO\",\"NRXN1_WT\"))\n",
    "#res"
   ]
  },
  {
   "cell_type": "code",
   "execution_count": null,
   "metadata": {
    "vscode": {
     "languageId": "r"
    }
   },
   "outputs": [],
   "source": [
    "resultsNames(dds)"
   ]
  },
  {
   "cell_type": "code",
   "execution_count": null,
   "metadata": {
    "vscode": {
     "languageId": "r"
    }
   },
   "outputs": [],
   "source": [
    "library(data.table)\n",
    "dir.create(\"/TRADE/NRXN1/\")\n",
    "targets_list <- unique(coldata[! coldata$target_gt %in% c(\"NRXN1_WT\",\"LRP1_WT\"),\"group\"])\n",
    "for (target in targets_list) {\n",
    "    if (grepl(\"NRXN1\", target) & !grepl(\"WT\", target)) {\n",
    "    donor <- sub(\"\\\\..*\", \"\", target)\n",
    "    if (! paste0(\"group\",donor,\".NRXN1_WT\") %in% resultsNames(dds)) { \n",
    "        next \n",
    "    } else {\n",
    "        print(target)\n",
    "        res_tmp <- results(dds,contrast=c(\"group\",target,paste0(donor,\".NRXN1_WT\")))\n",
    "    }\n",
    "} else if (grepl(\"LRP1\", target) & !grepl(\"WT\", target)) {\n",
    "    donor <- sub(\"\\\\..*\", \"\", target)\n",
    "    if (! paste0(\"group\",donor,\".LRP1_WT\") %in% resultsNames(dds)) { \n",
    "        next \n",
    "    } else {\n",
    "        print(target)\n",
    "        res_tmp <- results(dds,contrast=c(\"group\",target,paste0(donor,\".LRP1_WT\")))\n",
    "    }\n",
    "    } else {\n",
    "        if (! paste0(\"group\",donor,\".NRXN1_WT\") %in% resultsNames(dds)) { \n",
    "    message(\"Skipping: contrast group\",donor,\".NRXN1_WT not found\")\n",
    "    next \n",
    "}\n",
    "        next\n",
    "    }\n",
    "    res_tmp_df <- as.data.frame(res_tmp)\n",
    "    res_tmp_df$GENE <- rownames(res_tmp_df)\n",
    "    # break\n",
    "    write.table(as.data.frame(res_tmp_df),paste0(\"/TRADE/NRXN1/\",target,\"_vs_CTRL.results.txt\"),sep=\"\\t\",quote=F,row.names=F,col.names=T)\n",
    "}\n",
    "print(\"Done!\")"
   ]
  },
  {
   "cell_type": "code",
   "execution_count": null,
   "metadata": {
    "vscode": {
     "languageId": "r"
    }
   },
   "outputs": [],
   "source": [
    "targets_list"
   ]
  },
  {
   "cell_type": "code",
   "execution_count": null,
   "metadata": {
    "vscode": {
     "languageId": "r"
    }
   },
   "outputs": [],
   "source": [
    "library(mashr)\n",
    "library(ggplot2)\n",
    "library(ashr)\n",
    "library(TRADE)\n",
    "targets_list <- unique(coldata[! coldata$target_gt %in% c(\"NRXN1_WT\",\"LRP1_WT\"),\"group\"])\n",
    "deseq_res_files <- list.files(\"/TRADE/NRXN1/\")\n",
    "# run TRADE on ecah set of differential expression results, then write the combined results to a new summary file\n",
    "TRADE_out_df <- data.frame(row.names=c(\"mean\",\"transcriptome_wide_impact\",\"Me\",\"KD\"))\n",
    "for (target in targets_list) {\n",
    "    print(target)\n",
    "    if (target %like% \"NRXN1\" & !target %like% \"WT\") {\n",
    "        print(\"NRXN1...\")\n",
    "        donor <- sub(\"\\\\..*\", \"\", target)\n",
    "        if (! paste0(target,\"_vs_CTRL.results.txt\") %in% deseq_res_files) { \n",
    "            next \n",
    "        } else {\n",
    "            print(target)\n",
    "            res <- read.table(paste0(\"/TRADE/NRXN1/\",target,\"_vs_CTRL.results.txt\"),sep=\"\\t\",header=T)\n",
    "            TRADE_tmp <- TRADE(mode=\"univariate\",results1=res)\n",
    "            TRADE_out_df[c(\"mean\",\"transcriptome_wide_impact\",\"Me\"),target] <- as.numeric(TRADE_tmp$distribution_summary)\n",
    "            TRADE_out_df[\"KD\",target] <- ifelse(res[res$GENE==\"NRXN1\",'padj']<0.05,TRUE,FALSE)\n",
    "        }\n",
    "    } else if (target %like% \"LRP1\" & !target %like% \"WT\") {\n",
    "        print(\"LRP1...\")\n",
    "        donor <- sub(\"\\\\..*\", \"\", target)\n",
    "        if (! paste0(target,\"_vs_CTRL.results.txt\") %in% deseq_res_files){ \n",
    "            next \n",
    "        } else {\n",
    "            res <- read.table(paste0(\"/TRADE/NRXN1/\",target,\"_vs_CTRL.results.txt\"),sep=\"\\t\",header=T)\n",
    "            TRADE_tmp <- TRADE(mode=\"univariate\",results1=res)\n",
    "            TRADE_out_df[c(\"mean\",\"transcriptome_wide_impact\",\"Me\"),target] <- as.numeric(TRADE_tmp$distribution_summary)\n",
    "            TRADE_out_df[\"KD\",target] <- ifelse(res[res$GENE==\"LRP1\",'padj']<0.05,TRUE,FALSE)\n",
    "        }\n",
    "    } else {\n",
    "        next\n",
    "    }\n",
    "    print(target)\n",
    "}\n",
    "\n",
    "TRADE_out_df <- as.data.frame(t(TRADE_out_df))\n",
    "TRADE_out_df$target <- rownames(TRADE_out_df)\n",
    "TRADE_out_df\n"
   ]
  },
  {
   "cell_type": "code",
   "execution_count": null,
   "metadata": {
    "vscode": {
     "languageId": "r"
    }
   },
   "outputs": [],
   "source": [
    "targets_list <- unique(coldata[! coldata$target_gt %in% c(\"NRXN1_WT\",\"LRP1_WT\"),\"group\"])\n",
    "deseq_res_files <- list.files(\"/TRADE/NRXN1/\") \n",
    "deseq_res_files"
   ]
  },
  {
   "cell_type": "code",
   "execution_count": null,
   "metadata": {
    "vscode": {
     "languageId": "r"
    }
   },
   "outputs": [],
   "source": [
    "TRADE_out_df$donor <- sub(\"\\\\..*\", \"\", TRADE_out_df$target)\n",
    "TRADE_out_df"
   ]
  },
  {
   "cell_type": "code",
   "execution_count": null,
   "metadata": {
    "vscode": {
     "languageId": "r"
    }
   },
   "outputs": [],
   "source": [
    "metadata_distinct <- metadata[!duplicated(metadata$donor), c(\"donor\", \"PRS\", \"sex\", \"genotype\")]\n",
    "\n",
    "# merge with TRADE_out_df\n",
    "TRADE_out_df <- merge(TRADE_out_df, metadata_distinct, by = \"donor\", all.x = TRUE)\n",
    "TRADE_out_df <- TRADE_out_df %>%\n",
    "  select(-ends_with(\".y\"))\n",
    "TRADE_out_df"
   ]
  },
  {
   "cell_type": "code",
   "execution_count": null,
   "metadata": {
    "vscode": {
     "languageId": "r"
    }
   },
   "outputs": [],
   "source": [
    "TRADE_out_df[TRADE_out_df$KD==1,]"
   ]
  },
  {
   "cell_type": "code",
   "execution_count": null,
   "metadata": {
    "vscode": {
     "languageId": "r"
    }
   },
   "outputs": [],
   "source": [
    "#plot TWI by genotype\n",
    "options(repr.plot.width=12,repr.plot.height=6)\n",
    "ggplot(TRADE_out_df,aes(x=genotype,y=transcriptome_wide_impact)) +\n",
    "    geom_bar(aes(fill=target),position=\"dodge\",stat=\"identity\") +\n",
    "    labs(y=\"TWI\",fill=\"Donor\",title=\"NRXN1\") +\n",
    "    theme(plot.title = element_text(hjust=0.5)) +\n",
    "    geom_text(aes(label = ifelse(KD, \"*\", \"\"), group = target),position = position_dodge(width = 0.9), vjust = -.1, size = 20 / .pt)"
   ]
  },
  {
   "cell_type": "code",
   "execution_count": null,
   "metadata": {
    "vscode": {
     "languageId": "r"
    }
   },
   "outputs": [],
   "source": [
    "ggplot(TRADE_out_df,aes(x=log10(Me),y=log10(transcriptome_wide_impact),color=genotype)) +\n",
    "    geom_point(size=4) +\n",
    "    labs(x=\"# Effective Differentially Expressed Genes (log10)\", y=\"TWI (log10)\")"
   ]
  },
  {
   "cell_type": "code",
   "execution_count": null,
   "metadata": {
    "vscode": {
     "languageId": "r"
    }
   },
   "outputs": [],
   "source": [
    "library(ggpubr)\n",
    "\n",
    "#plot average TWI for each genotype / PRS / sex\n",
    "\n",
    "comparisons_list <- list(#c('HIGH', 'LOW'), c('HIGH', 'NEUTRAL'), c('LOW', 'NEUTRAL'))\n",
    "                      c('HET', 'HOMO'))\n",
    "                      #c('Female', 'Male'))\n",
    "\n",
    "avg_data <- TRADE_out_df %>%\n",
    "  group_by(genotype) %>%\n",
    "  summarize(avg_TWI = mean(transcriptome_wide_impact, na.rm = TRUE), .groups = 'drop')\n",
    "\n",
    "\n",
    "p <- ggplot(TRADE_out_df, aes(x = genotype, y = transcriptome_wide_impact, fill = genotype)) +\n",
    "  geom_boxplot() +\n",
    "  geom_jitter(width = 0.2, alpha = 0.5) +\n",
    "  labs(y = \"Transcriptome Wide Impact (TWI)\", fill = \"Genotype\", title = \"NRXN1 Average Trade Results by Genotype\") +\n",
    "  theme(plot.title = element_text(hjust = 0.5))\n",
    "\n",
    "\n",
    "p + geom_signif(comparisons = comparisons_list, \n",
    "                 map_signif_level = TRUE, \n",
    "                 y_position = c(1, 1.2, 1.4))"
   ]
  }
 ],
 "metadata": {
  "kernelspec": {
   "display_name": "R",
   "language": "R",
   "name": "ir"
  },
  "language_info": {
   "codemirror_mode": "r",
   "file_extension": ".r",
   "mimetype": "text/x-r-source",
   "name": "R",
   "pygments_lexer": "r",
   "version": "4.3.1"
  },
  "orig_nbformat": 4
 },
 "nbformat": 4,
 "nbformat_minor": 2
}
